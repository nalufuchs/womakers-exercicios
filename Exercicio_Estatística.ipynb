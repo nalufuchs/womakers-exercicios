{
  "nbformat": 4,
  "nbformat_minor": 0,
  "metadata": {
    "colab": {
      "provenance": [],
      "collapsed_sections": [
        "6KFGKiLhKm3p",
        "dDGojetNOdUa"
      ]
    },
    "kernelspec": {
      "name": "python3",
      "display_name": "Python 3"
    },
    "language_info": {
      "name": "python"
    }
  },
  "cells": [
    {
      "cell_type": "markdown",
      "source": [
        "# ESTATÍSTICA - EXERCÍCIOS A ENTREGAR **WomakersCode**\n",
        "\n",
        "Nome: Ana Luisa Fuchs da Silveira"
      ],
      "metadata": {
        "id": "U5exgmDhRCNq"
      }
    },
    {
      "cell_type": "code",
      "execution_count": 2,
      "metadata": {
        "id": "dasA4_ZfRABp"
      },
      "outputs": [],
      "source": [
        "### bibliotecas base\n",
        "import pandas as pd\n",
        "import numpy as np\n",
        "### bibliotecas para visualizacao de dados\n",
        "import seaborn as sns\n",
        "import matplotlib.pyplot as plt\n",
        "### bibliotecas para estatística\n",
        "import scipy.stats as stat"
      ]
    },
    {
      "cell_type": "markdown",
      "source": [
        "Você é uma pesquisadora de um cursinho para estudantes que querem ingressar na universidade em 2025. Seu objetivo é retirar informações da base de dados do enem do ano anterior para alinhar melhor as estratégias do cursinho para cada estudante. O dado possui 6 colunas, 5 delas representam as disciplinas do ENEM e uma o gênero das pessoas que fizeram a prova. No dado existe a representação de 1000 pessoas, sendo cada uma delas uma linha.\n"
      ],
      "metadata": {
        "id": "_mg3-i9BtlXT"
      }
    },
    {
      "cell_type": "code",
      "source": [
        "df = pd.read_json('enem_2023.json')  #Leitura do material"
      ],
      "metadata": {
        "id": "dM3hik0BYF1o"
      },
      "execution_count": 77,
      "outputs": []
    },
    {
      "cell_type": "code",
      "source": [
        "df_copy = df.copy() #Os valores serão alterados e ajustados no DF, mantendo esta apenas para ter um 'registro original'"
      ],
      "metadata": {
        "id": "oGYoHBImY1PW"
      },
      "execution_count": 79,
      "outputs": []
    },
    {
      "cell_type": "code",
      "source": [
        "### leitura do dataset frobes que contém os dados\n",
        "df.head()"
      ],
      "metadata": {
        "id": "S99gHTPbW-BF",
        "colab": {
          "base_uri": "https://localhost:8080/",
          "height": 206
        },
        "outputId": "2079b974-c2f8-44a8-fd18-ec755b4df961"
      },
      "execution_count": 80,
      "outputs": [
        {
          "output_type": "execute_result",
          "data": {
            "text/plain": [
              "   Linguagens  Ciências humanas  Ciências da natureza  Matemática     Redação  \\\n",
              "0  585.669300        686.512178            390.482473  452.281333  546.371706   \n",
              "1  359.384608        642.084134                   NaN  412.205207  741.825256   \n",
              "2  622.732384        495.510719            443.183580  669.683401  684.515750   \n",
              "3  350.164605        602.041588            413.979810  676.608952  671.237114   \n",
              "4  384.093657        489.249140            609.758123  520.426698  744.375048   \n",
              "\n",
              "     Sexo  \n",
              "0   Homem  \n",
              "1  Mulher  \n",
              "2   Homem  \n",
              "3   Homem  \n",
              "4   Homem  "
            ],
            "text/html": [
              "\n",
              "  <div id=\"df-7849c0ed-4b21-4aa5-82ac-07dec55bd9e0\" class=\"colab-df-container\">\n",
              "    <div>\n",
              "<style scoped>\n",
              "    .dataframe tbody tr th:only-of-type {\n",
              "        vertical-align: middle;\n",
              "    }\n",
              "\n",
              "    .dataframe tbody tr th {\n",
              "        vertical-align: top;\n",
              "    }\n",
              "\n",
              "    .dataframe thead th {\n",
              "        text-align: right;\n",
              "    }\n",
              "</style>\n",
              "<table border=\"1\" class=\"dataframe\">\n",
              "  <thead>\n",
              "    <tr style=\"text-align: right;\">\n",
              "      <th></th>\n",
              "      <th>Linguagens</th>\n",
              "      <th>Ciências humanas</th>\n",
              "      <th>Ciências da natureza</th>\n",
              "      <th>Matemática</th>\n",
              "      <th>Redação</th>\n",
              "      <th>Sexo</th>\n",
              "    </tr>\n",
              "  </thead>\n",
              "  <tbody>\n",
              "    <tr>\n",
              "      <th>0</th>\n",
              "      <td>585.669300</td>\n",
              "      <td>686.512178</td>\n",
              "      <td>390.482473</td>\n",
              "      <td>452.281333</td>\n",
              "      <td>546.371706</td>\n",
              "      <td>Homem</td>\n",
              "    </tr>\n",
              "    <tr>\n",
              "      <th>1</th>\n",
              "      <td>359.384608</td>\n",
              "      <td>642.084134</td>\n",
              "      <td>NaN</td>\n",
              "      <td>412.205207</td>\n",
              "      <td>741.825256</td>\n",
              "      <td>Mulher</td>\n",
              "    </tr>\n",
              "    <tr>\n",
              "      <th>2</th>\n",
              "      <td>622.732384</td>\n",
              "      <td>495.510719</td>\n",
              "      <td>443.183580</td>\n",
              "      <td>669.683401</td>\n",
              "      <td>684.515750</td>\n",
              "      <td>Homem</td>\n",
              "    </tr>\n",
              "    <tr>\n",
              "      <th>3</th>\n",
              "      <td>350.164605</td>\n",
              "      <td>602.041588</td>\n",
              "      <td>413.979810</td>\n",
              "      <td>676.608952</td>\n",
              "      <td>671.237114</td>\n",
              "      <td>Homem</td>\n",
              "    </tr>\n",
              "    <tr>\n",
              "      <th>4</th>\n",
              "      <td>384.093657</td>\n",
              "      <td>489.249140</td>\n",
              "      <td>609.758123</td>\n",
              "      <td>520.426698</td>\n",
              "      <td>744.375048</td>\n",
              "      <td>Homem</td>\n",
              "    </tr>\n",
              "  </tbody>\n",
              "</table>\n",
              "</div>\n",
              "    <div class=\"colab-df-buttons\">\n",
              "\n",
              "  <div class=\"colab-df-container\">\n",
              "    <button class=\"colab-df-convert\" onclick=\"convertToInteractive('df-7849c0ed-4b21-4aa5-82ac-07dec55bd9e0')\"\n",
              "            title=\"Convert this dataframe to an interactive table.\"\n",
              "            style=\"display:none;\">\n",
              "\n",
              "  <svg xmlns=\"http://www.w3.org/2000/svg\" height=\"24px\" viewBox=\"0 -960 960 960\">\n",
              "    <path d=\"M120-120v-720h720v720H120Zm60-500h600v-160H180v160Zm220 220h160v-160H400v160Zm0 220h160v-160H400v160ZM180-400h160v-160H180v160Zm440 0h160v-160H620v160ZM180-180h160v-160H180v160Zm440 0h160v-160H620v160Z\"/>\n",
              "  </svg>\n",
              "    </button>\n",
              "\n",
              "  <style>\n",
              "    .colab-df-container {\n",
              "      display:flex;\n",
              "      gap: 12px;\n",
              "    }\n",
              "\n",
              "    .colab-df-convert {\n",
              "      background-color: #E8F0FE;\n",
              "      border: none;\n",
              "      border-radius: 50%;\n",
              "      cursor: pointer;\n",
              "      display: none;\n",
              "      fill: #1967D2;\n",
              "      height: 32px;\n",
              "      padding: 0 0 0 0;\n",
              "      width: 32px;\n",
              "    }\n",
              "\n",
              "    .colab-df-convert:hover {\n",
              "      background-color: #E2EBFA;\n",
              "      box-shadow: 0px 1px 2px rgba(60, 64, 67, 0.3), 0px 1px 3px 1px rgba(60, 64, 67, 0.15);\n",
              "      fill: #174EA6;\n",
              "    }\n",
              "\n",
              "    .colab-df-buttons div {\n",
              "      margin-bottom: 4px;\n",
              "    }\n",
              "\n",
              "    [theme=dark] .colab-df-convert {\n",
              "      background-color: #3B4455;\n",
              "      fill: #D2E3FC;\n",
              "    }\n",
              "\n",
              "    [theme=dark] .colab-df-convert:hover {\n",
              "      background-color: #434B5C;\n",
              "      box-shadow: 0px 1px 3px 1px rgba(0, 0, 0, 0.15);\n",
              "      filter: drop-shadow(0px 1px 2px rgba(0, 0, 0, 0.3));\n",
              "      fill: #FFFFFF;\n",
              "    }\n",
              "  </style>\n",
              "\n",
              "    <script>\n",
              "      const buttonEl =\n",
              "        document.querySelector('#df-7849c0ed-4b21-4aa5-82ac-07dec55bd9e0 button.colab-df-convert');\n",
              "      buttonEl.style.display =\n",
              "        google.colab.kernel.accessAllowed ? 'block' : 'none';\n",
              "\n",
              "      async function convertToInteractive(key) {\n",
              "        const element = document.querySelector('#df-7849c0ed-4b21-4aa5-82ac-07dec55bd9e0');\n",
              "        const dataTable =\n",
              "          await google.colab.kernel.invokeFunction('convertToInteractive',\n",
              "                                                    [key], {});\n",
              "        if (!dataTable) return;\n",
              "\n",
              "        const docLinkHtml = 'Like what you see? Visit the ' +\n",
              "          '<a target=\"_blank\" href=https://colab.research.google.com/notebooks/data_table.ipynb>data table notebook</a>'\n",
              "          + ' to learn more about interactive tables.';\n",
              "        element.innerHTML = '';\n",
              "        dataTable['output_type'] = 'display_data';\n",
              "        await google.colab.output.renderOutput(dataTable, element);\n",
              "        const docLink = document.createElement('div');\n",
              "        docLink.innerHTML = docLinkHtml;\n",
              "        element.appendChild(docLink);\n",
              "      }\n",
              "    </script>\n",
              "  </div>\n",
              "\n",
              "\n",
              "<div id=\"df-97ade8ee-c5c6-4300-89bf-a5c81f1b9236\">\n",
              "  <button class=\"colab-df-quickchart\" onclick=\"quickchart('df-97ade8ee-c5c6-4300-89bf-a5c81f1b9236')\"\n",
              "            title=\"Suggest charts\"\n",
              "            style=\"display:none;\">\n",
              "\n",
              "<svg xmlns=\"http://www.w3.org/2000/svg\" height=\"24px\"viewBox=\"0 0 24 24\"\n",
              "     width=\"24px\">\n",
              "    <g>\n",
              "        <path d=\"M19 3H5c-1.1 0-2 .9-2 2v14c0 1.1.9 2 2 2h14c1.1 0 2-.9 2-2V5c0-1.1-.9-2-2-2zM9 17H7v-7h2v7zm4 0h-2V7h2v10zm4 0h-2v-4h2v4z\"/>\n",
              "    </g>\n",
              "</svg>\n",
              "  </button>\n",
              "\n",
              "<style>\n",
              "  .colab-df-quickchart {\n",
              "      --bg-color: #E8F0FE;\n",
              "      --fill-color: #1967D2;\n",
              "      --hover-bg-color: #E2EBFA;\n",
              "      --hover-fill-color: #174EA6;\n",
              "      --disabled-fill-color: #AAA;\n",
              "      --disabled-bg-color: #DDD;\n",
              "  }\n",
              "\n",
              "  [theme=dark] .colab-df-quickchart {\n",
              "      --bg-color: #3B4455;\n",
              "      --fill-color: #D2E3FC;\n",
              "      --hover-bg-color: #434B5C;\n",
              "      --hover-fill-color: #FFFFFF;\n",
              "      --disabled-bg-color: #3B4455;\n",
              "      --disabled-fill-color: #666;\n",
              "  }\n",
              "\n",
              "  .colab-df-quickchart {\n",
              "    background-color: var(--bg-color);\n",
              "    border: none;\n",
              "    border-radius: 50%;\n",
              "    cursor: pointer;\n",
              "    display: none;\n",
              "    fill: var(--fill-color);\n",
              "    height: 32px;\n",
              "    padding: 0;\n",
              "    width: 32px;\n",
              "  }\n",
              "\n",
              "  .colab-df-quickchart:hover {\n",
              "    background-color: var(--hover-bg-color);\n",
              "    box-shadow: 0 1px 2px rgba(60, 64, 67, 0.3), 0 1px 3px 1px rgba(60, 64, 67, 0.15);\n",
              "    fill: var(--button-hover-fill-color);\n",
              "  }\n",
              "\n",
              "  .colab-df-quickchart-complete:disabled,\n",
              "  .colab-df-quickchart-complete:disabled:hover {\n",
              "    background-color: var(--disabled-bg-color);\n",
              "    fill: var(--disabled-fill-color);\n",
              "    box-shadow: none;\n",
              "  }\n",
              "\n",
              "  .colab-df-spinner {\n",
              "    border: 2px solid var(--fill-color);\n",
              "    border-color: transparent;\n",
              "    border-bottom-color: var(--fill-color);\n",
              "    animation:\n",
              "      spin 1s steps(1) infinite;\n",
              "  }\n",
              "\n",
              "  @keyframes spin {\n",
              "    0% {\n",
              "      border-color: transparent;\n",
              "      border-bottom-color: var(--fill-color);\n",
              "      border-left-color: var(--fill-color);\n",
              "    }\n",
              "    20% {\n",
              "      border-color: transparent;\n",
              "      border-left-color: var(--fill-color);\n",
              "      border-top-color: var(--fill-color);\n",
              "    }\n",
              "    30% {\n",
              "      border-color: transparent;\n",
              "      border-left-color: var(--fill-color);\n",
              "      border-top-color: var(--fill-color);\n",
              "      border-right-color: var(--fill-color);\n",
              "    }\n",
              "    40% {\n",
              "      border-color: transparent;\n",
              "      border-right-color: var(--fill-color);\n",
              "      border-top-color: var(--fill-color);\n",
              "    }\n",
              "    60% {\n",
              "      border-color: transparent;\n",
              "      border-right-color: var(--fill-color);\n",
              "    }\n",
              "    80% {\n",
              "      border-color: transparent;\n",
              "      border-right-color: var(--fill-color);\n",
              "      border-bottom-color: var(--fill-color);\n",
              "    }\n",
              "    90% {\n",
              "      border-color: transparent;\n",
              "      border-bottom-color: var(--fill-color);\n",
              "    }\n",
              "  }\n",
              "</style>\n",
              "\n",
              "  <script>\n",
              "    async function quickchart(key) {\n",
              "      const quickchartButtonEl =\n",
              "        document.querySelector('#' + key + ' button');\n",
              "      quickchartButtonEl.disabled = true;  // To prevent multiple clicks.\n",
              "      quickchartButtonEl.classList.add('colab-df-spinner');\n",
              "      try {\n",
              "        const charts = await google.colab.kernel.invokeFunction(\n",
              "            'suggestCharts', [key], {});\n",
              "      } catch (error) {\n",
              "        console.error('Error during call to suggestCharts:', error);\n",
              "      }\n",
              "      quickchartButtonEl.classList.remove('colab-df-spinner');\n",
              "      quickchartButtonEl.classList.add('colab-df-quickchart-complete');\n",
              "    }\n",
              "    (() => {\n",
              "      let quickchartButtonEl =\n",
              "        document.querySelector('#df-97ade8ee-c5c6-4300-89bf-a5c81f1b9236 button');\n",
              "      quickchartButtonEl.style.display =\n",
              "        google.colab.kernel.accessAllowed ? 'block' : 'none';\n",
              "    })();\n",
              "  </script>\n",
              "</div>\n",
              "\n",
              "    </div>\n",
              "  </div>\n"
            ],
            "application/vnd.google.colaboratory.intrinsic+json": {
              "type": "dataframe",
              "variable_name": "df",
              "summary": "{\n  \"name\": \"df\",\n  \"rows\": 1000,\n  \"fields\": [\n    {\n      \"column\": \"Linguagens\",\n      \"properties\": {\n        \"dtype\": \"number\",\n        \"std\": 84.00931315971195,\n        \"min\": 287.0,\n        \"max\": 804.4563171927,\n        \"num_unique_values\": 896,\n        \"samples\": [\n          638.5729576994,\n          458.5772735297,\n          469.6368972844\n        ],\n        \"semantic_type\": \"\",\n        \"description\": \"\"\n      }\n    },\n    {\n      \"column\": \"Ci\\u00eancias humanas\",\n      \"properties\": {\n        \"dtype\": \"number\",\n        \"std\": 77.81151916399475,\n        \"min\": 289.9,\n        \"max\": 763.9196954613,\n        \"num_unique_values\": 935,\n        \"samples\": [\n          552.953806862,\n          648.4281845758,\n          519.0714634707\n        ],\n        \"semantic_type\": \"\",\n        \"description\": \"\"\n      }\n    },\n    {\n      \"column\": \"Ci\\u00eancias da natureza\",\n      \"properties\": {\n        \"dtype\": \"number\",\n        \"std\": 78.76040369093829,\n        \"min\": 314.4,\n        \"max\": 802.0045683513,\n        \"num_unique_values\": 821,\n        \"samples\": [\n          472.110329659,\n          468.0927320977,\n          391.1238460543\n        ],\n        \"semantic_type\": \"\",\n        \"description\": \"\"\n      }\n    },\n    {\n      \"column\": \"Matem\\u00e1tica\",\n      \"properties\": {\n        \"dtype\": \"number\",\n        \"std\": 86.64810003261275,\n        \"min\": 319.8,\n        \"max\": 807.8779018921,\n        \"num_unique_values\": 918,\n        \"samples\": [\n          577.6921115123,\n          562.8560894807,\n          464.1971411718\n        ],\n        \"semantic_type\": \"\",\n        \"description\": \"\"\n      }\n    },\n    {\n      \"column\": \"Reda\\u00e7\\u00e3o\",\n      \"properties\": {\n        \"dtype\": \"number\",\n        \"std\": 115.33997244479161,\n        \"min\": 270.8399648605,\n        \"max\": 1000.0,\n        \"num_unique_values\": 860,\n        \"samples\": [\n          482.1791420587,\n          687.1614107203,\n          572.6498716449\n        ],\n        \"semantic_type\": \"\",\n        \"description\": \"\"\n      }\n    },\n    {\n      \"column\": \"Sexo\",\n      \"properties\": {\n        \"dtype\": \"category\",\n        \"num_unique_values\": 3,\n        \"samples\": [\n          \"Homem\",\n          \"Mulher\",\n          \"N\\u00e3o idenficado\"\n        ],\n        \"semantic_type\": \"\",\n        \"description\": \"\"\n      }\n    }\n  ]\n}"
            }
          },
          "metadata": {},
          "execution_count": 80
        }
      ]
    },
    {
      "cell_type": "code",
      "source": [
        "df.info() ### verificando quais colunas sao numéricas e quais categóricas."
      ],
      "metadata": {
        "colab": {
          "base_uri": "https://localhost:8080/"
        },
        "id": "LemwnCV0XNJ7",
        "outputId": "f7d4afda-ba94-40aa-d5b0-de70e5732fc9"
      },
      "execution_count": 81,
      "outputs": [
        {
          "output_type": "stream",
          "name": "stdout",
          "text": [
            "<class 'pandas.core.frame.DataFrame'>\n",
            "Int64Index: 1000 entries, 0 to 999\n",
            "Data columns (total 6 columns):\n",
            " #   Column                Non-Null Count  Dtype  \n",
            "---  ------                --------------  -----  \n",
            " 0   Linguagens            897 non-null    float64\n",
            " 1   Ciências humanas      936 non-null    float64\n",
            " 2   Ciências da natureza  824 non-null    float64\n",
            " 3   Matemática            924 non-null    float64\n",
            " 4   Redação               860 non-null    float64\n",
            " 5   Sexo                  1000 non-null   object \n",
            "dtypes: float64(5), object(1)\n",
            "memory usage: 54.7+ KB\n"
          ]
        }
      ]
    },
    {
      "cell_type": "markdown",
      "source": [
        ">  ## 1. Qual das disciplinas tem a maior amplitude de nota?"
      ],
      "metadata": {
        "id": "HqekTRntttF-"
      }
    },
    {
      "cell_type": "code",
      "source": [
        "df.describe()  #Uma maneira rápida e fácil de verificar média, quantidade, máxima, mínima, etc."
      ],
      "metadata": {
        "colab": {
          "base_uri": "https://localhost:8080/",
          "height": 300
        },
        "id": "tjIRNZUYt0cF",
        "outputId": "1c4732e6-0b3f-49c7-86cc-8994c1f3a169"
      },
      "execution_count": 87,
      "outputs": [
        {
          "output_type": "execute_result",
          "data": {
            "text/plain": [
              "        Linguagens  Ciências humanas  Ciências da natureza   Matemática  \\\n",
              "count  1000.000000       1000.000000           1000.000000  1000.000000   \n",
              "mean    514.578415        526.880850            499.520391   535.759100   \n",
              "std      79.560876         75.280340             71.488051    83.290104   \n",
              "min     287.000000        289.900000            314.400000   319.800000   \n",
              "25%     464.362445        479.418513            459.456673   485.234093   \n",
              "50%     515.045250        524.519920            500.479263   533.247767   \n",
              "75%     564.793722        576.696971            536.724816   586.927627   \n",
              "max     804.456317        763.919695            802.004568   807.877902   \n",
              "\n",
              "           Redação  \n",
              "count  1000.000000  \n",
              "mean    637.432194  \n",
              "std     106.956723  \n",
              "min     270.839965  \n",
              "25%     571.697962  \n",
              "50%     635.273973  \n",
              "75%     699.972897  \n",
              "max    1000.000000  "
            ],
            "text/html": [
              "\n",
              "  <div id=\"df-e97b72e4-8fb1-4d00-92e5-d81647f66ea3\" class=\"colab-df-container\">\n",
              "    <div>\n",
              "<style scoped>\n",
              "    .dataframe tbody tr th:only-of-type {\n",
              "        vertical-align: middle;\n",
              "    }\n",
              "\n",
              "    .dataframe tbody tr th {\n",
              "        vertical-align: top;\n",
              "    }\n",
              "\n",
              "    .dataframe thead th {\n",
              "        text-align: right;\n",
              "    }\n",
              "</style>\n",
              "<table border=\"1\" class=\"dataframe\">\n",
              "  <thead>\n",
              "    <tr style=\"text-align: right;\">\n",
              "      <th></th>\n",
              "      <th>Linguagens</th>\n",
              "      <th>Ciências humanas</th>\n",
              "      <th>Ciências da natureza</th>\n",
              "      <th>Matemática</th>\n",
              "      <th>Redação</th>\n",
              "    </tr>\n",
              "  </thead>\n",
              "  <tbody>\n",
              "    <tr>\n",
              "      <th>count</th>\n",
              "      <td>1000.000000</td>\n",
              "      <td>1000.000000</td>\n",
              "      <td>1000.000000</td>\n",
              "      <td>1000.000000</td>\n",
              "      <td>1000.000000</td>\n",
              "    </tr>\n",
              "    <tr>\n",
              "      <th>mean</th>\n",
              "      <td>514.578415</td>\n",
              "      <td>526.880850</td>\n",
              "      <td>499.520391</td>\n",
              "      <td>535.759100</td>\n",
              "      <td>637.432194</td>\n",
              "    </tr>\n",
              "    <tr>\n",
              "      <th>std</th>\n",
              "      <td>79.560876</td>\n",
              "      <td>75.280340</td>\n",
              "      <td>71.488051</td>\n",
              "      <td>83.290104</td>\n",
              "      <td>106.956723</td>\n",
              "    </tr>\n",
              "    <tr>\n",
              "      <th>min</th>\n",
              "      <td>287.000000</td>\n",
              "      <td>289.900000</td>\n",
              "      <td>314.400000</td>\n",
              "      <td>319.800000</td>\n",
              "      <td>270.839965</td>\n",
              "    </tr>\n",
              "    <tr>\n",
              "      <th>25%</th>\n",
              "      <td>464.362445</td>\n",
              "      <td>479.418513</td>\n",
              "      <td>459.456673</td>\n",
              "      <td>485.234093</td>\n",
              "      <td>571.697962</td>\n",
              "    </tr>\n",
              "    <tr>\n",
              "      <th>50%</th>\n",
              "      <td>515.045250</td>\n",
              "      <td>524.519920</td>\n",
              "      <td>500.479263</td>\n",
              "      <td>533.247767</td>\n",
              "      <td>635.273973</td>\n",
              "    </tr>\n",
              "    <tr>\n",
              "      <th>75%</th>\n",
              "      <td>564.793722</td>\n",
              "      <td>576.696971</td>\n",
              "      <td>536.724816</td>\n",
              "      <td>586.927627</td>\n",
              "      <td>699.972897</td>\n",
              "    </tr>\n",
              "    <tr>\n",
              "      <th>max</th>\n",
              "      <td>804.456317</td>\n",
              "      <td>763.919695</td>\n",
              "      <td>802.004568</td>\n",
              "      <td>807.877902</td>\n",
              "      <td>1000.000000</td>\n",
              "    </tr>\n",
              "  </tbody>\n",
              "</table>\n",
              "</div>\n",
              "    <div class=\"colab-df-buttons\">\n",
              "\n",
              "  <div class=\"colab-df-container\">\n",
              "    <button class=\"colab-df-convert\" onclick=\"convertToInteractive('df-e97b72e4-8fb1-4d00-92e5-d81647f66ea3')\"\n",
              "            title=\"Convert this dataframe to an interactive table.\"\n",
              "            style=\"display:none;\">\n",
              "\n",
              "  <svg xmlns=\"http://www.w3.org/2000/svg\" height=\"24px\" viewBox=\"0 -960 960 960\">\n",
              "    <path d=\"M120-120v-720h720v720H120Zm60-500h600v-160H180v160Zm220 220h160v-160H400v160Zm0 220h160v-160H400v160ZM180-400h160v-160H180v160Zm440 0h160v-160H620v160ZM180-180h160v-160H180v160Zm440 0h160v-160H620v160Z\"/>\n",
              "  </svg>\n",
              "    </button>\n",
              "\n",
              "  <style>\n",
              "    .colab-df-container {\n",
              "      display:flex;\n",
              "      gap: 12px;\n",
              "    }\n",
              "\n",
              "    .colab-df-convert {\n",
              "      background-color: #E8F0FE;\n",
              "      border: none;\n",
              "      border-radius: 50%;\n",
              "      cursor: pointer;\n",
              "      display: none;\n",
              "      fill: #1967D2;\n",
              "      height: 32px;\n",
              "      padding: 0 0 0 0;\n",
              "      width: 32px;\n",
              "    }\n",
              "\n",
              "    .colab-df-convert:hover {\n",
              "      background-color: #E2EBFA;\n",
              "      box-shadow: 0px 1px 2px rgba(60, 64, 67, 0.3), 0px 1px 3px 1px rgba(60, 64, 67, 0.15);\n",
              "      fill: #174EA6;\n",
              "    }\n",
              "\n",
              "    .colab-df-buttons div {\n",
              "      margin-bottom: 4px;\n",
              "    }\n",
              "\n",
              "    [theme=dark] .colab-df-convert {\n",
              "      background-color: #3B4455;\n",
              "      fill: #D2E3FC;\n",
              "    }\n",
              "\n",
              "    [theme=dark] .colab-df-convert:hover {\n",
              "      background-color: #434B5C;\n",
              "      box-shadow: 0px 1px 3px 1px rgba(0, 0, 0, 0.15);\n",
              "      filter: drop-shadow(0px 1px 2px rgba(0, 0, 0, 0.3));\n",
              "      fill: #FFFFFF;\n",
              "    }\n",
              "  </style>\n",
              "\n",
              "    <script>\n",
              "      const buttonEl =\n",
              "        document.querySelector('#df-e97b72e4-8fb1-4d00-92e5-d81647f66ea3 button.colab-df-convert');\n",
              "      buttonEl.style.display =\n",
              "        google.colab.kernel.accessAllowed ? 'block' : 'none';\n",
              "\n",
              "      async function convertToInteractive(key) {\n",
              "        const element = document.querySelector('#df-e97b72e4-8fb1-4d00-92e5-d81647f66ea3');\n",
              "        const dataTable =\n",
              "          await google.colab.kernel.invokeFunction('convertToInteractive',\n",
              "                                                    [key], {});\n",
              "        if (!dataTable) return;\n",
              "\n",
              "        const docLinkHtml = 'Like what you see? Visit the ' +\n",
              "          '<a target=\"_blank\" href=https://colab.research.google.com/notebooks/data_table.ipynb>data table notebook</a>'\n",
              "          + ' to learn more about interactive tables.';\n",
              "        element.innerHTML = '';\n",
              "        dataTable['output_type'] = 'display_data';\n",
              "        await google.colab.output.renderOutput(dataTable, element);\n",
              "        const docLink = document.createElement('div');\n",
              "        docLink.innerHTML = docLinkHtml;\n",
              "        element.appendChild(docLink);\n",
              "      }\n",
              "    </script>\n",
              "  </div>\n",
              "\n",
              "\n",
              "<div id=\"df-d454f1fd-b4d7-4d07-847c-e1b9895138ed\">\n",
              "  <button class=\"colab-df-quickchart\" onclick=\"quickchart('df-d454f1fd-b4d7-4d07-847c-e1b9895138ed')\"\n",
              "            title=\"Suggest charts\"\n",
              "            style=\"display:none;\">\n",
              "\n",
              "<svg xmlns=\"http://www.w3.org/2000/svg\" height=\"24px\"viewBox=\"0 0 24 24\"\n",
              "     width=\"24px\">\n",
              "    <g>\n",
              "        <path d=\"M19 3H5c-1.1 0-2 .9-2 2v14c0 1.1.9 2 2 2h14c1.1 0 2-.9 2-2V5c0-1.1-.9-2-2-2zM9 17H7v-7h2v7zm4 0h-2V7h2v10zm4 0h-2v-4h2v4z\"/>\n",
              "    </g>\n",
              "</svg>\n",
              "  </button>\n",
              "\n",
              "<style>\n",
              "  .colab-df-quickchart {\n",
              "      --bg-color: #E8F0FE;\n",
              "      --fill-color: #1967D2;\n",
              "      --hover-bg-color: #E2EBFA;\n",
              "      --hover-fill-color: #174EA6;\n",
              "      --disabled-fill-color: #AAA;\n",
              "      --disabled-bg-color: #DDD;\n",
              "  }\n",
              "\n",
              "  [theme=dark] .colab-df-quickchart {\n",
              "      --bg-color: #3B4455;\n",
              "      --fill-color: #D2E3FC;\n",
              "      --hover-bg-color: #434B5C;\n",
              "      --hover-fill-color: #FFFFFF;\n",
              "      --disabled-bg-color: #3B4455;\n",
              "      --disabled-fill-color: #666;\n",
              "  }\n",
              "\n",
              "  .colab-df-quickchart {\n",
              "    background-color: var(--bg-color);\n",
              "    border: none;\n",
              "    border-radius: 50%;\n",
              "    cursor: pointer;\n",
              "    display: none;\n",
              "    fill: var(--fill-color);\n",
              "    height: 32px;\n",
              "    padding: 0;\n",
              "    width: 32px;\n",
              "  }\n",
              "\n",
              "  .colab-df-quickchart:hover {\n",
              "    background-color: var(--hover-bg-color);\n",
              "    box-shadow: 0 1px 2px rgba(60, 64, 67, 0.3), 0 1px 3px 1px rgba(60, 64, 67, 0.15);\n",
              "    fill: var(--button-hover-fill-color);\n",
              "  }\n",
              "\n",
              "  .colab-df-quickchart-complete:disabled,\n",
              "  .colab-df-quickchart-complete:disabled:hover {\n",
              "    background-color: var(--disabled-bg-color);\n",
              "    fill: var(--disabled-fill-color);\n",
              "    box-shadow: none;\n",
              "  }\n",
              "\n",
              "  .colab-df-spinner {\n",
              "    border: 2px solid var(--fill-color);\n",
              "    border-color: transparent;\n",
              "    border-bottom-color: var(--fill-color);\n",
              "    animation:\n",
              "      spin 1s steps(1) infinite;\n",
              "  }\n",
              "\n",
              "  @keyframes spin {\n",
              "    0% {\n",
              "      border-color: transparent;\n",
              "      border-bottom-color: var(--fill-color);\n",
              "      border-left-color: var(--fill-color);\n",
              "    }\n",
              "    20% {\n",
              "      border-color: transparent;\n",
              "      border-left-color: var(--fill-color);\n",
              "      border-top-color: var(--fill-color);\n",
              "    }\n",
              "    30% {\n",
              "      border-color: transparent;\n",
              "      border-left-color: var(--fill-color);\n",
              "      border-top-color: var(--fill-color);\n",
              "      border-right-color: var(--fill-color);\n",
              "    }\n",
              "    40% {\n",
              "      border-color: transparent;\n",
              "      border-right-color: var(--fill-color);\n",
              "      border-top-color: var(--fill-color);\n",
              "    }\n",
              "    60% {\n",
              "      border-color: transparent;\n",
              "      border-right-color: var(--fill-color);\n",
              "    }\n",
              "    80% {\n",
              "      border-color: transparent;\n",
              "      border-right-color: var(--fill-color);\n",
              "      border-bottom-color: var(--fill-color);\n",
              "    }\n",
              "    90% {\n",
              "      border-color: transparent;\n",
              "      border-bottom-color: var(--fill-color);\n",
              "    }\n",
              "  }\n",
              "</style>\n",
              "\n",
              "  <script>\n",
              "    async function quickchart(key) {\n",
              "      const quickchartButtonEl =\n",
              "        document.querySelector('#' + key + ' button');\n",
              "      quickchartButtonEl.disabled = true;  // To prevent multiple clicks.\n",
              "      quickchartButtonEl.classList.add('colab-df-spinner');\n",
              "      try {\n",
              "        const charts = await google.colab.kernel.invokeFunction(\n",
              "            'suggestCharts', [key], {});\n",
              "      } catch (error) {\n",
              "        console.error('Error during call to suggestCharts:', error);\n",
              "      }\n",
              "      quickchartButtonEl.classList.remove('colab-df-spinner');\n",
              "      quickchartButtonEl.classList.add('colab-df-quickchart-complete');\n",
              "    }\n",
              "    (() => {\n",
              "      let quickchartButtonEl =\n",
              "        document.querySelector('#df-d454f1fd-b4d7-4d07-847c-e1b9895138ed button');\n",
              "      quickchartButtonEl.style.display =\n",
              "        google.colab.kernel.accessAllowed ? 'block' : 'none';\n",
              "    })();\n",
              "  </script>\n",
              "</div>\n",
              "\n",
              "    </div>\n",
              "  </div>\n"
            ],
            "application/vnd.google.colaboratory.intrinsic+json": {
              "type": "dataframe",
              "summary": "{\n  \"name\": \"df\",\n  \"rows\": 8,\n  \"fields\": [\n    {\n      \"column\": \"Linguagens\",\n      \"properties\": {\n        \"dtype\": \"number\",\n        \"std\": 283.88579791781297,\n        \"min\": 79.56087560366589,\n        \"max\": 1000.0,\n        \"num_unique_values\": 8,\n        \"samples\": [\n          514.5784145875476,\n          515.0452497632,\n          1000.0\n        ],\n        \"semantic_type\": \"\",\n        \"description\": \"\"\n      }\n    },\n    {\n      \"column\": \"Ci\\u00eancias humanas\",\n      \"properties\": {\n        \"dtype\": \"number\",\n        \"std\": 278.9812655720957,\n        \"min\": 75.28034045007152,\n        \"max\": 1000.0,\n        \"num_unique_values\": 8,\n        \"samples\": [\n          526.8808497727595,\n          524.51992005745,\n          1000.0\n        ],\n        \"semantic_type\": \"\",\n        \"description\": \"\"\n      }\n    },\n    {\n      \"column\": \"Ci\\u00eancias da natureza\",\n      \"properties\": {\n        \"dtype\": \"number\",\n        \"std\": 282.3458236142199,\n        \"min\": 71.48805148415315,\n        \"max\": 1000.0,\n        \"num_unique_values\": 8,\n        \"samples\": [\n          499.52039056711374,\n          500.47926306565,\n          1000.0\n        ],\n        \"semantic_type\": \"\",\n        \"description\": \"\"\n      }\n    },\n    {\n      \"column\": \"Matem\\u00e1tica\",\n      \"properties\": {\n        \"dtype\": \"number\",\n        \"std\": 279.1739163394124,\n        \"min\": 83.29010410585636,\n        \"max\": 1000.0,\n        \"num_unique_values\": 8,\n        \"samples\": [\n          535.7591002161805,\n          533.2477669785001,\n          1000.0\n        ],\n        \"semantic_type\": \"\",\n        \"description\": \"\"\n      }\n    },\n    {\n      \"column\": \"Reda\\u00e7\\u00e3o\",\n      \"properties\": {\n        \"dtype\": \"number\",\n        \"std\": 312.3672763055575,\n        \"min\": 106.95672324035075,\n        \"max\": 1000.0,\n        \"num_unique_values\": 7,\n        \"samples\": [\n          1000.0,\n          637.432193827054,\n          635.27397319435\n        ],\n        \"semantic_type\": \"\",\n        \"description\": \"\"\n      }\n    }\n  ]\n}"
            }
          },
          "metadata": {},
          "execution_count": 87
        }
      ]
    },
    {
      "cell_type": "code",
      "source": [
        "def describe_new(df):\n",
        "    df1 = df.describe()\n",
        "    df1.loc[\"amplitude\"] = df1.loc['max'] - df1.loc['min']\n",
        "    df1.loc[\"variancia\"] = df1.loc['std']*df1.loc['std']\n",
        "    return df1\n",
        "\n",
        "    #Função aprendida em aula para adicionar amplitude e variância no describe()"
      ],
      "metadata": {
        "id": "QcDCbWn-ueZk"
      },
      "execution_count": 83,
      "outputs": []
    },
    {
      "cell_type": "code",
      "source": [
        "df = df.fillna(df.median(numeric_only=True))\n",
        "#Maneira de remover todos os valores nulos pela média (numeric_only permite ser considerado apenas números para a média)"
      ],
      "metadata": {
        "id": "89Y9L6Wnv7rX"
      },
      "execution_count": 84,
      "outputs": []
    },
    {
      "cell_type": "code",
      "source": [
        "df.isna().any()  #Verificando se os valores foram realmente removidos:"
      ],
      "metadata": {
        "colab": {
          "base_uri": "https://localhost:8080/"
        },
        "id": "sBIxqMT906Ko",
        "outputId": "ce2e2a75-bfdc-4145-a1fe-db673cb8ee50"
      },
      "execution_count": 88,
      "outputs": [
        {
          "output_type": "execute_result",
          "data": {
            "text/plain": [
              "Linguagens              False\n",
              "Ciências humanas        False\n",
              "Ciências da natureza    False\n",
              "Matemática              False\n",
              "Redação                 False\n",
              "Sexo                    False\n",
              "dtype: bool"
            ]
          },
          "metadata": {},
          "execution_count": 88
        }
      ]
    },
    {
      "cell_type": "code",
      "source": [
        "df_info = describe_new(df)\n",
        "#O dataframe com as novas informações ficou salvo no df_info"
      ],
      "metadata": {
        "id": "1eritMFCulDm"
      },
      "execution_count": 90,
      "outputs": []
    },
    {
      "cell_type": "code",
      "source": [
        "df_info = df_info.transpose()\n",
        "#Para melhor manipulação, inverte-se linhas por colunas (mais fácil trabalhar com colunas que indexes)"
      ],
      "metadata": {
        "id": "kNIoOzrluui5"
      },
      "execution_count": 91,
      "outputs": []
    },
    {
      "cell_type": "code",
      "source": [
        "df_info.loc[df_info['amplitude'] == df_info['amplitude'].max()]\n",
        " #Assim, filtra-se a disciplina com maior amplitude"
      ],
      "metadata": {
        "colab": {
          "base_uri": "https://localhost:8080/",
          "height": 81
        },
        "id": "qlgQMr3atZEH",
        "outputId": "4b2b0b01-37cb-4a77-e15b-3c92fecd6292"
      },
      "execution_count": 92,
      "outputs": [
        {
          "output_type": "execute_result",
          "data": {
            "text/plain": [
              "          count        mean         std         min         25%         50%  \\\n",
              "Redação  1000.0  637.432194  106.956723  270.839965  571.697962  635.273973   \n",
              "\n",
              "                75%     max   amplitude     variancia  \n",
              "Redação  699.972897  1000.0  729.160035  11439.740646  "
            ],
            "text/html": [
              "\n",
              "  <div id=\"df-c2785682-1424-4fe0-b13a-345fdae4fb4c\" class=\"colab-df-container\">\n",
              "    <div>\n",
              "<style scoped>\n",
              "    .dataframe tbody tr th:only-of-type {\n",
              "        vertical-align: middle;\n",
              "    }\n",
              "\n",
              "    .dataframe tbody tr th {\n",
              "        vertical-align: top;\n",
              "    }\n",
              "\n",
              "    .dataframe thead th {\n",
              "        text-align: right;\n",
              "    }\n",
              "</style>\n",
              "<table border=\"1\" class=\"dataframe\">\n",
              "  <thead>\n",
              "    <tr style=\"text-align: right;\">\n",
              "      <th></th>\n",
              "      <th>count</th>\n",
              "      <th>mean</th>\n",
              "      <th>std</th>\n",
              "      <th>min</th>\n",
              "      <th>25%</th>\n",
              "      <th>50%</th>\n",
              "      <th>75%</th>\n",
              "      <th>max</th>\n",
              "      <th>amplitude</th>\n",
              "      <th>variancia</th>\n",
              "    </tr>\n",
              "  </thead>\n",
              "  <tbody>\n",
              "    <tr>\n",
              "      <th>Redação</th>\n",
              "      <td>1000.0</td>\n",
              "      <td>637.432194</td>\n",
              "      <td>106.956723</td>\n",
              "      <td>270.839965</td>\n",
              "      <td>571.697962</td>\n",
              "      <td>635.273973</td>\n",
              "      <td>699.972897</td>\n",
              "      <td>1000.0</td>\n",
              "      <td>729.160035</td>\n",
              "      <td>11439.740646</td>\n",
              "    </tr>\n",
              "  </tbody>\n",
              "</table>\n",
              "</div>\n",
              "    <div class=\"colab-df-buttons\">\n",
              "\n",
              "  <div class=\"colab-df-container\">\n",
              "    <button class=\"colab-df-convert\" onclick=\"convertToInteractive('df-c2785682-1424-4fe0-b13a-345fdae4fb4c')\"\n",
              "            title=\"Convert this dataframe to an interactive table.\"\n",
              "            style=\"display:none;\">\n",
              "\n",
              "  <svg xmlns=\"http://www.w3.org/2000/svg\" height=\"24px\" viewBox=\"0 -960 960 960\">\n",
              "    <path d=\"M120-120v-720h720v720H120Zm60-500h600v-160H180v160Zm220 220h160v-160H400v160Zm0 220h160v-160H400v160ZM180-400h160v-160H180v160Zm440 0h160v-160H620v160ZM180-180h160v-160H180v160Zm440 0h160v-160H620v160Z\"/>\n",
              "  </svg>\n",
              "    </button>\n",
              "\n",
              "  <style>\n",
              "    .colab-df-container {\n",
              "      display:flex;\n",
              "      gap: 12px;\n",
              "    }\n",
              "\n",
              "    .colab-df-convert {\n",
              "      background-color: #E8F0FE;\n",
              "      border: none;\n",
              "      border-radius: 50%;\n",
              "      cursor: pointer;\n",
              "      display: none;\n",
              "      fill: #1967D2;\n",
              "      height: 32px;\n",
              "      padding: 0 0 0 0;\n",
              "      width: 32px;\n",
              "    }\n",
              "\n",
              "    .colab-df-convert:hover {\n",
              "      background-color: #E2EBFA;\n",
              "      box-shadow: 0px 1px 2px rgba(60, 64, 67, 0.3), 0px 1px 3px 1px rgba(60, 64, 67, 0.15);\n",
              "      fill: #174EA6;\n",
              "    }\n",
              "\n",
              "    .colab-df-buttons div {\n",
              "      margin-bottom: 4px;\n",
              "    }\n",
              "\n",
              "    [theme=dark] .colab-df-convert {\n",
              "      background-color: #3B4455;\n",
              "      fill: #D2E3FC;\n",
              "    }\n",
              "\n",
              "    [theme=dark] .colab-df-convert:hover {\n",
              "      background-color: #434B5C;\n",
              "      box-shadow: 0px 1px 3px 1px rgba(0, 0, 0, 0.15);\n",
              "      filter: drop-shadow(0px 1px 2px rgba(0, 0, 0, 0.3));\n",
              "      fill: #FFFFFF;\n",
              "    }\n",
              "  </style>\n",
              "\n",
              "    <script>\n",
              "      const buttonEl =\n",
              "        document.querySelector('#df-c2785682-1424-4fe0-b13a-345fdae4fb4c button.colab-df-convert');\n",
              "      buttonEl.style.display =\n",
              "        google.colab.kernel.accessAllowed ? 'block' : 'none';\n",
              "\n",
              "      async function convertToInteractive(key) {\n",
              "        const element = document.querySelector('#df-c2785682-1424-4fe0-b13a-345fdae4fb4c');\n",
              "        const dataTable =\n",
              "          await google.colab.kernel.invokeFunction('convertToInteractive',\n",
              "                                                    [key], {});\n",
              "        if (!dataTable) return;\n",
              "\n",
              "        const docLinkHtml = 'Like what you see? Visit the ' +\n",
              "          '<a target=\"_blank\" href=https://colab.research.google.com/notebooks/data_table.ipynb>data table notebook</a>'\n",
              "          + ' to learn more about interactive tables.';\n",
              "        element.innerHTML = '';\n",
              "        dataTable['output_type'] = 'display_data';\n",
              "        await google.colab.output.renderOutput(dataTable, element);\n",
              "        const docLink = document.createElement('div');\n",
              "        docLink.innerHTML = docLinkHtml;\n",
              "        element.appendChild(docLink);\n",
              "      }\n",
              "    </script>\n",
              "  </div>\n",
              "\n",
              "\n",
              "    </div>\n",
              "  </div>\n"
            ],
            "application/vnd.google.colaboratory.intrinsic+json": {
              "type": "dataframe",
              "summary": "{\n  \"name\": \"df_info\",\n  \"rows\": 1,\n  \"fields\": [\n    {\n      \"column\": \"count\",\n      \"properties\": {\n        \"dtype\": \"number\",\n        \"std\": null,\n        \"min\": 1000.0,\n        \"max\": 1000.0,\n        \"num_unique_values\": 1,\n        \"samples\": [\n          1000.0\n        ],\n        \"semantic_type\": \"\",\n        \"description\": \"\"\n      }\n    },\n    {\n      \"column\": \"mean\",\n      \"properties\": {\n        \"dtype\": \"number\",\n        \"std\": null,\n        \"min\": 637.432193827054,\n        \"max\": 637.432193827054,\n        \"num_unique_values\": 1,\n        \"samples\": [\n          637.432193827054\n        ],\n        \"semantic_type\": \"\",\n        \"description\": \"\"\n      }\n    },\n    {\n      \"column\": \"std\",\n      \"properties\": {\n        \"dtype\": \"number\",\n        \"std\": null,\n        \"min\": 106.95672324035075,\n        \"max\": 106.95672324035075,\n        \"num_unique_values\": 1,\n        \"samples\": [\n          106.95672324035075\n        ],\n        \"semantic_type\": \"\",\n        \"description\": \"\"\n      }\n    },\n    {\n      \"column\": \"min\",\n      \"properties\": {\n        \"dtype\": \"number\",\n        \"std\": null,\n        \"min\": 270.8399648605,\n        \"max\": 270.8399648605,\n        \"num_unique_values\": 1,\n        \"samples\": [\n          270.8399648605\n        ],\n        \"semantic_type\": \"\",\n        \"description\": \"\"\n      }\n    },\n    {\n      \"column\": \"25%\",\n      \"properties\": {\n        \"dtype\": \"number\",\n        \"std\": null,\n        \"min\": 571.6979622500501,\n        \"max\": 571.6979622500501,\n        \"num_unique_values\": 1,\n        \"samples\": [\n          571.6979622500501\n        ],\n        \"semantic_type\": \"\",\n        \"description\": \"\"\n      }\n    },\n    {\n      \"column\": \"50%\",\n      \"properties\": {\n        \"dtype\": \"number\",\n        \"std\": null,\n        \"min\": 635.27397319435,\n        \"max\": 635.27397319435,\n        \"num_unique_values\": 1,\n        \"samples\": [\n          635.27397319435\n        ],\n        \"semantic_type\": \"\",\n        \"description\": \"\"\n      }\n    },\n    {\n      \"column\": \"75%\",\n      \"properties\": {\n        \"dtype\": \"number\",\n        \"std\": null,\n        \"min\": 699.9728965300251,\n        \"max\": 699.9728965300251,\n        \"num_unique_values\": 1,\n        \"samples\": [\n          699.9728965300251\n        ],\n        \"semantic_type\": \"\",\n        \"description\": \"\"\n      }\n    },\n    {\n      \"column\": \"max\",\n      \"properties\": {\n        \"dtype\": \"number\",\n        \"std\": null,\n        \"min\": 1000.0,\n        \"max\": 1000.0,\n        \"num_unique_values\": 1,\n        \"samples\": [\n          1000.0\n        ],\n        \"semantic_type\": \"\",\n        \"description\": \"\"\n      }\n    },\n    {\n      \"column\": \"amplitude\",\n      \"properties\": {\n        \"dtype\": \"number\",\n        \"std\": null,\n        \"min\": 729.1600351395,\n        \"max\": 729.1600351395,\n        \"num_unique_values\": 1,\n        \"samples\": [\n          729.1600351395\n        ],\n        \"semantic_type\": \"\",\n        \"description\": \"\"\n      }\n    },\n    {\n      \"column\": \"variancia\",\n      \"properties\": {\n        \"dtype\": \"number\",\n        \"std\": null,\n        \"min\": 11439.740646312986,\n        \"max\": 11439.740646312986,\n        \"num_unique_values\": 1,\n        \"samples\": [\n          11439.740646312986\n        ],\n        \"semantic_type\": \"\",\n        \"description\": \"\"\n      }\n    }\n  ]\n}"
            }
          },
          "metadata": {},
          "execution_count": 92
        }
      ]
    },
    {
      "cell_type": "markdown",
      "source": [
        "> A maior amplitude de nota se dá na REDAÇÃO"
      ],
      "metadata": {
        "id": "wbBPuPu8z0kK"
      }
    },
    {
      "cell_type": "markdown",
      "source": [
        "## 2. Qual é a média e a mediana para cada uma das disciplinas? (Lembre-se de remover todos os valores nulos quando considerar a mediana)\n"
      ],
      "metadata": {
        "id": "SIumKr3LanFC"
      }
    },
    {
      "cell_type": "code",
      "source": [
        "df = df.fillna(df.median(numeric_only=True))\n",
        "#Apenas para mostrar, os valores nulos já foram tratados com esse comando na questão anterior"
      ],
      "metadata": {
        "id": "Hi7MSge-0SyG"
      },
      "execution_count": null,
      "outputs": []
    },
    {
      "cell_type": "code",
      "source": [
        "df.isna().any()  #Novamente, apenas para exemplificação da não existência de valores nulos."
      ],
      "metadata": {
        "colab": {
          "base_uri": "https://localhost:8080/"
        },
        "id": "xI-Asi4S030V",
        "outputId": "0721720e-7919-44e2-bf7f-80ef49e6e93d"
      },
      "execution_count": 7,
      "outputs": [
        {
          "output_type": "execute_result",
          "data": {
            "text/plain": [
              "Linguagens              False\n",
              "Ciências humanas        False\n",
              "Ciências da natureza    False\n",
              "Matemática              False\n",
              "Redação                 False\n",
              "Sexo                    False\n",
              "dtype: bool"
            ]
          },
          "metadata": {},
          "execution_count": 7
        }
      ]
    },
    {
      "cell_type": "markdown",
      "source": [
        "> Média:"
      ],
      "metadata": {
        "id": "1Y93MrCG0-r0"
      }
    },
    {
      "cell_type": "code",
      "source": [
        "df_info['mean']\n",
        "#Média de todas as disciplinas, e, já que os valores nulos já foram tratados no dataframe anteriormente, busca-se apenas a coluna necessária"
      ],
      "metadata": {
        "colab": {
          "base_uri": "https://localhost:8080/"
        },
        "id": "hOV9mbOL0FlP",
        "outputId": "7a90464b-a4e3-4594-da56-46c3815fb85f"
      },
      "execution_count": 93,
      "outputs": [
        {
          "output_type": "execute_result",
          "data": {
            "text/plain": [
              "Linguagens              514.578415\n",
              "Ciências humanas        526.880850\n",
              "Ciências da natureza    499.520391\n",
              "Matemática              535.759100\n",
              "Redação                 637.432194\n",
              "Name: mean, dtype: float64"
            ]
          },
          "metadata": {},
          "execution_count": 93
        }
      ]
    },
    {
      "cell_type": "markdown",
      "source": [
        "> Mediana"
      ],
      "metadata": {
        "id": "TqpuX1lV0-Mk"
      }
    },
    {
      "cell_type": "code",
      "source": [
        "df.median()\n",
        "#Visto que os valores já foram ajeitados, é possível só utilizar a função diretamente."
      ],
      "metadata": {
        "colab": {
          "base_uri": "https://localhost:8080/"
        },
        "id": "jOcOt5opa61E",
        "outputId": "2d46b7d8-574e-4da0-82ae-85bdab91e875"
      },
      "execution_count": 94,
      "outputs": [
        {
          "output_type": "stream",
          "name": "stderr",
          "text": [
            "<ipython-input-94-cbfdf8eac936>:1: FutureWarning: The default value of numeric_only in DataFrame.median is deprecated. In a future version, it will default to False. In addition, specifying 'numeric_only=None' is deprecated. Select only valid columns or specify the value of numeric_only to silence this warning.\n",
            "  df.median()  #Visto que os valores já foram ajeitados, é possível só utilizar a função\n"
          ]
        },
        {
          "output_type": "execute_result",
          "data": {
            "text/plain": [
              "Linguagens              515.045250\n",
              "Ciências humanas        524.519920\n",
              "Ciências da natureza    500.479263\n",
              "Matemática              533.247767\n",
              "Redação                 635.273973\n",
              "dtype: float64"
            ]
          },
          "metadata": {},
          "execution_count": 94
        }
      ]
    },
    {
      "cell_type": "markdown",
      "source": [
        "## 3. Considerando o curso de Ciência da Computação da UFPE, onde o peso cada uma das disciplinas ponderado\n",
        "a. Redação - 2\n",
        "\n",
        "b. Matemática e suas Tecnologias - 4\n",
        "\n",
        "c. Linguagens, Códigos e suas Tecnologias - 2\n",
        "\n",
        "d. Ciências Humanas e suas Tecnologias - 1\n",
        "\n",
        "e. Ciências da Natureza e suas Tecnologias - 1\n",
        "\n",
        "Qual o desvio padrão e média das notas dos 500 estudantes mais bem\n",
        "colocados considerando esses pesos?\n"
      ],
      "metadata": {
        "id": "V9qvmT1x1G22"
      }
    },
    {
      "cell_type": "code",
      "source": [
        "pesos_area = { 'Redação' : 2, 'Matemática' : 4, 'Linguagens' : 2, 'Ciências humanas' : 1, 'Ciências da natureza' : 1 }\n",
        "#Cria-se um dicionário com os pesos de cada disciplina"
      ],
      "metadata": {
        "id": "VntdwWnyX64c"
      },
      "execution_count": 95,
      "outputs": []
    },
    {
      "cell_type": "code",
      "source": [
        "def calcular_nota_ponderada(notas, pesos_area):\n",
        "  return sum(notas[area] * pesos_area[area] for area in notas.columns)\n",
        "\n",
        "#Cria-se a função para adicionar os pesos em cada nota, multiplicando o peso por sua respectiva área e somando o total das notas"
      ],
      "metadata": {
        "id": "071eGXE021JH"
      },
      "execution_count": 96,
      "outputs": []
    },
    {
      "cell_type": "code",
      "source": [
        "df_somente_notas = df.drop(columns=['Sexo'])\n",
        "#Para a função ser utilizada, removi a coluna Sexo, visto que é string e necessitamos de apenas números"
      ],
      "metadata": {
        "id": "ZogGl6Ea3PB7"
      },
      "execution_count": 98,
      "outputs": []
    },
    {
      "cell_type": "code",
      "source": [
        "df_somente_notas['Ciencia da Computacao'] = calcular_nota_ponderada(df_somente_notas, pesos_area)\n",
        "#Uma nova coluna no df recebe a função"
      ],
      "metadata": {
        "id": "_2cNjFh221Or"
      },
      "execution_count": 99,
      "outputs": []
    },
    {
      "cell_type": "code",
      "source": [
        "df_somente_notas.head()\n",
        "#Aqui, é possível verificar a existência da nova coluna."
      ],
      "metadata": {
        "colab": {
          "base_uri": "https://localhost:8080/",
          "height": 206
        },
        "id": "1FdzczEI5wgy",
        "outputId": "18c9ba1b-757e-4db6-ccdf-e2640b2b60e3"
      },
      "execution_count": 100,
      "outputs": [
        {
          "output_type": "execute_result",
          "data": {
            "text/plain": [
              "   Linguagens  Ciências humanas  Ciências da natureza  Matemática     Redação  \\\n",
              "0  585.669300        686.512178            390.482473  452.281333  546.371706   \n",
              "1  359.384608        642.084134            500.479263  412.205207  741.825256   \n",
              "2  622.732384        495.510719            443.183580  669.683401  684.515750   \n",
              "3  350.164605        602.041588            413.979810  676.608952  671.237114   \n",
              "4  384.093657        489.249140            609.758123  520.426698  744.375048   \n",
              "\n",
              "   Ciencia da Computacao  \n",
              "0            5150.201992  \n",
              "1            4993.803951  \n",
              "2            6231.924171  \n",
              "3            5765.260643  \n",
              "4            5437.651463  "
            ],
            "text/html": [
              "\n",
              "  <div id=\"df-87e6477a-3850-4300-87b7-9c9360d4dd0d\" class=\"colab-df-container\">\n",
              "    <div>\n",
              "<style scoped>\n",
              "    .dataframe tbody tr th:only-of-type {\n",
              "        vertical-align: middle;\n",
              "    }\n",
              "\n",
              "    .dataframe tbody tr th {\n",
              "        vertical-align: top;\n",
              "    }\n",
              "\n",
              "    .dataframe thead th {\n",
              "        text-align: right;\n",
              "    }\n",
              "</style>\n",
              "<table border=\"1\" class=\"dataframe\">\n",
              "  <thead>\n",
              "    <tr style=\"text-align: right;\">\n",
              "      <th></th>\n",
              "      <th>Linguagens</th>\n",
              "      <th>Ciências humanas</th>\n",
              "      <th>Ciências da natureza</th>\n",
              "      <th>Matemática</th>\n",
              "      <th>Redação</th>\n",
              "      <th>Ciencia da Computacao</th>\n",
              "    </tr>\n",
              "  </thead>\n",
              "  <tbody>\n",
              "    <tr>\n",
              "      <th>0</th>\n",
              "      <td>585.669300</td>\n",
              "      <td>686.512178</td>\n",
              "      <td>390.482473</td>\n",
              "      <td>452.281333</td>\n",
              "      <td>546.371706</td>\n",
              "      <td>5150.201992</td>\n",
              "    </tr>\n",
              "    <tr>\n",
              "      <th>1</th>\n",
              "      <td>359.384608</td>\n",
              "      <td>642.084134</td>\n",
              "      <td>500.479263</td>\n",
              "      <td>412.205207</td>\n",
              "      <td>741.825256</td>\n",
              "      <td>4993.803951</td>\n",
              "    </tr>\n",
              "    <tr>\n",
              "      <th>2</th>\n",
              "      <td>622.732384</td>\n",
              "      <td>495.510719</td>\n",
              "      <td>443.183580</td>\n",
              "      <td>669.683401</td>\n",
              "      <td>684.515750</td>\n",
              "      <td>6231.924171</td>\n",
              "    </tr>\n",
              "    <tr>\n",
              "      <th>3</th>\n",
              "      <td>350.164605</td>\n",
              "      <td>602.041588</td>\n",
              "      <td>413.979810</td>\n",
              "      <td>676.608952</td>\n",
              "      <td>671.237114</td>\n",
              "      <td>5765.260643</td>\n",
              "    </tr>\n",
              "    <tr>\n",
              "      <th>4</th>\n",
              "      <td>384.093657</td>\n",
              "      <td>489.249140</td>\n",
              "      <td>609.758123</td>\n",
              "      <td>520.426698</td>\n",
              "      <td>744.375048</td>\n",
              "      <td>5437.651463</td>\n",
              "    </tr>\n",
              "  </tbody>\n",
              "</table>\n",
              "</div>\n",
              "    <div class=\"colab-df-buttons\">\n",
              "\n",
              "  <div class=\"colab-df-container\">\n",
              "    <button class=\"colab-df-convert\" onclick=\"convertToInteractive('df-87e6477a-3850-4300-87b7-9c9360d4dd0d')\"\n",
              "            title=\"Convert this dataframe to an interactive table.\"\n",
              "            style=\"display:none;\">\n",
              "\n",
              "  <svg xmlns=\"http://www.w3.org/2000/svg\" height=\"24px\" viewBox=\"0 -960 960 960\">\n",
              "    <path d=\"M120-120v-720h720v720H120Zm60-500h600v-160H180v160Zm220 220h160v-160H400v160Zm0 220h160v-160H400v160ZM180-400h160v-160H180v160Zm440 0h160v-160H620v160ZM180-180h160v-160H180v160Zm440 0h160v-160H620v160Z\"/>\n",
              "  </svg>\n",
              "    </button>\n",
              "\n",
              "  <style>\n",
              "    .colab-df-container {\n",
              "      display:flex;\n",
              "      gap: 12px;\n",
              "    }\n",
              "\n",
              "    .colab-df-convert {\n",
              "      background-color: #E8F0FE;\n",
              "      border: none;\n",
              "      border-radius: 50%;\n",
              "      cursor: pointer;\n",
              "      display: none;\n",
              "      fill: #1967D2;\n",
              "      height: 32px;\n",
              "      padding: 0 0 0 0;\n",
              "      width: 32px;\n",
              "    }\n",
              "\n",
              "    .colab-df-convert:hover {\n",
              "      background-color: #E2EBFA;\n",
              "      box-shadow: 0px 1px 2px rgba(60, 64, 67, 0.3), 0px 1px 3px 1px rgba(60, 64, 67, 0.15);\n",
              "      fill: #174EA6;\n",
              "    }\n",
              "\n",
              "    .colab-df-buttons div {\n",
              "      margin-bottom: 4px;\n",
              "    }\n",
              "\n",
              "    [theme=dark] .colab-df-convert {\n",
              "      background-color: #3B4455;\n",
              "      fill: #D2E3FC;\n",
              "    }\n",
              "\n",
              "    [theme=dark] .colab-df-convert:hover {\n",
              "      background-color: #434B5C;\n",
              "      box-shadow: 0px 1px 3px 1px rgba(0, 0, 0, 0.15);\n",
              "      filter: drop-shadow(0px 1px 2px rgba(0, 0, 0, 0.3));\n",
              "      fill: #FFFFFF;\n",
              "    }\n",
              "  </style>\n",
              "\n",
              "    <script>\n",
              "      const buttonEl =\n",
              "        document.querySelector('#df-87e6477a-3850-4300-87b7-9c9360d4dd0d button.colab-df-convert');\n",
              "      buttonEl.style.display =\n",
              "        google.colab.kernel.accessAllowed ? 'block' : 'none';\n",
              "\n",
              "      async function convertToInteractive(key) {\n",
              "        const element = document.querySelector('#df-87e6477a-3850-4300-87b7-9c9360d4dd0d');\n",
              "        const dataTable =\n",
              "          await google.colab.kernel.invokeFunction('convertToInteractive',\n",
              "                                                    [key], {});\n",
              "        if (!dataTable) return;\n",
              "\n",
              "        const docLinkHtml = 'Like what you see? Visit the ' +\n",
              "          '<a target=\"_blank\" href=https://colab.research.google.com/notebooks/data_table.ipynb>data table notebook</a>'\n",
              "          + ' to learn more about interactive tables.';\n",
              "        element.innerHTML = '';\n",
              "        dataTable['output_type'] = 'display_data';\n",
              "        await google.colab.output.renderOutput(dataTable, element);\n",
              "        const docLink = document.createElement('div');\n",
              "        docLink.innerHTML = docLinkHtml;\n",
              "        element.appendChild(docLink);\n",
              "      }\n",
              "    </script>\n",
              "  </div>\n",
              "\n",
              "\n",
              "<div id=\"df-09f280ea-9d88-43c8-9f81-85abf6cc3877\">\n",
              "  <button class=\"colab-df-quickchart\" onclick=\"quickchart('df-09f280ea-9d88-43c8-9f81-85abf6cc3877')\"\n",
              "            title=\"Suggest charts\"\n",
              "            style=\"display:none;\">\n",
              "\n",
              "<svg xmlns=\"http://www.w3.org/2000/svg\" height=\"24px\"viewBox=\"0 0 24 24\"\n",
              "     width=\"24px\">\n",
              "    <g>\n",
              "        <path d=\"M19 3H5c-1.1 0-2 .9-2 2v14c0 1.1.9 2 2 2h14c1.1 0 2-.9 2-2V5c0-1.1-.9-2-2-2zM9 17H7v-7h2v7zm4 0h-2V7h2v10zm4 0h-2v-4h2v4z\"/>\n",
              "    </g>\n",
              "</svg>\n",
              "  </button>\n",
              "\n",
              "<style>\n",
              "  .colab-df-quickchart {\n",
              "      --bg-color: #E8F0FE;\n",
              "      --fill-color: #1967D2;\n",
              "      --hover-bg-color: #E2EBFA;\n",
              "      --hover-fill-color: #174EA6;\n",
              "      --disabled-fill-color: #AAA;\n",
              "      --disabled-bg-color: #DDD;\n",
              "  }\n",
              "\n",
              "  [theme=dark] .colab-df-quickchart {\n",
              "      --bg-color: #3B4455;\n",
              "      --fill-color: #D2E3FC;\n",
              "      --hover-bg-color: #434B5C;\n",
              "      --hover-fill-color: #FFFFFF;\n",
              "      --disabled-bg-color: #3B4455;\n",
              "      --disabled-fill-color: #666;\n",
              "  }\n",
              "\n",
              "  .colab-df-quickchart {\n",
              "    background-color: var(--bg-color);\n",
              "    border: none;\n",
              "    border-radius: 50%;\n",
              "    cursor: pointer;\n",
              "    display: none;\n",
              "    fill: var(--fill-color);\n",
              "    height: 32px;\n",
              "    padding: 0;\n",
              "    width: 32px;\n",
              "  }\n",
              "\n",
              "  .colab-df-quickchart:hover {\n",
              "    background-color: var(--hover-bg-color);\n",
              "    box-shadow: 0 1px 2px rgba(60, 64, 67, 0.3), 0 1px 3px 1px rgba(60, 64, 67, 0.15);\n",
              "    fill: var(--button-hover-fill-color);\n",
              "  }\n",
              "\n",
              "  .colab-df-quickchart-complete:disabled,\n",
              "  .colab-df-quickchart-complete:disabled:hover {\n",
              "    background-color: var(--disabled-bg-color);\n",
              "    fill: var(--disabled-fill-color);\n",
              "    box-shadow: none;\n",
              "  }\n",
              "\n",
              "  .colab-df-spinner {\n",
              "    border: 2px solid var(--fill-color);\n",
              "    border-color: transparent;\n",
              "    border-bottom-color: var(--fill-color);\n",
              "    animation:\n",
              "      spin 1s steps(1) infinite;\n",
              "  }\n",
              "\n",
              "  @keyframes spin {\n",
              "    0% {\n",
              "      border-color: transparent;\n",
              "      border-bottom-color: var(--fill-color);\n",
              "      border-left-color: var(--fill-color);\n",
              "    }\n",
              "    20% {\n",
              "      border-color: transparent;\n",
              "      border-left-color: var(--fill-color);\n",
              "      border-top-color: var(--fill-color);\n",
              "    }\n",
              "    30% {\n",
              "      border-color: transparent;\n",
              "      border-left-color: var(--fill-color);\n",
              "      border-top-color: var(--fill-color);\n",
              "      border-right-color: var(--fill-color);\n",
              "    }\n",
              "    40% {\n",
              "      border-color: transparent;\n",
              "      border-right-color: var(--fill-color);\n",
              "      border-top-color: var(--fill-color);\n",
              "    }\n",
              "    60% {\n",
              "      border-color: transparent;\n",
              "      border-right-color: var(--fill-color);\n",
              "    }\n",
              "    80% {\n",
              "      border-color: transparent;\n",
              "      border-right-color: var(--fill-color);\n",
              "      border-bottom-color: var(--fill-color);\n",
              "    }\n",
              "    90% {\n",
              "      border-color: transparent;\n",
              "      border-bottom-color: var(--fill-color);\n",
              "    }\n",
              "  }\n",
              "</style>\n",
              "\n",
              "  <script>\n",
              "    async function quickchart(key) {\n",
              "      const quickchartButtonEl =\n",
              "        document.querySelector('#' + key + ' button');\n",
              "      quickchartButtonEl.disabled = true;  // To prevent multiple clicks.\n",
              "      quickchartButtonEl.classList.add('colab-df-spinner');\n",
              "      try {\n",
              "        const charts = await google.colab.kernel.invokeFunction(\n",
              "            'suggestCharts', [key], {});\n",
              "      } catch (error) {\n",
              "        console.error('Error during call to suggestCharts:', error);\n",
              "      }\n",
              "      quickchartButtonEl.classList.remove('colab-df-spinner');\n",
              "      quickchartButtonEl.classList.add('colab-df-quickchart-complete');\n",
              "    }\n",
              "    (() => {\n",
              "      let quickchartButtonEl =\n",
              "        document.querySelector('#df-09f280ea-9d88-43c8-9f81-85abf6cc3877 button');\n",
              "      quickchartButtonEl.style.display =\n",
              "        google.colab.kernel.accessAllowed ? 'block' : 'none';\n",
              "    })();\n",
              "  </script>\n",
              "</div>\n",
              "\n",
              "    </div>\n",
              "  </div>\n"
            ],
            "application/vnd.google.colaboratory.intrinsic+json": {
              "type": "dataframe",
              "variable_name": "df_somente_notas",
              "summary": "{\n  \"name\": \"df_somente_notas\",\n  \"rows\": 1000,\n  \"fields\": [\n    {\n      \"column\": \"Linguagens\",\n      \"properties\": {\n        \"dtype\": \"number\",\n        \"std\": 79.56087560366589,\n        \"min\": 287.0,\n        \"max\": 804.4563171927,\n        \"num_unique_values\": 896,\n        \"samples\": [\n          638.5729576994,\n          558.9794594075,\n          454.0403059539\n        ],\n        \"semantic_type\": \"\",\n        \"description\": \"\"\n      }\n    },\n    {\n      \"column\": \"Ci\\u00eancias humanas\",\n      \"properties\": {\n        \"dtype\": \"number\",\n        \"std\": 75.28034045007152,\n        \"min\": 289.9,\n        \"max\": 763.9196954613,\n        \"num_unique_values\": 936,\n        \"samples\": [\n          479.6056737529,\n          509.5481349145,\n          385.144119059\n        ],\n        \"semantic_type\": \"\",\n        \"description\": \"\"\n      }\n    },\n    {\n      \"column\": \"Ci\\u00eancias da natureza\",\n      \"properties\": {\n        \"dtype\": \"number\",\n        \"std\": 71.48805148415315,\n        \"min\": 314.4,\n        \"max\": 802.0045683513,\n        \"num_unique_values\": 822,\n        \"samples\": [\n          472.110329659,\n          391.4634791276,\n          388.4480042951\n        ],\n        \"semantic_type\": \"\",\n        \"description\": \"\"\n      }\n    },\n    {\n      \"column\": \"Matem\\u00e1tica\",\n      \"properties\": {\n        \"dtype\": \"number\",\n        \"std\": 83.29010410585636,\n        \"min\": 319.8,\n        \"max\": 807.8779018921,\n        \"num_unique_values\": 919,\n        \"samples\": [\n          574.7703442755,\n          588.7006147078,\n          494.8535120635\n        ],\n        \"semantic_type\": \"\",\n        \"description\": \"\"\n      }\n    },\n    {\n      \"column\": \"Reda\\u00e7\\u00e3o\",\n      \"properties\": {\n        \"dtype\": \"number\",\n        \"std\": 106.95672324035075,\n        \"min\": 270.8399648605,\n        \"max\": 1000.0,\n        \"num_unique_values\": 861,\n        \"samples\": [\n          546.6056098975,\n          652.6696358668,\n          630.0795311755\n        ],\n        \"semantic_type\": \"\",\n        \"description\": \"\"\n      }\n    },\n    {\n      \"column\": \"Ciencia da Computacao\",\n      \"properties\": {\n        \"dtype\": \"number\",\n        \"std\": 432.1859241629089,\n        \"min\": 4210.7985157899,\n        \"max\": 6829.8773242715,\n        \"num_unique_values\": 1000,\n        \"samples\": [\n          4364.0663609645,\n          5454.80015080625,\n          5550.7035109332\n        ],\n        \"semantic_type\": \"\",\n        \"description\": \"\"\n      }\n    }\n  ]\n}"
            }
          },
          "metadata": {},
          "execution_count": 100
        }
      ]
    },
    {
      "cell_type": "code",
      "source": [
        "df_cc = df_somente_notas.nlargest(500, 'Ciencia da Computacao')\n",
        "#Seleciona-se as 500 mais"
      ],
      "metadata": {
        "id": "Wobcko4h21SX"
      },
      "execution_count": 101,
      "outputs": []
    },
    {
      "cell_type": "code",
      "source": [
        "df_cc.head(10)"
      ],
      "metadata": {
        "colab": {
          "base_uri": "https://localhost:8080/",
          "height": 363
        },
        "id": "lNxHzrJd5uDA",
        "outputId": "8cf199a6-129e-41f8-c6c1-d746ff74eef8"
      },
      "execution_count": 102,
      "outputs": [
        {
          "output_type": "execute_result",
          "data": {
            "text/plain": [
              "     Linguagens  Ciências humanas  Ciências da natureza  Matemática  \\\n",
              "25   604.825455        447.532353            523.041011  727.181224   \n",
              "824  533.812379        611.760520            494.994598  807.877902   \n",
              "702  551.398112        637.818208            451.624683  803.769938   \n",
              "129  583.015454        434.261543            588.516699  687.621711   \n",
              "60   498.394660        668.355060            457.371963  760.136151   \n",
              "880  671.524266        590.780179            546.595272  571.607337   \n",
              "376  364.096042        582.024626            523.764760  749.912621   \n",
              "989  462.051713        512.986241            506.405210  787.771672   \n",
              "769  585.434004        339.101146            500.479263  717.426502   \n",
              "694  497.493880        609.839007            528.413513  737.175029   \n",
              "\n",
              "        Redação  Ciencia da Computacao  \n",
              "25   870.464077            6829.877324  \n",
              "824  697.570213            6801.031909  \n",
              "702  652.669636            6712.658138  \n",
              "129  852.273821            6643.843636  \n",
              "60   711.458481            6585.977907  \n",
              "880  909.379934            6585.613200  \n",
              "376  872.188740            6578.009433  \n",
              "989  692.814673            6480.210912  \n",
              "769  797.884736            6475.923897  \n",
              "694  693.739043            6469.418478  "
            ],
            "text/html": [
              "\n",
              "  <div id=\"df-3bb78ddc-0135-49a3-917f-c51fbcedd2a3\" class=\"colab-df-container\">\n",
              "    <div>\n",
              "<style scoped>\n",
              "    .dataframe tbody tr th:only-of-type {\n",
              "        vertical-align: middle;\n",
              "    }\n",
              "\n",
              "    .dataframe tbody tr th {\n",
              "        vertical-align: top;\n",
              "    }\n",
              "\n",
              "    .dataframe thead th {\n",
              "        text-align: right;\n",
              "    }\n",
              "</style>\n",
              "<table border=\"1\" class=\"dataframe\">\n",
              "  <thead>\n",
              "    <tr style=\"text-align: right;\">\n",
              "      <th></th>\n",
              "      <th>Linguagens</th>\n",
              "      <th>Ciências humanas</th>\n",
              "      <th>Ciências da natureza</th>\n",
              "      <th>Matemática</th>\n",
              "      <th>Redação</th>\n",
              "      <th>Ciencia da Computacao</th>\n",
              "    </tr>\n",
              "  </thead>\n",
              "  <tbody>\n",
              "    <tr>\n",
              "      <th>25</th>\n",
              "      <td>604.825455</td>\n",
              "      <td>447.532353</td>\n",
              "      <td>523.041011</td>\n",
              "      <td>727.181224</td>\n",
              "      <td>870.464077</td>\n",
              "      <td>6829.877324</td>\n",
              "    </tr>\n",
              "    <tr>\n",
              "      <th>824</th>\n",
              "      <td>533.812379</td>\n",
              "      <td>611.760520</td>\n",
              "      <td>494.994598</td>\n",
              "      <td>807.877902</td>\n",
              "      <td>697.570213</td>\n",
              "      <td>6801.031909</td>\n",
              "    </tr>\n",
              "    <tr>\n",
              "      <th>702</th>\n",
              "      <td>551.398112</td>\n",
              "      <td>637.818208</td>\n",
              "      <td>451.624683</td>\n",
              "      <td>803.769938</td>\n",
              "      <td>652.669636</td>\n",
              "      <td>6712.658138</td>\n",
              "    </tr>\n",
              "    <tr>\n",
              "      <th>129</th>\n",
              "      <td>583.015454</td>\n",
              "      <td>434.261543</td>\n",
              "      <td>588.516699</td>\n",
              "      <td>687.621711</td>\n",
              "      <td>852.273821</td>\n",
              "      <td>6643.843636</td>\n",
              "    </tr>\n",
              "    <tr>\n",
              "      <th>60</th>\n",
              "      <td>498.394660</td>\n",
              "      <td>668.355060</td>\n",
              "      <td>457.371963</td>\n",
              "      <td>760.136151</td>\n",
              "      <td>711.458481</td>\n",
              "      <td>6585.977907</td>\n",
              "    </tr>\n",
              "    <tr>\n",
              "      <th>880</th>\n",
              "      <td>671.524266</td>\n",
              "      <td>590.780179</td>\n",
              "      <td>546.595272</td>\n",
              "      <td>571.607337</td>\n",
              "      <td>909.379934</td>\n",
              "      <td>6585.613200</td>\n",
              "    </tr>\n",
              "    <tr>\n",
              "      <th>376</th>\n",
              "      <td>364.096042</td>\n",
              "      <td>582.024626</td>\n",
              "      <td>523.764760</td>\n",
              "      <td>749.912621</td>\n",
              "      <td>872.188740</td>\n",
              "      <td>6578.009433</td>\n",
              "    </tr>\n",
              "    <tr>\n",
              "      <th>989</th>\n",
              "      <td>462.051713</td>\n",
              "      <td>512.986241</td>\n",
              "      <td>506.405210</td>\n",
              "      <td>787.771672</td>\n",
              "      <td>692.814673</td>\n",
              "      <td>6480.210912</td>\n",
              "    </tr>\n",
              "    <tr>\n",
              "      <th>769</th>\n",
              "      <td>585.434004</td>\n",
              "      <td>339.101146</td>\n",
              "      <td>500.479263</td>\n",
              "      <td>717.426502</td>\n",
              "      <td>797.884736</td>\n",
              "      <td>6475.923897</td>\n",
              "    </tr>\n",
              "    <tr>\n",
              "      <th>694</th>\n",
              "      <td>497.493880</td>\n",
              "      <td>609.839007</td>\n",
              "      <td>528.413513</td>\n",
              "      <td>737.175029</td>\n",
              "      <td>693.739043</td>\n",
              "      <td>6469.418478</td>\n",
              "    </tr>\n",
              "  </tbody>\n",
              "</table>\n",
              "</div>\n",
              "    <div class=\"colab-df-buttons\">\n",
              "\n",
              "  <div class=\"colab-df-container\">\n",
              "    <button class=\"colab-df-convert\" onclick=\"convertToInteractive('df-3bb78ddc-0135-49a3-917f-c51fbcedd2a3')\"\n",
              "            title=\"Convert this dataframe to an interactive table.\"\n",
              "            style=\"display:none;\">\n",
              "\n",
              "  <svg xmlns=\"http://www.w3.org/2000/svg\" height=\"24px\" viewBox=\"0 -960 960 960\">\n",
              "    <path d=\"M120-120v-720h720v720H120Zm60-500h600v-160H180v160Zm220 220h160v-160H400v160Zm0 220h160v-160H400v160ZM180-400h160v-160H180v160Zm440 0h160v-160H620v160ZM180-180h160v-160H180v160Zm440 0h160v-160H620v160Z\"/>\n",
              "  </svg>\n",
              "    </button>\n",
              "\n",
              "  <style>\n",
              "    .colab-df-container {\n",
              "      display:flex;\n",
              "      gap: 12px;\n",
              "    }\n",
              "\n",
              "    .colab-df-convert {\n",
              "      background-color: #E8F0FE;\n",
              "      border: none;\n",
              "      border-radius: 50%;\n",
              "      cursor: pointer;\n",
              "      display: none;\n",
              "      fill: #1967D2;\n",
              "      height: 32px;\n",
              "      padding: 0 0 0 0;\n",
              "      width: 32px;\n",
              "    }\n",
              "\n",
              "    .colab-df-convert:hover {\n",
              "      background-color: #E2EBFA;\n",
              "      box-shadow: 0px 1px 2px rgba(60, 64, 67, 0.3), 0px 1px 3px 1px rgba(60, 64, 67, 0.15);\n",
              "      fill: #174EA6;\n",
              "    }\n",
              "\n",
              "    .colab-df-buttons div {\n",
              "      margin-bottom: 4px;\n",
              "    }\n",
              "\n",
              "    [theme=dark] .colab-df-convert {\n",
              "      background-color: #3B4455;\n",
              "      fill: #D2E3FC;\n",
              "    }\n",
              "\n",
              "    [theme=dark] .colab-df-convert:hover {\n",
              "      background-color: #434B5C;\n",
              "      box-shadow: 0px 1px 3px 1px rgba(0, 0, 0, 0.15);\n",
              "      filter: drop-shadow(0px 1px 2px rgba(0, 0, 0, 0.3));\n",
              "      fill: #FFFFFF;\n",
              "    }\n",
              "  </style>\n",
              "\n",
              "    <script>\n",
              "      const buttonEl =\n",
              "        document.querySelector('#df-3bb78ddc-0135-49a3-917f-c51fbcedd2a3 button.colab-df-convert');\n",
              "      buttonEl.style.display =\n",
              "        google.colab.kernel.accessAllowed ? 'block' : 'none';\n",
              "\n",
              "      async function convertToInteractive(key) {\n",
              "        const element = document.querySelector('#df-3bb78ddc-0135-49a3-917f-c51fbcedd2a3');\n",
              "        const dataTable =\n",
              "          await google.colab.kernel.invokeFunction('convertToInteractive',\n",
              "                                                    [key], {});\n",
              "        if (!dataTable) return;\n",
              "\n",
              "        const docLinkHtml = 'Like what you see? Visit the ' +\n",
              "          '<a target=\"_blank\" href=https://colab.research.google.com/notebooks/data_table.ipynb>data table notebook</a>'\n",
              "          + ' to learn more about interactive tables.';\n",
              "        element.innerHTML = '';\n",
              "        dataTable['output_type'] = 'display_data';\n",
              "        await google.colab.output.renderOutput(dataTable, element);\n",
              "        const docLink = document.createElement('div');\n",
              "        docLink.innerHTML = docLinkHtml;\n",
              "        element.appendChild(docLink);\n",
              "      }\n",
              "    </script>\n",
              "  </div>\n",
              "\n",
              "\n",
              "<div id=\"df-cbad8990-741d-49c9-b90e-8e8f60054dcc\">\n",
              "  <button class=\"colab-df-quickchart\" onclick=\"quickchart('df-cbad8990-741d-49c9-b90e-8e8f60054dcc')\"\n",
              "            title=\"Suggest charts\"\n",
              "            style=\"display:none;\">\n",
              "\n",
              "<svg xmlns=\"http://www.w3.org/2000/svg\" height=\"24px\"viewBox=\"0 0 24 24\"\n",
              "     width=\"24px\">\n",
              "    <g>\n",
              "        <path d=\"M19 3H5c-1.1 0-2 .9-2 2v14c0 1.1.9 2 2 2h14c1.1 0 2-.9 2-2V5c0-1.1-.9-2-2-2zM9 17H7v-7h2v7zm4 0h-2V7h2v10zm4 0h-2v-4h2v4z\"/>\n",
              "    </g>\n",
              "</svg>\n",
              "  </button>\n",
              "\n",
              "<style>\n",
              "  .colab-df-quickchart {\n",
              "      --bg-color: #E8F0FE;\n",
              "      --fill-color: #1967D2;\n",
              "      --hover-bg-color: #E2EBFA;\n",
              "      --hover-fill-color: #174EA6;\n",
              "      --disabled-fill-color: #AAA;\n",
              "      --disabled-bg-color: #DDD;\n",
              "  }\n",
              "\n",
              "  [theme=dark] .colab-df-quickchart {\n",
              "      --bg-color: #3B4455;\n",
              "      --fill-color: #D2E3FC;\n",
              "      --hover-bg-color: #434B5C;\n",
              "      --hover-fill-color: #FFFFFF;\n",
              "      --disabled-bg-color: #3B4455;\n",
              "      --disabled-fill-color: #666;\n",
              "  }\n",
              "\n",
              "  .colab-df-quickchart {\n",
              "    background-color: var(--bg-color);\n",
              "    border: none;\n",
              "    border-radius: 50%;\n",
              "    cursor: pointer;\n",
              "    display: none;\n",
              "    fill: var(--fill-color);\n",
              "    height: 32px;\n",
              "    padding: 0;\n",
              "    width: 32px;\n",
              "  }\n",
              "\n",
              "  .colab-df-quickchart:hover {\n",
              "    background-color: var(--hover-bg-color);\n",
              "    box-shadow: 0 1px 2px rgba(60, 64, 67, 0.3), 0 1px 3px 1px rgba(60, 64, 67, 0.15);\n",
              "    fill: var(--button-hover-fill-color);\n",
              "  }\n",
              "\n",
              "  .colab-df-quickchart-complete:disabled,\n",
              "  .colab-df-quickchart-complete:disabled:hover {\n",
              "    background-color: var(--disabled-bg-color);\n",
              "    fill: var(--disabled-fill-color);\n",
              "    box-shadow: none;\n",
              "  }\n",
              "\n",
              "  .colab-df-spinner {\n",
              "    border: 2px solid var(--fill-color);\n",
              "    border-color: transparent;\n",
              "    border-bottom-color: var(--fill-color);\n",
              "    animation:\n",
              "      spin 1s steps(1) infinite;\n",
              "  }\n",
              "\n",
              "  @keyframes spin {\n",
              "    0% {\n",
              "      border-color: transparent;\n",
              "      border-bottom-color: var(--fill-color);\n",
              "      border-left-color: var(--fill-color);\n",
              "    }\n",
              "    20% {\n",
              "      border-color: transparent;\n",
              "      border-left-color: var(--fill-color);\n",
              "      border-top-color: var(--fill-color);\n",
              "    }\n",
              "    30% {\n",
              "      border-color: transparent;\n",
              "      border-left-color: var(--fill-color);\n",
              "      border-top-color: var(--fill-color);\n",
              "      border-right-color: var(--fill-color);\n",
              "    }\n",
              "    40% {\n",
              "      border-color: transparent;\n",
              "      border-right-color: var(--fill-color);\n",
              "      border-top-color: var(--fill-color);\n",
              "    }\n",
              "    60% {\n",
              "      border-color: transparent;\n",
              "      border-right-color: var(--fill-color);\n",
              "    }\n",
              "    80% {\n",
              "      border-color: transparent;\n",
              "      border-right-color: var(--fill-color);\n",
              "      border-bottom-color: var(--fill-color);\n",
              "    }\n",
              "    90% {\n",
              "      border-color: transparent;\n",
              "      border-bottom-color: var(--fill-color);\n",
              "    }\n",
              "  }\n",
              "</style>\n",
              "\n",
              "  <script>\n",
              "    async function quickchart(key) {\n",
              "      const quickchartButtonEl =\n",
              "        document.querySelector('#' + key + ' button');\n",
              "      quickchartButtonEl.disabled = true;  // To prevent multiple clicks.\n",
              "      quickchartButtonEl.classList.add('colab-df-spinner');\n",
              "      try {\n",
              "        const charts = await google.colab.kernel.invokeFunction(\n",
              "            'suggestCharts', [key], {});\n",
              "      } catch (error) {\n",
              "        console.error('Error during call to suggestCharts:', error);\n",
              "      }\n",
              "      quickchartButtonEl.classList.remove('colab-df-spinner');\n",
              "      quickchartButtonEl.classList.add('colab-df-quickchart-complete');\n",
              "    }\n",
              "    (() => {\n",
              "      let quickchartButtonEl =\n",
              "        document.querySelector('#df-cbad8990-741d-49c9-b90e-8e8f60054dcc button');\n",
              "      quickchartButtonEl.style.display =\n",
              "        google.colab.kernel.accessAllowed ? 'block' : 'none';\n",
              "    })();\n",
              "  </script>\n",
              "</div>\n",
              "\n",
              "    </div>\n",
              "  </div>\n"
            ],
            "application/vnd.google.colaboratory.intrinsic+json": {
              "type": "dataframe",
              "variable_name": "df_cc",
              "summary": "{\n  \"name\": \"df_cc\",\n  \"rows\": 500,\n  \"fields\": [\n    {\n      \"column\": \"Linguagens\",\n      \"properties\": {\n        \"dtype\": \"number\",\n        \"std\": 79.74145229135608,\n        \"min\": 287.0,\n        \"max\": 804.4563171927,\n        \"num_unique_values\": 441,\n        \"samples\": [\n          659.8871098048,\n          602.5863265109,\n          595.0397017263\n        ],\n        \"semantic_type\": \"\",\n        \"description\": \"\"\n      }\n    },\n    {\n      \"column\": \"Ci\\u00eancias humanas\",\n      \"properties\": {\n        \"dtype\": \"number\",\n        \"std\": 76.85511900328814,\n        \"min\": 289.9,\n        \"max\": 763.9196954613,\n        \"num_unique_values\": 470,\n        \"samples\": [\n          655.7293682663,\n          655.7203601646,\n          594.906024385\n        ],\n        \"semantic_type\": \"\",\n        \"description\": \"\"\n      }\n    },\n    {\n      \"column\": \"Ci\\u00eancias da natureza\",\n      \"properties\": {\n        \"dtype\": \"number\",\n        \"std\": 72.69634095169404,\n        \"min\": 314.4,\n        \"max\": 802.0045683513,\n        \"num_unique_values\": 416,\n        \"samples\": [\n          425.2597917467,\n          425.7711614431,\n          572.6287656657\n        ],\n        \"semantic_type\": \"\",\n        \"description\": \"\"\n      }\n    },\n    {\n      \"column\": \"Matem\\u00e1tica\",\n      \"properties\": {\n        \"dtype\": \"number\",\n        \"std\": 68.10422953433957,\n        \"min\": 403.5142724036,\n        \"max\": 807.8779018921,\n        \"num_unique_values\": 472,\n        \"samples\": [\n          661.596106856,\n          639.2154184702,\n          661.8437008964\n        ],\n        \"semantic_type\": \"\",\n        \"description\": \"\"\n      }\n    },\n    {\n      \"column\": \"Reda\\u00e7\\u00e3o\",\n      \"properties\": {\n        \"dtype\": \"number\",\n        \"std\": 99.4253296097025,\n        \"min\": 395.7367910822,\n        \"max\": 1000.0,\n        \"num_unique_values\": 432,\n        \"samples\": [\n          524.9004370496,\n          618.930966177,\n          572.2346775526\n        ],\n        \"semantic_type\": \"\",\n        \"description\": \"\"\n      }\n    },\n    {\n      \"column\": \"Ciencia da Computacao\",\n      \"properties\": {\n        \"dtype\": \"number\",\n        \"std\": 263.8601956521434,\n        \"min\": 5460.947691321599,\n        \"max\": 6829.8773242715,\n        \"num_unique_values\": 500,\n        \"samples\": [\n          5630.92420023625,\n          6100.7996613109,\n          5608.52544201305\n        ],\n        \"semantic_type\": \"\",\n        \"description\": \"\"\n      }\n    }\n  ]\n}"
            }
          },
          "metadata": {},
          "execution_count": 102
        }
      ]
    },
    {
      "cell_type": "code",
      "source": [
        "df_cc['Ciencia da Computacao'].describe()\n",
        "#Com a função describe, permite-se verificar a média (mean) e desvio padrão (std) das notas de Ciencia da Computacao"
      ],
      "metadata": {
        "colab": {
          "base_uri": "https://localhost:8080/"
        },
        "id": "99r71n3H4xhQ",
        "outputId": "70be4c72-dc75-4051-a1a3-c9f06d3f353f"
      },
      "execution_count": 104,
      "outputs": [
        {
          "output_type": "execute_result",
          "data": {
            "text/plain": [
              "count     500.000000\n",
              "mean     5820.063409\n",
              "std       263.860196\n",
              "min      5460.947691\n",
              "25%      5608.286554\n",
              "50%      5766.325228\n",
              "75%      5996.725188\n",
              "max      6829.877324\n",
              "Name: Ciencia da Computacao, dtype: float64"
            ]
          },
          "metadata": {},
          "execution_count": 104
        }
      ]
    },
    {
      "cell_type": "markdown",
      "source": [
        "> Portanto, a média de notas dos 500 mais bem colocados alunos que foram para Ciência da Computação seria de 582 e o desvio padrão de 263"
      ],
      "metadata": {
        "id": "V4Hlp8AI54Po"
      }
    },
    {
      "cell_type": "markdown",
      "source": [
        "## 4. Se todos esses estudantes aplicassem para ciência da computação e existem apenas 40 vagas, qual seria a variância e média da nota dos estudantes que entraram no curso de ciência da computação?\n"
      ],
      "metadata": {
        "id": "qyIJT3FwbLdl"
      }
    },
    {
      "cell_type": "code",
      "source": [
        "df_aprovados_cc = df_cc.nlargest(40, 'Ciencia da Computacao')\n",
        "#Seleciona-se os 40 melhores em nota pela função nlargest e salva-se na variável"
      ],
      "metadata": {
        "id": "vU6IS7Ve6S5l"
      },
      "execution_count": 106,
      "outputs": []
    },
    {
      "cell_type": "code",
      "source": [
        "df_aprovados_cc['Ciencia da Computacao'].mean()  #média dos 40 aprovados"
      ],
      "metadata": {
        "colab": {
          "base_uri": "https://localhost:8080/"
        },
        "id": "HNOyfy0W6TMc",
        "outputId": "cd62ace4-7a41-45db-c9a5-39b96cad28a2"
      },
      "execution_count": 109,
      "outputs": [
        {
          "output_type": "execute_result",
          "data": {
            "text/plain": [
              "6396.0846587935375"
            ]
          },
          "metadata": {},
          "execution_count": 109
        }
      ]
    },
    {
      "cell_type": "code",
      "source": [
        "df_aprovados_cc['Ciencia da Computacao'].std() * df_aprovados_cc['Ciencia da Computacao'].std()\n",
        "#variância, que é desvio padrão ao quadrado"
      ],
      "metadata": {
        "colab": {
          "base_uri": "https://localhost:8080/"
        },
        "id": "G5xscJtl7rt6",
        "outputId": "443c6e96-ad66-46bb-ce32-4c056795b7ce"
      },
      "execution_count": 110,
      "outputs": [
        {
          "output_type": "execute_result",
          "data": {
            "text/plain": [
              "24737.642238482647"
            ]
          },
          "metadata": {},
          "execution_count": 110
        }
      ]
    },
    {
      "cell_type": "markdown",
      "source": [
        "## 5. Qual o valor do teto do terceiro quartil para as disciplinas de matemática e linguagens?\n"
      ],
      "metadata": {
        "id": "UMQnQIGI9452"
      }
    },
    {
      "cell_type": "code",
      "source": [
        "df['Linguagens'].quantile([0.25, 0.5, 0.75])  #Todos os quartis em Linguagens"
      ],
      "metadata": {
        "colab": {
          "base_uri": "https://localhost:8080/"
        },
        "id": "Kuzzh_6F98u_",
        "outputId": "aab49bfa-b08e-49ad-e898-988c9e627bb1"
      },
      "execution_count": 111,
      "outputs": [
        {
          "output_type": "execute_result",
          "data": {
            "text/plain": [
              "0.25    464.362445\n",
              "0.50    515.045250\n",
              "0.75    564.793722\n",
              "Name: Linguagens, dtype: float64"
            ]
          },
          "metadata": {},
          "execution_count": 111
        }
      ]
    },
    {
      "cell_type": "code",
      "source": [
        "df['Linguagens'].loc[df['Linguagens'] > df['Linguagens'].quantile(0.75)].max()\n",
        "#No filtro, dentre os valores em linguagens, qual possui o máximo/teto acima do terceiro quartil"
      ],
      "metadata": {
        "colab": {
          "base_uri": "https://localhost:8080/"
        },
        "id": "wOHefqRW98xv",
        "outputId": "babfd72a-c20e-45a0-e247-75acb66d21b9"
      },
      "execution_count": 112,
      "outputs": [
        {
          "output_type": "execute_result",
          "data": {
            "text/plain": [
              "804.4563171927"
            ]
          },
          "metadata": {},
          "execution_count": 112
        }
      ]
    },
    {
      "cell_type": "code",
      "source": [
        "df['Matemática'].quantile([0.25, 0.5, 0.75])\n",
        " #Todos os quartis em matemática"
      ],
      "metadata": {
        "colab": {
          "base_uri": "https://localhost:8080/"
        },
        "id": "Clr00nFQWc8h",
        "outputId": "43306c48-33c3-467a-fb95-6e4c44e1cf48"
      },
      "execution_count": 113,
      "outputs": [
        {
          "output_type": "execute_result",
          "data": {
            "text/plain": [
              "0.25    485.234093\n",
              "0.50    533.247767\n",
              "0.75    586.927627\n",
              "Name: Matemática, dtype: float64"
            ]
          },
          "metadata": {},
          "execution_count": 113
        }
      ]
    },
    {
      "cell_type": "code",
      "source": [
        "df['Matemática'].loc[df['Matemática'] > df['Matemática'].quantile(0.75)].max()\n",
        "# #No filtro, dentre os valores em linguagens, qual possui o máximo/teto acima do terceiro quartil"
      ],
      "metadata": {
        "colab": {
          "base_uri": "https://localhost:8080/"
        },
        "id": "hiGkKEsj9803",
        "outputId": "e1549fbf-e07e-4051-a414-72198dadbbdb"
      },
      "execution_count": 114,
      "outputs": [
        {
          "output_type": "execute_result",
          "data": {
            "text/plain": [
              "807.8779018921"
            ]
          },
          "metadata": {},
          "execution_count": 114
        }
      ]
    },
    {
      "cell_type": "markdown",
      "source": [
        "## 6. Faça o histograma de Redação e Linguagens, de 20 em 20 pontos. Podemos dizer que são histogramas simétricos, justifique e classifique se não assimétricas?\n"
      ],
      "metadata": {
        "id": "tNz-alYDeck_"
      }
    },
    {
      "cell_type": "code",
      "source": [
        "df_copy['Redação'].plot.hist(bins=20)\n",
        "#Utilizou-se a versão copy, sem a alteração, pois os valores nulos foram substituídos pela média, portando interferiria no valor."
      ],
      "metadata": {
        "colab": {
          "base_uri": "https://localhost:8080/",
          "height": 447
        },
        "id": "H1gOBSIiXKnr",
        "outputId": "f5557344-c766-4ece-bd7b-e95d80e9a349"
      },
      "execution_count": 115,
      "outputs": [
        {
          "output_type": "execute_result",
          "data": {
            "text/plain": [
              "<Axes: ylabel='Frequency'>"
            ]
          },
          "metadata": {},
          "execution_count": 115
        },
        {
          "output_type": "display_data",
          "data": {
            "text/plain": [
              "<Figure size 640x480 with 1 Axes>"
            ],
            "image/png": "[encoded data removed]"
          },
          "metadata": {}
        }
      ]
    },
    {
      "cell_type": "code",
      "source": [
        "df_copy['Linguagens'].plot.hist(bins=20)\n",
        "#bins é a separação de 20 em 20 das notas"
      ],
      "metadata": {
        "colab": {
          "base_uri": "https://localhost:8080/",
          "height": 447
        },
        "id": "Cp5pvMNAZKZZ",
        "outputId": "c695ff5b-a5ba-4604-f145-eb6f6b9aa87c"
      },
      "execution_count": null,
      "outputs": [
        {
          "output_type": "execute_result",
          "data": {
            "text/plain": [
              "<Axes: ylabel='Frequency'>"
            ]
          },
          "metadata": {},
          "execution_count": 44
        },
        {
          "output_type": "display_data",
          "data": {
            "text/plain": [
              "<Figure size 640x480 with 1 Axes>"
            ],
            "image/png": "[encoded data removed]"
          },
          "metadata": {}
        }
      ]
    },
    {
      "cell_type": "markdown",
      "source": [
        "Percebe-se que as notas de Redação e Linguagens podem ser classificadas como simétricas, visto que a maior população de notas concentra-se entre 400 e 600 nas linguagens, e entre 500 e 750 nas redações."
      ],
      "metadata": {
        "id": "V7i_8UV-Zcq-"
      }
    },
    {
      "cell_type": "markdown",
      "source": [
        "## 7. Agora coloque um range fixo de 0 até 1000, você ainda tem a mesma opinião quanto a simetria? `[plt.hist(dado, bins=_, range=[0, 1000])`"
      ],
      "metadata": {
        "id": "KY0nupTMajw7"
      }
    },
    {
      "cell_type": "code",
      "source": [
        "df_copy['Linguagens'].plot.hist(bins=20, range=[0, 1000])  #Não consegui informação do que seria o \"dado\""
      ],
      "metadata": {
        "colab": {
          "base_uri": "https://localhost:8080/",
          "height": 447
        },
        "id": "yVUZHCWoajdQ",
        "outputId": "e08a7ebf-c864-4fca-c530-c10091c9ddcb"
      },
      "execution_count": 116,
      "outputs": [
        {
          "output_type": "execute_result",
          "data": {
            "text/plain": [
              "<Axes: ylabel='Frequency'>"
            ]
          },
          "metadata": {},
          "execution_count": 116
        },
        {
          "output_type": "display_data",
          "data": {
            "text/plain": [
              "<Figure size 640x480 with 1 Axes>"
            ],
            "image/png": "[encoded data removed]"
          },
          "metadata": {}
        }
      ]
    },
    {
      "cell_type": "code",
      "source": [
        "df_copy['Redação'].plot.hist(bins=20, range=[0, 1000])"
      ],
      "metadata": {
        "colab": {
          "base_uri": "https://localhost:8080/",
          "height": 447
        },
        "id": "pisl7stKbe5p",
        "outputId": "0a345b18-5666-456e-aa28-4d7b53fd05b2"
      },
      "execution_count": 117,
      "outputs": [
        {
          "output_type": "execute_result",
          "data": {
            "text/plain": [
              "<Axes: ylabel='Frequency'>"
            ]
          },
          "metadata": {},
          "execution_count": 117
        },
        {
          "output_type": "display_data",
          "data": {
            "text/plain": [
              "<Figure size 640x480 with 1 Axes>"
            ],
            "image/png": "[encoded data removed]"
          },
          "metadata": {}
        }
      ]
    },
    {
      "cell_type": "markdown",
      "source": [
        "Sim, houve um ligeiro deslocamento para a direita, mas todas as notas possuem esse deslocamento, permanecendo uma concentração maior no meio e uma simetria nos extremos."
      ],
      "metadata": {
        "id": "bX0EuOj_buoi"
      }
    },
    {
      "cell_type": "markdown",
      "source": [
        "## 8. Faça um boxplot do quartil de todas as disciplinas de ciências da natureza e redação. É possível enxergar outliers? Utilize o método IQR.\n"
      ],
      "metadata": {
        "id": "SehLzwqXcFmr"
      }
    },
    {
      "cell_type": "code",
      "source": [
        "df_copy.boxplot(column='Ciências da natureza')\n",
        "#Boxplot simples da coluna 'Ciência da natureza'"
      ],
      "metadata": {
        "colab": {
          "base_uri": "https://localhost:8080/",
          "height": 447
        },
        "id": "xAWrQ3Jidovu",
        "outputId": "647e107d-8895-40b0-f4d8-03b4ff7e62f3"
      },
      "execution_count": null,
      "outputs": [
        {
          "output_type": "execute_result",
          "data": {
            "text/plain": [
              "<Axes: >"
            ]
          },
          "metadata": {},
          "execution_count": 57
        },
        {
          "output_type": "display_data",
          "data": {
            "text/plain": [
              "<Figure size 640x480 with 1 Axes>"
            ],
            "image/png": "[encoded data removed]"
          },
          "metadata": {}
        }
      ]
    },
    {
      "cell_type": "markdown",
      "source": [
        "Apenas com o método boxplot  é possível verificar a presença de outliers. Porém, na questão, solicitou-se utilização do método IQR, portanto devemos determiná-los utilizando as funções aprendidas em aula:"
      ],
      "metadata": {
        "id": "zqSr-_CoesZG"
      }
    },
    {
      "cell_type": "code",
      "source": [
        "def find_outlier_iqr(dataset, colname):\n",
        "    q25, q75 = np.quantile(dataset[colname], 0.25), np.quantile(dataset[colname], 0.75)\n",
        "    # calcula  IQR\n",
        "    iqr = q75 - q25\n",
        "    # calcula outlier cutoff\n",
        "    cut_off = iqr * 1.5\n",
        "    # calcula margens inferiores, lower e superiores upper\n",
        "    lower, upper = q25 - cut_off, q75 + cut_off\n",
        "    print(' IQR é ',iqr)\n",
        "   # print('Valor minimo', lower)\n",
        "   # print('Valor maximo', upper)\n",
        "    outliers = []\n",
        "\n",
        "    for i in dataset[colname].values:\n",
        "      if((i > upper) or(i < lower)):\n",
        "        outliers.append(i)\n",
        "    print('O numero de outliers encontrado foi de', len(outliers))\n",
        "    return lower, upper, outliers"
      ],
      "metadata": {
        "id": "DekuDA7Te12j"
      },
      "execution_count": null,
      "outputs": []
    },
    {
      "cell_type": "markdown",
      "source": [
        "Função dada em aula para cálculo dos outliers pelo método IQR"
      ],
      "metadata": {
        "id": "Lqoro7Hl4RTv"
      }
    },
    {
      "cell_type": "code",
      "source": [
        "find_outlier_iqr(df, 'Ciências da natureza')  #utiliza-se o dataframe \"df\" que não possui NaN, tratado anteriormente\n",
        "#Retornou-se todos os valores IQRs"
      ],
      "metadata": {
        "colab": {
          "base_uri": "https://localhost:8080/"
        },
        "id": "j_7i0L5qfxSk",
        "outputId": "ccc966d9-de87-4bb1-e107-6508a786ac31"
      },
      "execution_count": null,
      "outputs": [
        {
          "output_type": "stream",
          "name": "stdout",
          "text": [
            " IQR é  77.26814280032505\n",
            "O numero de outliers encontrado foi de 41\n"
          ]
        },
        {
          "output_type": "execute_result",
          "data": {
            "text/plain": [
              "(343.55445852648745,\n",
              " 652.6270297277877,\n",
              " [655.7246556737,\n",
              "  653.9772404618,\n",
              "  321.1673349657,\n",
              "  673.57290931,\n",
              "  314.4,\n",
              "  683.2283474272,\n",
              "  685.6974296116,\n",
              "  334.8016486251,\n",
              "  660.6470320634,\n",
              "  664.0654344447,\n",
              "  802.0045683513,\n",
              "  676.9314870378,\n",
              "  336.9358873703,\n",
              "  683.7672480292,\n",
              "  661.3019395727,\n",
              "  684.5514241699,\n",
              "  668.7422609399,\n",
              "  654.7596178918,\n",
              "  669.0529579316,\n",
              "  732.5029639878,\n",
              "  718.3960614586,\n",
              "  332.0809884864,\n",
              "  336.2184615969,\n",
              "  336.6172324003,\n",
              "  317.5751521525,\n",
              "  679.8590914345,\n",
              "  672.9466457085,\n",
              "  692.8388576928,\n",
              "  678.5691470194,\n",
              "  339.5699212101,\n",
              "  672.9023391593,\n",
              "  670.8207808001,\n",
              "  335.0697098861,\n",
              "  680.963748707,\n",
              "  315.3845881253,\n",
              "  314.4,\n",
              "  318.7797061948,\n",
              "  314.4,\n",
              "  314.4,\n",
              "  701.8130524987,\n",
              "  676.0303399624])"
            ]
          },
          "metadata": {},
          "execution_count": 73
        }
      ]
    },
    {
      "cell_type": "code",
      "source": [
        "#Boxplot feito em aula com  apresença dos outliers\n",
        "plt.rcParams['figure.figsize'] = [8, 4]\n",
        "sns.set_theme()\n",
        "### para cada uma das colunas numericas roda o boxplot\n",
        "for column in df.select_dtypes(include=np.number).columns:\n",
        "    plt.figure()\n",
        "    sns.boxplot(data = df , x = column, color='cyan',showfliers=True)\n",
        "    plt.title(\"Boxplot: \"+column)"
      ],
      "metadata": {
        "colab": {
          "base_uri": "https://localhost:8080/",
          "height": 1000
        },
        "id": "h10RWbHgig8u",
        "outputId": "4971a407-47ac-429e-ad53-b0f359cf0e7f"
      },
      "execution_count": null,
      "outputs": [
        {
          "output_type": "display_data",
          "data": {
            "text/plain": [
              "<Figure size 800x400 with 1 Axes>"
            ],
            "image/png": "[encoded data removed]"
          },
          "metadata": {}
        },
        {
          "output_type": "display_data",
          "data": {
            "text/plain": [
              "<Figure size 800x400 with 1 Axes>"
            ],
            "image/png": "[encoded data removed]"
          },
          "metadata": {}
        },
        {
          "output_type": "display_data",
          "data": {
            "text/plain": [
              "<Figure size 800x400 with 1 Axes>"
            ],
            "image/png": "[encoded data removed]"
          },
          "metadata": {}
        },
        {
          "output_type": "display_data",
          "data": {
            "text/plain": [
              "<Figure size 800x400 with 1 Axes>"
            ],
            "image/png": "[encoded data removed]"
          },
          "metadata": {}
        },
        {
          "output_type": "display_data",
          "data": {
            "text/plain": [
              "<Figure size 800x400 with 1 Axes>"
            ],
            "image/png": "[encoded data removed]"
          },
          "metadata": {}
        }
      ]
    },
    {
      "cell_type": "markdown",
      "source": [
        "## 9. Remova todos os outliers e verifique se eles são passíveis de alterar a média nacional significativamente? (considere significativamente um valor acima de 5%)\n"
      ],
      "metadata": {
        "id": "FKB6JZIii8m-"
      }
    },
    {
      "cell_type": "code",
      "source": [
        "df.mean()"
      ],
      "metadata": {
        "colab": {
          "base_uri": "https://localhost:8080/"
        },
        "id": "yNKbMk_AjBUU",
        "outputId": "b22faa0a-d93b-4368-c4ba-54300da7ac1f"
      },
      "execution_count": null,
      "outputs": [
        {
          "output_type": "stream",
          "name": "stderr",
          "text": [
            "<ipython-input-131-c61f0c8f89b5>:1: FutureWarning: The default value of numeric_only in DataFrame.mean is deprecated. In a future version, it will default to False. In addition, specifying 'numeric_only=None' is deprecated. Select only valid columns or specify the value of numeric_only to silence this warning.\n",
            "  df.mean()\n"
          ]
        },
        {
          "output_type": "execute_result",
          "data": {
            "text/plain": [
              "Linguagens              514.578415\n",
              "Ciências humanas        526.880850\n",
              "Ciências da natureza    499.520391\n",
              "Matemática              535.759100\n",
              "Redação                 637.432194\n",
              "dtype: float64"
            ]
          },
          "metadata": {},
          "execution_count": 131
        }
      ]
    },
    {
      "cell_type": "code",
      "source": [
        "df.isna().any()  #Não existem NAN no dataframe original"
      ],
      "metadata": {
        "colab": {
          "base_uri": "https://localhost:8080/"
        },
        "id": "H0c4KgPbHnQu",
        "outputId": "0f20a3d9-7e2a-45a6-a5bd-12fd9ada6bfd"
      },
      "execution_count": null,
      "outputs": [
        {
          "output_type": "execute_result",
          "data": {
            "text/plain": [
              "Linguagens              False\n",
              "Ciências humanas        False\n",
              "Ciências da natureza    False\n",
              "Matemática              False\n",
              "Redação                 False\n",
              "Sexo                    False\n",
              "dtype: bool"
            ]
          },
          "metadata": {},
          "execution_count": 229
        }
      ]
    },
    {
      "cell_type": "code",
      "source": [
        "df_teste = df.copy()   #Para utilizar nesse exercício, criei uma cópia para poder comparar com a média original depois\n",
        "df_teste = df_teste.drop(columns='Sexo') #Remoção da coluna não numérica"
      ],
      "metadata": {
        "id": "X8Bmas6ijBXF"
      },
      "execution_count": null,
      "outputs": []
    },
    {
      "cell_type": "code",
      "source": [
        "def replace_na_outliers(dataset, colname):  #Função adaptada da aula que substitui os valores outliers por NAN em cada coluna\n",
        "    q25, q75 = np.quantile(dataset[colname], 0.25), np.quantile(dataset[colname], 0.75)\n",
        "    iqr = q75 - q25\n",
        "    cut_off = iqr * 1.5\n",
        "    lower, upper = q25 - cut_off, q75 + cut_off\n",
        "    outliers = []\n",
        "    val = []\n",
        "    for i in dataset[colname].values:\n",
        "      if((i > upper) or(i < lower)):\n",
        "        outliers.append(i)\n",
        "        val.append(np.nan)\n",
        "      else:\n",
        "          val.append(i)\n",
        "\n",
        "    return val"
      ],
      "metadata": {
        "id": "JzpYNHI4C4VM"
      },
      "execution_count": null,
      "outputs": []
    },
    {
      "cell_type": "code",
      "source": [
        "df_teste['Linguagens'] = replace_na_outliers(df_teste, 'Linguagens')  #Substituição dos outliers por NAN na coluna Linguagens"
      ],
      "metadata": {
        "id": "MBD_uoLQET8g"
      },
      "execution_count": null,
      "outputs": []
    },
    {
      "cell_type": "code",
      "source": [
        "df_teste['Linguagens'].isna().sum() #Verificação se a presença de NaN e quantos existem"
      ],
      "metadata": {
        "colab": {
          "base_uri": "https://localhost:8080/"
        },
        "id": "2Ls5Tk2CFgHg",
        "outputId": "46fd0e32-531d-4154-93a5-f7eb46db33ec"
      },
      "execution_count": null,
      "outputs": [
        {
          "output_type": "execute_result",
          "data": {
            "text/plain": [
              "14"
            ]
          },
          "metadata": {},
          "execution_count": 208
        }
      ]
    },
    {
      "cell_type": "code",
      "source": [
        "df_teste['Ciências humanas'] = replace_na_outliers(df_teste, 'Ciências humanas') #Repete-se o processo para cada coluna"
      ],
      "metadata": {
        "id": "QbhPF267Dxxs"
      },
      "execution_count": null,
      "outputs": []
    },
    {
      "cell_type": "code",
      "source": [
        "df_teste['Ciências humanas'].isna().sum()"
      ],
      "metadata": {
        "colab": {
          "base_uri": "https://localhost:8080/"
        },
        "id": "t9r12jMeFsLR",
        "outputId": "8db6008f-e0b1-4271-c94a-87a29a7ff659"
      },
      "execution_count": null,
      "outputs": [
        {
          "output_type": "execute_result",
          "data": {
            "text/plain": [
              "10"
            ]
          },
          "metadata": {},
          "execution_count": 210
        }
      ]
    },
    {
      "cell_type": "code",
      "source": [
        "df_teste['Ciências da natureza'] = replace_na_outliers(df_teste, 'Ciências da natureza')"
      ],
      "metadata": {
        "id": "PjiynUoLEmHz"
      },
      "execution_count": null,
      "outputs": []
    },
    {
      "cell_type": "code",
      "source": [
        "df_teste['Ciências da natureza'].isna().sum()"
      ],
      "metadata": {
        "colab": {
          "base_uri": "https://localhost:8080/"
        },
        "id": "Kjbud-BPFxG-",
        "outputId": "992d018b-c0e1-4120-d3ba-934d830906b6"
      },
      "execution_count": null,
      "outputs": [
        {
          "output_type": "execute_result",
          "data": {
            "text/plain": [
              "41"
            ]
          },
          "metadata": {},
          "execution_count": 212
        }
      ]
    },
    {
      "cell_type": "code",
      "source": [
        "df_teste['Matemática'] = replace_na_outliers(df_teste, 'Matemática')"
      ],
      "metadata": {
        "id": "3y9bVX9lEmCr"
      },
      "execution_count": null,
      "outputs": []
    },
    {
      "cell_type": "code",
      "source": [
        "df_teste['Matemática'].isna().sum()"
      ],
      "metadata": {
        "colab": {
          "base_uri": "https://localhost:8080/"
        },
        "id": "EN31BBNsF1Hu",
        "outputId": "c44c0ca1-f79e-4238-d4e9-19a25c86342d"
      },
      "execution_count": null,
      "outputs": [
        {
          "output_type": "execute_result",
          "data": {
            "text/plain": [
              "18"
            ]
          },
          "metadata": {},
          "execution_count": 214
        }
      ]
    },
    {
      "cell_type": "code",
      "source": [
        "df_teste['Redação'] = replace_na_outliers(df_teste, 'Redação')"
      ],
      "metadata": {
        "id": "glBdKPhnDgWa"
      },
      "execution_count": null,
      "outputs": []
    },
    {
      "cell_type": "code",
      "source": [
        "df_teste['Redação'].isna().sum()"
      ],
      "metadata": {
        "colab": {
          "base_uri": "https://localhost:8080/"
        },
        "id": "8k-q7uChF5PI",
        "outputId": "6496fdfe-4975-4730-996e-83b3d9e7a499"
      },
      "execution_count": null,
      "outputs": [
        {
          "output_type": "execute_result",
          "data": {
            "text/plain": [
              "19"
            ]
          },
          "metadata": {},
          "execution_count": 216
        }
      ]
    },
    {
      "cell_type": "code",
      "source": [
        "df_teste.dropna().mean()   #Remove-se os NAN (outliers) e calcula-se a média"
      ],
      "metadata": {
        "colab": {
          "base_uri": "https://localhost:8080/"
        },
        "id": "CdN5mETpDVZf",
        "outputId": "03eac84e-755a-4b5d-f510-0e5baccde7ab"
      },
      "execution_count": null,
      "outputs": [
        {
          "output_type": "execute_result",
          "data": {
            "text/plain": [
              "Linguagens              513.642986\n",
              "Ciências humanas        524.577707\n",
              "Ciências da natureza    496.157845\n",
              "Matemática              536.811376\n",
              "Redação                 635.023396\n",
              "dtype: float64"
            ]
          },
          "metadata": {},
          "execution_count": 223
        }
      ]
    },
    {
      "cell_type": "code",
      "source": [
        "df_teste.dropna().mean() * 100 / df.mean()  #Verificação da % de quanto o outlier interferiu"
      ],
      "metadata": {
        "colab": {
          "base_uri": "https://localhost:8080/"
        },
        "id": "EYI6BXRQGoS8",
        "outputId": "5a3d1a16-1ac9-4e58-a977-96599f7bd25f"
      },
      "execution_count": null,
      "outputs": [
        {
          "output_type": "stream",
          "name": "stderr",
          "text": [
            "<ipython-input-227-561337247907>:1: FutureWarning: The default value of numeric_only in DataFrame.mean is deprecated. In a future version, it will default to False. In addition, specifying 'numeric_only=None' is deprecated. Select only valid columns or specify the value of numeric_only to silence this warning.\n",
            "  df_teste.dropna().mean() * 100 / df.mean()\n"
          ]
        },
        {
          "output_type": "execute_result",
          "data": {
            "text/plain": [
              "Linguagens               99.818215\n",
              "Ciências humanas         99.562872\n",
              "Ciências da natureza     99.326845\n",
              "Matemática              100.196408\n",
              "Redação                  99.622109\n",
              "dtype: float64"
            ]
          },
          "metadata": {},
          "execution_count": 227
        }
      ]
    },
    {
      "cell_type": "markdown",
      "source": [
        "Percebe-se que a presença dos outliers reduziu a média em quase todos, exceto matemática, porém não foi significativa (abaixo de 5%)"
      ],
      "metadata": {
        "id": "XHJQjRHmIDUb"
      }
    },
    {
      "cell_type": "markdown",
      "source": [
        "## 10. Considerando valores nulos, tente encontrar qual seria a melhor medida de tendência que pode substituir as notas nulas. Média, moda ou mediana? Substitua o valor por todos os três e diga qual delas altera menos a média geral e o desvio padrão."
      ],
      "metadata": {
        "id": "xEwniGEuIM0z"
      }
    },
    {
      "cell_type": "code",
      "source": [
        "df_copy.isna().any()   #Dataframe original, verificando a presença de outliers tratados (nan)"
      ],
      "metadata": {
        "colab": {
          "base_uri": "https://localhost:8080/"
        },
        "id": "x2p3BQoIIS6h",
        "outputId": "a21c8ba4-f031-4b34-e2e1-30ab4f058941"
      },
      "execution_count": 118,
      "outputs": [
        {
          "output_type": "execute_result",
          "data": {
            "text/plain": [
              "Linguagens               True\n",
              "Ciências humanas         True\n",
              "Ciências da natureza     True\n",
              "Matemática               True\n",
              "Redação                  True\n",
              "Sexo                    False\n",
              "dtype: bool"
            ]
          },
          "metadata": {},
          "execution_count": 118
        }
      ]
    },
    {
      "cell_type": "code",
      "source": [
        "df_10 = df_copy.copy()  #cria-se a cópia para manipulação dos dados a fim de comparação"
      ],
      "metadata": {
        "id": "VYa8vcfsIS_8"
      },
      "execution_count": 8,
      "outputs": []
    },
    {
      "cell_type": "code",
      "source": [
        "replace_mean  = df_10.fillna(df_10.mean(numeric_only=True)).describe().transpose()\n",
        "#criação de um df contendo a média e desvio padrão utilizando a média no lugar dos outliers"
      ],
      "metadata": {
        "id": "IehbPRClIquR"
      },
      "execution_count": 65,
      "outputs": []
    },
    {
      "cell_type": "code",
      "source": [
        "replace_median = df_10.fillna(df_10.median(numeric_only=True)).describe().transpose()\n",
        "#criação de um df contendo a média e desvio padrão utilizando a mediana no lugar dos outliers"
      ],
      "metadata": {
        "id": "JhL_o4tTIqrC"
      },
      "execution_count": 66,
      "outputs": []
    },
    {
      "cell_type": "code",
      "source": [
        "replace_mode = df_10.fillna(df_10.mode(numeric_only=True)).describe().transpose()\n",
        "#criação de um df contendo a média e desvio padrão utilizando a moda no lugar dos outliers"
      ],
      "metadata": {
        "id": "v0gLJcx1Iqn_"
      },
      "execution_count": 67,
      "outputs": []
    },
    {
      "cell_type": "code",
      "source": [
        "#junção das planilhas\n",
        "joined_notes = replace_mean[['mean', 'std']].join(replace_median[['mean', 'std']], lsuffix='_mean', rsuffix='_median').join(replace_mode[['mean', 'std']], lsuffix='_median', rsuffix='_mode')"
      ],
      "metadata": {
        "id": "YhZ_C9yGsw32"
      },
      "execution_count": 68,
      "outputs": []
    },
    {
      "cell_type": "code",
      "source": [
        "joined_notes.rename(columns={'mean' : 'mean_mode', 'std' : 'std_mode'}, inplace=True)\n",
        "#renomeação para melhor visualização"
      ],
      "metadata": {
        "id": "Tf-8EhIMv6nq"
      },
      "execution_count": 69,
      "outputs": []
    },
    {
      "cell_type": "code",
      "source": [
        "joined_notes = df_info[['mean', 'std']].join(joined_notes)\n",
        "#Adição da média e std original, sem a remoção dos outliers, apenas para fim comparativo"
      ],
      "metadata": {
        "id": "HSm043cf1TPF"
      },
      "execution_count": 70,
      "outputs": []
    },
    {
      "cell_type": "code",
      "source": [
        "joined_notes"
      ],
      "metadata": {
        "colab": {
          "base_uri": "https://localhost:8080/",
          "height": 206
        },
        "id": "YEAz2bJwzCtm",
        "outputId": "2a83d34a-ee34-42e7-8e69-2d9f6728148b"
      },
      "execution_count": 71,
      "outputs": [
        {
          "output_type": "execute_result",
          "data": {
            "text/plain": [
              "                            mean         std   mean_mean    std_mean  \\\n",
              "Linguagens            514.578415   79.560876  514.524809   79.560718   \n",
              "Ciências humanas      526.880850   75.280340  527.042281   75.277806   \n",
              "Ciências da natureza  499.520391   71.488051  499.315583   71.486677   \n",
              "Matemática            535.759100   83.290104  535.965660   83.286987   \n",
              "Redação               637.432194  106.956723  637.783532  106.953175   \n",
              "\n",
              "                      mean_median  std_median   mean_mode    std_mode  \n",
              "Linguagens             514.578415   79.560876  514.524809   84.009313  \n",
              "Ciências humanas       526.880850   75.280340  527.042281   77.811519  \n",
              "Ciências da natureza   499.520391   71.488051  499.315583   78.760404  \n",
              "Matemática             535.759100   83.290104  535.965660   86.648100  \n",
              "Redação                637.432194  106.956723  637.815381  114.038611  "
            ],
            "text/html": [
              "\n",
              "  <div id=\"df-d1da060b-028e-4c55-b84b-d9823e93ab62\" class=\"colab-df-container\">\n",
              "    <div>\n",
              "<style scoped>\n",
              "    .dataframe tbody tr th:only-of-type {\n",
              "        vertical-align: middle;\n",
              "    }\n",
              "\n",
              "    .dataframe tbody tr th {\n",
              "        vertical-align: top;\n",
              "    }\n",
              "\n",
              "    .dataframe thead th {\n",
              "        text-align: right;\n",
              "    }\n",
              "</style>\n",
              "<table border=\"1\" class=\"dataframe\">\n",
              "  <thead>\n",
              "    <tr style=\"text-align: right;\">\n",
              "      <th></th>\n",
              "      <th>mean</th>\n",
              "      <th>std</th>\n",
              "      <th>mean_mean</th>\n",
              "      <th>std_mean</th>\n",
              "      <th>mean_median</th>\n",
              "      <th>std_median</th>\n",
              "      <th>mean_mode</th>\n",
              "      <th>std_mode</th>\n",
              "    </tr>\n",
              "  </thead>\n",
              "  <tbody>\n",
              "    <tr>\n",
              "      <th>Linguagens</th>\n",
              "      <td>514.578415</td>\n",
              "      <td>79.560876</td>\n",
              "      <td>514.524809</td>\n",
              "      <td>79.560718</td>\n",
              "      <td>514.578415</td>\n",
              "      <td>79.560876</td>\n",
              "      <td>514.524809</td>\n",
              "      <td>84.009313</td>\n",
              "    </tr>\n",
              "    <tr>\n",
              "      <th>Ciências humanas</th>\n",
              "      <td>526.880850</td>\n",
              "      <td>75.280340</td>\n",
              "      <td>527.042281</td>\n",
              "      <td>75.277806</td>\n",
              "      <td>526.880850</td>\n",
              "      <td>75.280340</td>\n",
              "      <td>527.042281</td>\n",
              "      <td>77.811519</td>\n",
              "    </tr>\n",
              "    <tr>\n",
              "      <th>Ciências da natureza</th>\n",
              "      <td>499.520391</td>\n",
              "      <td>71.488051</td>\n",
              "      <td>499.315583</td>\n",
              "      <td>71.486677</td>\n",
              "      <td>499.520391</td>\n",
              "      <td>71.488051</td>\n",
              "      <td>499.315583</td>\n",
              "      <td>78.760404</td>\n",
              "    </tr>\n",
              "    <tr>\n",
              "      <th>Matemática</th>\n",
              "      <td>535.759100</td>\n",
              "      <td>83.290104</td>\n",
              "      <td>535.965660</td>\n",
              "      <td>83.286987</td>\n",
              "      <td>535.759100</td>\n",
              "      <td>83.290104</td>\n",
              "      <td>535.965660</td>\n",
              "      <td>86.648100</td>\n",
              "    </tr>\n",
              "    <tr>\n",
              "      <th>Redação</th>\n",
              "      <td>637.432194</td>\n",
              "      <td>106.956723</td>\n",
              "      <td>637.783532</td>\n",
              "      <td>106.953175</td>\n",
              "      <td>637.432194</td>\n",
              "      <td>106.956723</td>\n",
              "      <td>637.815381</td>\n",
              "      <td>114.038611</td>\n",
              "    </tr>\n",
              "  </tbody>\n",
              "</table>\n",
              "</div>\n",
              "    <div class=\"colab-df-buttons\">\n",
              "\n",
              "  <div class=\"colab-df-container\">\n",
              "    <button class=\"colab-df-convert\" onclick=\"convertToInteractive('df-d1da060b-028e-4c55-b84b-d9823e93ab62')\"\n",
              "            title=\"Convert this dataframe to an interactive table.\"\n",
              "            style=\"display:none;\">\n",
              "\n",
              "  <svg xmlns=\"http://www.w3.org/2000/svg\" height=\"24px\" viewBox=\"0 -960 960 960\">\n",
              "    <path d=\"M120-120v-720h720v720H120Zm60-500h600v-160H180v160Zm220 220h160v-160H400v160Zm0 220h160v-160H400v160ZM180-400h160v-160H180v160Zm440 0h160v-160H620v160ZM180-180h160v-160H180v160Zm440 0h160v-160H620v160Z\"/>\n",
              "  </svg>\n",
              "    </button>\n",
              "\n",
              "  <style>\n",
              "    .colab-df-container {\n",
              "      display:flex;\n",
              "      gap: 12px;\n",
              "    }\n",
              "\n",
              "    .colab-df-convert {\n",
              "      background-color: #E8F0FE;\n",
              "      border: none;\n",
              "      border-radius: 50%;\n",
              "      cursor: pointer;\n",
              "      display: none;\n",
              "      fill: #1967D2;\n",
              "      height: 32px;\n",
              "      padding: 0 0 0 0;\n",
              "      width: 32px;\n",
              "    }\n",
              "\n",
              "    .colab-df-convert:hover {\n",
              "      background-color: #E2EBFA;\n",
              "      box-shadow: 0px 1px 2px rgba(60, 64, 67, 0.3), 0px 1px 3px 1px rgba(60, 64, 67, 0.15);\n",
              "      fill: #174EA6;\n",
              "    }\n",
              "\n",
              "    .colab-df-buttons div {\n",
              "      margin-bottom: 4px;\n",
              "    }\n",
              "\n",
              "    [theme=dark] .colab-df-convert {\n",
              "      background-color: #3B4455;\n",
              "      fill: #D2E3FC;\n",
              "    }\n",
              "\n",
              "    [theme=dark] .colab-df-convert:hover {\n",
              "      background-color: #434B5C;\n",
              "      box-shadow: 0px 1px 3px 1px rgba(0, 0, 0, 0.15);\n",
              "      filter: drop-shadow(0px 1px 2px rgba(0, 0, 0, 0.3));\n",
              "      fill: #FFFFFF;\n",
              "    }\n",
              "  </style>\n",
              "\n",
              "    <script>\n",
              "      const buttonEl =\n",
              "        document.querySelector('#df-d1da060b-028e-4c55-b84b-d9823e93ab62 button.colab-df-convert');\n",
              "      buttonEl.style.display =\n",
              "        google.colab.kernel.accessAllowed ? 'block' : 'none';\n",
              "\n",
              "      async function convertToInteractive(key) {\n",
              "        const element = document.querySelector('#df-d1da060b-028e-4c55-b84b-d9823e93ab62');\n",
              "        const dataTable =\n",
              "          await google.colab.kernel.invokeFunction('convertToInteractive',\n",
              "                                                    [key], {});\n",
              "        if (!dataTable) return;\n",
              "\n",
              "        const docLinkHtml = 'Like what you see? Visit the ' +\n",
              "          '<a target=\"_blank\" href=https://colab.research.google.com/notebooks/data_table.ipynb>data table notebook</a>'\n",
              "          + ' to learn more about interactive tables.';\n",
              "        element.innerHTML = '';\n",
              "        dataTable['output_type'] = 'display_data';\n",
              "        await google.colab.output.renderOutput(dataTable, element);\n",
              "        const docLink = document.createElement('div');\n",
              "        docLink.innerHTML = docLinkHtml;\n",
              "        element.appendChild(docLink);\n",
              "      }\n",
              "    </script>\n",
              "  </div>\n",
              "\n",
              "\n",
              "<div id=\"df-e7e71f55-0bdb-46fc-a5b5-f6e5b15d085d\">\n",
              "  <button class=\"colab-df-quickchart\" onclick=\"quickchart('df-e7e71f55-0bdb-46fc-a5b5-f6e5b15d085d')\"\n",
              "            title=\"Suggest charts\"\n",
              "            style=\"display:none;\">\n",
              "\n",
              "<svg xmlns=\"http://www.w3.org/2000/svg\" height=\"24px\"viewBox=\"0 0 24 24\"\n",
              "     width=\"24px\">\n",
              "    <g>\n",
              "        <path d=\"M19 3H5c-1.1 0-2 .9-2 2v14c0 1.1.9 2 2 2h14c1.1 0 2-.9 2-2V5c0-1.1-.9-2-2-2zM9 17H7v-7h2v7zm4 0h-2V7h2v10zm4 0h-2v-4h2v4z\"/>\n",
              "    </g>\n",
              "</svg>\n",
              "  </button>\n",
              "\n",
              "<style>\n",
              "  .colab-df-quickchart {\n",
              "      --bg-color: #E8F0FE;\n",
              "      --fill-color: #1967D2;\n",
              "      --hover-bg-color: #E2EBFA;\n",
              "      --hover-fill-color: #174EA6;\n",
              "      --disabled-fill-color: #AAA;\n",
              "      --disabled-bg-color: #DDD;\n",
              "  }\n",
              "\n",
              "  [theme=dark] .colab-df-quickchart {\n",
              "      --bg-color: #3B4455;\n",
              "      --fill-color: #D2E3FC;\n",
              "      --hover-bg-color: #434B5C;\n",
              "      --hover-fill-color: #FFFFFF;\n",
              "      --disabled-bg-color: #3B4455;\n",
              "      --disabled-fill-color: #666;\n",
              "  }\n",
              "\n",
              "  .colab-df-quickchart {\n",
              "    background-color: var(--bg-color);\n",
              "    border: none;\n",
              "    border-radius: 50%;\n",
              "    cursor: pointer;\n",
              "    display: none;\n",
              "    fill: var(--fill-color);\n",
              "    height: 32px;\n",
              "    padding: 0;\n",
              "    width: 32px;\n",
              "  }\n",
              "\n",
              "  .colab-df-quickchart:hover {\n",
              "    background-color: var(--hover-bg-color);\n",
              "    box-shadow: 0 1px 2px rgba(60, 64, 67, 0.3), 0 1px 3px 1px rgba(60, 64, 67, 0.15);\n",
              "    fill: var(--button-hover-fill-color);\n",
              "  }\n",
              "\n",
              "  .colab-df-quickchart-complete:disabled,\n",
              "  .colab-df-quickchart-complete:disabled:hover {\n",
              "    background-color: var(--disabled-bg-color);\n",
              "    fill: var(--disabled-fill-color);\n",
              "    box-shadow: none;\n",
              "  }\n",
              "\n",
              "  .colab-df-spinner {\n",
              "    border: 2px solid var(--fill-color);\n",
              "    border-color: transparent;\n",
              "    border-bottom-color: var(--fill-color);\n",
              "    animation:\n",
              "      spin 1s steps(1) infinite;\n",
              "  }\n",
              "\n",
              "  @keyframes spin {\n",
              "    0% {\n",
              "      border-color: transparent;\n",
              "      border-bottom-color: var(--fill-color);\n",
              "      border-left-color: var(--fill-color);\n",
              "    }\n",
              "    20% {\n",
              "      border-color: transparent;\n",
              "      border-left-color: var(--fill-color);\n",
              "      border-top-color: var(--fill-color);\n",
              "    }\n",
              "    30% {\n",
              "      border-color: transparent;\n",
              "      border-left-color: var(--fill-color);\n",
              "      border-top-color: var(--fill-color);\n",
              "      border-right-color: var(--fill-color);\n",
              "    }\n",
              "    40% {\n",
              "      border-color: transparent;\n",
              "      border-right-color: var(--fill-color);\n",
              "      border-top-color: var(--fill-color);\n",
              "    }\n",
              "    60% {\n",
              "      border-color: transparent;\n",
              "      border-right-color: var(--fill-color);\n",
              "    }\n",
              "    80% {\n",
              "      border-color: transparent;\n",
              "      border-right-color: var(--fill-color);\n",
              "      border-bottom-color: var(--fill-color);\n",
              "    }\n",
              "    90% {\n",
              "      border-color: transparent;\n",
              "      border-bottom-color: var(--fill-color);\n",
              "    }\n",
              "  }\n",
              "</style>\n",
              "\n",
              "  <script>\n",
              "    async function quickchart(key) {\n",
              "      const quickchartButtonEl =\n",
              "        document.querySelector('#' + key + ' button');\n",
              "      quickchartButtonEl.disabled = true;  // To prevent multiple clicks.\n",
              "      quickchartButtonEl.classList.add('colab-df-spinner');\n",
              "      try {\n",
              "        const charts = await google.colab.kernel.invokeFunction(\n",
              "            'suggestCharts', [key], {});\n",
              "      } catch (error) {\n",
              "        console.error('Error during call to suggestCharts:', error);\n",
              "      }\n",
              "      quickchartButtonEl.classList.remove('colab-df-spinner');\n",
              "      quickchartButtonEl.classList.add('colab-df-quickchart-complete');\n",
              "    }\n",
              "    (() => {\n",
              "      let quickchartButtonEl =\n",
              "        document.querySelector('#df-e7e71f55-0bdb-46fc-a5b5-f6e5b15d085d button');\n",
              "      quickchartButtonEl.style.display =\n",
              "        google.colab.kernel.accessAllowed ? 'block' : 'none';\n",
              "    })();\n",
              "  </script>\n",
              "</div>\n",
              "\n",
              "  <div id=\"id_9a9cfb37-5455-438f-b967-2a25f0c63162\">\n",
              "    <style>\n",
              "      .colab-df-generate {\n",
              "        background-color: #E8F0FE;\n",
              "        border: none;\n",
              "        border-radius: 50%;\n",
              "        cursor: pointer;\n",
              "        display: none;\n",
              "        fill: #1967D2;\n",
              "        height: 32px;\n",
              "        padding: 0 0 0 0;\n",
              "        width: 32px;\n",
              "      }\n",
              "\n",
              "      .colab-df-generate:hover {\n",
              "        background-color: #E2EBFA;\n",
              "        box-shadow: 0px 1px 2px rgba(60, 64, 67, 0.3), 0px 1px 3px 1px rgba(60, 64, 67, 0.15);\n",
              "        fill: #174EA6;\n",
              "      }\n",
              "\n",
              "      [theme=dark] .colab-df-generate {\n",
              "        background-color: #3B4455;\n",
              "        fill: #D2E3FC;\n",
              "      }\n",
              "\n",
              "      [theme=dark] .colab-df-generate:hover {\n",
              "        background-color: #434B5C;\n",
              "        box-shadow: 0px 1px 3px 1px rgba(0, 0, 0, 0.15);\n",
              "        filter: drop-shadow(0px 1px 2px rgba(0, 0, 0, 0.3));\n",
              "        fill: #FFFFFF;\n",
              "      }\n",
              "    </style>\n",
              "    <button class=\"colab-df-generate\" onclick=\"generateWithVariable('joined_notes')\"\n",
              "            title=\"Generate code using this dataframe.\"\n",
              "            style=\"display:none;\">\n",
              "\n",
              "  <svg xmlns=\"http://www.w3.org/2000/svg\" height=\"24px\"viewBox=\"0 0 24 24\"\n",
              "       width=\"24px\">\n",
              "    <path d=\"M7,19H8.4L18.45,9,17,7.55,7,17.6ZM5,21V16.75L18.45,3.32a2,2,0,0,1,2.83,0l1.4,1.43a1.91,1.91,0,0,1,.58,1.4,1.91,1.91,0,0,1-.58,1.4L9.25,21ZM18.45,9,17,7.55Zm-12,3A5.31,5.31,0,0,0,4.9,8.1,5.31,5.31,0,0,0,1,6.5,5.31,5.31,0,0,0,4.9,4.9,5.31,5.31,0,0,0,6.5,1,5.31,5.31,0,0,0,8.1,4.9,5.31,5.31,0,0,0,12,6.5,5.46,5.46,0,0,0,6.5,12Z\"/>\n",
              "  </svg>\n",
              "    </button>\n",
              "    <script>\n",
              "      (() => {\n",
              "      const buttonEl =\n",
              "        document.querySelector('#id_9a9cfb37-5455-438f-b967-2a25f0c63162 button.colab-df-generate');\n",
              "      buttonEl.style.display =\n",
              "        google.colab.kernel.accessAllowed ? 'block' : 'none';\n",
              "\n",
              "      buttonEl.onclick = () => {\n",
              "        google.colab.notebook.generateWithVariable('joined_notes');\n",
              "      }\n",
              "      })();\n",
              "    </script>\n",
              "  </div>\n",
              "\n",
              "    </div>\n",
              "  </div>\n"
            ],
            "application/vnd.google.colaboratory.intrinsic+json": {
              "type": "dataframe",
              "variable_name": "joined_notes",
              "summary": "{\n  \"name\": \"joined_notes\",\n  \"rows\": 5,\n  \"fields\": [\n    {\n      \"column\": \"mean\",\n      \"properties\": {\n        \"dtype\": \"number\",\n        \"std\": 54.60728512156086,\n        \"min\": 499.52039056711374,\n        \"max\": 637.432193827054,\n        \"num_unique_values\": 5,\n        \"samples\": [\n          526.8808497727595,\n          637.432193827054,\n          499.52039056711374\n        ],\n        \"semantic_type\": \"\",\n        \"description\": \"\"\n      }\n    },\n    {\n      \"column\": \"std\",\n      \"properties\": {\n        \"dtype\": \"number\",\n        \"std\": 13.941463450818496,\n        \"min\": 71.48805148415315,\n        \"max\": 106.95672324035075,\n        \"num_unique_values\": 5,\n        \"samples\": [\n          75.28034045007152,\n          106.95672324035075,\n          71.48805148415315\n        ],\n        \"semantic_type\": \"\",\n        \"description\": \"\"\n      }\n    },\n    {\n      \"column\": \"mean_mean\",\n      \"properties\": {\n        \"dtype\": \"number\",\n        \"std\": 54.78865388284855,\n        \"min\": 499.3155828489797,\n        \"max\": 637.7835320695872,\n        \"num_unique_values\": 5,\n        \"samples\": [\n          527.0422808644045,\n          637.7835320695872,\n          499.3155828489797\n        ],\n        \"semantic_type\": \"\",\n        \"description\": \"\"\n      }\n    },\n    {\n      \"column\": \"std_mean\",\n      \"properties\": {\n        \"dtype\": \"number\",\n        \"std\": 13.940627910661517,\n        \"min\": 71.48667654837126,\n        \"max\": 106.95317490305945,\n        \"num_unique_values\": 5,\n        \"samples\": [\n          75.2778064857662,\n          106.95317490305945,\n          71.48667654837126\n        ],\n        \"semantic_type\": \"\",\n        \"description\": \"\"\n      }\n    },\n    {\n      \"column\": \"mean_median\",\n      \"properties\": {\n        \"dtype\": \"number\",\n        \"std\": 54.60728512156086,\n        \"min\": 499.52039056711374,\n        \"max\": 637.432193827054,\n        \"num_unique_values\": 5,\n        \"samples\": [\n          526.8808497727595,\n          637.432193827054,\n          499.52039056711374\n        ],\n        \"semantic_type\": \"\",\n        \"description\": \"\"\n      }\n    },\n    {\n      \"column\": \"std_median\",\n      \"properties\": {\n        \"dtype\": \"number\",\n        \"std\": 13.941463450818496,\n        \"min\": 71.48805148415315,\n        \"max\": 106.95672324035075,\n        \"num_unique_values\": 5,\n        \"samples\": [\n          75.28034045007152,\n          106.95672324035075,\n          71.48805148415315\n        ],\n        \"semantic_type\": \"\",\n        \"description\": \"\"\n      }\n    },\n    {\n      \"column\": \"mean_mode\",\n      \"properties\": {\n        \"dtype\": \"number\",\n        \"std\": 54.802439198499066,\n        \"min\": 499.3155828489798,\n        \"max\": 637.8153809032665,\n        \"num_unique_values\": 5,\n        \"samples\": [\n          527.0422808644046,\n          637.8153809032665,\n          499.3155828489798\n        ],\n        \"semantic_type\": \"\",\n        \"description\": \"\"\n      }\n    },\n    {\n      \"column\": \"std_mode\",\n      \"properties\": {\n        \"dtype\": \"number\",\n        \"std\": 14.871249472333869,\n        \"min\": 77.81151916399475,\n        \"max\": 114.03861142520863,\n        \"num_unique_values\": 5,\n        \"samples\": [\n          77.81151916399475,\n          114.03861142520863,\n          78.76040369093829\n        ],\n        \"semantic_type\": \"\",\n        \"description\": \"\"\n      }\n    }\n  ]\n}"
            }
          },
          "metadata": {},
          "execution_count": 71
        }
      ]
    },
    {
      "cell_type": "markdown",
      "source": [
        "Ao criar um dataframe contendo as médias e desvio padrão de cada disciplina considerando os valores sendo substituídos pela média (mean), mediana (median) e moda (mode), para facilitar comparação."
      ],
      "metadata": {
        "id": "6Xq8tYD9zJ3q"
      }
    },
    {
      "cell_type": "code",
      "source": [
        "joined_notes.iloc[:, 0::2]\n",
        "#Para fim de comparação, a tabela apenas com as médias originais, com  a remoção e alteração dos outliers pela média, moda e mediana"
      ],
      "metadata": {
        "colab": {
          "base_uri": "https://localhost:8080/",
          "height": 206
        },
        "id": "axWug_XqzcWj",
        "outputId": "83c136d3-8b9f-4dc2-9354-a7352ce791cf"
      },
      "execution_count": 72,
      "outputs": [
        {
          "output_type": "execute_result",
          "data": {
            "text/plain": [
              "                            mean   mean_mean  mean_median   mean_mode\n",
              "Linguagens            514.578415  514.524809   514.578415  514.524809\n",
              "Ciências humanas      526.880850  527.042281   526.880850  527.042281\n",
              "Ciências da natureza  499.520391  499.315583   499.520391  499.315583\n",
              "Matemática            535.759100  535.965660   535.759100  535.965660\n",
              "Redação               637.432194  637.783532   637.432194  637.815381"
            ],
            "text/html": [
              "\n",
              "  <div id=\"df-c164051a-7d87-47b7-b882-50587e173fac\" class=\"colab-df-container\">\n",
              "    <div>\n",
              "<style scoped>\n",
              "    .dataframe tbody tr th:only-of-type {\n",
              "        vertical-align: middle;\n",
              "    }\n",
              "\n",
              "    .dataframe tbody tr th {\n",
              "        vertical-align: top;\n",
              "    }\n",
              "\n",
              "    .dataframe thead th {\n",
              "        text-align: right;\n",
              "    }\n",
              "</style>\n",
              "<table border=\"1\" class=\"dataframe\">\n",
              "  <thead>\n",
              "    <tr style=\"text-align: right;\">\n",
              "      <th></th>\n",
              "      <th>mean</th>\n",
              "      <th>mean_mean</th>\n",
              "      <th>mean_median</th>\n",
              "      <th>mean_mode</th>\n",
              "    </tr>\n",
              "  </thead>\n",
              "  <tbody>\n",
              "    <tr>\n",
              "      <th>Linguagens</th>\n",
              "      <td>514.578415</td>\n",
              "      <td>514.524809</td>\n",
              "      <td>514.578415</td>\n",
              "      <td>514.524809</td>\n",
              "    </tr>\n",
              "    <tr>\n",
              "      <th>Ciências humanas</th>\n",
              "      <td>526.880850</td>\n",
              "      <td>527.042281</td>\n",
              "      <td>526.880850</td>\n",
              "      <td>527.042281</td>\n",
              "    </tr>\n",
              "    <tr>\n",
              "      <th>Ciências da natureza</th>\n",
              "      <td>499.520391</td>\n",
              "      <td>499.315583</td>\n",
              "      <td>499.520391</td>\n",
              "      <td>499.315583</td>\n",
              "    </tr>\n",
              "    <tr>\n",
              "      <th>Matemática</th>\n",
              "      <td>535.759100</td>\n",
              "      <td>535.965660</td>\n",
              "      <td>535.759100</td>\n",
              "      <td>535.965660</td>\n",
              "    </tr>\n",
              "    <tr>\n",
              "      <th>Redação</th>\n",
              "      <td>637.432194</td>\n",
              "      <td>637.783532</td>\n",
              "      <td>637.432194</td>\n",
              "      <td>637.815381</td>\n",
              "    </tr>\n",
              "  </tbody>\n",
              "</table>\n",
              "</div>\n",
              "    <div class=\"colab-df-buttons\">\n",
              "\n",
              "  <div class=\"colab-df-container\">\n",
              "    <button class=\"colab-df-convert\" onclick=\"convertToInteractive('df-c164051a-7d87-47b7-b882-50587e173fac')\"\n",
              "            title=\"Convert this dataframe to an interactive table.\"\n",
              "            style=\"display:none;\">\n",
              "\n",
              "  <svg xmlns=\"http://www.w3.org/2000/svg\" height=\"24px\" viewBox=\"0 -960 960 960\">\n",
              "    <path d=\"M120-120v-720h720v720H120Zm60-500h600v-160H180v160Zm220 220h160v-160H400v160Zm0 220h160v-160H400v160ZM180-400h160v-160H180v160Zm440 0h160v-160H620v160ZM180-180h160v-160H180v160Zm440 0h160v-160H620v160Z\"/>\n",
              "  </svg>\n",
              "    </button>\n",
              "\n",
              "  <style>\n",
              "    .colab-df-container {\n",
              "      display:flex;\n",
              "      gap: 12px;\n",
              "    }\n",
              "\n",
              "    .colab-df-convert {\n",
              "      background-color: #E8F0FE;\n",
              "      border: none;\n",
              "      border-radius: 50%;\n",
              "      cursor: pointer;\n",
              "      display: none;\n",
              "      fill: #1967D2;\n",
              "      height: 32px;\n",
              "      padding: 0 0 0 0;\n",
              "      width: 32px;\n",
              "    }\n",
              "\n",
              "    .colab-df-convert:hover {\n",
              "      background-color: #E2EBFA;\n",
              "      box-shadow: 0px 1px 2px rgba(60, 64, 67, 0.3), 0px 1px 3px 1px rgba(60, 64, 67, 0.15);\n",
              "      fill: #174EA6;\n",
              "    }\n",
              "\n",
              "    .colab-df-buttons div {\n",
              "      margin-bottom: 4px;\n",
              "    }\n",
              "\n",
              "    [theme=dark] .colab-df-convert {\n",
              "      background-color: #3B4455;\n",
              "      fill: #D2E3FC;\n",
              "    }\n",
              "\n",
              "    [theme=dark] .colab-df-convert:hover {\n",
              "      background-color: #434B5C;\n",
              "      box-shadow: 0px 1px 3px 1px rgba(0, 0, 0, 0.15);\n",
              "      filter: drop-shadow(0px 1px 2px rgba(0, 0, 0, 0.3));\n",
              "      fill: #FFFFFF;\n",
              "    }\n",
              "  </style>\n",
              "\n",
              "    <script>\n",
              "      const buttonEl =\n",
              "        document.querySelector('#df-c164051a-7d87-47b7-b882-50587e173fac button.colab-df-convert');\n",
              "      buttonEl.style.display =\n",
              "        google.colab.kernel.accessAllowed ? 'block' : 'none';\n",
              "\n",
              "      async function convertToInteractive(key) {\n",
              "        const element = document.querySelector('#df-c164051a-7d87-47b7-b882-50587e173fac');\n",
              "        const dataTable =\n",
              "          await google.colab.kernel.invokeFunction('convertToInteractive',\n",
              "                                                    [key], {});\n",
              "        if (!dataTable) return;\n",
              "\n",
              "        const docLinkHtml = 'Like what you see? Visit the ' +\n",
              "          '<a target=\"_blank\" href=https://colab.research.google.com/notebooks/data_table.ipynb>data table notebook</a>'\n",
              "          + ' to learn more about interactive tables.';\n",
              "        element.innerHTML = '';\n",
              "        dataTable['output_type'] = 'display_data';\n",
              "        await google.colab.output.renderOutput(dataTable, element);\n",
              "        const docLink = document.createElement('div');\n",
              "        docLink.innerHTML = docLinkHtml;\n",
              "        element.appendChild(docLink);\n",
              "      }\n",
              "    </script>\n",
              "  </div>\n",
              "\n",
              "\n",
              "<div id=\"df-5bcc65c0-ab03-4d75-9a47-2417e4b4457c\">\n",
              "  <button class=\"colab-df-quickchart\" onclick=\"quickchart('df-5bcc65c0-ab03-4d75-9a47-2417e4b4457c')\"\n",
              "            title=\"Suggest charts\"\n",
              "            style=\"display:none;\">\n",
              "\n",
              "<svg xmlns=\"http://www.w3.org/2000/svg\" height=\"24px\"viewBox=\"0 0 24 24\"\n",
              "     width=\"24px\">\n",
              "    <g>\n",
              "        <path d=\"M19 3H5c-1.1 0-2 .9-2 2v14c0 1.1.9 2 2 2h14c1.1 0 2-.9 2-2V5c0-1.1-.9-2-2-2zM9 17H7v-7h2v7zm4 0h-2V7h2v10zm4 0h-2v-4h2v4z\"/>\n",
              "    </g>\n",
              "</svg>\n",
              "  </button>\n",
              "\n",
              "<style>\n",
              "  .colab-df-quickchart {\n",
              "      --bg-color: #E8F0FE;\n",
              "      --fill-color: #1967D2;\n",
              "      --hover-bg-color: #E2EBFA;\n",
              "      --hover-fill-color: #174EA6;\n",
              "      --disabled-fill-color: #AAA;\n",
              "      --disabled-bg-color: #DDD;\n",
              "  }\n",
              "\n",
              "  [theme=dark] .colab-df-quickchart {\n",
              "      --bg-color: #3B4455;\n",
              "      --fill-color: #D2E3FC;\n",
              "      --hover-bg-color: #434B5C;\n",
              "      --hover-fill-color: #FFFFFF;\n",
              "      --disabled-bg-color: #3B4455;\n",
              "      --disabled-fill-color: #666;\n",
              "  }\n",
              "\n",
              "  .colab-df-quickchart {\n",
              "    background-color: var(--bg-color);\n",
              "    border: none;\n",
              "    border-radius: 50%;\n",
              "    cursor: pointer;\n",
              "    display: none;\n",
              "    fill: var(--fill-color);\n",
              "    height: 32px;\n",
              "    padding: 0;\n",
              "    width: 32px;\n",
              "  }\n",
              "\n",
              "  .colab-df-quickchart:hover {\n",
              "    background-color: var(--hover-bg-color);\n",
              "    box-shadow: 0 1px 2px rgba(60, 64, 67, 0.3), 0 1px 3px 1px rgba(60, 64, 67, 0.15);\n",
              "    fill: var(--button-hover-fill-color);\n",
              "  }\n",
              "\n",
              "  .colab-df-quickchart-complete:disabled,\n",
              "  .colab-df-quickchart-complete:disabled:hover {\n",
              "    background-color: var(--disabled-bg-color);\n",
              "    fill: var(--disabled-fill-color);\n",
              "    box-shadow: none;\n",
              "  }\n",
              "\n",
              "  .colab-df-spinner {\n",
              "    border: 2px solid var(--fill-color);\n",
              "    border-color: transparent;\n",
              "    border-bottom-color: var(--fill-color);\n",
              "    animation:\n",
              "      spin 1s steps(1) infinite;\n",
              "  }\n",
              "\n",
              "  @keyframes spin {\n",
              "    0% {\n",
              "      border-color: transparent;\n",
              "      border-bottom-color: var(--fill-color);\n",
              "      border-left-color: var(--fill-color);\n",
              "    }\n",
              "    20% {\n",
              "      border-color: transparent;\n",
              "      border-left-color: var(--fill-color);\n",
              "      border-top-color: var(--fill-color);\n",
              "    }\n",
              "    30% {\n",
              "      border-color: transparent;\n",
              "      border-left-color: var(--fill-color);\n",
              "      border-top-color: var(--fill-color);\n",
              "      border-right-color: var(--fill-color);\n",
              "    }\n",
              "    40% {\n",
              "      border-color: transparent;\n",
              "      border-right-color: var(--fill-color);\n",
              "      border-top-color: var(--fill-color);\n",
              "    }\n",
              "    60% {\n",
              "      border-color: transparent;\n",
              "      border-right-color: var(--fill-color);\n",
              "    }\n",
              "    80% {\n",
              "      border-color: transparent;\n",
              "      border-right-color: var(--fill-color);\n",
              "      border-bottom-color: var(--fill-color);\n",
              "    }\n",
              "    90% {\n",
              "      border-color: transparent;\n",
              "      border-bottom-color: var(--fill-color);\n",
              "    }\n",
              "  }\n",
              "</style>\n",
              "\n",
              "  <script>\n",
              "    async function quickchart(key) {\n",
              "      const quickchartButtonEl =\n",
              "        document.querySelector('#' + key + ' button');\n",
              "      quickchartButtonEl.disabled = true;  // To prevent multiple clicks.\n",
              "      quickchartButtonEl.classList.add('colab-df-spinner');\n",
              "      try {\n",
              "        const charts = await google.colab.kernel.invokeFunction(\n",
              "            'suggestCharts', [key], {});\n",
              "      } catch (error) {\n",
              "        console.error('Error during call to suggestCharts:', error);\n",
              "      }\n",
              "      quickchartButtonEl.classList.remove('colab-df-spinner');\n",
              "      quickchartButtonEl.classList.add('colab-df-quickchart-complete');\n",
              "    }\n",
              "    (() => {\n",
              "      let quickchartButtonEl =\n",
              "        document.querySelector('#df-5bcc65c0-ab03-4d75-9a47-2417e4b4457c button');\n",
              "      quickchartButtonEl.style.display =\n",
              "        google.colab.kernel.accessAllowed ? 'block' : 'none';\n",
              "    })();\n",
              "  </script>\n",
              "</div>\n",
              "\n",
              "    </div>\n",
              "  </div>\n"
            ],
            "application/vnd.google.colaboratory.intrinsic+json": {
              "type": "dataframe",
              "summary": "{\n  \"name\": \"joined_notes\",\n  \"rows\": 5,\n  \"fields\": [\n    {\n      \"column\": \"mean\",\n      \"properties\": {\n        \"dtype\": \"number\",\n        \"std\": 54.60728512156086,\n        \"min\": 499.52039056711374,\n        \"max\": 637.432193827054,\n        \"num_unique_values\": 5,\n        \"samples\": [\n          526.8808497727595,\n          637.432193827054,\n          499.52039056711374\n        ],\n        \"semantic_type\": \"\",\n        \"description\": \"\"\n      }\n    },\n    {\n      \"column\": \"mean_mean\",\n      \"properties\": {\n        \"dtype\": \"number\",\n        \"std\": 54.78865388284855,\n        \"min\": 499.3155828489797,\n        \"max\": 637.7835320695872,\n        \"num_unique_values\": 5,\n        \"samples\": [\n          527.0422808644045,\n          637.7835320695872,\n          499.3155828489797\n        ],\n        \"semantic_type\": \"\",\n        \"description\": \"\"\n      }\n    },\n    {\n      \"column\": \"mean_median\",\n      \"properties\": {\n        \"dtype\": \"number\",\n        \"std\": 54.60728512156086,\n        \"min\": 499.52039056711374,\n        \"max\": 637.432193827054,\n        \"num_unique_values\": 5,\n        \"samples\": [\n          526.8808497727595,\n          637.432193827054,\n          499.52039056711374\n        ],\n        \"semantic_type\": \"\",\n        \"description\": \"\"\n      }\n    },\n    {\n      \"column\": \"mean_mode\",\n      \"properties\": {\n        \"dtype\": \"number\",\n        \"std\": 54.802439198499066,\n        \"min\": 499.3155828489798,\n        \"max\": 637.8153809032665,\n        \"num_unique_values\": 5,\n        \"samples\": [\n          527.0422808644046,\n          637.8153809032665,\n          499.3155828489798\n        ],\n        \"semantic_type\": \"\",\n        \"description\": \"\"\n      }\n    }\n  ]\n}"
            }
          },
          "metadata": {},
          "execution_count": 72
        }
      ]
    },
    {
      "cell_type": "markdown",
      "source": [
        "Percebe-se,  em relação a média, que as três alterações não resultaram em mudança significativa (menos de 5%)"
      ],
      "metadata": {
        "id": "KgtM69zj0c8P"
      }
    },
    {
      "cell_type": "code",
      "source": [
        "joined_notes.iloc[:, 1::2]\n",
        "#Para fim de comparação, a tabela apenas com os desvios padrões originais, com a remoção e alteração dos outliers pela média, moda e mediana"
      ],
      "metadata": {
        "colab": {
          "base_uri": "https://localhost:8080/",
          "height": 206
        },
        "id": "_b7Xl7jQzb9Q",
        "outputId": "820e035a-c4fe-4386-cef9-e509bd3a9c8e"
      },
      "execution_count": 73,
      "outputs": [
        {
          "output_type": "execute_result",
          "data": {
            "text/plain": [
              "                             std    std_mean  std_median    std_mode\n",
              "Linguagens             79.560876   79.560718   79.560876   84.009313\n",
              "Ciências humanas       75.280340   75.277806   75.280340   77.811519\n",
              "Ciências da natureza   71.488051   71.486677   71.488051   78.760404\n",
              "Matemática             83.290104   83.286987   83.290104   86.648100\n",
              "Redação               106.956723  106.953175  106.956723  114.038611"
            ],
            "text/html": [
              "\n",
              "  <div id=\"df-6412338c-18f3-417a-835b-7ede5cceba8a\" class=\"colab-df-container\">\n",
              "    <div>\n",
              "<style scoped>\n",
              "    .dataframe tbody tr th:only-of-type {\n",
              "        vertical-align: middle;\n",
              "    }\n",
              "\n",
              "    .dataframe tbody tr th {\n",
              "        vertical-align: top;\n",
              "    }\n",
              "\n",
              "    .dataframe thead th {\n",
              "        text-align: right;\n",
              "    }\n",
              "</style>\n",
              "<table border=\"1\" class=\"dataframe\">\n",
              "  <thead>\n",
              "    <tr style=\"text-align: right;\">\n",
              "      <th></th>\n",
              "      <th>std</th>\n",
              "      <th>std_mean</th>\n",
              "      <th>std_median</th>\n",
              "      <th>std_mode</th>\n",
              "    </tr>\n",
              "  </thead>\n",
              "  <tbody>\n",
              "    <tr>\n",
              "      <th>Linguagens</th>\n",
              "      <td>79.560876</td>\n",
              "      <td>79.560718</td>\n",
              "      <td>79.560876</td>\n",
              "      <td>84.009313</td>\n",
              "    </tr>\n",
              "    <tr>\n",
              "      <th>Ciências humanas</th>\n",
              "      <td>75.280340</td>\n",
              "      <td>75.277806</td>\n",
              "      <td>75.280340</td>\n",
              "      <td>77.811519</td>\n",
              "    </tr>\n",
              "    <tr>\n",
              "      <th>Ciências da natureza</th>\n",
              "      <td>71.488051</td>\n",
              "      <td>71.486677</td>\n",
              "      <td>71.488051</td>\n",
              "      <td>78.760404</td>\n",
              "    </tr>\n",
              "    <tr>\n",
              "      <th>Matemática</th>\n",
              "      <td>83.290104</td>\n",
              "      <td>83.286987</td>\n",
              "      <td>83.290104</td>\n",
              "      <td>86.648100</td>\n",
              "    </tr>\n",
              "    <tr>\n",
              "      <th>Redação</th>\n",
              "      <td>106.956723</td>\n",
              "      <td>106.953175</td>\n",
              "      <td>106.956723</td>\n",
              "      <td>114.038611</td>\n",
              "    </tr>\n",
              "  </tbody>\n",
              "</table>\n",
              "</div>\n",
              "    <div class=\"colab-df-buttons\">\n",
              "\n",
              "  <div class=\"colab-df-container\">\n",
              "    <button class=\"colab-df-convert\" onclick=\"convertToInteractive('df-6412338c-18f3-417a-835b-7ede5cceba8a')\"\n",
              "            title=\"Convert this dataframe to an interactive table.\"\n",
              "            style=\"display:none;\">\n",
              "\n",
              "  <svg xmlns=\"http://www.w3.org/2000/svg\" height=\"24px\" viewBox=\"0 -960 960 960\">\n",
              "    <path d=\"M120-120v-720h720v720H120Zm60-500h600v-160H180v160Zm220 220h160v-160H400v160Zm0 220h160v-160H400v160ZM180-400h160v-160H180v160Zm440 0h160v-160H620v160ZM180-180h160v-160H180v160Zm440 0h160v-160H620v160Z\"/>\n",
              "  </svg>\n",
              "    </button>\n",
              "\n",
              "  <style>\n",
              "    .colab-df-container {\n",
              "      display:flex;\n",
              "      gap: 12px;\n",
              "    }\n",
              "\n",
              "    .colab-df-convert {\n",
              "      background-color: #E8F0FE;\n",
              "      border: none;\n",
              "      border-radius: 50%;\n",
              "      cursor: pointer;\n",
              "      display: none;\n",
              "      fill: #1967D2;\n",
              "      height: 32px;\n",
              "      padding: 0 0 0 0;\n",
              "      width: 32px;\n",
              "    }\n",
              "\n",
              "    .colab-df-convert:hover {\n",
              "      background-color: #E2EBFA;\n",
              "      box-shadow: 0px 1px 2px rgba(60, 64, 67, 0.3), 0px 1px 3px 1px rgba(60, 64, 67, 0.15);\n",
              "      fill: #174EA6;\n",
              "    }\n",
              "\n",
              "    .colab-df-buttons div {\n",
              "      margin-bottom: 4px;\n",
              "    }\n",
              "\n",
              "    [theme=dark] .colab-df-convert {\n",
              "      background-color: #3B4455;\n",
              "      fill: #D2E3FC;\n",
              "    }\n",
              "\n",
              "    [theme=dark] .colab-df-convert:hover {\n",
              "      background-color: #434B5C;\n",
              "      box-shadow: 0px 1px 3px 1px rgba(0, 0, 0, 0.15);\n",
              "      filter: drop-shadow(0px 1px 2px rgba(0, 0, 0, 0.3));\n",
              "      fill: #FFFFFF;\n",
              "    }\n",
              "  </style>\n",
              "\n",
              "    <script>\n",
              "      const buttonEl =\n",
              "        document.querySelector('#df-6412338c-18f3-417a-835b-7ede5cceba8a button.colab-df-convert');\n",
              "      buttonEl.style.display =\n",
              "        google.colab.kernel.accessAllowed ? 'block' : 'none';\n",
              "\n",
              "      async function convertToInteractive(key) {\n",
              "        const element = document.querySelector('#df-6412338c-18f3-417a-835b-7ede5cceba8a');\n",
              "        const dataTable =\n",
              "          await google.colab.kernel.invokeFunction('convertToInteractive',\n",
              "                                                    [key], {});\n",
              "        if (!dataTable) return;\n",
              "\n",
              "        const docLinkHtml = 'Like what you see? Visit the ' +\n",
              "          '<a target=\"_blank\" href=https://colab.research.google.com/notebooks/data_table.ipynb>data table notebook</a>'\n",
              "          + ' to learn more about interactive tables.';\n",
              "        element.innerHTML = '';\n",
              "        dataTable['output_type'] = 'display_data';\n",
              "        await google.colab.output.renderOutput(dataTable, element);\n",
              "        const docLink = document.createElement('div');\n",
              "        docLink.innerHTML = docLinkHtml;\n",
              "        element.appendChild(docLink);\n",
              "      }\n",
              "    </script>\n",
              "  </div>\n",
              "\n",
              "\n",
              "<div id=\"df-173b452f-f785-4bce-9bd1-d763416eba0c\">\n",
              "  <button class=\"colab-df-quickchart\" onclick=\"quickchart('df-173b452f-f785-4bce-9bd1-d763416eba0c')\"\n",
              "            title=\"Suggest charts\"\n",
              "            style=\"display:none;\">\n",
              "\n",
              "<svg xmlns=\"http://www.w3.org/2000/svg\" height=\"24px\"viewBox=\"0 0 24 24\"\n",
              "     width=\"24px\">\n",
              "    <g>\n",
              "        <path d=\"M19 3H5c-1.1 0-2 .9-2 2v14c0 1.1.9 2 2 2h14c1.1 0 2-.9 2-2V5c0-1.1-.9-2-2-2zM9 17H7v-7h2v7zm4 0h-2V7h2v10zm4 0h-2v-4h2v4z\"/>\n",
              "    </g>\n",
              "</svg>\n",
              "  </button>\n",
              "\n",
              "<style>\n",
              "  .colab-df-quickchart {\n",
              "      --bg-color: #E8F0FE;\n",
              "      --fill-color: #1967D2;\n",
              "      --hover-bg-color: #E2EBFA;\n",
              "      --hover-fill-color: #174EA6;\n",
              "      --disabled-fill-color: #AAA;\n",
              "      --disabled-bg-color: #DDD;\n",
              "  }\n",
              "\n",
              "  [theme=dark] .colab-df-quickchart {\n",
              "      --bg-color: #3B4455;\n",
              "      --fill-color: #D2E3FC;\n",
              "      --hover-bg-color: #434B5C;\n",
              "      --hover-fill-color: #FFFFFF;\n",
              "      --disabled-bg-color: #3B4455;\n",
              "      --disabled-fill-color: #666;\n",
              "  }\n",
              "\n",
              "  .colab-df-quickchart {\n",
              "    background-color: var(--bg-color);\n",
              "    border: none;\n",
              "    border-radius: 50%;\n",
              "    cursor: pointer;\n",
              "    display: none;\n",
              "    fill: var(--fill-color);\n",
              "    height: 32px;\n",
              "    padding: 0;\n",
              "    width: 32px;\n",
              "  }\n",
              "\n",
              "  .colab-df-quickchart:hover {\n",
              "    background-color: var(--hover-bg-color);\n",
              "    box-shadow: 0 1px 2px rgba(60, 64, 67, 0.3), 0 1px 3px 1px rgba(60, 64, 67, 0.15);\n",
              "    fill: var(--button-hover-fill-color);\n",
              "  }\n",
              "\n",
              "  .colab-df-quickchart-complete:disabled,\n",
              "  .colab-df-quickchart-complete:disabled:hover {\n",
              "    background-color: var(--disabled-bg-color);\n",
              "    fill: var(--disabled-fill-color);\n",
              "    box-shadow: none;\n",
              "  }\n",
              "\n",
              "  .colab-df-spinner {\n",
              "    border: 2px solid var(--fill-color);\n",
              "    border-color: transparent;\n",
              "    border-bottom-color: var(--fill-color);\n",
              "    animation:\n",
              "      spin 1s steps(1) infinite;\n",
              "  }\n",
              "\n",
              "  @keyframes spin {\n",
              "    0% {\n",
              "      border-color: transparent;\n",
              "      border-bottom-color: var(--fill-color);\n",
              "      border-left-color: var(--fill-color);\n",
              "    }\n",
              "    20% {\n",
              "      border-color: transparent;\n",
              "      border-left-color: var(--fill-color);\n",
              "      border-top-color: var(--fill-color);\n",
              "    }\n",
              "    30% {\n",
              "      border-color: transparent;\n",
              "      border-left-color: var(--fill-color);\n",
              "      border-top-color: var(--fill-color);\n",
              "      border-right-color: var(--fill-color);\n",
              "    }\n",
              "    40% {\n",
              "      border-color: transparent;\n",
              "      border-right-color: var(--fill-color);\n",
              "      border-top-color: var(--fill-color);\n",
              "    }\n",
              "    60% {\n",
              "      border-color: transparent;\n",
              "      border-right-color: var(--fill-color);\n",
              "    }\n",
              "    80% {\n",
              "      border-color: transparent;\n",
              "      border-right-color: var(--fill-color);\n",
              "      border-bottom-color: var(--fill-color);\n",
              "    }\n",
              "    90% {\n",
              "      border-color: transparent;\n",
              "      border-bottom-color: var(--fill-color);\n",
              "    }\n",
              "  }\n",
              "</style>\n",
              "\n",
              "  <script>\n",
              "    async function quickchart(key) {\n",
              "      const quickchartButtonEl =\n",
              "        document.querySelector('#' + key + ' button');\n",
              "      quickchartButtonEl.disabled = true;  // To prevent multiple clicks.\n",
              "      quickchartButtonEl.classList.add('colab-df-spinner');\n",
              "      try {\n",
              "        const charts = await google.colab.kernel.invokeFunction(\n",
              "            'suggestCharts', [key], {});\n",
              "      } catch (error) {\n",
              "        console.error('Error during call to suggestCharts:', error);\n",
              "      }\n",
              "      quickchartButtonEl.classList.remove('colab-df-spinner');\n",
              "      quickchartButtonEl.classList.add('colab-df-quickchart-complete');\n",
              "    }\n",
              "    (() => {\n",
              "      let quickchartButtonEl =\n",
              "        document.querySelector('#df-173b452f-f785-4bce-9bd1-d763416eba0c button');\n",
              "      quickchartButtonEl.style.display =\n",
              "        google.colab.kernel.accessAllowed ? 'block' : 'none';\n",
              "    })();\n",
              "  </script>\n",
              "</div>\n",
              "\n",
              "    </div>\n",
              "  </div>\n"
            ],
            "application/vnd.google.colaboratory.intrinsic+json": {
              "type": "dataframe",
              "summary": "{\n  \"name\": \"#Para fim de compara\\u00e7\\u00e3o, a tabela apenas com os desvios padr\\u00f5es originais, com a remo\\u00e7\\u00e3o e altera\\u00e7\\u00e3o dos outliers pela m\\u00e9dia, moda e mediana\",\n  \"rows\": 5,\n  \"fields\": [\n    {\n      \"column\": \"std\",\n      \"properties\": {\n        \"dtype\": \"number\",\n        \"std\": 13.941463450818496,\n        \"min\": 71.48805148415315,\n        \"max\": 106.95672324035075,\n        \"num_unique_values\": 5,\n        \"samples\": [\n          75.28034045007152,\n          106.95672324035075,\n          71.48805148415315\n        ],\n        \"semantic_type\": \"\",\n        \"description\": \"\"\n      }\n    },\n    {\n      \"column\": \"std_mean\",\n      \"properties\": {\n        \"dtype\": \"number\",\n        \"std\": 13.940627910661517,\n        \"min\": 71.48667654837126,\n        \"max\": 106.95317490305945,\n        \"num_unique_values\": 5,\n        \"samples\": [\n          75.2778064857662,\n          106.95317490305945,\n          71.48667654837126\n        ],\n        \"semantic_type\": \"\",\n        \"description\": \"\"\n      }\n    },\n    {\n      \"column\": \"std_median\",\n      \"properties\": {\n        \"dtype\": \"number\",\n        \"std\": 13.941463450818496,\n        \"min\": 71.48805148415315,\n        \"max\": 106.95672324035075,\n        \"num_unique_values\": 5,\n        \"samples\": [\n          75.28034045007152,\n          106.95672324035075,\n          71.48805148415315\n        ],\n        \"semantic_type\": \"\",\n        \"description\": \"\"\n      }\n    },\n    {\n      \"column\": \"std_mode\",\n      \"properties\": {\n        \"dtype\": \"number\",\n        \"std\": 14.871249472333869,\n        \"min\": 77.81151916399475,\n        \"max\": 114.03861142520863,\n        \"num_unique_values\": 5,\n        \"samples\": [\n          77.81151916399475,\n          114.03861142520863,\n          78.76040369093829\n        ],\n        \"semantic_type\": \"\",\n        \"description\": \"\"\n      }\n    }\n  ]\n}"
            }
          },
          "metadata": {},
          "execution_count": 73
        }
      ]
    },
    {
      "cell_type": "markdown",
      "source": [
        "Percebe-se que, avaliando as tabelas, que a moda elevou o desvio padrão, enquanto a mediana e a média não interferiram tanto."
      ],
      "metadata": {
        "id": "1wn0fu2q0THZ"
      }
    }
  ]
}