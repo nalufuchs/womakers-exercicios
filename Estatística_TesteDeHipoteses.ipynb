{
  "cells": [
    {
      "metadata": {
        "id": "f5748477d088bdb2"
      },
      "cell_type": "markdown",
      "source": [
        "# Estatística - Teste de Hipóteses\n",
        "\n",
        "\n",
        "> Nome aluna: ANA LUISA FUCHS DA SILVEIRA\n",
        "\n"
      ],
      "id": "f5748477d088bdb2"
    },
    {
      "metadata": {
        "ExecuteTime": {
          "end_time": "2024-04-15T17:04:18.667911Z",
          "start_time": "2024-04-15T17:04:18.659822Z"
        },
        "id": "initial_id"
      },
      "cell_type": "code",
      "source": [
        "import pandas as pd\n",
        "import numpy as np\n",
        "import matplotlib.pyplot as plt\n",
        "import seaborn as sns\n",
        "import scipy.stats as stats"
      ],
      "id": "initial_id",
      "outputs": [],
      "execution_count": null
    },
    {
      "metadata": {
        "id": "5ede142c7382acc7"
      },
      "cell_type": "markdown",
      "source": [
        "## Considerando a base de dados experimento_test_ab.csv responda as questões abaixo:"
      ],
      "id": "5ede142c7382acc7"
    },
    {
      "metadata": {
        "id": "5a8db16d769075e"
      },
      "cell_type": "markdown",
      "source": [
        "### 1. Qual dos cenários tem a maior taxa de conversão?"
      ],
      "id": "5a8db16d769075e"
    },
    {
      "metadata": {
        "id": "e72b3e246e0059d1"
      },
      "cell_type": "markdown",
      "source": [
        "Taxa de conversão = conversão / visualização"
      ],
      "id": "e72b3e246e0059d1"
    },
    {
      "metadata": {
        "ExecuteTime": {
          "end_time": "2024-04-15T17:05:47.144357Z",
          "start_time": "2024-04-15T17:05:47.093626Z"
        },
        "id": "16070e1d28430d39"
      },
      "cell_type": "code",
      "source": [
        "df_ab = pd.read_csv('experimento_teste_ab.csv')"
      ],
      "id": "16070e1d28430d39",
      "outputs": [],
      "execution_count": null
    },
    {
      "metadata": {
        "ExecuteTime": {
          "end_time": "2024-04-15T17:55:42.426333Z",
          "start_time": "2024-04-15T17:55:42.333050Z"
        },
        "colab": {
          "base_uri": "https://localhost:8080/",
          "height": 206
        },
        "id": "5a63c4eb6feff328",
        "outputId": "417d3fc7-9a9d-42de-e584-224c055d08e7"
      },
      "cell_type": "code",
      "source": [
        "df_ab.head(5)"
      ],
      "id": "5a63c4eb6feff328",
      "outputs": [
        {
          "output_type": "execute_result",
          "data": {
            "text/plain": [
              "   Visitante_ID Versão_Página  Visualizações  Conversões\n",
              "0             1             A            167           1\n",
              "1             2             A            160           0\n",
              "2             3             A            170           0\n",
              "3             4             A            161           1\n",
              "4             5             A            104           0"
            ],
            "text/html": [
              "\n",
              "  <div id=\"df-e084868a-d62b-443a-b154-7bd102bd9bcd\" class=\"colab-df-container\">\n",
              "    <div>\n",
              "<style scoped>\n",
              "    .dataframe tbody tr th:only-of-type {\n",
              "        vertical-align: middle;\n",
              "    }\n",
              "\n",
              "    .dataframe tbody tr th {\n",
              "        vertical-align: top;\n",
              "    }\n",
              "\n",
              "    .dataframe thead th {\n",
              "        text-align: right;\n",
              "    }\n",
              "</style>\n",
              "<table border=\"1\" class=\"dataframe\">\n",
              "  <thead>\n",
              "    <tr style=\"text-align: right;\">\n",
              "      <th></th>\n",
              "      <th>Visitante_ID</th>\n",
              "      <th>Versão_Página</th>\n",
              "      <th>Visualizações</th>\n",
              "      <th>Conversões</th>\n",
              "    </tr>\n",
              "  </thead>\n",
              "  <tbody>\n",
              "    <tr>\n",
              "      <th>0</th>\n",
              "      <td>1</td>\n",
              "      <td>A</td>\n",
              "      <td>167</td>\n",
              "      <td>1</td>\n",
              "    </tr>\n",
              "    <tr>\n",
              "      <th>1</th>\n",
              "      <td>2</td>\n",
              "      <td>A</td>\n",
              "      <td>160</td>\n",
              "      <td>0</td>\n",
              "    </tr>\n",
              "    <tr>\n",
              "      <th>2</th>\n",
              "      <td>3</td>\n",
              "      <td>A</td>\n",
              "      <td>170</td>\n",
              "      <td>0</td>\n",
              "    </tr>\n",
              "    <tr>\n",
              "      <th>3</th>\n",
              "      <td>4</td>\n",
              "      <td>A</td>\n",
              "      <td>161</td>\n",
              "      <td>1</td>\n",
              "    </tr>\n",
              "    <tr>\n",
              "      <th>4</th>\n",
              "      <td>5</td>\n",
              "      <td>A</td>\n",
              "      <td>104</td>\n",
              "      <td>0</td>\n",
              "    </tr>\n",
              "  </tbody>\n",
              "</table>\n",
              "</div>\n",
              "    <div class=\"colab-df-buttons\">\n",
              "\n",
              "  <div class=\"colab-df-container\">\n",
              "    <button class=\"colab-df-convert\" onclick=\"convertToInteractive('df-e084868a-d62b-443a-b154-7bd102bd9bcd')\"\n",
              "            title=\"Convert this dataframe to an interactive table.\"\n",
              "            style=\"display:none;\">\n",
              "\n",
              "  <svg xmlns=\"http://www.w3.org/2000/svg\" height=\"24px\" viewBox=\"0 -960 960 960\">\n",
              "    <path d=\"M120-120v-720h720v720H120Zm60-500h600v-160H180v160Zm220 220h160v-160H400v160Zm0 220h160v-160H400v160ZM180-400h160v-160H180v160Zm440 0h160v-160H620v160ZM180-180h160v-160H180v160Zm440 0h160v-160H620v160Z\"/>\n",
              "  </svg>\n",
              "    </button>\n",
              "\n",
              "  <style>\n",
              "    .colab-df-container {\n",
              "      display:flex;\n",
              "      gap: 12px;\n",
              "    }\n",
              "\n",
              "    .colab-df-convert {\n",
              "      background-color: #E8F0FE;\n",
              "      border: none;\n",
              "      border-radius: 50%;\n",
              "      cursor: pointer;\n",
              "      display: none;\n",
              "      fill: #1967D2;\n",
              "      height: 32px;\n",
              "      padding: 0 0 0 0;\n",
              "      width: 32px;\n",
              "    }\n",
              "\n",
              "    .colab-df-convert:hover {\n",
              "      background-color: #E2EBFA;\n",
              "      box-shadow: 0px 1px 2px rgba(60, 64, 67, 0.3), 0px 1px 3px 1px rgba(60, 64, 67, 0.15);\n",
              "      fill: #174EA6;\n",
              "    }\n",
              "\n",
              "    .colab-df-buttons div {\n",
              "      margin-bottom: 4px;\n",
              "    }\n",
              "\n",
              "    [theme=dark] .colab-df-convert {\n",
              "      background-color: #3B4455;\n",
              "      fill: #D2E3FC;\n",
              "    }\n",
              "\n",
              "    [theme=dark] .colab-df-convert:hover {\n",
              "      background-color: #434B5C;\n",
              "      box-shadow: 0px 1px 3px 1px rgba(0, 0, 0, 0.15);\n",
              "      filter: drop-shadow(0px 1px 2px rgba(0, 0, 0, 0.3));\n",
              "      fill: #FFFFFF;\n",
              "    }\n",
              "  </style>\n",
              "\n",
              "    <script>\n",
              "      const buttonEl =\n",
              "        document.querySelector('#df-e084868a-d62b-443a-b154-7bd102bd9bcd button.colab-df-convert');\n",
              "      buttonEl.style.display =\n",
              "        google.colab.kernel.accessAllowed ? 'block' : 'none';\n",
              "\n",
              "      async function convertToInteractive(key) {\n",
              "        const element = document.querySelector('#df-e084868a-d62b-443a-b154-7bd102bd9bcd');\n",
              "        const dataTable =\n",
              "          await google.colab.kernel.invokeFunction('convertToInteractive',\n",
              "                                                    [key], {});\n",
              "        if (!dataTable) return;\n",
              "\n",
              "        const docLinkHtml = 'Like what you see? Visit the ' +\n",
              "          '<a target=\"_blank\" href=https://colab.research.google.com/notebooks/data_table.ipynb>data table notebook</a>'\n",
              "          + ' to learn more about interactive tables.';\n",
              "        element.innerHTML = '';\n",
              "        dataTable['output_type'] = 'display_data';\n",
              "        await google.colab.output.renderOutput(dataTable, element);\n",
              "        const docLink = document.createElement('div');\n",
              "        docLink.innerHTML = docLinkHtml;\n",
              "        element.appendChild(docLink);\n",
              "      }\n",
              "    </script>\n",
              "  </div>\n",
              "\n",
              "\n",
              "<div id=\"df-d216790b-1096-47bd-8a26-b731be1e3b99\">\n",
              "  <button class=\"colab-df-quickchart\" onclick=\"quickchart('df-d216790b-1096-47bd-8a26-b731be1e3b99')\"\n",
              "            title=\"Suggest charts\"\n",
              "            style=\"display:none;\">\n",
              "\n",
              "<svg xmlns=\"http://www.w3.org/2000/svg\" height=\"24px\"viewBox=\"0 0 24 24\"\n",
              "     width=\"24px\">\n",
              "    <g>\n",
              "        <path d=\"M19 3H5c-1.1 0-2 .9-2 2v14c0 1.1.9 2 2 2h14c1.1 0 2-.9 2-2V5c0-1.1-.9-2-2-2zM9 17H7v-7h2v7zm4 0h-2V7h2v10zm4 0h-2v-4h2v4z\"/>\n",
              "    </g>\n",
              "</svg>\n",
              "  </button>\n",
              "\n",
              "<style>\n",
              "  .colab-df-quickchart {\n",
              "      --bg-color: #E8F0FE;\n",
              "      --fill-color: #1967D2;\n",
              "      --hover-bg-color: #E2EBFA;\n",
              "      --hover-fill-color: #174EA6;\n",
              "      --disabled-fill-color: #AAA;\n",
              "      --disabled-bg-color: #DDD;\n",
              "  }\n",
              "\n",
              "  [theme=dark] .colab-df-quickchart {\n",
              "      --bg-color: #3B4455;\n",
              "      --fill-color: #D2E3FC;\n",
              "      --hover-bg-color: #434B5C;\n",
              "      --hover-fill-color: #FFFFFF;\n",
              "      --disabled-bg-color: #3B4455;\n",
              "      --disabled-fill-color: #666;\n",
              "  }\n",
              "\n",
              "  .colab-df-quickchart {\n",
              "    background-color: var(--bg-color);\n",
              "    border: none;\n",
              "    border-radius: 50%;\n",
              "    cursor: pointer;\n",
              "    display: none;\n",
              "    fill: var(--fill-color);\n",
              "    height: 32px;\n",
              "    padding: 0;\n",
              "    width: 32px;\n",
              "  }\n",
              "\n",
              "  .colab-df-quickchart:hover {\n",
              "    background-color: var(--hover-bg-color);\n",
              "    box-shadow: 0 1px 2px rgba(60, 64, 67, 0.3), 0 1px 3px 1px rgba(60, 64, 67, 0.15);\n",
              "    fill: var(--button-hover-fill-color);\n",
              "  }\n",
              "\n",
              "  .colab-df-quickchart-complete:disabled,\n",
              "  .colab-df-quickchart-complete:disabled:hover {\n",
              "    background-color: var(--disabled-bg-color);\n",
              "    fill: var(--disabled-fill-color);\n",
              "    box-shadow: none;\n",
              "  }\n",
              "\n",
              "  .colab-df-spinner {\n",
              "    border: 2px solid var(--fill-color);\n",
              "    border-color: transparent;\n",
              "    border-bottom-color: var(--fill-color);\n",
              "    animation:\n",
              "      spin 1s steps(1) infinite;\n",
              "  }\n",
              "\n",
              "  @keyframes spin {\n",
              "    0% {\n",
              "      border-color: transparent;\n",
              "      border-bottom-color: var(--fill-color);\n",
              "      border-left-color: var(--fill-color);\n",
              "    }\n",
              "    20% {\n",
              "      border-color: transparent;\n",
              "      border-left-color: var(--fill-color);\n",
              "      border-top-color: var(--fill-color);\n",
              "    }\n",
              "    30% {\n",
              "      border-color: transparent;\n",
              "      border-left-color: var(--fill-color);\n",
              "      border-top-color: var(--fill-color);\n",
              "      border-right-color: var(--fill-color);\n",
              "    }\n",
              "    40% {\n",
              "      border-color: transparent;\n",
              "      border-right-color: var(--fill-color);\n",
              "      border-top-color: var(--fill-color);\n",
              "    }\n",
              "    60% {\n",
              "      border-color: transparent;\n",
              "      border-right-color: var(--fill-color);\n",
              "    }\n",
              "    80% {\n",
              "      border-color: transparent;\n",
              "      border-right-color: var(--fill-color);\n",
              "      border-bottom-color: var(--fill-color);\n",
              "    }\n",
              "    90% {\n",
              "      border-color: transparent;\n",
              "      border-bottom-color: var(--fill-color);\n",
              "    }\n",
              "  }\n",
              "</style>\n",
              "\n",
              "  <script>\n",
              "    async function quickchart(key) {\n",
              "      const quickchartButtonEl =\n",
              "        document.querySelector('#' + key + ' button');\n",
              "      quickchartButtonEl.disabled = true;  // To prevent multiple clicks.\n",
              "      quickchartButtonEl.classList.add('colab-df-spinner');\n",
              "      try {\n",
              "        const charts = await google.colab.kernel.invokeFunction(\n",
              "            'suggestCharts', [key], {});\n",
              "      } catch (error) {\n",
              "        console.error('Error during call to suggestCharts:', error);\n",
              "      }\n",
              "      quickchartButtonEl.classList.remove('colab-df-spinner');\n",
              "      quickchartButtonEl.classList.add('colab-df-quickchart-complete');\n",
              "    }\n",
              "    (() => {\n",
              "      let quickchartButtonEl =\n",
              "        document.querySelector('#df-d216790b-1096-47bd-8a26-b731be1e3b99 button');\n",
              "      quickchartButtonEl.style.display =\n",
              "        google.colab.kernel.accessAllowed ? 'block' : 'none';\n",
              "    })();\n",
              "  </script>\n",
              "</div>\n",
              "\n",
              "    </div>\n",
              "  </div>\n"
            ],
            "application/vnd.google.colaboratory.intrinsic+json": {
              "type": "dataframe",
              "variable_name": "df_ab",
              "summary": "{\n  \"name\": \"df_ab\",\n  \"rows\": 2000,\n  \"fields\": [\n    {\n      \"column\": \"Visitante_ID\",\n      \"properties\": {\n        \"dtype\": \"number\",\n        \"std\": 577,\n        \"min\": 1,\n        \"max\": 2000,\n        \"num_unique_values\": 2000,\n        \"samples\": [\n          1861,\n          354,\n          1334\n        ],\n        \"semantic_type\": \"\",\n        \"description\": \"\"\n      }\n    },\n    {\n      \"column\": \"Vers\\u00e3o_P\\u00e1gina\",\n      \"properties\": {\n        \"dtype\": \"category\",\n        \"num_unique_values\": 2,\n        \"samples\": [\n          \"B\",\n          \"A\"\n        ],\n        \"semantic_type\": \"\",\n        \"description\": \"\"\n      }\n    },\n    {\n      \"column\": \"Visualiza\\u00e7\\u00f5es\",\n      \"properties\": {\n        \"dtype\": \"number\",\n        \"std\": 28,\n        \"min\": 100,\n        \"max\": 199,\n        \"num_unique_values\": 100,\n        \"samples\": [\n          192,\n          107\n        ],\n        \"semantic_type\": \"\",\n        \"description\": \"\"\n      }\n    },\n    {\n      \"column\": \"Convers\\u00f5es\",\n      \"properties\": {\n        \"dtype\": \"number\",\n        \"std\": 0,\n        \"min\": 0,\n        \"max\": 1,\n        \"num_unique_values\": 2,\n        \"samples\": [\n          0,\n          1\n        ],\n        \"semantic_type\": \"\",\n        \"description\": \"\"\n      }\n    }\n  ]\n}"
            }
          },
          "metadata": {},
          "execution_count": 4
        }
      ],
      "execution_count": null
    },
    {
      "metadata": {
        "ExecuteTime": {
          "end_time": "2024-04-15T17:56:01.894611Z",
          "start_time": "2024-04-15T17:56:01.874059Z"
        },
        "id": "8a068a521ec49bf8"
      },
      "cell_type": "code",
      "source": [
        "df_taxa = df_ab[['Conversões', 'Visualizações', 'Versão_Página']].groupby('Versão_Página').sum()"
      ],
      "id": "8a068a521ec49bf8",
      "outputs": [],
      "execution_count": null
    },
    {
      "cell_type": "code",
      "source": [
        "df_taxa"
      ],
      "metadata": {
        "colab": {
          "base_uri": "https://localhost:8080/",
          "height": 143
        },
        "id": "E5pTBzvyi3Lr",
        "outputId": "39935ebf-7aeb-4216-a848-8754db8566ef"
      },
      "id": "E5pTBzvyi3Lr",
      "execution_count": null,
      "outputs": [
        {
          "output_type": "execute_result",
          "data": {
            "text/plain": [
              "               Conversões  Visualizações\n",
              "Versão_Página                           \n",
              "A                     105         150835\n",
              "B                     125         150676"
            ],
            "text/html": [
              "\n",
              "  <div id=\"df-930a936d-654b-4884-9cd0-a990d0776ab2\" class=\"colab-df-container\">\n",
              "    <div>\n",
              "<style scoped>\n",
              "    .dataframe tbody tr th:only-of-type {\n",
              "        vertical-align: middle;\n",
              "    }\n",
              "\n",
              "    .dataframe tbody tr th {\n",
              "        vertical-align: top;\n",
              "    }\n",
              "\n",
              "    .dataframe thead th {\n",
              "        text-align: right;\n",
              "    }\n",
              "</style>\n",
              "<table border=\"1\" class=\"dataframe\">\n",
              "  <thead>\n",
              "    <tr style=\"text-align: right;\">\n",
              "      <th></th>\n",
              "      <th>Conversões</th>\n",
              "      <th>Visualizações</th>\n",
              "    </tr>\n",
              "    <tr>\n",
              "      <th>Versão_Página</th>\n",
              "      <th></th>\n",
              "      <th></th>\n",
              "    </tr>\n",
              "  </thead>\n",
              "  <tbody>\n",
              "    <tr>\n",
              "      <th>A</th>\n",
              "      <td>105</td>\n",
              "      <td>150835</td>\n",
              "    </tr>\n",
              "    <tr>\n",
              "      <th>B</th>\n",
              "      <td>125</td>\n",
              "      <td>150676</td>\n",
              "    </tr>\n",
              "  </tbody>\n",
              "</table>\n",
              "</div>\n",
              "    <div class=\"colab-df-buttons\">\n",
              "\n",
              "  <div class=\"colab-df-container\">\n",
              "    <button class=\"colab-df-convert\" onclick=\"convertToInteractive('df-930a936d-654b-4884-9cd0-a990d0776ab2')\"\n",
              "            title=\"Convert this dataframe to an interactive table.\"\n",
              "            style=\"display:none;\">\n",
              "\n",
              "  <svg xmlns=\"http://www.w3.org/2000/svg\" height=\"24px\" viewBox=\"0 -960 960 960\">\n",
              "    <path d=\"M120-120v-720h720v720H120Zm60-500h600v-160H180v160Zm220 220h160v-160H400v160Zm0 220h160v-160H400v160ZM180-400h160v-160H180v160Zm440 0h160v-160H620v160ZM180-180h160v-160H180v160Zm440 0h160v-160H620v160Z\"/>\n",
              "  </svg>\n",
              "    </button>\n",
              "\n",
              "  <style>\n",
              "    .colab-df-container {\n",
              "      display:flex;\n",
              "      gap: 12px;\n",
              "    }\n",
              "\n",
              "    .colab-df-convert {\n",
              "      background-color: #E8F0FE;\n",
              "      border: none;\n",
              "      border-radius: 50%;\n",
              "      cursor: pointer;\n",
              "      display: none;\n",
              "      fill: #1967D2;\n",
              "      height: 32px;\n",
              "      padding: 0 0 0 0;\n",
              "      width: 32px;\n",
              "    }\n",
              "\n",
              "    .colab-df-convert:hover {\n",
              "      background-color: #E2EBFA;\n",
              "      box-shadow: 0px 1px 2px rgba(60, 64, 67, 0.3), 0px 1px 3px 1px rgba(60, 64, 67, 0.15);\n",
              "      fill: #174EA6;\n",
              "    }\n",
              "\n",
              "    .colab-df-buttons div {\n",
              "      margin-bottom: 4px;\n",
              "    }\n",
              "\n",
              "    [theme=dark] .colab-df-convert {\n",
              "      background-color: #3B4455;\n",
              "      fill: #D2E3FC;\n",
              "    }\n",
              "\n",
              "    [theme=dark] .colab-df-convert:hover {\n",
              "      background-color: #434B5C;\n",
              "      box-shadow: 0px 1px 3px 1px rgba(0, 0, 0, 0.15);\n",
              "      filter: drop-shadow(0px 1px 2px rgba(0, 0, 0, 0.3));\n",
              "      fill: #FFFFFF;\n",
              "    }\n",
              "  </style>\n",
              "\n",
              "    <script>\n",
              "      const buttonEl =\n",
              "        document.querySelector('#df-930a936d-654b-4884-9cd0-a990d0776ab2 button.colab-df-convert');\n",
              "      buttonEl.style.display =\n",
              "        google.colab.kernel.accessAllowed ? 'block' : 'none';\n",
              "\n",
              "      async function convertToInteractive(key) {\n",
              "        const element = document.querySelector('#df-930a936d-654b-4884-9cd0-a990d0776ab2');\n",
              "        const dataTable =\n",
              "          await google.colab.kernel.invokeFunction('convertToInteractive',\n",
              "                                                    [key], {});\n",
              "        if (!dataTable) return;\n",
              "\n",
              "        const docLinkHtml = 'Like what you see? Visit the ' +\n",
              "          '<a target=\"_blank\" href=https://colab.research.google.com/notebooks/data_table.ipynb>data table notebook</a>'\n",
              "          + ' to learn more about interactive tables.';\n",
              "        element.innerHTML = '';\n",
              "        dataTable['output_type'] = 'display_data';\n",
              "        await google.colab.output.renderOutput(dataTable, element);\n",
              "        const docLink = document.createElement('div');\n",
              "        docLink.innerHTML = docLinkHtml;\n",
              "        element.appendChild(docLink);\n",
              "      }\n",
              "    </script>\n",
              "  </div>\n",
              "\n",
              "\n",
              "<div id=\"df-33c51c50-17b3-4a63-b639-b363921cbed5\">\n",
              "  <button class=\"colab-df-quickchart\" onclick=\"quickchart('df-33c51c50-17b3-4a63-b639-b363921cbed5')\"\n",
              "            title=\"Suggest charts\"\n",
              "            style=\"display:none;\">\n",
              "\n",
              "<svg xmlns=\"http://www.w3.org/2000/svg\" height=\"24px\"viewBox=\"0 0 24 24\"\n",
              "     width=\"24px\">\n",
              "    <g>\n",
              "        <path d=\"M19 3H5c-1.1 0-2 .9-2 2v14c0 1.1.9 2 2 2h14c1.1 0 2-.9 2-2V5c0-1.1-.9-2-2-2zM9 17H7v-7h2v7zm4 0h-2V7h2v10zm4 0h-2v-4h2v4z\"/>\n",
              "    </g>\n",
              "</svg>\n",
              "  </button>\n",
              "\n",
              "<style>\n",
              "  .colab-df-quickchart {\n",
              "      --bg-color: #E8F0FE;\n",
              "      --fill-color: #1967D2;\n",
              "      --hover-bg-color: #E2EBFA;\n",
              "      --hover-fill-color: #174EA6;\n",
              "      --disabled-fill-color: #AAA;\n",
              "      --disabled-bg-color: #DDD;\n",
              "  }\n",
              "\n",
              "  [theme=dark] .colab-df-quickchart {\n",
              "      --bg-color: #3B4455;\n",
              "      --fill-color: #D2E3FC;\n",
              "      --hover-bg-color: #434B5C;\n",
              "      --hover-fill-color: #FFFFFF;\n",
              "      --disabled-bg-color: #3B4455;\n",
              "      --disabled-fill-color: #666;\n",
              "  }\n",
              "\n",
              "  .colab-df-quickchart {\n",
              "    background-color: var(--bg-color);\n",
              "    border: none;\n",
              "    border-radius: 50%;\n",
              "    cursor: pointer;\n",
              "    display: none;\n",
              "    fill: var(--fill-color);\n",
              "    height: 32px;\n",
              "    padding: 0;\n",
              "    width: 32px;\n",
              "  }\n",
              "\n",
              "  .colab-df-quickchart:hover {\n",
              "    background-color: var(--hover-bg-color);\n",
              "    box-shadow: 0 1px 2px rgba(60, 64, 67, 0.3), 0 1px 3px 1px rgba(60, 64, 67, 0.15);\n",
              "    fill: var(--button-hover-fill-color);\n",
              "  }\n",
              "\n",
              "  .colab-df-quickchart-complete:disabled,\n",
              "  .colab-df-quickchart-complete:disabled:hover {\n",
              "    background-color: var(--disabled-bg-color);\n",
              "    fill: var(--disabled-fill-color);\n",
              "    box-shadow: none;\n",
              "  }\n",
              "\n",
              "  .colab-df-spinner {\n",
              "    border: 2px solid var(--fill-color);\n",
              "    border-color: transparent;\n",
              "    border-bottom-color: var(--fill-color);\n",
              "    animation:\n",
              "      spin 1s steps(1) infinite;\n",
              "  }\n",
              "\n",
              "  @keyframes spin {\n",
              "    0% {\n",
              "      border-color: transparent;\n",
              "      border-bottom-color: var(--fill-color);\n",
              "      border-left-color: var(--fill-color);\n",
              "    }\n",
              "    20% {\n",
              "      border-color: transparent;\n",
              "      border-left-color: var(--fill-color);\n",
              "      border-top-color: var(--fill-color);\n",
              "    }\n",
              "    30% {\n",
              "      border-color: transparent;\n",
              "      border-left-color: var(--fill-color);\n",
              "      border-top-color: var(--fill-color);\n",
              "      border-right-color: var(--fill-color);\n",
              "    }\n",
              "    40% {\n",
              "      border-color: transparent;\n",
              "      border-right-color: var(--fill-color);\n",
              "      border-top-color: var(--fill-color);\n",
              "    }\n",
              "    60% {\n",
              "      border-color: transparent;\n",
              "      border-right-color: var(--fill-color);\n",
              "    }\n",
              "    80% {\n",
              "      border-color: transparent;\n",
              "      border-right-color: var(--fill-color);\n",
              "      border-bottom-color: var(--fill-color);\n",
              "    }\n",
              "    90% {\n",
              "      border-color: transparent;\n",
              "      border-bottom-color: var(--fill-color);\n",
              "    }\n",
              "  }\n",
              "</style>\n",
              "\n",
              "  <script>\n",
              "    async function quickchart(key) {\n",
              "      const quickchartButtonEl =\n",
              "        document.querySelector('#' + key + ' button');\n",
              "      quickchartButtonEl.disabled = true;  // To prevent multiple clicks.\n",
              "      quickchartButtonEl.classList.add('colab-df-spinner');\n",
              "      try {\n",
              "        const charts = await google.colab.kernel.invokeFunction(\n",
              "            'suggestCharts', [key], {});\n",
              "      } catch (error) {\n",
              "        console.error('Error during call to suggestCharts:', error);\n",
              "      }\n",
              "      quickchartButtonEl.classList.remove('colab-df-spinner');\n",
              "      quickchartButtonEl.classList.add('colab-df-quickchart-complete');\n",
              "    }\n",
              "    (() => {\n",
              "      let quickchartButtonEl =\n",
              "        document.querySelector('#df-33c51c50-17b3-4a63-b639-b363921cbed5 button');\n",
              "      quickchartButtonEl.style.display =\n",
              "        google.colab.kernel.accessAllowed ? 'block' : 'none';\n",
              "    })();\n",
              "  </script>\n",
              "</div>\n",
              "\n",
              "  <div id=\"id_ee18654f-bdd9-4d04-8aa1-b23c4e3fe44c\">\n",
              "    <style>\n",
              "      .colab-df-generate {\n",
              "        background-color: #E8F0FE;\n",
              "        border: none;\n",
              "        border-radius: 50%;\n",
              "        cursor: pointer;\n",
              "        display: none;\n",
              "        fill: #1967D2;\n",
              "        height: 32px;\n",
              "        padding: 0 0 0 0;\n",
              "        width: 32px;\n",
              "      }\n",
              "\n",
              "      .colab-df-generate:hover {\n",
              "        background-color: #E2EBFA;\n",
              "        box-shadow: 0px 1px 2px rgba(60, 64, 67, 0.3), 0px 1px 3px 1px rgba(60, 64, 67, 0.15);\n",
              "        fill: #174EA6;\n",
              "      }\n",
              "\n",
              "      [theme=dark] .colab-df-generate {\n",
              "        background-color: #3B4455;\n",
              "        fill: #D2E3FC;\n",
              "      }\n",
              "\n",
              "      [theme=dark] .colab-df-generate:hover {\n",
              "        background-color: #434B5C;\n",
              "        box-shadow: 0px 1px 3px 1px rgba(0, 0, 0, 0.15);\n",
              "        filter: drop-shadow(0px 1px 2px rgba(0, 0, 0, 0.3));\n",
              "        fill: #FFFFFF;\n",
              "      }\n",
              "    </style>\n",
              "    <button class=\"colab-df-generate\" onclick=\"generateWithVariable('df_taxa')\"\n",
              "            title=\"Generate code using this dataframe.\"\n",
              "            style=\"display:none;\">\n",
              "\n",
              "  <svg xmlns=\"http://www.w3.org/2000/svg\" height=\"24px\"viewBox=\"0 0 24 24\"\n",
              "       width=\"24px\">\n",
              "    <path d=\"M7,19H8.4L18.45,9,17,7.55,7,17.6ZM5,21V16.75L18.45,3.32a2,2,0,0,1,2.83,0l1.4,1.43a1.91,1.91,0,0,1,.58,1.4,1.91,1.91,0,0,1-.58,1.4L9.25,21ZM18.45,9,17,7.55Zm-12,3A5.31,5.31,0,0,0,4.9,8.1,5.31,5.31,0,0,0,1,6.5,5.31,5.31,0,0,0,4.9,4.9,5.31,5.31,0,0,0,6.5,1,5.31,5.31,0,0,0,8.1,4.9,5.31,5.31,0,0,0,12,6.5,5.46,5.46,0,0,0,6.5,12Z\"/>\n",
              "  </svg>\n",
              "    </button>\n",
              "    <script>\n",
              "      (() => {\n",
              "      const buttonEl =\n",
              "        document.querySelector('#id_ee18654f-bdd9-4d04-8aa1-b23c4e3fe44c button.colab-df-generate');\n",
              "      buttonEl.style.display =\n",
              "        google.colab.kernel.accessAllowed ? 'block' : 'none';\n",
              "\n",
              "      buttonEl.onclick = () => {\n",
              "        google.colab.notebook.generateWithVariable('df_taxa');\n",
              "      }\n",
              "      })();\n",
              "    </script>\n",
              "  </div>\n",
              "\n",
              "    </div>\n",
              "  </div>\n"
            ],
            "application/vnd.google.colaboratory.intrinsic+json": {
              "type": "dataframe",
              "variable_name": "df_taxa",
              "summary": "{\n  \"name\": \"df_taxa\",\n  \"rows\": 2,\n  \"fields\": [\n    {\n      \"column\": \"Vers\\u00e3o_P\\u00e1gina\",\n      \"properties\": {\n        \"dtype\": \"string\",\n        \"num_unique_values\": 2,\n        \"samples\": [\n          \"B\",\n          \"A\"\n        ],\n        \"semantic_type\": \"\",\n        \"description\": \"\"\n      }\n    },\n    {\n      \"column\": \"Convers\\u00f5es\",\n      \"properties\": {\n        \"dtype\": \"number\",\n        \"std\": 14,\n        \"min\": 105,\n        \"max\": 125,\n        \"num_unique_values\": 2,\n        \"samples\": [\n          125,\n          105\n        ],\n        \"semantic_type\": \"\",\n        \"description\": \"\"\n      }\n    },\n    {\n      \"column\": \"Visualiza\\u00e7\\u00f5es\",\n      \"properties\": {\n        \"dtype\": \"number\",\n        \"std\": 112,\n        \"min\": 150676,\n        \"max\": 150835,\n        \"num_unique_values\": 2,\n        \"samples\": [\n          150676,\n          150835\n        ],\n        \"semantic_type\": \"\",\n        \"description\": \"\"\n      }\n    }\n  ]\n}"
            }
          },
          "metadata": {},
          "execution_count": 6
        }
      ]
    },
    {
      "metadata": {
        "ExecuteTime": {
          "end_time": "2024-04-15T17:56:20.144748Z",
          "start_time": "2024-04-15T17:56:20.133385Z"
        },
        "id": "bee7c94f619f3a37"
      },
      "cell_type": "code",
      "source": [
        "df_taxa['taxa_de_conversão'] = df_taxa['Conversões'] / df_taxa['Visualizações']"
      ],
      "id": "bee7c94f619f3a37",
      "outputs": [],
      "execution_count": null
    },
    {
      "metadata": {
        "ExecuteTime": {
          "end_time": "2024-04-15T17:58:53.929733Z",
          "start_time": "2024-04-15T17:58:53.921743Z"
        },
        "colab": {
          "base_uri": "https://localhost:8080/"
        },
        "id": "3dfc564ed36f83d4",
        "outputId": "8bdbfbbd-7db2-4f62-e26b-0dd8d037a541"
      },
      "cell_type": "code",
      "source": [
        "print(f'A taxa de conversão do grupo A é: {df_taxa[\"taxa_de_conversão\"][0] * 100:.3f}%\\n',\n",
        "      f'A taxa de conversão do grupo B é: {df_taxa[\"taxa_de_conversão\"][1] * 100:.3f}%')"
      ],
      "id": "3dfc564ed36f83d4",
      "outputs": [
        {
          "output_type": "stream",
          "name": "stdout",
          "text": [
            "A taxa de conversão do grupo A é: 0.070%\n",
            " A taxa de conversão do grupo B é: 0.083%\n"
          ]
        }
      ],
      "execution_count": null
    },
    {
      "metadata": {
        "ExecuteTime": {
          "end_time": "2024-04-15T18:01:24.087555Z",
          "start_time": "2024-04-15T18:01:24.075996Z"
        },
        "colab": {
          "base_uri": "https://localhost:8080/"
        },
        "id": "a52fcea772cd1a0e",
        "outputId": "16f247a6-e58f-4aef-8e40-9dd3ff782639"
      },
      "cell_type": "code",
      "source": [
        "if df_taxa['taxa_de_conversão'][0] > df_taxa['taxa_de_conversão'][1]:\n",
        "    print(f'A maior taxa de conversão pertence ao grupo {df_taxa.index[0]}, sendo {df_taxa[\"taxa_de_conversão\"][0] * 100:.3f}%')\n",
        "elif df_taxa['taxa_de_conversão'][0] < df_taxa['taxa_de_conversão'][1]:\n",
        "    print(f'A maior taxa de conversão pertence ao grupo {df_taxa.index[1]}, sendo {df_taxa[\"taxa_de_conversão\"][1] * 100:.3f}%')"
      ],
      "id": "a52fcea772cd1a0e",
      "outputs": [
        {
          "output_type": "stream",
          "name": "stdout",
          "text": [
            "A maior taxa de conversão pertence ao grupo B, sendo 0.083%\n"
          ]
        }
      ],
      "execution_count": null
    },
    {
      "metadata": {
        "id": "fb54dfb90be7665"
      },
      "cell_type": "markdown",
      "source": [
        "### 2.\tCalcule qual o tamanho da amostra necessária para o desenvolvimento de um teste A/B, seguindo os seguintes critérios:\n",
        "\n",
        "a.\tO cenário A, da base, como o inicial, que funciona hoje.\n",
        "\n",
        "b.\tConsidere 95% de confiança de que o efeito na conversão não foi aleatório com um nível de significância de 5% (alpha = 0,05).\n",
        "\n",
        "c.\tTambém considere 80% de certeza conseguir capturar o efeito da nova abordagem.\n",
        "\n",
        "d.\tO aumento para 10% de conversão.\n"
      ],
      "id": "fb54dfb90be7665"
    },
    {
      "metadata": {
        "id": "c0da335e6f1893fa"
      },
      "cell_type": "code",
      "outputs": [],
      "execution_count": null,
      "source": [
        "#Cenário A, da base, como o atual:\n",
        "\n",
        "df_a = df_ab[df_ab['Versão_Página'] == 'A']"
      ],
      "id": "c0da335e6f1893fa"
    },
    {
      "cell_type": "markdown",
      "source": [
        "**Para calcular a amostragem de  um teste A/B, necessitaremos dos seguintes parâmetros:**"
      ],
      "metadata": {
        "id": "r7cXD-K_GMRE"
      },
      "id": "r7cXD-K_GMRE"
    },
    {
      "cell_type": "markdown",
      "source": [
        "Nível de significancia (ɑ):\n",
        "- Nos dá a Probabilidade de um evento ocorrer de modo aleatório.\n",
        "- Ou seja se selecionarmos 5%, significa que. queremos que com 95% de certeza o grupo A difere do B e 5% de chance essa\n",
        "diferença é aleatória.\n",
        "- Encontramos na Distribuição normal padrão os valores críticos Z para alpha. Para 5% eles serão :-1.96 e 1.96\n"
      ],
      "metadata": {
        "id": "wl9qtEFn_3sp"
      },
      "id": "wl9qtEFn_3sp"
    },
    {
      "cell_type": "code",
      "source": [
        "alpha = 0.05"
      ],
      "metadata": {
        "id": "ByFdPHyo_vvo"
      },
      "id": "ByFdPHyo_vvo",
      "execution_count": null,
      "outputs": []
    },
    {
      "cell_type": "markdown",
      "source": [
        "Poder do teste (1 - 𝛃):\n",
        "- 𝛃 nos dá a probabilidade de o teste não encontrar diferença nas campanhas mesmo que ela exista\n",
        "- 1- 𝛃 Nos dá a probabilidade de o meu teste A/B encontrar de fato uma diferença entre teste e controle, dado que elas são\n",
        "diferentes.\n",
        "- Selecionado de 0 a 100%, geralmente selecionamos 𝛃 = 20%"
      ],
      "metadata": {
        "id": "sBxR_f6Y_8kK"
      },
      "id": "sBxR_f6Y_8kK"
    },
    {
      "cell_type": "code",
      "source": [
        "#80% de CERTEZA do teste ser preciso, portanto a certeza é 0.8 de conseguir e o beta é 1 - 0.8 = 0.2\n",
        "poder_teste = 0.8\n",
        "beta = 1 - poder_teste"
      ],
      "metadata": {
        "id": "3UezKrl9_9E7"
      },
      "id": "3UezKrl9_9E7",
      "execution_count": null,
      "outputs": []
    },
    {
      "cell_type": "markdown",
      "source": [
        "Encontrando os valores de Z:"
      ],
      "metadata": {
        "id": "NwrEMu1nGg4-"
      },
      "id": "NwrEMu1nGg4-"
    },
    {
      "cell_type": "code",
      "source": [
        "# Encontrando os valores Z\n",
        "z_alpha = abs(stats.norm.ppf(alpha/2))\n",
        "z_beta = abs(stats.norm.ppf(beta))"
      ],
      "metadata": {
        "id": "fO5BNmkwGpDQ"
      },
      "id": "fO5BNmkwGpDQ",
      "execution_count": null,
      "outputs": []
    },
    {
      "cell_type": "code",
      "source": [
        "z_alpha #dividi alfa por 2 para se tornar semelhante ao valor tabelado utilizado no final"
      ],
      "metadata": {
        "colab": {
          "base_uri": "https://localhost:8080/"
        },
        "id": "fW-iHJbBNNIl",
        "outputId": "c39ff5f9-db40-42ab-922e-10b7917c115c"
      },
      "id": "fW-iHJbBNNIl",
      "execution_count": null,
      "outputs": [
        {
          "output_type": "execute_result",
          "data": {
            "text/plain": [
              "1.9599639845400545"
            ]
          },
          "metadata": {},
          "execution_count": 18
        }
      ]
    },
    {
      "cell_type": "code",
      "source": [
        "z_beta"
      ],
      "metadata": {
        "colab": {
          "base_uri": "https://localhost:8080/"
        },
        "id": "ay-8SWI7ipjr",
        "outputId": "59b1ba8f-71a9-4529-f37f-f59786c82283"
      },
      "id": "ay-8SWI7ipjr",
      "execution_count": null,
      "outputs": [
        {
          "output_type": "execute_result",
          "data": {
            "text/plain": [
              "0.8416212335729143"
            ]
          },
          "metadata": {},
          "execution_count": 19
        }
      ]
    },
    {
      "cell_type": "markdown",
      "source": [
        "Delta (Δ):\n",
        "- Será a diferença entre médias ou proporções das métricas dos dois grupos.\n",
        "- Exemplo:\n",
        "- Grupo de controle A (utilizando o botão atual ) tem taxa de conversão de 0.069%\n",
        "- Como queremos um aumento de 10% de conversão para o grupo B (tratamento). CTR2 = 0.069*(1+0.1) = 0.076\n",
        "- Delta = 0.076 - 0.069\n"
      ],
      "metadata": {
        "id": "2hu9vh1zAykd"
      },
      "id": "2hu9vh1zAykd"
    },
    {
      "cell_type": "code",
      "source": [
        "#DELTA = diferença entre as métricas. Taxa de conversão ideal (10% acima da atual) - taxa de conversão\n",
        "taxa_atual = df_taxa['taxa_de_conversão'][0] * 100\n",
        "taxa_esperada = taxa_atual * 1.10   #Taxa esperada é 10% de aumento ou 10% de conversão??\n",
        "delta = taxa_esperada - taxa_atual\n",
        "delta"
      ],
      "metadata": {
        "id": "jHHOE8QpAzl8",
        "colab": {
          "base_uri": "https://localhost:8080/"
        },
        "outputId": "b9ddc276-9f8b-44dd-b56f-abd6c5f52112"
      },
      "id": "jHHOE8QpAzl8",
      "execution_count": null,
      "outputs": [
        {
          "output_type": "execute_result",
          "data": {
            "text/plain": [
              "0.00696124904697186"
            ]
          },
          "metadata": {},
          "execution_count": 46
        }
      ]
    },
    {
      "cell_type": "code",
      "source": [
        "taxa_atual"
      ],
      "metadata": {
        "colab": {
          "base_uri": "https://localhost:8080/"
        },
        "id": "7U5KsF_JizUY",
        "outputId": "1fdb4232-d484-4d6f-a9a0-106df30b05da"
      },
      "id": "7U5KsF_JizUY",
      "execution_count": null,
      "outputs": [
        {
          "output_type": "execute_result",
          "data": {
            "text/plain": [
              "0.0006961249046971857"
            ]
          },
          "metadata": {},
          "execution_count": 40
        }
      ]
    },
    {
      "cell_type": "code",
      "source": [
        "taxa_esperada"
      ],
      "metadata": {
        "colab": {
          "base_uri": "https://localhost:8080/"
        },
        "id": "IOkOTBDWi16m",
        "outputId": "bc94dfb6-4d83-4b93-a872-1140b627e22a"
      },
      "id": "IOkOTBDWi16m",
      "execution_count": null,
      "outputs": [
        {
          "output_type": "execute_result",
          "data": {
            "text/plain": [
              "0.0007657373951669042"
            ]
          },
          "metadata": {},
          "execution_count": 41
        }
      ]
    },
    {
      "cell_type": "markdown",
      "source": [
        "Variância:\n",
        "* A variância amostral (do grupo A)\n",
        "* Define-se pelo quadrado do meu desvio padrão"
      ],
      "metadata": {
        "id": "6fW_mMaMCtAa"
      },
      "id": "6fW_mMaMCtAa"
    },
    {
      "cell_type": "code",
      "source": [
        "variancia_amostral_A = df_a['Conversões'].std() * df_a['Conversões'].std()\n",
        "variancia_amostral_A"
      ],
      "metadata": {
        "colab": {
          "base_uri": "https://localhost:8080/"
        },
        "id": "rcCvv3jdCu5C",
        "outputId": "40d3921d-0a49-49ca-f207-5c5d402fdeb5"
      },
      "id": "rcCvv3jdCu5C",
      "execution_count": null,
      "outputs": [
        {
          "output_type": "execute_result",
          "data": {
            "text/plain": [
              "0.09406906906906905"
            ]
          },
          "metadata": {},
          "execution_count": 42
        }
      ]
    },
    {
      "cell_type": "markdown",
      "source": [
        "Cálculo amostral:\n",
        "![image.png](data:image/png;base64,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)"
      ],
      "metadata": {
        "id": "xzgppB3P8JQY"
      },
      "id": "xzgppB3P8JQY"
    },
    {
      "cell_type": "code",
      "source": [
        "#Utilizando a fórmula do slide\n",
        "n = ((z_alpha + z_beta)**2  * (variancia_amostral_A **2)) / (delta ** 2)\n",
        "n"
      ],
      "metadata": {
        "colab": {
          "base_uri": "https://localhost:8080/"
        },
        "id": "jrHnujwf87K4",
        "outputId": "75ce6bb1-4603-4b89-877c-b6483b518e25"
      },
      "id": "jrHnujwf87K4",
      "execution_count": null,
      "outputs": [
        {
          "output_type": "execute_result",
          "data": {
            "text/plain": [
              "1433.2667438337985"
            ]
          },
          "metadata": {},
          "execution_count": 47
        }
      ]
    },
    {
      "cell_type": "markdown",
      "source": [
        "![image.png](data:image/png;base64,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)"
      ],
      "metadata": {
        "id": "GSOfSwEcRcEh"
      },
      "id": "GSOfSwEcRcEh"
    },
    {
      "cell_type": "code",
      "source": [
        "#Testando a fórmula dada em aula experimental\n",
        "amostra = (2 * (variancia_amostral_A ) * (z_alpha + z_beta)**2 ) / delta**2\n",
        "amostra"
      ],
      "metadata": {
        "colab": {
          "base_uri": "https://localhost:8080/"
        },
        "id": "3u1PZHksOBqO",
        "outputId": "91325680-9fb3-4c54-d65e-86d2c9d75e59"
      },
      "id": "3u1PZHksOBqO",
      "execution_count": null,
      "outputs": [
        {
          "output_type": "execute_result",
          "data": {
            "text/plain": [
              "30472.646493002718"
            ]
          },
          "metadata": {},
          "execution_count": 48
        }
      ]
    },
    {
      "cell_type": "markdown",
      "source": [
        "![image.png](data:image/png;base64,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)"
      ],
      "metadata": {
        "id": "mwcEazdpQTbF"
      },
      "id": "mwcEazdpQTbF"
    },
    {
      "cell_type": "code",
      "source": [
        "# Testando o exemplo conforme o slide em aula\n",
        "\n",
        "n1 = (((1.96 + 0.8)**2) * (variancia_amostral_A**2)) / delta**2\n",
        "n1"
      ],
      "metadata": {
        "colab": {
          "base_uri": "https://localhost:8080/"
        },
        "id": "TGoJ721yO6xB",
        "outputId": "2e47cef8-bbae-4618-f62a-2ea43802ea6b"
      },
      "id": "TGoJ721yO6xB",
      "execution_count": null,
      "outputs": [
        {
          "output_type": "execute_result",
          "data": {
            "text/plain": [
              "1391.0332579116503"
            ]
          },
          "metadata": {},
          "execution_count": 49
        }
      ]
    },
    {
      "cell_type": "markdown",
      "source": [
        "## Verifique a base pacientes.csv, os dados são fictícios. A sintetiza uma base de dados de um hospital que trata de pacientes com problemas cardíacos. Considere a base como a população, portanto as estatísticas da população são conhecidas. Responda as perguntas abaixo:"
      ],
      "metadata": {
        "id": "tCPDG9v6Zw_4"
      },
      "id": "tCPDG9v6Zw_4"
    },
    {
      "cell_type": "code",
      "source": [
        "df = pd.read_csv('pacientes.csv')"
      ],
      "metadata": {
        "id": "HaHCXhGSaEP2"
      },
      "id": "HaHCXhGSaEP2",
      "execution_count": null,
      "outputs": []
    },
    {
      "cell_type": "code",
      "source": [
        "df_original = df.copy()"
      ],
      "metadata": {
        "id": "NYczSreNKqh8"
      },
      "id": "NYczSreNKqh8",
      "execution_count": null,
      "outputs": []
    },
    {
      "cell_type": "markdown",
      "source": [
        "#### 3.\tConsiderando uma amostra de 45 números que representam o index do dataframe, índices= ([909, 751, 402, 400, 726, 39, 184, 269, 255, 769, 209, 715, 677, 381, 793, 697,  89, 280, 232, 756, 358,  36, 439, 768, 967, 699, 473, 222,  89, 639, 883, 558, 757,  84, 907, 895, 217, 224, 311, 348, 146, 505, 273, 957, 362]). Considerando essa amostra é possível dizer que a idade média das pessoas com problemas cardíacos é maior que 50 anos? Nível de significância igual a 5%."
      ],
      "metadata": {
        "id": "bxMlhHHSaG1r"
      },
      "id": "bxMlhHHSaG1r"
    },
    {
      "cell_type": "code",
      "source": [
        "indices =  [909, 751, 402, 400, 726, 39, 184, 269, 255, 769, 209, 715, 677, 381, 793, 697, 89, 280, 232, 756, 358, 36, 439, 768, 967, 699, 473, 222, 89, 639, 883, 558, 757, 84, 907, 895, 217, 224, 311, 348, 146, 505, 273, 957, 362]"
      ],
      "metadata": {
        "id": "QDGp-42FaEqx"
      },
      "id": "QDGp-42FaEqx",
      "execution_count": null,
      "outputs": []
    },
    {
      "cell_type": "code",
      "source": [
        "amostra = df.iloc[indices]"
      ],
      "metadata": {
        "id": "zvq2aNYcaEoX"
      },
      "id": "zvq2aNYcaEoX",
      "execution_count": null,
      "outputs": []
    },
    {
      "cell_type": "code",
      "source": [
        "h0 = amostra[(amostra['Idade'] > 50) & (amostra['Estado_Saude'] == 1)]"
      ],
      "metadata": {
        "id": "d_jYuN0pesbN"
      },
      "id": "d_jYuN0pesbN",
      "execution_count": null,
      "outputs": []
    },
    {
      "cell_type": "markdown",
      "source": [
        "* H0 = Idade média das pessoas com problemas cardíacos é maior que 50 anos\n",
        "* H1 = Idade média das pessoas com problemas cardíacos é menor ou igual que 50 anos\n",
        "* alpha = 0.05 (5%)\n",
        "\n",
        "\n"
      ],
      "metadata": {
        "id": "KGQ2Jyf6eD5u"
      },
      "id": "KGQ2Jyf6eD5u"
    },
    {
      "cell_type": "code",
      "source": [
        "from scipy import stats\n",
        "\n",
        "alpha = 0.05\n",
        "\n",
        "# Executando o teste t de uma amostra\n",
        "t_stat, p_val = stats.ttest_1samp(h0['Idade'], popmean=50)\n",
        "\n",
        "print(\"t-statistic:\", t_stat)\n",
        "print(\"p-value:\", p_val)\n",
        "\n",
        "\n",
        "if p_val < alpha:\n",
        "  print('Rejeitamos a hipótese nula, portanto, a idade média das pessoas com problemas cardíacos não é maior que 50 anos')\n",
        "else:\n",
        "  print('Não rejeitamos a hipótese nula, não existem evidências sobre a idade média das pessoas com problemas cardíacos ser maior que 50 anos')"
      ],
      "metadata": {
        "colab": {
          "base_uri": "https://localhost:8080/"
        },
        "id": "7Wvzd19ff5XP",
        "outputId": "b44fd2b4-6768-4ec9-d7be-55d0cc86bd9a"
      },
      "id": "7Wvzd19ff5XP",
      "execution_count": null,
      "outputs": [
        {
          "output_type": "stream",
          "name": "stdout",
          "text": [
            "t-statistic: 3.8900279284830654\n",
            "p-value: 0.005975176857687492\n",
            "Rejeitamos a hipótese nula, portanto, a idade média das pessoas com problemas cardíacos não é maior que 50 anos\n"
          ]
        }
      ]
    },
    {
      "cell_type": "markdown",
      "source": [
        "### 4.\tQueremos entender que tipo de amostra estamos lidando se dividirmos os conjuntos em 2, sendo um com pessoas que têm condições de saúde adicionais e o outro com pessoas saudáveis. Seria dependente ou independente?"
      ],
      "metadata": {
        "id": "Omr4RtdpiB9R"
      },
      "id": "Omr4RtdpiB9R"
    },
    {
      "cell_type": "markdown",
      "source": [
        "Considerações Teóricas:\n",
        "Seriam Independentes: As amostras são independentes se a seleção de uma amostra não afeta a seleção da outra. Isso ocorre, por exemplo, quando você tem dois grupos de indivíduos distintos (um grupo saudável e um grupo doente) onde os indivíduos em cada grupo não estão relacionados ou pareados de alguma forma.\n",
        "\n",
        "Seriam Dependentes: As amostras são dependentes quando os sujeitos em um grupo estão de alguma forma relacionados aos sujeitos no outro grupo, como medidas repetidas no mesmo grupo de indivíduos ou pareamentos baseados em critérios como idade, sexo, etc."
      ],
      "metadata": {
        "id": "W25wOQ6bUm1R"
      },
      "id": "W25wOQ6bUm1R"
    },
    {
      "cell_type": "code",
      "source": [
        "df.head()"
      ],
      "metadata": {
        "colab": {
          "base_uri": "https://localhost:8080/"
        },
        "id": "VbRWB6Be8z3u",
        "outputId": "98b09341-5f3f-4b7c-85a4-54721e285cb6"
      },
      "id": "VbRWB6Be8z3u",
      "execution_count": null,
      "outputs": [
        {
          "output_type": "execute_result",
          "data": {
            "text/plain": [
              "   index  id  Pressao_Arterial  Idade  Genero  Etnia  Estado_Saude  \\\n",
              "0      0   0        142.755809     31       1      1             1   \n",
              "1      1   1        161.878468     35       1      1             0   \n",
              "2      2   2        161.508259     39       0      3             1   \n",
              "3      3   3        144.979408     43       1      3             1   \n",
              "4      4   4        162.502954     55       0      2             1   \n",
              "\n",
              "  Nome_Genero      Nome_Etnia                  Nome_Estado_Saude  \n",
              "0    Feminino  Afro-americano  Com condições de saúde adicionais  \n",
              "1    Feminino  Afro-americano                           Saudável  \n",
              "2   Masculino        Asiático  Com condições de saúde adicionais  \n",
              "3    Feminino        Asiático  Com condições de saúde adicionais  \n",
              "4   Masculino       Hispânico  Com condições de saúde adicionais  "
            ],
            "text/html": [
              "\n",
              "  <div id=\"df-4a9e78b7-653a-4cc6-bbef-a11c2dfac32c\" class=\"colab-df-container\">\n",
              "    <div>\n",
              "<style scoped>\n",
              "    .dataframe tbody tr th:only-of-type {\n",
              "        vertical-align: middle;\n",
              "    }\n",
              "\n",
              "    .dataframe tbody tr th {\n",
              "        vertical-align: top;\n",
              "    }\n",
              "\n",
              "    .dataframe thead th {\n",
              "        text-align: right;\n",
              "    }\n",
              "</style>\n",
              "<table border=\"1\" class=\"dataframe\">\n",
              "  <thead>\n",
              "    <tr style=\"text-align: right;\">\n",
              "      <th></th>\n",
              "      <th>index</th>\n",
              "      <th>id</th>\n",
              "      <th>Pressao_Arterial</th>\n",
              "      <th>Idade</th>\n",
              "      <th>Genero</th>\n",
              "      <th>Etnia</th>\n",
              "      <th>Estado_Saude</th>\n",
              "      <th>Nome_Genero</th>\n",
              "      <th>Nome_Etnia</th>\n",
              "      <th>Nome_Estado_Saude</th>\n",
              "    </tr>\n",
              "  </thead>\n",
              "  <tbody>\n",
              "    <tr>\n",
              "      <th>0</th>\n",
              "      <td>0</td>\n",
              "      <td>0</td>\n",
              "      <td>142.755809</td>\n",
              "      <td>31</td>\n",
              "      <td>1</td>\n",
              "      <td>1</td>\n",
              "      <td>1</td>\n",
              "      <td>Feminino</td>\n",
              "      <td>Afro-americano</td>\n",
              "      <td>Com condições de saúde adicionais</td>\n",
              "    </tr>\n",
              "    <tr>\n",
              "      <th>1</th>\n",
              "      <td>1</td>\n",
              "      <td>1</td>\n",
              "      <td>161.878468</td>\n",
              "      <td>35</td>\n",
              "      <td>1</td>\n",
              "      <td>1</td>\n",
              "      <td>0</td>\n",
              "      <td>Feminino</td>\n",
              "      <td>Afro-americano</td>\n",
              "      <td>Saudável</td>\n",
              "    </tr>\n",
              "    <tr>\n",
              "      <th>2</th>\n",
              "      <td>2</td>\n",
              "      <td>2</td>\n",
              "      <td>161.508259</td>\n",
              "      <td>39</td>\n",
              "      <td>0</td>\n",
              "      <td>3</td>\n",
              "      <td>1</td>\n",
              "      <td>Masculino</td>\n",
              "      <td>Asiático</td>\n",
              "      <td>Com condições de saúde adicionais</td>\n",
              "    </tr>\n",
              "    <tr>\n",
              "      <th>3</th>\n",
              "      <td>3</td>\n",
              "      <td>3</td>\n",
              "      <td>144.979408</td>\n",
              "      <td>43</td>\n",
              "      <td>1</td>\n",
              "      <td>3</td>\n",
              "      <td>1</td>\n",
              "      <td>Feminino</td>\n",
              "      <td>Asiático</td>\n",
              "      <td>Com condições de saúde adicionais</td>\n",
              "    </tr>\n",
              "    <tr>\n",
              "      <th>4</th>\n",
              "      <td>4</td>\n",
              "      <td>4</td>\n",
              "      <td>162.502954</td>\n",
              "      <td>55</td>\n",
              "      <td>0</td>\n",
              "      <td>2</td>\n",
              "      <td>1</td>\n",
              "      <td>Masculino</td>\n",
              "      <td>Hispânico</td>\n",
              "      <td>Com condições de saúde adicionais</td>\n",
              "    </tr>\n",
              "  </tbody>\n",
              "</table>\n",
              "</div>\n",
              "    <div class=\"colab-df-buttons\">\n",
              "\n",
              "  <div class=\"colab-df-container\">\n",
              "    <button class=\"colab-df-convert\" onclick=\"convertToInteractive('df-4a9e78b7-653a-4cc6-bbef-a11c2dfac32c')\"\n",
              "            title=\"Convert this dataframe to an interactive table.\"\n",
              "            style=\"display:none;\">\n",
              "\n",
              "  <svg xmlns=\"http://www.w3.org/2000/svg\" height=\"24px\" viewBox=\"0 -960 960 960\">\n",
              "    <path d=\"M120-120v-720h720v720H120Zm60-500h600v-160H180v160Zm220 220h160v-160H400v160Zm0 220h160v-160H400v160ZM180-400h160v-160H180v160Zm440 0h160v-160H620v160ZM180-180h160v-160H180v160Zm440 0h160v-160H620v160Z\"/>\n",
              "  </svg>\n",
              "    </button>\n",
              "\n",
              "  <style>\n",
              "    .colab-df-container {\n",
              "      display:flex;\n",
              "      gap: 12px;\n",
              "    }\n",
              "\n",
              "    .colab-df-convert {\n",
              "      background-color: #E8F0FE;\n",
              "      border: none;\n",
              "      border-radius: 50%;\n",
              "      cursor: pointer;\n",
              "      display: none;\n",
              "      fill: #1967D2;\n",
              "      height: 32px;\n",
              "      padding: 0 0 0 0;\n",
              "      width: 32px;\n",
              "    }\n",
              "\n",
              "    .colab-df-convert:hover {\n",
              "      background-color: #E2EBFA;\n",
              "      box-shadow: 0px 1px 2px rgba(60, 64, 67, 0.3), 0px 1px 3px 1px rgba(60, 64, 67, 0.15);\n",
              "      fill: #174EA6;\n",
              "    }\n",
              "\n",
              "    .colab-df-buttons div {\n",
              "      margin-bottom: 4px;\n",
              "    }\n",
              "\n",
              "    [theme=dark] .colab-df-convert {\n",
              "      background-color: #3B4455;\n",
              "      fill: #D2E3FC;\n",
              "    }\n",
              "\n",
              "    [theme=dark] .colab-df-convert:hover {\n",
              "      background-color: #434B5C;\n",
              "      box-shadow: 0px 1px 3px 1px rgba(0, 0, 0, 0.15);\n",
              "      filter: drop-shadow(0px 1px 2px rgba(0, 0, 0, 0.3));\n",
              "      fill: #FFFFFF;\n",
              "    }\n",
              "  </style>\n",
              "\n",
              "    <script>\n",
              "      const buttonEl =\n",
              "        document.querySelector('#df-4a9e78b7-653a-4cc6-bbef-a11c2dfac32c button.colab-df-convert');\n",
              "      buttonEl.style.display =\n",
              "        google.colab.kernel.accessAllowed ? 'block' : 'none';\n",
              "\n",
              "      async function convertToInteractive(key) {\n",
              "        const element = document.querySelector('#df-4a9e78b7-653a-4cc6-bbef-a11c2dfac32c');\n",
              "        const dataTable =\n",
              "          await google.colab.kernel.invokeFunction('convertToInteractive',\n",
              "                                                    [key], {});\n",
              "        if (!dataTable) return;\n",
              "\n",
              "        const docLinkHtml = 'Like what you see? Visit the ' +\n",
              "          '<a target=\"_blank\" href=https://colab.research.google.com/notebooks/data_table.ipynb>data table notebook</a>'\n",
              "          + ' to learn more about interactive tables.';\n",
              "        element.innerHTML = '';\n",
              "        dataTable['output_type'] = 'display_data';\n",
              "        await google.colab.output.renderOutput(dataTable, element);\n",
              "        const docLink = document.createElement('div');\n",
              "        docLink.innerHTML = docLinkHtml;\n",
              "        element.appendChild(docLink);\n",
              "      }\n",
              "    </script>\n",
              "  </div>\n",
              "\n",
              "\n",
              "<div id=\"df-67c3923d-fc99-4a9d-abf2-6d13802919d7\">\n",
              "  <button class=\"colab-df-quickchart\" onclick=\"quickchart('df-67c3923d-fc99-4a9d-abf2-6d13802919d7')\"\n",
              "            title=\"Suggest charts\"\n",
              "            style=\"display:none;\">\n",
              "\n",
              "<svg xmlns=\"http://www.w3.org/2000/svg\" height=\"24px\"viewBox=\"0 0 24 24\"\n",
              "     width=\"24px\">\n",
              "    <g>\n",
              "        <path d=\"M19 3H5c-1.1 0-2 .9-2 2v14c0 1.1.9 2 2 2h14c1.1 0 2-.9 2-2V5c0-1.1-.9-2-2-2zM9 17H7v-7h2v7zm4 0h-2V7h2v10zm4 0h-2v-4h2v4z\"/>\n",
              "    </g>\n",
              "</svg>\n",
              "  </button>\n",
              "\n",
              "<style>\n",
              "  .colab-df-quickchart {\n",
              "      --bg-color: #E8F0FE;\n",
              "      --fill-color: #1967D2;\n",
              "      --hover-bg-color: #E2EBFA;\n",
              "      --hover-fill-color: #174EA6;\n",
              "      --disabled-fill-color: #AAA;\n",
              "      --disabled-bg-color: #DDD;\n",
              "  }\n",
              "\n",
              "  [theme=dark] .colab-df-quickchart {\n",
              "      --bg-color: #3B4455;\n",
              "      --fill-color: #D2E3FC;\n",
              "      --hover-bg-color: #434B5C;\n",
              "      --hover-fill-color: #FFFFFF;\n",
              "      --disabled-bg-color: #3B4455;\n",
              "      --disabled-fill-color: #666;\n",
              "  }\n",
              "\n",
              "  .colab-df-quickchart {\n",
              "    background-color: var(--bg-color);\n",
              "    border: none;\n",
              "    border-radius: 50%;\n",
              "    cursor: pointer;\n",
              "    display: none;\n",
              "    fill: var(--fill-color);\n",
              "    height: 32px;\n",
              "    padding: 0;\n",
              "    width: 32px;\n",
              "  }\n",
              "\n",
              "  .colab-df-quickchart:hover {\n",
              "    background-color: var(--hover-bg-color);\n",
              "    box-shadow: 0 1px 2px rgba(60, 64, 67, 0.3), 0 1px 3px 1px rgba(60, 64, 67, 0.15);\n",
              "    fill: var(--button-hover-fill-color);\n",
              "  }\n",
              "\n",
              "  .colab-df-quickchart-complete:disabled,\n",
              "  .colab-df-quickchart-complete:disabled:hover {\n",
              "    background-color: var(--disabled-bg-color);\n",
              "    fill: var(--disabled-fill-color);\n",
              "    box-shadow: none;\n",
              "  }\n",
              "\n",
              "  .colab-df-spinner {\n",
              "    border: 2px solid var(--fill-color);\n",
              "    border-color: transparent;\n",
              "    border-bottom-color: var(--fill-color);\n",
              "    animation:\n",
              "      spin 1s steps(1) infinite;\n",
              "  }\n",
              "\n",
              "  @keyframes spin {\n",
              "    0% {\n",
              "      border-color: transparent;\n",
              "      border-bottom-color: var(--fill-color);\n",
              "      border-left-color: var(--fill-color);\n",
              "    }\n",
              "    20% {\n",
              "      border-color: transparent;\n",
              "      border-left-color: var(--fill-color);\n",
              "      border-top-color: var(--fill-color);\n",
              "    }\n",
              "    30% {\n",
              "      border-color: transparent;\n",
              "      border-left-color: var(--fill-color);\n",
              "      border-top-color: var(--fill-color);\n",
              "      border-right-color: var(--fill-color);\n",
              "    }\n",
              "    40% {\n",
              "      border-color: transparent;\n",
              "      border-right-color: var(--fill-color);\n",
              "      border-top-color: var(--fill-color);\n",
              "    }\n",
              "    60% {\n",
              "      border-color: transparent;\n",
              "      border-right-color: var(--fill-color);\n",
              "    }\n",
              "    80% {\n",
              "      border-color: transparent;\n",
              "      border-right-color: var(--fill-color);\n",
              "      border-bottom-color: var(--fill-color);\n",
              "    }\n",
              "    90% {\n",
              "      border-color: transparent;\n",
              "      border-bottom-color: var(--fill-color);\n",
              "    }\n",
              "  }\n",
              "</style>\n",
              "\n",
              "  <script>\n",
              "    async function quickchart(key) {\n",
              "      const quickchartButtonEl =\n",
              "        document.querySelector('#' + key + ' button');\n",
              "      quickchartButtonEl.disabled = true;  // To prevent multiple clicks.\n",
              "      quickchartButtonEl.classList.add('colab-df-spinner');\n",
              "      try {\n",
              "        const charts = await google.colab.kernel.invokeFunction(\n",
              "            'suggestCharts', [key], {});\n",
              "      } catch (error) {\n",
              "        console.error('Error during call to suggestCharts:', error);\n",
              "      }\n",
              "      quickchartButtonEl.classList.remove('colab-df-spinner');\n",
              "      quickchartButtonEl.classList.add('colab-df-quickchart-complete');\n",
              "    }\n",
              "    (() => {\n",
              "      let quickchartButtonEl =\n",
              "        document.querySelector('#df-67c3923d-fc99-4a9d-abf2-6d13802919d7 button');\n",
              "      quickchartButtonEl.style.display =\n",
              "        google.colab.kernel.accessAllowed ? 'block' : 'none';\n",
              "    })();\n",
              "  </script>\n",
              "</div>\n",
              "\n",
              "    </div>\n",
              "  </div>\n"
            ],
            "application/vnd.google.colaboratory.intrinsic+json": {
              "type": "dataframe",
              "variable_name": "df",
              "summary": "{\n  \"name\": \"df\",\n  \"rows\": 1000,\n  \"fields\": [\n    {\n      \"column\": \"index\",\n      \"properties\": {\n        \"dtype\": \"number\",\n        \"std\": 288,\n        \"min\": 0,\n        \"max\": 999,\n        \"num_unique_values\": 1000,\n        \"samples\": [\n          521,\n          737,\n          740\n        ],\n        \"semantic_type\": \"\",\n        \"description\": \"\"\n      }\n    },\n    {\n      \"column\": \"id\",\n      \"properties\": {\n        \"dtype\": \"number\",\n        \"std\": 288,\n        \"min\": 0,\n        \"max\": 999,\n        \"num_unique_values\": 1000,\n        \"samples\": [\n          521,\n          737,\n          740\n        ],\n        \"semantic_type\": \"\",\n        \"description\": \"\"\n      }\n    },\n    {\n      \"column\": \"Pressao_Arterial\",\n      \"properties\": {\n        \"dtype\": \"number\",\n        \"std\": 9.943612581359622,\n        \"min\": 112.92982068924913,\n        \"max\": 181.80313088710068,\n        \"num_unique_values\": 1000,\n        \"samples\": [\n          152.04119412297098,\n          147.54391492523183,\n          168.8184130751253\n        ],\n        \"semantic_type\": \"\",\n        \"description\": \"\"\n      }\n    },\n    {\n      \"column\": \"Idade\",\n      \"properties\": {\n        \"dtype\": \"number\",\n        \"std\": 11,\n        \"min\": 30,\n        \"max\": 70,\n        \"num_unique_values\": 41,\n        \"samples\": [\n          30,\n          65,\n          57\n        ],\n        \"semantic_type\": \"\",\n        \"description\": \"\"\n      }\n    },\n    {\n      \"column\": \"Genero\",\n      \"properties\": {\n        \"dtype\": \"number\",\n        \"std\": 0,\n        \"min\": 0,\n        \"max\": 1,\n        \"num_unique_values\": 2,\n        \"samples\": [\n          0,\n          1\n        ],\n        \"semantic_type\": \"\",\n        \"description\": \"\"\n      }\n    },\n    {\n      \"column\": \"Etnia\",\n      \"properties\": {\n        \"dtype\": \"number\",\n        \"std\": 1,\n        \"min\": 0,\n        \"max\": 3,\n        \"num_unique_values\": 4,\n        \"samples\": [\n          3,\n          0\n        ],\n        \"semantic_type\": \"\",\n        \"description\": \"\"\n      }\n    },\n    {\n      \"column\": \"Estado_Saude\",\n      \"properties\": {\n        \"dtype\": \"number\",\n        \"std\": 0,\n        \"min\": 0,\n        \"max\": 1,\n        \"num_unique_values\": 2,\n        \"samples\": [\n          0,\n          1\n        ],\n        \"semantic_type\": \"\",\n        \"description\": \"\"\n      }\n    },\n    {\n      \"column\": \"Nome_Genero\",\n      \"properties\": {\n        \"dtype\": \"category\",\n        \"num_unique_values\": 2,\n        \"samples\": [\n          \"Masculino\",\n          \"Feminino\"\n        ],\n        \"semantic_type\": \"\",\n        \"description\": \"\"\n      }\n    },\n    {\n      \"column\": \"Nome_Etnia\",\n      \"properties\": {\n        \"dtype\": \"category\",\n        \"num_unique_values\": 4,\n        \"samples\": [\n          \"Asi\\u00e1tico\",\n          \"Caucasiano\"\n        ],\n        \"semantic_type\": \"\",\n        \"description\": \"\"\n      }\n    },\n    {\n      \"column\": \"Nome_Estado_Saude\",\n      \"properties\": {\n        \"dtype\": \"category\",\n        \"num_unique_values\": 2,\n        \"samples\": [\n          \"Saud\\u00e1vel\",\n          \"Com condi\\u00e7\\u00f5es de sa\\u00fade adicionais\"\n        ],\n        \"semantic_type\": \"\",\n        \"description\": \"\"\n      }\n    }\n  ]\n}"
            }
          },
          "metadata": {},
          "execution_count": 46
        }
      ]
    },
    {
      "cell_type": "markdown",
      "source": [
        "Ao verificar o dataframe, percebe-se que são dois grupos diferentes: onde um grupo é composto por indivíduos saudáveis e o outro por indivíduos doentes, e os indivíduos de ambos os grupos são distintos (não são as mesmas pessoas medidas em dois estados diferentes), dando a entender que as amostras são provavelmente independentes.\n",
        "\n",
        "Porém, ainda assim, realizaremos alguns testes:"
      ],
      "metadata": {
        "id": "mA3fmVhKUutq"
      },
      "id": "mA3fmVhKUutq"
    },
    {
      "cell_type": "code",
      "source": [
        "df.rename(columns={'Unnamed: 0': 'id'}, inplace=True)\n",
        "df.reset_index(inplace=True)"
      ],
      "metadata": {
        "id": "5DwxG3XFDqIW"
      },
      "id": "5DwxG3XFDqIW",
      "execution_count": null,
      "outputs": []
    },
    {
      "cell_type": "markdown",
      "source": [
        "DEFININDO AS HIPÓTESES:\n",
        "\n",
        "* Hipótese Nula (H0): A média da população do primeiro grupo é igual à média da população do segundo grupo. Em outras palavras, não há diferença significativa entre as médias dos dois grupos.\n",
        "\n",
        "* Hipótese Alternativa (H1 ou Ha): As médias das duas populações são diferentes"
      ],
      "metadata": {
        "id": "Ui0kuFTZTadV"
      },
      "id": "Ui0kuFTZTadV"
    },
    {
      "cell_type": "markdown",
      "source": [
        "Separaremos em 2 grupos: Saudável (0) e Com condições de saúde adicionais (1)"
      ],
      "metadata": {
        "id": "wmpYPlmyVa10"
      },
      "id": "wmpYPlmyVa10"
    },
    {
      "cell_type": "code",
      "source": [
        "saude_0 = df[df['Estado_Saude'] == 0]"
      ],
      "metadata": {
        "id": "lWmH47lD-M6M"
      },
      "id": "lWmH47lD-M6M",
      "execution_count": null,
      "outputs": []
    },
    {
      "cell_type": "code",
      "source": [
        "saude_1 = df[df['Estado_Saude'] == 1]"
      ],
      "metadata": {
        "id": "ERVxfPux9czc"
      },
      "id": "ERVxfPux9czc",
      "execution_count": null,
      "outputs": []
    },
    {
      "cell_type": "markdown",
      "source": [
        "Iremos buscar o P-valor e a estatística do teste utilizando o teste T, a fim de comparar as médias entre idade e pressão arterial de ambos os grupos (saudável e com condições de saúde)\n",
        "\n",
        "* T-statistic: Um valor de t elevado indica uma grande diferença entre as médias dos grupos.\n",
        "\n",
        "* P-value: Um valor de p pequeno (utilizaremos alpha de 0.05) indica que as diferenças observadas são estatisticamente significativas, reforçando a ideia de que os grupos são de fato diferentes, apoiando a ideia de que são independentes em termos de características analisadas."
      ],
      "metadata": {
        "id": "S4jgeeq8VD-W"
      },
      "id": "S4jgeeq8VD-W"
    },
    {
      "cell_type": "code",
      "source": [
        "# Teste t de duas amostras para amostras independentes em relação às idades\n",
        "t_stat, p_val = stats.ttest_ind(saude_0['Idade'], saude_1['Idade'])\n",
        "\n",
        "print(f'T-statistic: {t_stat}')\n",
        "print(f'P-value: {p_val}')\n",
        "\n",
        "alpha = 0.05\n",
        "\n",
        "if abs(p_val) < alpha:\n",
        "  print('Rejeitamos a hipótese nula, portanto, a média de idade dos indivíduos saudáveis não é igual à média de idade dos indivíduos doentes, sendo médias diferentes.')\n",
        "else:\n",
        "  print('Não há evidências suficientes nos dados para rejeitar a hipótese nula e não há diferença estatisticamente significativa entre as médias dos grupos comparados.')"
      ],
      "metadata": {
        "colab": {
          "base_uri": "https://localhost:8080/"
        },
        "id": "n4pXjxZyTApG",
        "outputId": "cf094203-8bcf-48c4-b624-bd86622e06c9"
      },
      "id": "n4pXjxZyTApG",
      "execution_count": null,
      "outputs": [
        {
          "output_type": "stream",
          "name": "stdout",
          "text": [
            "T-statistic: -0.2052754936742535\n",
            "P-value: 0.8373987501834486\n",
            "Não há evidências suficientes nos dados para rejeitar a hipótese nula e não há diferença estatisticamente significativa entre as médias dos grupos comparados.\n"
          ]
        }
      ]
    },
    {
      "cell_type": "code",
      "source": [
        "# Teste t de duas amostras para amostras independentes em relação a pressão arterial\n",
        "t_statistic, p_value = stats.ttest_ind(saude_0['Pressao_Arterial'], saude_1['Pressao_Arterial'])\n",
        "\n",
        "print(f'T-statistic: {t_statistic}')\n",
        "print(f'P-value: {p_value}')\n",
        "\n",
        "if abs(p_value) < alpha:\n",
        "  print('Rejeitamos a hipótese nula, portanto, a média de idade dos indivíduos saudáveis não é igual à média de idade dos indivíduos doentes, sendo médias diferentes.')\n",
        "else:\n",
        "  print('Não há evidências suficientes nos dados para rejeitar a hipótese nula e não há diferença estatisticamente significativa entre as médias dos grupos comparados.')"
      ],
      "metadata": {
        "colab": {
          "base_uri": "https://localhost:8080/"
        },
        "id": "wmmxq1htULBn",
        "outputId": "7549f926-c5ee-40bc-d68c-de027b649285"
      },
      "id": "wmmxq1htULBn",
      "execution_count": null,
      "outputs": [
        {
          "output_type": "stream",
          "name": "stdout",
          "text": [
            "T-statistic: 0.8342538055677127\n",
            "P-value: 0.40433761503722376\n",
            "Não há evidências suficientes nos dados para rejeitar a hipótese nula e não há diferença estatisticamente significativa entre as médias dos grupos comparados.\n"
          ]
        }
      ]
    },
    {
      "cell_type": "markdown",
      "source": [
        "Verificando as variáveis não-numéricas, podemos comparar etnias e sexo de ambas os grupos (saudável = 0 e com condições de saúde = 1)."
      ],
      "metadata": {
        "id": "PWuqcAIhYzMx"
      },
      "id": "PWuqcAIhYzMx"
    },
    {
      "cell_type": "code",
      "source": [
        "#Criação de função para agrupar por alguma coluna específica, somar as quantidades de cada grupo (0 ou 1) e adicionar um valor total, criando uma tabela de contingência.\n",
        "\n",
        "def add_total_row(df, group_by_col, count_col):\n",
        "    \"\"\"\n",
        "    Adiciona uma linha com o total das contagens ao DataFrame após agrupar por uma coluna especificada.\n",
        "\n",
        "    Parâmetros:\n",
        "        df (pd.DataFrame): DataFrame original.\n",
        "        group_by_col (str): Nome da coluna pela qual agrupar.\n",
        "        count_col (str): Nome da coluna a contar.\n",
        "\n",
        "    Retorna:\n",
        "        pd.DataFrame: DataFrame com a linha adicional mostrando o total.\n",
        "    \"\"\"\n",
        "\n",
        "    # Filtrar e agrupar o DataFrame pela coluna desejada e contar as ocorrências\n",
        "    grouped_df = df[[group_by_col, count_col]].groupby(group_by_col).count()\n",
        "\n",
        "    # Calcular o somatório das contagens\n",
        "    total_count = grouped_df[count_col].sum()\n",
        "\n",
        "    # Criar um novo DataFrame para a linha que mostra o total\n",
        "    total_row = pd.DataFrame({count_col: [total_count]}, index=[f'Total {group_by_col}'])\n",
        "\n",
        "    # Concatenar a nova linha ao DataFrame agrupado\n",
        "    final_df = pd.concat([grouped_df, total_row])\n",
        "\n",
        "    return final_df"
      ],
      "metadata": {
        "id": "JqpOPFzVNaYN"
      },
      "id": "JqpOPFzVNaYN",
      "execution_count": null,
      "outputs": []
    },
    {
      "cell_type": "code",
      "source": [
        "etnia_0 = add_total_row(saude_0, 'Nome_Etnia', 'id').add_suffix('_saudavel')\n",
        "etnia_1 = add_total_row(saude_1, 'Nome_Etnia', 'id').add_suffix('_condicao')\n",
        "etnia_contingencia = pd.concat([etnia_0, etnia_1], axis=1)\n",
        "etnia_contingencia"
      ],
      "metadata": {
        "colab": {
          "base_uri": "https://localhost:8080/"
        },
        "id": "_Xzya2lwNynC",
        "outputId": "a35f7c37-4868-4b25-dd36-cb012d5d7e1a"
      },
      "id": "_Xzya2lwNynC",
      "execution_count": null,
      "outputs": [
        {
          "output_type": "execute_result",
          "data": {
            "text/plain": [
              "                  id_saudavel  id_condicao\n",
              "Afro-americano            122          138\n",
              "Asiático                  128          124\n",
              "Caucasiano                113          120\n",
              "Hispânico                 127          128\n",
              "Total Nome_Etnia          490          510"
            ],
            "text/html": [
              "\n",
              "  <div id=\"df-8dbb256b-ef41-4609-9783-99bb9a75f38c\" class=\"colab-df-container\">\n",
              "    <div>\n",
              "<style scoped>\n",
              "    .dataframe tbody tr th:only-of-type {\n",
              "        vertical-align: middle;\n",
              "    }\n",
              "\n",
              "    .dataframe tbody tr th {\n",
              "        vertical-align: top;\n",
              "    }\n",
              "\n",
              "    .dataframe thead th {\n",
              "        text-align: right;\n",
              "    }\n",
              "</style>\n",
              "<table border=\"1\" class=\"dataframe\">\n",
              "  <thead>\n",
              "    <tr style=\"text-align: right;\">\n",
              "      <th></th>\n",
              "      <th>id_saudavel</th>\n",
              "      <th>id_condicao</th>\n",
              "    </tr>\n",
              "  </thead>\n",
              "  <tbody>\n",
              "    <tr>\n",
              "      <th>Afro-americano</th>\n",
              "      <td>122</td>\n",
              "      <td>138</td>\n",
              "    </tr>\n",
              "    <tr>\n",
              "      <th>Asiático</th>\n",
              "      <td>128</td>\n",
              "      <td>124</td>\n",
              "    </tr>\n",
              "    <tr>\n",
              "      <th>Caucasiano</th>\n",
              "      <td>113</td>\n",
              "      <td>120</td>\n",
              "    </tr>\n",
              "    <tr>\n",
              "      <th>Hispânico</th>\n",
              "      <td>127</td>\n",
              "      <td>128</td>\n",
              "    </tr>\n",
              "    <tr>\n",
              "      <th>Total Nome_Etnia</th>\n",
              "      <td>490</td>\n",
              "      <td>510</td>\n",
              "    </tr>\n",
              "  </tbody>\n",
              "</table>\n",
              "</div>\n",
              "    <div class=\"colab-df-buttons\">\n",
              "\n",
              "  <div class=\"colab-df-container\">\n",
              "    <button class=\"colab-df-convert\" onclick=\"convertToInteractive('df-8dbb256b-ef41-4609-9783-99bb9a75f38c')\"\n",
              "            title=\"Convert this dataframe to an interactive table.\"\n",
              "            style=\"display:none;\">\n",
              "\n",
              "  <svg xmlns=\"http://www.w3.org/2000/svg\" height=\"24px\" viewBox=\"0 -960 960 960\">\n",
              "    <path d=\"M120-120v-720h720v720H120Zm60-500h600v-160H180v160Zm220 220h160v-160H400v160Zm0 220h160v-160H400v160ZM180-400h160v-160H180v160Zm440 0h160v-160H620v160ZM180-180h160v-160H180v160Zm440 0h160v-160H620v160Z\"/>\n",
              "  </svg>\n",
              "    </button>\n",
              "\n",
              "  <style>\n",
              "    .colab-df-container {\n",
              "      display:flex;\n",
              "      gap: 12px;\n",
              "    }\n",
              "\n",
              "    .colab-df-convert {\n",
              "      background-color: #E8F0FE;\n",
              "      border: none;\n",
              "      border-radius: 50%;\n",
              "      cursor: pointer;\n",
              "      display: none;\n",
              "      fill: #1967D2;\n",
              "      height: 32px;\n",
              "      padding: 0 0 0 0;\n",
              "      width: 32px;\n",
              "    }\n",
              "\n",
              "    .colab-df-convert:hover {\n",
              "      background-color: #E2EBFA;\n",
              "      box-shadow: 0px 1px 2px rgba(60, 64, 67, 0.3), 0px 1px 3px 1px rgba(60, 64, 67, 0.15);\n",
              "      fill: #174EA6;\n",
              "    }\n",
              "\n",
              "    .colab-df-buttons div {\n",
              "      margin-bottom: 4px;\n",
              "    }\n",
              "\n",
              "    [theme=dark] .colab-df-convert {\n",
              "      background-color: #3B4455;\n",
              "      fill: #D2E3FC;\n",
              "    }\n",
              "\n",
              "    [theme=dark] .colab-df-convert:hover {\n",
              "      background-color: #434B5C;\n",
              "      box-shadow: 0px 1px 3px 1px rgba(0, 0, 0, 0.15);\n",
              "      filter: drop-shadow(0px 1px 2px rgba(0, 0, 0, 0.3));\n",
              "      fill: #FFFFFF;\n",
              "    }\n",
              "  </style>\n",
              "\n",
              "    <script>\n",
              "      const buttonEl =\n",
              "        document.querySelector('#df-8dbb256b-ef41-4609-9783-99bb9a75f38c button.colab-df-convert');\n",
              "      buttonEl.style.display =\n",
              "        google.colab.kernel.accessAllowed ? 'block' : 'none';\n",
              "\n",
              "      async function convertToInteractive(key) {\n",
              "        const element = document.querySelector('#df-8dbb256b-ef41-4609-9783-99bb9a75f38c');\n",
              "        const dataTable =\n",
              "          await google.colab.kernel.invokeFunction('convertToInteractive',\n",
              "                                                    [key], {});\n",
              "        if (!dataTable) return;\n",
              "\n",
              "        const docLinkHtml = 'Like what you see? Visit the ' +\n",
              "          '<a target=\"_blank\" href=https://colab.research.google.com/notebooks/data_table.ipynb>data table notebook</a>'\n",
              "          + ' to learn more about interactive tables.';\n",
              "        element.innerHTML = '';\n",
              "        dataTable['output_type'] = 'display_data';\n",
              "        await google.colab.output.renderOutput(dataTable, element);\n",
              "        const docLink = document.createElement('div');\n",
              "        docLink.innerHTML = docLinkHtml;\n",
              "        element.appendChild(docLink);\n",
              "      }\n",
              "    </script>\n",
              "  </div>\n",
              "\n",
              "\n",
              "<div id=\"df-84c5c7af-8841-4b04-99f0-bd21a2a43295\">\n",
              "  <button class=\"colab-df-quickchart\" onclick=\"quickchart('df-84c5c7af-8841-4b04-99f0-bd21a2a43295')\"\n",
              "            title=\"Suggest charts\"\n",
              "            style=\"display:none;\">\n",
              "\n",
              "<svg xmlns=\"http://www.w3.org/2000/svg\" height=\"24px\"viewBox=\"0 0 24 24\"\n",
              "     width=\"24px\">\n",
              "    <g>\n",
              "        <path d=\"M19 3H5c-1.1 0-2 .9-2 2v14c0 1.1.9 2 2 2h14c1.1 0 2-.9 2-2V5c0-1.1-.9-2-2-2zM9 17H7v-7h2v7zm4 0h-2V7h2v10zm4 0h-2v-4h2v4z\"/>\n",
              "    </g>\n",
              "</svg>\n",
              "  </button>\n",
              "\n",
              "<style>\n",
              "  .colab-df-quickchart {\n",
              "      --bg-color: #E8F0FE;\n",
              "      --fill-color: #1967D2;\n",
              "      --hover-bg-color: #E2EBFA;\n",
              "      --hover-fill-color: #174EA6;\n",
              "      --disabled-fill-color: #AAA;\n",
              "      --disabled-bg-color: #DDD;\n",
              "  }\n",
              "\n",
              "  [theme=dark] .colab-df-quickchart {\n",
              "      --bg-color: #3B4455;\n",
              "      --fill-color: #D2E3FC;\n",
              "      --hover-bg-color: #434B5C;\n",
              "      --hover-fill-color: #FFFFFF;\n",
              "      --disabled-bg-color: #3B4455;\n",
              "      --disabled-fill-color: #666;\n",
              "  }\n",
              "\n",
              "  .colab-df-quickchart {\n",
              "    background-color: var(--bg-color);\n",
              "    border: none;\n",
              "    border-radius: 50%;\n",
              "    cursor: pointer;\n",
              "    display: none;\n",
              "    fill: var(--fill-color);\n",
              "    height: 32px;\n",
              "    padding: 0;\n",
              "    width: 32px;\n",
              "  }\n",
              "\n",
              "  .colab-df-quickchart:hover {\n",
              "    background-color: var(--hover-bg-color);\n",
              "    box-shadow: 0 1px 2px rgba(60, 64, 67, 0.3), 0 1px 3px 1px rgba(60, 64, 67, 0.15);\n",
              "    fill: var(--button-hover-fill-color);\n",
              "  }\n",
              "\n",
              "  .colab-df-quickchart-complete:disabled,\n",
              "  .colab-df-quickchart-complete:disabled:hover {\n",
              "    background-color: var(--disabled-bg-color);\n",
              "    fill: var(--disabled-fill-color);\n",
              "    box-shadow: none;\n",
              "  }\n",
              "\n",
              "  .colab-df-spinner {\n",
              "    border: 2px solid var(--fill-color);\n",
              "    border-color: transparent;\n",
              "    border-bottom-color: var(--fill-color);\n",
              "    animation:\n",
              "      spin 1s steps(1) infinite;\n",
              "  }\n",
              "\n",
              "  @keyframes spin {\n",
              "    0% {\n",
              "      border-color: transparent;\n",
              "      border-bottom-color: var(--fill-color);\n",
              "      border-left-color: var(--fill-color);\n",
              "    }\n",
              "    20% {\n",
              "      border-color: transparent;\n",
              "      border-left-color: var(--fill-color);\n",
              "      border-top-color: var(--fill-color);\n",
              "    }\n",
              "    30% {\n",
              "      border-color: transparent;\n",
              "      border-left-color: var(--fill-color);\n",
              "      border-top-color: var(--fill-color);\n",
              "      border-right-color: var(--fill-color);\n",
              "    }\n",
              "    40% {\n",
              "      border-color: transparent;\n",
              "      border-right-color: var(--fill-color);\n",
              "      border-top-color: var(--fill-color);\n",
              "    }\n",
              "    60% {\n",
              "      border-color: transparent;\n",
              "      border-right-color: var(--fill-color);\n",
              "    }\n",
              "    80% {\n",
              "      border-color: transparent;\n",
              "      border-right-color: var(--fill-color);\n",
              "      border-bottom-color: var(--fill-color);\n",
              "    }\n",
              "    90% {\n",
              "      border-color: transparent;\n",
              "      border-bottom-color: var(--fill-color);\n",
              "    }\n",
              "  }\n",
              "</style>\n",
              "\n",
              "  <script>\n",
              "    async function quickchart(key) {\n",
              "      const quickchartButtonEl =\n",
              "        document.querySelector('#' + key + ' button');\n",
              "      quickchartButtonEl.disabled = true;  // To prevent multiple clicks.\n",
              "      quickchartButtonEl.classList.add('colab-df-spinner');\n",
              "      try {\n",
              "        const charts = await google.colab.kernel.invokeFunction(\n",
              "            'suggestCharts', [key], {});\n",
              "      } catch (error) {\n",
              "        console.error('Error during call to suggestCharts:', error);\n",
              "      }\n",
              "      quickchartButtonEl.classList.remove('colab-df-spinner');\n",
              "      quickchartButtonEl.classList.add('colab-df-quickchart-complete');\n",
              "    }\n",
              "    (() => {\n",
              "      let quickchartButtonEl =\n",
              "        document.querySelector('#df-84c5c7af-8841-4b04-99f0-bd21a2a43295 button');\n",
              "      quickchartButtonEl.style.display =\n",
              "        google.colab.kernel.accessAllowed ? 'block' : 'none';\n",
              "    })();\n",
              "  </script>\n",
              "</div>\n",
              "\n",
              "  <div id=\"id_a8129b02-92ac-47c6-966f-8e209fb26f73\">\n",
              "    <style>\n",
              "      .colab-df-generate {\n",
              "        background-color: #E8F0FE;\n",
              "        border: none;\n",
              "        border-radius: 50%;\n",
              "        cursor: pointer;\n",
              "        display: none;\n",
              "        fill: #1967D2;\n",
              "        height: 32px;\n",
              "        padding: 0 0 0 0;\n",
              "        width: 32px;\n",
              "      }\n",
              "\n",
              "      .colab-df-generate:hover {\n",
              "        background-color: #E2EBFA;\n",
              "        box-shadow: 0px 1px 2px rgba(60, 64, 67, 0.3), 0px 1px 3px 1px rgba(60, 64, 67, 0.15);\n",
              "        fill: #174EA6;\n",
              "      }\n",
              "\n",
              "      [theme=dark] .colab-df-generate {\n",
              "        background-color: #3B4455;\n",
              "        fill: #D2E3FC;\n",
              "      }\n",
              "\n",
              "      [theme=dark] .colab-df-generate:hover {\n",
              "        background-color: #434B5C;\n",
              "        box-shadow: 0px 1px 3px 1px rgba(0, 0, 0, 0.15);\n",
              "        filter: drop-shadow(0px 1px 2px rgba(0, 0, 0, 0.3));\n",
              "        fill: #FFFFFF;\n",
              "      }\n",
              "    </style>\n",
              "    <button class=\"colab-df-generate\" onclick=\"generateWithVariable('etnia_contingencia')\"\n",
              "            title=\"Generate code using this dataframe.\"\n",
              "            style=\"display:none;\">\n",
              "\n",
              "  <svg xmlns=\"http://www.w3.org/2000/svg\" height=\"24px\"viewBox=\"0 0 24 24\"\n",
              "       width=\"24px\">\n",
              "    <path d=\"M7,19H8.4L18.45,9,17,7.55,7,17.6ZM5,21V16.75L18.45,3.32a2,2,0,0,1,2.83,0l1.4,1.43a1.91,1.91,0,0,1,.58,1.4,1.91,1.91,0,0,1-.58,1.4L9.25,21ZM18.45,9,17,7.55Zm-12,3A5.31,5.31,0,0,0,4.9,8.1,5.31,5.31,0,0,0,1,6.5,5.31,5.31,0,0,0,4.9,4.9,5.31,5.31,0,0,0,6.5,1,5.31,5.31,0,0,0,8.1,4.9,5.31,5.31,0,0,0,12,6.5,5.46,5.46,0,0,0,6.5,12Z\"/>\n",
              "  </svg>\n",
              "    </button>\n",
              "    <script>\n",
              "      (() => {\n",
              "      const buttonEl =\n",
              "        document.querySelector('#id_a8129b02-92ac-47c6-966f-8e209fb26f73 button.colab-df-generate');\n",
              "      buttonEl.style.display =\n",
              "        google.colab.kernel.accessAllowed ? 'block' : 'none';\n",
              "\n",
              "      buttonEl.onclick = () => {\n",
              "        google.colab.notebook.generateWithVariable('etnia_contingencia');\n",
              "      }\n",
              "      })();\n",
              "    </script>\n",
              "  </div>\n",
              "\n",
              "    </div>\n",
              "  </div>\n"
            ],
            "application/vnd.google.colaboratory.intrinsic+json": {
              "type": "dataframe",
              "variable_name": "etnia_contingencia",
              "summary": "{\n  \"name\": \"etnia_contingencia\",\n  \"rows\": 5,\n  \"fields\": [\n    {\n      \"column\": \"id_saudavel\",\n      \"properties\": {\n        \"dtype\": \"number\",\n        \"std\": 164,\n        \"min\": 113,\n        \"max\": 490,\n        \"num_unique_values\": 5,\n        \"samples\": [\n          128,\n          490,\n          113\n        ],\n        \"semantic_type\": \"\",\n        \"description\": \"\"\n      }\n    },\n    {\n      \"column\": \"id_condicao\",\n      \"properties\": {\n        \"dtype\": \"number\",\n        \"std\": 171,\n        \"min\": 120,\n        \"max\": 510,\n        \"num_unique_values\": 5,\n        \"samples\": [\n          124,\n          510,\n          120\n        ],\n        \"semantic_type\": \"\",\n        \"description\": \"\"\n      }\n    }\n  ]\n}"
            }
          },
          "metadata": {},
          "execution_count": 53
        }
      ]
    },
    {
      "cell_type": "code",
      "source": [
        "# Realizando o teste chi-quadrado com as etnias (tabela acima):\n",
        "chi2e, pe, _, _ = stats.chi2_contingency(etnia_contingencia)\n",
        "\n",
        "# Interpretando os resultados\n",
        "print(\"Valor de p:\", pe)\n",
        "\n",
        "# Nível de significância (alpha)\n",
        "alpha = 0.05\n",
        "\n",
        "if pe < alpha:\n",
        "    print(\"Amostras não são independentes, pois o p é menor que o alpha\")\n",
        "else:\n",
        "    print(\"Amostras podem ser independentes, pois o p é maior ou igual ao alpha\")"
      ],
      "metadata": {
        "colab": {
          "base_uri": "https://localhost:8080/"
        },
        "id": "KqAyuWCNYiEF",
        "outputId": "55ab6b67-e53a-4c9d-b9c9-c2aba261ad88"
      },
      "id": "KqAyuWCNYiEF",
      "execution_count": null,
      "outputs": [
        {
          "output_type": "stream",
          "name": "stdout",
          "text": [
            "Valor de p: 0.9298536180140348\n",
            "Amostras podem ser independentes, pois o p é maior ou igual ao alpha\n"
          ]
        }
      ]
    },
    {
      "cell_type": "code",
      "source": [
        "genero_0 = add_total_row(saude_0, 'Nome_Genero', 'id').add_suffix('_saudavel')\n",
        "genero_1 = add_total_row(saude_1, 'Nome_Genero', 'id').add_suffix('_condicao')\n",
        "pd.concat([genero_0, genero_1], axis=1)\n",
        "\n",
        "genero_contigencia = pd.concat([genero_0, genero_1], axis=1)\n",
        "genero_contigencia"
      ],
      "metadata": {
        "colab": {
          "base_uri": "https://localhost:8080/"
        },
        "id": "egFHBjUsNS4G",
        "outputId": "df54352b-dfab-40f5-94e0-c9ed36a80031"
      },
      "id": "egFHBjUsNS4G",
      "execution_count": null,
      "outputs": [
        {
          "output_type": "execute_result",
          "data": {
            "text/plain": [
              "                   id_saudavel  id_condicao\n",
              "Feminino                   246          257\n",
              "Masculino                  244          253\n",
              "Total Nome_Genero          490          510"
            ],
            "text/html": [
              "\n",
              "  <div id=\"df-6807b74c-51ef-4cc4-881c-ad88814ecd95\" class=\"colab-df-container\">\n",
              "    <div>\n",
              "<style scoped>\n",
              "    .dataframe tbody tr th:only-of-type {\n",
              "        vertical-align: middle;\n",
              "    }\n",
              "\n",
              "    .dataframe tbody tr th {\n",
              "        vertical-align: top;\n",
              "    }\n",
              "\n",
              "    .dataframe thead th {\n",
              "        text-align: right;\n",
              "    }\n",
              "</style>\n",
              "<table border=\"1\" class=\"dataframe\">\n",
              "  <thead>\n",
              "    <tr style=\"text-align: right;\">\n",
              "      <th></th>\n",
              "      <th>id_saudavel</th>\n",
              "      <th>id_condicao</th>\n",
              "    </tr>\n",
              "  </thead>\n",
              "  <tbody>\n",
              "    <tr>\n",
              "      <th>Feminino</th>\n",
              "      <td>246</td>\n",
              "      <td>257</td>\n",
              "    </tr>\n",
              "    <tr>\n",
              "      <th>Masculino</th>\n",
              "      <td>244</td>\n",
              "      <td>253</td>\n",
              "    </tr>\n",
              "    <tr>\n",
              "      <th>Total Nome_Genero</th>\n",
              "      <td>490</td>\n",
              "      <td>510</td>\n",
              "    </tr>\n",
              "  </tbody>\n",
              "</table>\n",
              "</div>\n",
              "    <div class=\"colab-df-buttons\">\n",
              "\n",
              "  <div class=\"colab-df-container\">\n",
              "    <button class=\"colab-df-convert\" onclick=\"convertToInteractive('df-6807b74c-51ef-4cc4-881c-ad88814ecd95')\"\n",
              "            title=\"Convert this dataframe to an interactive table.\"\n",
              "            style=\"display:none;\">\n",
              "\n",
              "  <svg xmlns=\"http://www.w3.org/2000/svg\" height=\"24px\" viewBox=\"0 -960 960 960\">\n",
              "    <path d=\"M120-120v-720h720v720H120Zm60-500h600v-160H180v160Zm220 220h160v-160H400v160Zm0 220h160v-160H400v160ZM180-400h160v-160H180v160Zm440 0h160v-160H620v160ZM180-180h160v-160H180v160Zm440 0h160v-160H620v160Z\"/>\n",
              "  </svg>\n",
              "    </button>\n",
              "\n",
              "  <style>\n",
              "    .colab-df-container {\n",
              "      display:flex;\n",
              "      gap: 12px;\n",
              "    }\n",
              "\n",
              "    .colab-df-convert {\n",
              "      background-color: #E8F0FE;\n",
              "      border: none;\n",
              "      border-radius: 50%;\n",
              "      cursor: pointer;\n",
              "      display: none;\n",
              "      fill: #1967D2;\n",
              "      height: 32px;\n",
              "      padding: 0 0 0 0;\n",
              "      width: 32px;\n",
              "    }\n",
              "\n",
              "    .colab-df-convert:hover {\n",
              "      background-color: #E2EBFA;\n",
              "      box-shadow: 0px 1px 2px rgba(60, 64, 67, 0.3), 0px 1px 3px 1px rgba(60, 64, 67, 0.15);\n",
              "      fill: #174EA6;\n",
              "    }\n",
              "\n",
              "    .colab-df-buttons div {\n",
              "      margin-bottom: 4px;\n",
              "    }\n",
              "\n",
              "    [theme=dark] .colab-df-convert {\n",
              "      background-color: #3B4455;\n",
              "      fill: #D2E3FC;\n",
              "    }\n",
              "\n",
              "    [theme=dark] .colab-df-convert:hover {\n",
              "      background-color: #434B5C;\n",
              "      box-shadow: 0px 1px 3px 1px rgba(0, 0, 0, 0.15);\n",
              "      filter: drop-shadow(0px 1px 2px rgba(0, 0, 0, 0.3));\n",
              "      fill: #FFFFFF;\n",
              "    }\n",
              "  </style>\n",
              "\n",
              "    <script>\n",
              "      const buttonEl =\n",
              "        document.querySelector('#df-6807b74c-51ef-4cc4-881c-ad88814ecd95 button.colab-df-convert');\n",
              "      buttonEl.style.display =\n",
              "        google.colab.kernel.accessAllowed ? 'block' : 'none';\n",
              "\n",
              "      async function convertToInteractive(key) {\n",
              "        const element = document.querySelector('#df-6807b74c-51ef-4cc4-881c-ad88814ecd95');\n",
              "        const dataTable =\n",
              "          await google.colab.kernel.invokeFunction('convertToInteractive',\n",
              "                                                    [key], {});\n",
              "        if (!dataTable) return;\n",
              "\n",
              "        const docLinkHtml = 'Like what you see? Visit the ' +\n",
              "          '<a target=\"_blank\" href=https://colab.research.google.com/notebooks/data_table.ipynb>data table notebook</a>'\n",
              "          + ' to learn more about interactive tables.';\n",
              "        element.innerHTML = '';\n",
              "        dataTable['output_type'] = 'display_data';\n",
              "        await google.colab.output.renderOutput(dataTable, element);\n",
              "        const docLink = document.createElement('div');\n",
              "        docLink.innerHTML = docLinkHtml;\n",
              "        element.appendChild(docLink);\n",
              "      }\n",
              "    </script>\n",
              "  </div>\n",
              "\n",
              "\n",
              "<div id=\"df-1bfeb620-087a-404d-86f8-26fa445563ec\">\n",
              "  <button class=\"colab-df-quickchart\" onclick=\"quickchart('df-1bfeb620-087a-404d-86f8-26fa445563ec')\"\n",
              "            title=\"Suggest charts\"\n",
              "            style=\"display:none;\">\n",
              "\n",
              "<svg xmlns=\"http://www.w3.org/2000/svg\" height=\"24px\"viewBox=\"0 0 24 24\"\n",
              "     width=\"24px\">\n",
              "    <g>\n",
              "        <path d=\"M19 3H5c-1.1 0-2 .9-2 2v14c0 1.1.9 2 2 2h14c1.1 0 2-.9 2-2V5c0-1.1-.9-2-2-2zM9 17H7v-7h2v7zm4 0h-2V7h2v10zm4 0h-2v-4h2v4z\"/>\n",
              "    </g>\n",
              "</svg>\n",
              "  </button>\n",
              "\n",
              "<style>\n",
              "  .colab-df-quickchart {\n",
              "      --bg-color: #E8F0FE;\n",
              "      --fill-color: #1967D2;\n",
              "      --hover-bg-color: #E2EBFA;\n",
              "      --hover-fill-color: #174EA6;\n",
              "      --disabled-fill-color: #AAA;\n",
              "      --disabled-bg-color: #DDD;\n",
              "  }\n",
              "\n",
              "  [theme=dark] .colab-df-quickchart {\n",
              "      --bg-color: #3B4455;\n",
              "      --fill-color: #D2E3FC;\n",
              "      --hover-bg-color: #434B5C;\n",
              "      --hover-fill-color: #FFFFFF;\n",
              "      --disabled-bg-color: #3B4455;\n",
              "      --disabled-fill-color: #666;\n",
              "  }\n",
              "\n",
              "  .colab-df-quickchart {\n",
              "    background-color: var(--bg-color);\n",
              "    border: none;\n",
              "    border-radius: 50%;\n",
              "    cursor: pointer;\n",
              "    display: none;\n",
              "    fill: var(--fill-color);\n",
              "    height: 32px;\n",
              "    padding: 0;\n",
              "    width: 32px;\n",
              "  }\n",
              "\n",
              "  .colab-df-quickchart:hover {\n",
              "    background-color: var(--hover-bg-color);\n",
              "    box-shadow: 0 1px 2px rgba(60, 64, 67, 0.3), 0 1px 3px 1px rgba(60, 64, 67, 0.15);\n",
              "    fill: var(--button-hover-fill-color);\n",
              "  }\n",
              "\n",
              "  .colab-df-quickchart-complete:disabled,\n",
              "  .colab-df-quickchart-complete:disabled:hover {\n",
              "    background-color: var(--disabled-bg-color);\n",
              "    fill: var(--disabled-fill-color);\n",
              "    box-shadow: none;\n",
              "  }\n",
              "\n",
              "  .colab-df-spinner {\n",
              "    border: 2px solid var(--fill-color);\n",
              "    border-color: transparent;\n",
              "    border-bottom-color: var(--fill-color);\n",
              "    animation:\n",
              "      spin 1s steps(1) infinite;\n",
              "  }\n",
              "\n",
              "  @keyframes spin {\n",
              "    0% {\n",
              "      border-color: transparent;\n",
              "      border-bottom-color: var(--fill-color);\n",
              "      border-left-color: var(--fill-color);\n",
              "    }\n",
              "    20% {\n",
              "      border-color: transparent;\n",
              "      border-left-color: var(--fill-color);\n",
              "      border-top-color: var(--fill-color);\n",
              "    }\n",
              "    30% {\n",
              "      border-color: transparent;\n",
              "      border-left-color: var(--fill-color);\n",
              "      border-top-color: var(--fill-color);\n",
              "      border-right-color: var(--fill-color);\n",
              "    }\n",
              "    40% {\n",
              "      border-color: transparent;\n",
              "      border-right-color: var(--fill-color);\n",
              "      border-top-color: var(--fill-color);\n",
              "    }\n",
              "    60% {\n",
              "      border-color: transparent;\n",
              "      border-right-color: var(--fill-color);\n",
              "    }\n",
              "    80% {\n",
              "      border-color: transparent;\n",
              "      border-right-color: var(--fill-color);\n",
              "      border-bottom-color: var(--fill-color);\n",
              "    }\n",
              "    90% {\n",
              "      border-color: transparent;\n",
              "      border-bottom-color: var(--fill-color);\n",
              "    }\n",
              "  }\n",
              "</style>\n",
              "\n",
              "  <script>\n",
              "    async function quickchart(key) {\n",
              "      const quickchartButtonEl =\n",
              "        document.querySelector('#' + key + ' button');\n",
              "      quickchartButtonEl.disabled = true;  // To prevent multiple clicks.\n",
              "      quickchartButtonEl.classList.add('colab-df-spinner');\n",
              "      try {\n",
              "        const charts = await google.colab.kernel.invokeFunction(\n",
              "            'suggestCharts', [key], {});\n",
              "      } catch (error) {\n",
              "        console.error('Error during call to suggestCharts:', error);\n",
              "      }\n",
              "      quickchartButtonEl.classList.remove('colab-df-spinner');\n",
              "      quickchartButtonEl.classList.add('colab-df-quickchart-complete');\n",
              "    }\n",
              "    (() => {\n",
              "      let quickchartButtonEl =\n",
              "        document.querySelector('#df-1bfeb620-087a-404d-86f8-26fa445563ec button');\n",
              "      quickchartButtonEl.style.display =\n",
              "        google.colab.kernel.accessAllowed ? 'block' : 'none';\n",
              "    })();\n",
              "  </script>\n",
              "</div>\n",
              "\n",
              "  <div id=\"id_aacebc2f-e3c9-42a1-bb4d-8d10d38f05d5\">\n",
              "    <style>\n",
              "      .colab-df-generate {\n",
              "        background-color: #E8F0FE;\n",
              "        border: none;\n",
              "        border-radius: 50%;\n",
              "        cursor: pointer;\n",
              "        display: none;\n",
              "        fill: #1967D2;\n",
              "        height: 32px;\n",
              "        padding: 0 0 0 0;\n",
              "        width: 32px;\n",
              "      }\n",
              "\n",
              "      .colab-df-generate:hover {\n",
              "        background-color: #E2EBFA;\n",
              "        box-shadow: 0px 1px 2px rgba(60, 64, 67, 0.3), 0px 1px 3px 1px rgba(60, 64, 67, 0.15);\n",
              "        fill: #174EA6;\n",
              "      }\n",
              "\n",
              "      [theme=dark] .colab-df-generate {\n",
              "        background-color: #3B4455;\n",
              "        fill: #D2E3FC;\n",
              "      }\n",
              "\n",
              "      [theme=dark] .colab-df-generate:hover {\n",
              "        background-color: #434B5C;\n",
              "        box-shadow: 0px 1px 3px 1px rgba(0, 0, 0, 0.15);\n",
              "        filter: drop-shadow(0px 1px 2px rgba(0, 0, 0, 0.3));\n",
              "        fill: #FFFFFF;\n",
              "      }\n",
              "    </style>\n",
              "    <button class=\"colab-df-generate\" onclick=\"generateWithVariable('genero_contigencia')\"\n",
              "            title=\"Generate code using this dataframe.\"\n",
              "            style=\"display:none;\">\n",
              "\n",
              "  <svg xmlns=\"http://www.w3.org/2000/svg\" height=\"24px\"viewBox=\"0 0 24 24\"\n",
              "       width=\"24px\">\n",
              "    <path d=\"M7,19H8.4L18.45,9,17,7.55,7,17.6ZM5,21V16.75L18.45,3.32a2,2,0,0,1,2.83,0l1.4,1.43a1.91,1.91,0,0,1,.58,1.4,1.91,1.91,0,0,1-.58,1.4L9.25,21ZM18.45,9,17,7.55Zm-12,3A5.31,5.31,0,0,0,4.9,8.1,5.31,5.31,0,0,0,1,6.5,5.31,5.31,0,0,0,4.9,4.9,5.31,5.31,0,0,0,6.5,1,5.31,5.31,0,0,0,8.1,4.9,5.31,5.31,0,0,0,12,6.5,5.46,5.46,0,0,0,6.5,12Z\"/>\n",
              "  </svg>\n",
              "    </button>\n",
              "    <script>\n",
              "      (() => {\n",
              "      const buttonEl =\n",
              "        document.querySelector('#id_aacebc2f-e3c9-42a1-bb4d-8d10d38f05d5 button.colab-df-generate');\n",
              "      buttonEl.style.display =\n",
              "        google.colab.kernel.accessAllowed ? 'block' : 'none';\n",
              "\n",
              "      buttonEl.onclick = () => {\n",
              "        google.colab.notebook.generateWithVariable('genero_contigencia');\n",
              "      }\n",
              "      })();\n",
              "    </script>\n",
              "  </div>\n",
              "\n",
              "    </div>\n",
              "  </div>\n"
            ],
            "application/vnd.google.colaboratory.intrinsic+json": {
              "type": "dataframe",
              "variable_name": "genero_contigencia",
              "summary": "{\n  \"name\": \"genero_contigencia\",\n  \"rows\": 3,\n  \"fields\": [\n    {\n      \"column\": \"id_saudavel\",\n      \"properties\": {\n        \"dtype\": \"number\",\n        \"std\": 141,\n        \"min\": 244,\n        \"max\": 490,\n        \"num_unique_values\": 3,\n        \"samples\": [\n          246,\n          244,\n          490\n        ],\n        \"semantic_type\": \"\",\n        \"description\": \"\"\n      }\n    },\n    {\n      \"column\": \"id_condicao\",\n      \"properties\": {\n        \"dtype\": \"number\",\n        \"std\": 147,\n        \"min\": 253,\n        \"max\": 510,\n        \"num_unique_values\": 3,\n        \"samples\": [\n          257,\n          253,\n          510\n        ],\n        \"semantic_type\": \"\",\n        \"description\": \"\"\n      }\n    }\n  ]\n}"
            }
          },
          "metadata": {},
          "execution_count": 55
        }
      ]
    },
    {
      "cell_type": "code",
      "source": [
        "# Realizando o teste chi-quadrado para os gêneros do grupo saudável e com condições de saúde\n",
        "chi2g, pg, _, _ = stats.chi2_contingency(etnia_contingencia)\n",
        "\n",
        "# Interpretando os resultados\n",
        "print(\"Valor p:\", pg)\n",
        "\n",
        "# Nível de significância (alpha)\n",
        "alpha = 0.05\n",
        "\n",
        "if pg < alpha:\n",
        "    print(\"Amostras não são independentes (p <\", alpha, \")\")\n",
        "else:\n",
        "    print(\"Amostras podem ser independentes (p >=\", alpha, \")\")"
      ],
      "metadata": {
        "colab": {
          "base_uri": "https://localhost:8080/"
        },
        "id": "CW1ScXgGYwva",
        "outputId": "408b0e28-6bae-4c2e-bbfa-3e85380f0edd"
      },
      "id": "CW1ScXgGYwva",
      "execution_count": null,
      "outputs": [
        {
          "output_type": "stream",
          "name": "stdout",
          "text": [
            "Valor p: 0.9298536180140348\n",
            "Amostras podem ser independentes (p >= 0.05 )\n"
          ]
        }
      ]
    },
    {
      "cell_type": "markdown",
      "source": [
        "Portanto, avaliando e considerando os testes realizados (T-student) e QuiQuadrado, existem fortes evidências que corroboram com a NÃO DEPENDÊNCIA das amostras saudáveis e com condições de saúde."
      ],
      "metadata": {
        "id": "W5m6BNt0Z9MB"
      },
      "id": "W5m6BNt0Z9MB"
    },
    {
      "cell_type": "markdown",
      "source": [
        "### 5.\tAgora considere o um conjunto de pessoas aleatória que representam o index do dataframe,  índices = ([690, 894,  67, 201, 364,  19,  60, 319, 588, 643, 855, 623, 530, 174, 105, 693,   6, 462, 973, 607, 811, 346, 354, 966, 943, 372]), podemos dizer que a pressão arterial média para pacientes com condições de saúde adicionais é igual à pressão arterial média para pacientes sem condições adicionais de saúde? Considere o nível de significância a 6%."
      ],
      "metadata": {
        "id": "H9brUSilaIUp"
      },
      "id": "H9brUSilaIUp"
    },
    {
      "cell_type": "code",
      "source": [
        "indices =  [690, 894, 67, 201, 364, 19, 60, 319, 588, 643, 855, 623, 530, 174, 105, 693, 6, 462, 973, 607, 811, 346, 354, 966, 943, 372]\n",
        "\n",
        "amostragem  = df.iloc[indices]"
      ],
      "metadata": {
        "id": "9AVEKjeoRQwx"
      },
      "id": "9AVEKjeoRQwx",
      "execution_count": null,
      "outputs": []
    },
    {
      "cell_type": "markdown",
      "source": [
        "Para comparar duas amostras (saudáveis e com condições de saúde adicional) e suas respectivas médias, separamos em dois grupos:"
      ],
      "metadata": {
        "id": "ianYKAnsaenU"
      },
      "id": "ianYKAnsaenU"
    },
    {
      "cell_type": "code",
      "source": [
        "amostra_saude = amostragem['Pressao_Arterial'][amostragem['Estado_Saude'] == 0]\n",
        "amostra_condicoes = amostragem['Pressao_Arterial'][amostragem['Estado_Saude'] == 1]"
      ],
      "metadata": {
        "id": "FYa38QB9aTZj"
      },
      "id": "FYa38QB9aTZj",
      "execution_count": null,
      "outputs": []
    },
    {
      "cell_type": "markdown",
      "source": [
        "O alpha foi definido como 6%, portanto, 0.06 de nível de significância. E utilizamos o teste ttest._ind para verificar as médias de grupos independentes."
      ],
      "metadata": {
        "id": "5UujPIaj8L1K"
      },
      "id": "5UujPIaj8L1K"
    },
    {
      "cell_type": "markdown",
      "source": [
        "DEFININDO AS HIPÓTESES:\n",
        "\n",
        "* Hipótese Nula (H0): A média da pressão arterial da população do primeiro grupo (saudáveis) é igual à média da população do segundo grupo (com condições de saúde adicionais). Em outras palavras, não há diferença significativa entre as médias dos dois grupos.\n",
        "\n",
        "* Hipótese Alternativa (H1 ou Ha): As médias das duas populações são diferentes"
      ],
      "metadata": {
        "id": "EXeisCEEbQbJ"
      },
      "id": "EXeisCEEbQbJ"
    },
    {
      "cell_type": "code",
      "source": [
        "# Realizando o teste t\n",
        "alpha = 0.06\n",
        "t_stats, p_valor = stats.ttest_ind(amostra_saude, amostra_condicoes)\n",
        "\n",
        "print(\"T-statistic:\", t_stats)\n",
        "print(\"P-value:\", p_valor)\n",
        "\n",
        "# Decidindo se rejeita a hipótese nula\n",
        "if p_valor < alpha:\n",
        "    print(\"Rejeitamos a hipótese nula\")\n",
        "else:\n",
        "    print(\"Não rejeitamos a hipótese nula\")"
      ],
      "metadata": {
        "colab": {
          "base_uri": "https://localhost:8080/"
        },
        "id": "1qpaQcvq7AfM",
        "outputId": "21196404-0781-4cab-99bd-da697338cb6d"
      },
      "id": "1qpaQcvq7AfM",
      "execution_count": null,
      "outputs": [
        {
          "output_type": "stream",
          "name": "stdout",
          "text": [
            "T-statistic: -0.08124024162329026\n",
            "P-value: 0.9359246016248415\n",
            "Não rejeitamos a hipótese nula\n"
          ]
        }
      ]
    },
    {
      "cell_type": "markdown",
      "source": [
        "### 6.\tExiste uma diferença significativa na pressão arterial média entre diferentes grupos étnicos nesta população? (Teste ANOVA, alpha é 5%)"
      ],
      "metadata": {
        "id": "Q3TnY2dBDkqF"
      },
      "id": "Q3TnY2dBDkqF"
    },
    {
      "cell_type": "markdown",
      "source": [
        "#### a. |  c.\n",
        "\n",
        "* Hipótese Nula (H0): A pressão arterial média é a mesma em todos os grupos étnicos.\n",
        "*\tHipótese Alternativa (H1): Há uma diferença significativa na pressão arterial média entre pelo menos dois grupos étnicos nesta população.\n"
      ],
      "metadata": {
        "id": "XvUpufbDDosX"
      },
      "id": "XvUpufbDDosX"
    },
    {
      "cell_type": "code",
      "source": [
        "df[['Nome_Etnia', 'Etnia']].value_counts()"
      ],
      "metadata": {
        "colab": {
          "base_uri": "https://localhost:8080/"
        },
        "id": "ACJlxbk3DvFc",
        "outputId": "a53e57f1-ae0f-4aca-8901-1b174b1474d9"
      },
      "id": "ACJlxbk3DvFc",
      "execution_count": null,
      "outputs": [
        {
          "output_type": "execute_result",
          "data": {
            "text/plain": [
              "Nome_Etnia      Etnia\n",
              "Afro-americano  1        260\n",
              "Hispânico       2        255\n",
              "Asiático        3        252\n",
              "Caucasiano      0        233\n",
              "Name: count, dtype: int64"
            ]
          },
          "metadata": {},
          "execution_count": 60
        }
      ]
    },
    {
      "cell_type": "markdown",
      "source": [
        "Para utilizar o teste ANOVA, precisamos dos dados separados em diferentes grupos para cada etnia:"
      ],
      "metadata": {
        "id": "8lL1CkyWF357"
      },
      "id": "8lL1CkyWF357"
    },
    {
      "cell_type": "code",
      "source": [
        "# Agrupando pressões arteriais por 'Nome_Etnia'\n",
        "grupos = df.groupby('Nome_Etnia')['Pressao_Arterial'].apply(list)"
      ],
      "metadata": {
        "id": "BkpN4PndDvBJ"
      },
      "id": "BkpN4PndDvBJ",
      "execution_count": null,
      "outputs": []
    },
    {
      "cell_type": "code",
      "source": [
        "# Extraindo os dados para cada grupo\n",
        "pressao_afro_americano = grupos['Afro-americano']\n",
        "pressao_hispanico = grupos['Hispânico']\n",
        "pressao_asiatico = grupos['Asiático']\n",
        "pressao_caucasiano = grupos['Caucasiano']"
      ],
      "metadata": {
        "id": "SGqo2KtmHFZr"
      },
      "id": "SGqo2KtmHFZr",
      "execution_count": null,
      "outputs": []
    },
    {
      "cell_type": "code",
      "source": [
        "# Calculando o teste ANOVA\n",
        "f_stat, p_value = stats.f_oneway(pressao_afro_americano, pressao_hispanico, pressao_asiatico, pressao_caucasiano)\n",
        "\n",
        "alpha = 0.05\n",
        "\n",
        "# Imprimindo os resultados\n",
        "print(\"F-statistic:\", f_stat)\n",
        "print(\"P-value:\", p_value)\n",
        "\n",
        "# Interpretando os resultados\n",
        "if p_value < alpha:\n",
        "    print(\"Rejeita H0: Há diferenças significativas entre as médias de Pressão Arterial dos diferentes grupos étnicos\")\n",
        "else:\n",
        "    print(\"Não rejeitamos H0: As evidências corroboram que a pressão arterial média é a mesma em todos os grupos étnicos.\")"
      ],
      "metadata": {
        "colab": {
          "base_uri": "https://localhost:8080/"
        },
        "id": "Uds1waJXHKFZ",
        "outputId": "538b3ee9-9893-47ee-e819-00a594c7c374"
      },
      "id": "Uds1waJXHKFZ",
      "execution_count": null,
      "outputs": [
        {
          "output_type": "stream",
          "name": "stdout",
          "text": [
            "F-statistic: 0.23245296261596837\n",
            "P-value: 0.873800123850745\n",
            "Não rejeitamos H0: As evidências corroboram que a pressão arterial média é a mesma em todos os grupos étnicos.\n"
          ]
        }
      ]
    },
    {
      "cell_type": "markdown",
      "source": [
        "#### b.\tHi: Existe uma associação entre a idade dos pacientes e sua pressão arterial?\n",
        "\n",
        "i.\tHipótese Nula (H0): A idade dos pacientes é independente da pressão arterial.\n",
        "\n",
        "ii.\tHipótese Alternativa (H1): A idade dos pacientes está associada à sua pressão arterial.\n"
      ],
      "metadata": {
        "id": "dvlAt0O3Duty"
      },
      "id": "dvlAt0O3Duty"
    },
    {
      "cell_type": "markdown",
      "source": [
        "Idade x Pressão = Variáveis Categóricas.\n",
        "\n",
        "Portanto, para associação, seria indicado o uso do Qui-Quadrado (chi2contigency)"
      ],
      "metadata": {
        "id": "unE0boHfH3x8"
      },
      "id": "unE0boHfH3x8"
    },
    {
      "cell_type": "markdown",
      "source": [
        "Devemos organizar as idades em faixas (bins) e suas pressões para criar a tabela de contingência; Assim, verifica-se os máximos e mínimos das idades e pressão para criar os limites para categorizar/dividir."
      ],
      "metadata": {
        "id": "aw18IVI8KOE2"
      },
      "id": "aw18IVI8KOE2"
    },
    {
      "cell_type": "code",
      "source": [
        "df[['Pressao_Arterial', 'Idade']].describe()"
      ],
      "metadata": {
        "colab": {
          "base_uri": "https://localhost:8080/"
        },
        "id": "Sk2BL1WmIvHE",
        "outputId": "94d05024-2657-4364-a841-3b4fa41b8cde"
      },
      "id": "Sk2BL1WmIvHE",
      "execution_count": null,
      "outputs": [
        {
          "output_type": "execute_result",
          "data": {
            "text/plain": [
              "       Pressao_Arterial        Idade\n",
              "count       1000.000000  1000.000000\n",
              "mean         150.375623    49.757000\n",
              "std            9.943613    11.682998\n",
              "min          112.929821    30.000000\n",
              "25%          144.240948    40.000000\n",
              "50%          150.455624    49.000000\n",
              "75%          156.792113    60.000000\n",
              "max          181.803131    70.000000"
            ],
            "text/html": [
              "\n",
              "  <div id=\"df-760489c4-916b-4f6f-bc64-84ea5f65ea15\" class=\"colab-df-container\">\n",
              "    <div>\n",
              "<style scoped>\n",
              "    .dataframe tbody tr th:only-of-type {\n",
              "        vertical-align: middle;\n",
              "    }\n",
              "\n",
              "    .dataframe tbody tr th {\n",
              "        vertical-align: top;\n",
              "    }\n",
              "\n",
              "    .dataframe thead th {\n",
              "        text-align: right;\n",
              "    }\n",
              "</style>\n",
              "<table border=\"1\" class=\"dataframe\">\n",
              "  <thead>\n",
              "    <tr style=\"text-align: right;\">\n",
              "      <th></th>\n",
              "      <th>Pressao_Arterial</th>\n",
              "      <th>Idade</th>\n",
              "    </tr>\n",
              "  </thead>\n",
              "  <tbody>\n",
              "    <tr>\n",
              "      <th>count</th>\n",
              "      <td>1000.000000</td>\n",
              "      <td>1000.000000</td>\n",
              "    </tr>\n",
              "    <tr>\n",
              "      <th>mean</th>\n",
              "      <td>150.375623</td>\n",
              "      <td>49.757000</td>\n",
              "    </tr>\n",
              "    <tr>\n",
              "      <th>std</th>\n",
              "      <td>9.943613</td>\n",
              "      <td>11.682998</td>\n",
              "    </tr>\n",
              "    <tr>\n",
              "      <th>min</th>\n",
              "      <td>112.929821</td>\n",
              "      <td>30.000000</td>\n",
              "    </tr>\n",
              "    <tr>\n",
              "      <th>25%</th>\n",
              "      <td>144.240948</td>\n",
              "      <td>40.000000</td>\n",
              "    </tr>\n",
              "    <tr>\n",
              "      <th>50%</th>\n",
              "      <td>150.455624</td>\n",
              "      <td>49.000000</td>\n",
              "    </tr>\n",
              "    <tr>\n",
              "      <th>75%</th>\n",
              "      <td>156.792113</td>\n",
              "      <td>60.000000</td>\n",
              "    </tr>\n",
              "    <tr>\n",
              "      <th>max</th>\n",
              "      <td>181.803131</td>\n",
              "      <td>70.000000</td>\n",
              "    </tr>\n",
              "  </tbody>\n",
              "</table>\n",
              "</div>\n",
              "    <div class=\"colab-df-buttons\">\n",
              "\n",
              "  <div class=\"colab-df-container\">\n",
              "    <button class=\"colab-df-convert\" onclick=\"convertToInteractive('df-760489c4-916b-4f6f-bc64-84ea5f65ea15')\"\n",
              "            title=\"Convert this dataframe to an interactive table.\"\n",
              "            style=\"display:none;\">\n",
              "\n",
              "  <svg xmlns=\"http://www.w3.org/2000/svg\" height=\"24px\" viewBox=\"0 -960 960 960\">\n",
              "    <path d=\"M120-120v-720h720v720H120Zm60-500h600v-160H180v160Zm220 220h160v-160H400v160Zm0 220h160v-160H400v160ZM180-400h160v-160H180v160Zm440 0h160v-160H620v160ZM180-180h160v-160H180v160Zm440 0h160v-160H620v160Z\"/>\n",
              "  </svg>\n",
              "    </button>\n",
              "\n",
              "  <style>\n",
              "    .colab-df-container {\n",
              "      display:flex;\n",
              "      gap: 12px;\n",
              "    }\n",
              "\n",
              "    .colab-df-convert {\n",
              "      background-color: #E8F0FE;\n",
              "      border: none;\n",
              "      border-radius: 50%;\n",
              "      cursor: pointer;\n",
              "      display: none;\n",
              "      fill: #1967D2;\n",
              "      height: 32px;\n",
              "      padding: 0 0 0 0;\n",
              "      width: 32px;\n",
              "    }\n",
              "\n",
              "    .colab-df-convert:hover {\n",
              "      background-color: #E2EBFA;\n",
              "      box-shadow: 0px 1px 2px rgba(60, 64, 67, 0.3), 0px 1px 3px 1px rgba(60, 64, 67, 0.15);\n",
              "      fill: #174EA6;\n",
              "    }\n",
              "\n",
              "    .colab-df-buttons div {\n",
              "      margin-bottom: 4px;\n",
              "    }\n",
              "\n",
              "    [theme=dark] .colab-df-convert {\n",
              "      background-color: #3B4455;\n",
              "      fill: #D2E3FC;\n",
              "    }\n",
              "\n",
              "    [theme=dark] .colab-df-convert:hover {\n",
              "      background-color: #434B5C;\n",
              "      box-shadow: 0px 1px 3px 1px rgba(0, 0, 0, 0.15);\n",
              "      filter: drop-shadow(0px 1px 2px rgba(0, 0, 0, 0.3));\n",
              "      fill: #FFFFFF;\n",
              "    }\n",
              "  </style>\n",
              "\n",
              "    <script>\n",
              "      const buttonEl =\n",
              "        document.querySelector('#df-760489c4-916b-4f6f-bc64-84ea5f65ea15 button.colab-df-convert');\n",
              "      buttonEl.style.display =\n",
              "        google.colab.kernel.accessAllowed ? 'block' : 'none';\n",
              "\n",
              "      async function convertToInteractive(key) {\n",
              "        const element = document.querySelector('#df-760489c4-916b-4f6f-bc64-84ea5f65ea15');\n",
              "        const dataTable =\n",
              "          await google.colab.kernel.invokeFunction('convertToInteractive',\n",
              "                                                    [key], {});\n",
              "        if (!dataTable) return;\n",
              "\n",
              "        const docLinkHtml = 'Like what you see? Visit the ' +\n",
              "          '<a target=\"_blank\" href=https://colab.research.google.com/notebooks/data_table.ipynb>data table notebook</a>'\n",
              "          + ' to learn more about interactive tables.';\n",
              "        element.innerHTML = '';\n",
              "        dataTable['output_type'] = 'display_data';\n",
              "        await google.colab.output.renderOutput(dataTable, element);\n",
              "        const docLink = document.createElement('div');\n",
              "        docLink.innerHTML = docLinkHtml;\n",
              "        element.appendChild(docLink);\n",
              "      }\n",
              "    </script>\n",
              "  </div>\n",
              "\n",
              "\n",
              "<div id=\"df-4136b041-0cfa-41f1-a700-777e003b179f\">\n",
              "  <button class=\"colab-df-quickchart\" onclick=\"quickchart('df-4136b041-0cfa-41f1-a700-777e003b179f')\"\n",
              "            title=\"Suggest charts\"\n",
              "            style=\"display:none;\">\n",
              "\n",
              "<svg xmlns=\"http://www.w3.org/2000/svg\" height=\"24px\"viewBox=\"0 0 24 24\"\n",
              "     width=\"24px\">\n",
              "    <g>\n",
              "        <path d=\"M19 3H5c-1.1 0-2 .9-2 2v14c0 1.1.9 2 2 2h14c1.1 0 2-.9 2-2V5c0-1.1-.9-2-2-2zM9 17H7v-7h2v7zm4 0h-2V7h2v10zm4 0h-2v-4h2v4z\"/>\n",
              "    </g>\n",
              "</svg>\n",
              "  </button>\n",
              "\n",
              "<style>\n",
              "  .colab-df-quickchart {\n",
              "      --bg-color: #E8F0FE;\n",
              "      --fill-color: #1967D2;\n",
              "      --hover-bg-color: #E2EBFA;\n",
              "      --hover-fill-color: #174EA6;\n",
              "      --disabled-fill-color: #AAA;\n",
              "      --disabled-bg-color: #DDD;\n",
              "  }\n",
              "\n",
              "  [theme=dark] .colab-df-quickchart {\n",
              "      --bg-color: #3B4455;\n",
              "      --fill-color: #D2E3FC;\n",
              "      --hover-bg-color: #434B5C;\n",
              "      --hover-fill-color: #FFFFFF;\n",
              "      --disabled-bg-color: #3B4455;\n",
              "      --disabled-fill-color: #666;\n",
              "  }\n",
              "\n",
              "  .colab-df-quickchart {\n",
              "    background-color: var(--bg-color);\n",
              "    border: none;\n",
              "    border-radius: 50%;\n",
              "    cursor: pointer;\n",
              "    display: none;\n",
              "    fill: var(--fill-color);\n",
              "    height: 32px;\n",
              "    padding: 0;\n",
              "    width: 32px;\n",
              "  }\n",
              "\n",
              "  .colab-df-quickchart:hover {\n",
              "    background-color: var(--hover-bg-color);\n",
              "    box-shadow: 0 1px 2px rgba(60, 64, 67, 0.3), 0 1px 3px 1px rgba(60, 64, 67, 0.15);\n",
              "    fill: var(--button-hover-fill-color);\n",
              "  }\n",
              "\n",
              "  .colab-df-quickchart-complete:disabled,\n",
              "  .colab-df-quickchart-complete:disabled:hover {\n",
              "    background-color: var(--disabled-bg-color);\n",
              "    fill: var(--disabled-fill-color);\n",
              "    box-shadow: none;\n",
              "  }\n",
              "\n",
              "  .colab-df-spinner {\n",
              "    border: 2px solid var(--fill-color);\n",
              "    border-color: transparent;\n",
              "    border-bottom-color: var(--fill-color);\n",
              "    animation:\n",
              "      spin 1s steps(1) infinite;\n",
              "  }\n",
              "\n",
              "  @keyframes spin {\n",
              "    0% {\n",
              "      border-color: transparent;\n",
              "      border-bottom-color: var(--fill-color);\n",
              "      border-left-color: var(--fill-color);\n",
              "    }\n",
              "    20% {\n",
              "      border-color: transparent;\n",
              "      border-left-color: var(--fill-color);\n",
              "      border-top-color: var(--fill-color);\n",
              "    }\n",
              "    30% {\n",
              "      border-color: transparent;\n",
              "      border-left-color: var(--fill-color);\n",
              "      border-top-color: var(--fill-color);\n",
              "      border-right-color: var(--fill-color);\n",
              "    }\n",
              "    40% {\n",
              "      border-color: transparent;\n",
              "      border-right-color: var(--fill-color);\n",
              "      border-top-color: var(--fill-color);\n",
              "    }\n",
              "    60% {\n",
              "      border-color: transparent;\n",
              "      border-right-color: var(--fill-color);\n",
              "    }\n",
              "    80% {\n",
              "      border-color: transparent;\n",
              "      border-right-color: var(--fill-color);\n",
              "      border-bottom-color: var(--fill-color);\n",
              "    }\n",
              "    90% {\n",
              "      border-color: transparent;\n",
              "      border-bottom-color: var(--fill-color);\n",
              "    }\n",
              "  }\n",
              "</style>\n",
              "\n",
              "  <script>\n",
              "    async function quickchart(key) {\n",
              "      const quickchartButtonEl =\n",
              "        document.querySelector('#' + key + ' button');\n",
              "      quickchartButtonEl.disabled = true;  // To prevent multiple clicks.\n",
              "      quickchartButtonEl.classList.add('colab-df-spinner');\n",
              "      try {\n",
              "        const charts = await google.colab.kernel.invokeFunction(\n",
              "            'suggestCharts', [key], {});\n",
              "      } catch (error) {\n",
              "        console.error('Error during call to suggestCharts:', error);\n",
              "      }\n",
              "      quickchartButtonEl.classList.remove('colab-df-spinner');\n",
              "      quickchartButtonEl.classList.add('colab-df-quickchart-complete');\n",
              "    }\n",
              "    (() => {\n",
              "      let quickchartButtonEl =\n",
              "        document.querySelector('#df-4136b041-0cfa-41f1-a700-777e003b179f button');\n",
              "      quickchartButtonEl.style.display =\n",
              "        google.colab.kernel.accessAllowed ? 'block' : 'none';\n",
              "    })();\n",
              "  </script>\n",
              "</div>\n",
              "\n",
              "    </div>\n",
              "  </div>\n"
            ],
            "application/vnd.google.colaboratory.intrinsic+json": {
              "type": "dataframe",
              "summary": "{\n  \"name\": \"df[['Pressao_Arterial', 'Idade']]\",\n  \"rows\": 8,\n  \"fields\": [\n    {\n      \"column\": \"Pressao_Arterial\",\n      \"properties\": {\n        \"dtype\": \"number\",\n        \"std\": 312.17693628228164,\n        \"min\": 9.943612581359622,\n        \"max\": 1000.0,\n        \"num_unique_values\": 8,\n        \"samples\": [\n          150.37562261552253,\n          150.45562389214672,\n          1000.0\n        ],\n        \"semantic_type\": \"\",\n        \"description\": \"\"\n      }\n    },\n    {\n      \"column\": \"Idade\",\n      \"properties\": {\n        \"dtype\": \"number\",\n        \"std\": 338.3482204414311,\n        \"min\": 11.682998050305557,\n        \"max\": 1000.0,\n        \"num_unique_values\": 8,\n        \"samples\": [\n          49.757,\n          49.0,\n          1000.0\n        ],\n        \"semantic_type\": \"\",\n        \"description\": \"\"\n      }\n    }\n  ]\n}"
            }
          },
          "metadata": {},
          "execution_count": 64
        }
      ]
    },
    {
      "cell_type": "code",
      "source": [
        "# Categorizando a idade\n",
        "df['idade_cat'] = pd.cut(df['Idade'], bins=[30, 40, 50, 60, 70], labels=['30-40', '41-50', '51-60', '61-70'])\n",
        "\n",
        "# Categorizando a pressão arterial\n",
        "# Assumindo valores hipotéticos para as categorias de pressão arterial\n",
        "df['pressao_cat'] = pd.cut(df['Pressao_Arterial'], bins=[0, 120, 140, 160, 190], labels=['Normal', 'Elevada', 'Alta', 'Muito Alta'])"
      ],
      "metadata": {
        "id": "GaXEbB4nKAM9"
      },
      "id": "GaXEbB4nKAM9",
      "execution_count": null,
      "outputs": []
    },
    {
      "cell_type": "markdown",
      "source": [
        "Criação da tabela de contingência com a função crosstab:"
      ],
      "metadata": {
        "id": "-1fZBnfaKegH"
      },
      "id": "-1fZBnfaKegH"
    },
    {
      "cell_type": "code",
      "source": [
        "# Criando a tabela de contingência\n",
        "tabela_contingencia = pd.crosstab(df['idade_cat'], df['pressao_cat'])"
      ],
      "metadata": {
        "id": "_-nHqOWTKhPg"
      },
      "id": "_-nHqOWTKhPg",
      "execution_count": null,
      "outputs": []
    },
    {
      "cell_type": "code",
      "source": [
        "# Realizando o teste de Qui-Quadrado\n",
        "chi2, p_value, dof, expected = stats.chi2_contingency(tabela_contingencia)\n",
        "\n",
        "# Imprimindo os resultados\n",
        "print(\"Chi-squared:\", chi2)\n",
        "print(\"P-value:\", p_value)\n",
        "print(\"Degrees of freedom:\", dof)\n",
        "\n",
        "alpha = 0.05\n",
        "\n",
        "# Interpretando os resultados\n",
        "if p_value < alpha:\n",
        "    print(\"Rejeitamos a hipótese nula, existe uma associação entre a idade e a pressão arterial.\")\n",
        "else:\n",
        "    print(\"Não rejeitamos a hipótese nula, o resultado corrobora que a idade é independente da pressão arterial.\")"
      ],
      "metadata": {
        "colab": {
          "base_uri": "https://localhost:8080/"
        },
        "id": "8kYElRW8EEtR",
        "outputId": "c9feab97-e804-42d0-a52e-996b9c5a3022"
      },
      "id": "8kYElRW8EEtR",
      "execution_count": null,
      "outputs": [
        {
          "output_type": "stream",
          "name": "stdout",
          "text": [
            "Chi-squared: 20.15226596015422\n",
            "P-value: 0.01699561893547992\n",
            "Degrees of freedom: 9\n",
            "Rejeitamos a hipótese nula, existe uma associação entre a idade e a pressão arterial.\n"
          ]
        }
      ]
    },
    {
      "cell_type": "markdown",
      "source": [
        "### 7.\tLúcia é uma pesquisadora e tem o objetivo de entender a relação de gênero neste grupo de pacientes. Acredita-se que há uma relação entre o sexo e condições de saúde adicionais. (Teste qui-quadrado)"
      ],
      "metadata": {
        "id": "fT0rcdKZN90p"
      },
      "id": "fT0rcdKZN90p"
    },
    {
      "cell_type": "markdown",
      "source": [
        "* Hipótese Nula (H0): Há relação entre o sexo e condição de saúde adicional (tipo 1)\n",
        "* Hipótese Alternativa (H1): Não há uma correlação entre o sexo e condições de saúde adicionais."
      ],
      "metadata": {
        "id": "uNSq7NukOwF6"
      },
      "id": "uNSq7NukOwF6"
    },
    {
      "cell_type": "code",
      "source": [
        "df_original.head()"
      ],
      "metadata": {
        "colab": {
          "base_uri": "https://localhost:8080/"
        },
        "id": "_sfc72krSrgX",
        "outputId": "9e74fd85-c6d3-4fe9-9e44-c2a1d211f7c9"
      },
      "id": "_sfc72krSrgX",
      "execution_count": null,
      "outputs": [
        {
          "output_type": "execute_result",
          "data": {
            "text/plain": [
              "   Unnamed: 0  Pressao_Arterial  Idade  Genero  Etnia  Estado_Saude  \\\n",
              "0           0        142.755809     31       1      1             1   \n",
              "1           1        161.878468     35       1      1             0   \n",
              "2           2        161.508259     39       0      3             1   \n",
              "3           3        144.979408     43       1      3             1   \n",
              "4           4        162.502954     55       0      2             1   \n",
              "\n",
              "  Nome_Genero      Nome_Etnia                  Nome_Estado_Saude  \n",
              "0    Feminino  Afro-americano  Com condições de saúde adicionais  \n",
              "1    Feminino  Afro-americano                           Saudável  \n",
              "2   Masculino        Asiático  Com condições de saúde adicionais  \n",
              "3    Feminino        Asiático  Com condições de saúde adicionais  \n",
              "4   Masculino       Hispânico  Com condições de saúde adicionais  "
            ],
            "text/html": [
              "\n",
              "  <div id=\"df-44ce1b3c-d12d-4265-be7f-04600692f4a4\" class=\"colab-df-container\">\n",
              "    <div>\n",
              "<style scoped>\n",
              "    .dataframe tbody tr th:only-of-type {\n",
              "        vertical-align: middle;\n",
              "    }\n",
              "\n",
              "    .dataframe tbody tr th {\n",
              "        vertical-align: top;\n",
              "    }\n",
              "\n",
              "    .dataframe thead th {\n",
              "        text-align: right;\n",
              "    }\n",
              "</style>\n",
              "<table border=\"1\" class=\"dataframe\">\n",
              "  <thead>\n",
              "    <tr style=\"text-align: right;\">\n",
              "      <th></th>\n",
              "      <th>Unnamed: 0</th>\n",
              "      <th>Pressao_Arterial</th>\n",
              "      <th>Idade</th>\n",
              "      <th>Genero</th>\n",
              "      <th>Etnia</th>\n",
              "      <th>Estado_Saude</th>\n",
              "      <th>Nome_Genero</th>\n",
              "      <th>Nome_Etnia</th>\n",
              "      <th>Nome_Estado_Saude</th>\n",
              "    </tr>\n",
              "  </thead>\n",
              "  <tbody>\n",
              "    <tr>\n",
              "      <th>0</th>\n",
              "      <td>0</td>\n",
              "      <td>142.755809</td>\n",
              "      <td>31</td>\n",
              "      <td>1</td>\n",
              "      <td>1</td>\n",
              "      <td>1</td>\n",
              "      <td>Feminino</td>\n",
              "      <td>Afro-americano</td>\n",
              "      <td>Com condições de saúde adicionais</td>\n",
              "    </tr>\n",
              "    <tr>\n",
              "      <th>1</th>\n",
              "      <td>1</td>\n",
              "      <td>161.878468</td>\n",
              "      <td>35</td>\n",
              "      <td>1</td>\n",
              "      <td>1</td>\n",
              "      <td>0</td>\n",
              "      <td>Feminino</td>\n",
              "      <td>Afro-americano</td>\n",
              "      <td>Saudável</td>\n",
              "    </tr>\n",
              "    <tr>\n",
              "      <th>2</th>\n",
              "      <td>2</td>\n",
              "      <td>161.508259</td>\n",
              "      <td>39</td>\n",
              "      <td>0</td>\n",
              "      <td>3</td>\n",
              "      <td>1</td>\n",
              "      <td>Masculino</td>\n",
              "      <td>Asiático</td>\n",
              "      <td>Com condições de saúde adicionais</td>\n",
              "    </tr>\n",
              "    <tr>\n",
              "      <th>3</th>\n",
              "      <td>3</td>\n",
              "      <td>144.979408</td>\n",
              "      <td>43</td>\n",
              "      <td>1</td>\n",
              "      <td>3</td>\n",
              "      <td>1</td>\n",
              "      <td>Feminino</td>\n",
              "      <td>Asiático</td>\n",
              "      <td>Com condições de saúde adicionais</td>\n",
              "    </tr>\n",
              "    <tr>\n",
              "      <th>4</th>\n",
              "      <td>4</td>\n",
              "      <td>162.502954</td>\n",
              "      <td>55</td>\n",
              "      <td>0</td>\n",
              "      <td>2</td>\n",
              "      <td>1</td>\n",
              "      <td>Masculino</td>\n",
              "      <td>Hispânico</td>\n",
              "      <td>Com condições de saúde adicionais</td>\n",
              "    </tr>\n",
              "  </tbody>\n",
              "</table>\n",
              "</div>\n",
              "    <div class=\"colab-df-buttons\">\n",
              "\n",
              "  <div class=\"colab-df-container\">\n",
              "    <button class=\"colab-df-convert\" onclick=\"convertToInteractive('df-44ce1b3c-d12d-4265-be7f-04600692f4a4')\"\n",
              "            title=\"Convert this dataframe to an interactive table.\"\n",
              "            style=\"display:none;\">\n",
              "\n",
              "  <svg xmlns=\"http://www.w3.org/2000/svg\" height=\"24px\" viewBox=\"0 -960 960 960\">\n",
              "    <path d=\"M120-120v-720h720v720H120Zm60-500h600v-160H180v160Zm220 220h160v-160H400v160Zm0 220h160v-160H400v160ZM180-400h160v-160H180v160Zm440 0h160v-160H620v160ZM180-180h160v-160H180v160Zm440 0h160v-160H620v160Z\"/>\n",
              "  </svg>\n",
              "    </button>\n",
              "\n",
              "  <style>\n",
              "    .colab-df-container {\n",
              "      display:flex;\n",
              "      gap: 12px;\n",
              "    }\n",
              "\n",
              "    .colab-df-convert {\n",
              "      background-color: #E8F0FE;\n",
              "      border: none;\n",
              "      border-radius: 50%;\n",
              "      cursor: pointer;\n",
              "      display: none;\n",
              "      fill: #1967D2;\n",
              "      height: 32px;\n",
              "      padding: 0 0 0 0;\n",
              "      width: 32px;\n",
              "    }\n",
              "\n",
              "    .colab-df-convert:hover {\n",
              "      background-color: #E2EBFA;\n",
              "      box-shadow: 0px 1px 2px rgba(60, 64, 67, 0.3), 0px 1px 3px 1px rgba(60, 64, 67, 0.15);\n",
              "      fill: #174EA6;\n",
              "    }\n",
              "\n",
              "    .colab-df-buttons div {\n",
              "      margin-bottom: 4px;\n",
              "    }\n",
              "\n",
              "    [theme=dark] .colab-df-convert {\n",
              "      background-color: #3B4455;\n",
              "      fill: #D2E3FC;\n",
              "    }\n",
              "\n",
              "    [theme=dark] .colab-df-convert:hover {\n",
              "      background-color: #434B5C;\n",
              "      box-shadow: 0px 1px 3px 1px rgba(0, 0, 0, 0.15);\n",
              "      filter: drop-shadow(0px 1px 2px rgba(0, 0, 0, 0.3));\n",
              "      fill: #FFFFFF;\n",
              "    }\n",
              "  </style>\n",
              "\n",
              "    <script>\n",
              "      const buttonEl =\n",
              "        document.querySelector('#df-44ce1b3c-d12d-4265-be7f-04600692f4a4 button.colab-df-convert');\n",
              "      buttonEl.style.display =\n",
              "        google.colab.kernel.accessAllowed ? 'block' : 'none';\n",
              "\n",
              "      async function convertToInteractive(key) {\n",
              "        const element = document.querySelector('#df-44ce1b3c-d12d-4265-be7f-04600692f4a4');\n",
              "        const dataTable =\n",
              "          await google.colab.kernel.invokeFunction('convertToInteractive',\n",
              "                                                    [key], {});\n",
              "        if (!dataTable) return;\n",
              "\n",
              "        const docLinkHtml = 'Like what you see? Visit the ' +\n",
              "          '<a target=\"_blank\" href=https://colab.research.google.com/notebooks/data_table.ipynb>data table notebook</a>'\n",
              "          + ' to learn more about interactive tables.';\n",
              "        element.innerHTML = '';\n",
              "        dataTable['output_type'] = 'display_data';\n",
              "        await google.colab.output.renderOutput(dataTable, element);\n",
              "        const docLink = document.createElement('div');\n",
              "        docLink.innerHTML = docLinkHtml;\n",
              "        element.appendChild(docLink);\n",
              "      }\n",
              "    </script>\n",
              "  </div>\n",
              "\n",
              "\n",
              "<div id=\"df-6987965d-02e8-4afe-a4a6-15b0565f8f3a\">\n",
              "  <button class=\"colab-df-quickchart\" onclick=\"quickchart('df-6987965d-02e8-4afe-a4a6-15b0565f8f3a')\"\n",
              "            title=\"Suggest charts\"\n",
              "            style=\"display:none;\">\n",
              "\n",
              "<svg xmlns=\"http://www.w3.org/2000/svg\" height=\"24px\"viewBox=\"0 0 24 24\"\n",
              "     width=\"24px\">\n",
              "    <g>\n",
              "        <path d=\"M19 3H5c-1.1 0-2 .9-2 2v14c0 1.1.9 2 2 2h14c1.1 0 2-.9 2-2V5c0-1.1-.9-2-2-2zM9 17H7v-7h2v7zm4 0h-2V7h2v10zm4 0h-2v-4h2v4z\"/>\n",
              "    </g>\n",
              "</svg>\n",
              "  </button>\n",
              "\n",
              "<style>\n",
              "  .colab-df-quickchart {\n",
              "      --bg-color: #E8F0FE;\n",
              "      --fill-color: #1967D2;\n",
              "      --hover-bg-color: #E2EBFA;\n",
              "      --hover-fill-color: #174EA6;\n",
              "      --disabled-fill-color: #AAA;\n",
              "      --disabled-bg-color: #DDD;\n",
              "  }\n",
              "\n",
              "  [theme=dark] .colab-df-quickchart {\n",
              "      --bg-color: #3B4455;\n",
              "      --fill-color: #D2E3FC;\n",
              "      --hover-bg-color: #434B5C;\n",
              "      --hover-fill-color: #FFFFFF;\n",
              "      --disabled-bg-color: #3B4455;\n",
              "      --disabled-fill-color: #666;\n",
              "  }\n",
              "\n",
              "  .colab-df-quickchart {\n",
              "    background-color: var(--bg-color);\n",
              "    border: none;\n",
              "    border-radius: 50%;\n",
              "    cursor: pointer;\n",
              "    display: none;\n",
              "    fill: var(--fill-color);\n",
              "    height: 32px;\n",
              "    padding: 0;\n",
              "    width: 32px;\n",
              "  }\n",
              "\n",
              "  .colab-df-quickchart:hover {\n",
              "    background-color: var(--hover-bg-color);\n",
              "    box-shadow: 0 1px 2px rgba(60, 64, 67, 0.3), 0 1px 3px 1px rgba(60, 64, 67, 0.15);\n",
              "    fill: var(--button-hover-fill-color);\n",
              "  }\n",
              "\n",
              "  .colab-df-quickchart-complete:disabled,\n",
              "  .colab-df-quickchart-complete:disabled:hover {\n",
              "    background-color: var(--disabled-bg-color);\n",
              "    fill: var(--disabled-fill-color);\n",
              "    box-shadow: none;\n",
              "  }\n",
              "\n",
              "  .colab-df-spinner {\n",
              "    border: 2px solid var(--fill-color);\n",
              "    border-color: transparent;\n",
              "    border-bottom-color: var(--fill-color);\n",
              "    animation:\n",
              "      spin 1s steps(1) infinite;\n",
              "  }\n",
              "\n",
              "  @keyframes spin {\n",
              "    0% {\n",
              "      border-color: transparent;\n",
              "      border-bottom-color: var(--fill-color);\n",
              "      border-left-color: var(--fill-color);\n",
              "    }\n",
              "    20% {\n",
              "      border-color: transparent;\n",
              "      border-left-color: var(--fill-color);\n",
              "      border-top-color: var(--fill-color);\n",
              "    }\n",
              "    30% {\n",
              "      border-color: transparent;\n",
              "      border-left-color: var(--fill-color);\n",
              "      border-top-color: var(--fill-color);\n",
              "      border-right-color: var(--fill-color);\n",
              "    }\n",
              "    40% {\n",
              "      border-color: transparent;\n",
              "      border-right-color: var(--fill-color);\n",
              "      border-top-color: var(--fill-color);\n",
              "    }\n",
              "    60% {\n",
              "      border-color: transparent;\n",
              "      border-right-color: var(--fill-color);\n",
              "    }\n",
              "    80% {\n",
              "      border-color: transparent;\n",
              "      border-right-color: var(--fill-color);\n",
              "      border-bottom-color: var(--fill-color);\n",
              "    }\n",
              "    90% {\n",
              "      border-color: transparent;\n",
              "      border-bottom-color: var(--fill-color);\n",
              "    }\n",
              "  }\n",
              "</style>\n",
              "\n",
              "  <script>\n",
              "    async function quickchart(key) {\n",
              "      const quickchartButtonEl =\n",
              "        document.querySelector('#' + key + ' button');\n",
              "      quickchartButtonEl.disabled = true;  // To prevent multiple clicks.\n",
              "      quickchartButtonEl.classList.add('colab-df-spinner');\n",
              "      try {\n",
              "        const charts = await google.colab.kernel.invokeFunction(\n",
              "            'suggestCharts', [key], {});\n",
              "      } catch (error) {\n",
              "        console.error('Error during call to suggestCharts:', error);\n",
              "      }\n",
              "      quickchartButtonEl.classList.remove('colab-df-spinner');\n",
              "      quickchartButtonEl.classList.add('colab-df-quickchart-complete');\n",
              "    }\n",
              "    (() => {\n",
              "      let quickchartButtonEl =\n",
              "        document.querySelector('#df-6987965d-02e8-4afe-a4a6-15b0565f8f3a button');\n",
              "      quickchartButtonEl.style.display =\n",
              "        google.colab.kernel.accessAllowed ? 'block' : 'none';\n",
              "    })();\n",
              "  </script>\n",
              "</div>\n",
              "\n",
              "    </div>\n",
              "  </div>\n"
            ],
            "application/vnd.google.colaboratory.intrinsic+json": {
              "type": "dataframe",
              "variable_name": "df_original",
              "summary": "{\n  \"name\": \"df_original\",\n  \"rows\": 1000,\n  \"fields\": [\n    {\n      \"column\": \"Unnamed: 0\",\n      \"properties\": {\n        \"dtype\": \"number\",\n        \"std\": 288,\n        \"min\": 0,\n        \"max\": 999,\n        \"num_unique_values\": 1000,\n        \"samples\": [\n          521,\n          737,\n          740\n        ],\n        \"semantic_type\": \"\",\n        \"description\": \"\"\n      }\n    },\n    {\n      \"column\": \"Pressao_Arterial\",\n      \"properties\": {\n        \"dtype\": \"number\",\n        \"std\": 9.943612581359622,\n        \"min\": 112.92982068924913,\n        \"max\": 181.80313088710068,\n        \"num_unique_values\": 1000,\n        \"samples\": [\n          152.04119412297098,\n          147.54391492523183,\n          168.8184130751253\n        ],\n        \"semantic_type\": \"\",\n        \"description\": \"\"\n      }\n    },\n    {\n      \"column\": \"Idade\",\n      \"properties\": {\n        \"dtype\": \"number\",\n        \"std\": 11,\n        \"min\": 30,\n        \"max\": 70,\n        \"num_unique_values\": 41,\n        \"samples\": [\n          30,\n          65,\n          57\n        ],\n        \"semantic_type\": \"\",\n        \"description\": \"\"\n      }\n    },\n    {\n      \"column\": \"Genero\",\n      \"properties\": {\n        \"dtype\": \"number\",\n        \"std\": 0,\n        \"min\": 0,\n        \"max\": 1,\n        \"num_unique_values\": 2,\n        \"samples\": [\n          0,\n          1\n        ],\n        \"semantic_type\": \"\",\n        \"description\": \"\"\n      }\n    },\n    {\n      \"column\": \"Etnia\",\n      \"properties\": {\n        \"dtype\": \"number\",\n        \"std\": 1,\n        \"min\": 0,\n        \"max\": 3,\n        \"num_unique_values\": 4,\n        \"samples\": [\n          3,\n          0\n        ],\n        \"semantic_type\": \"\",\n        \"description\": \"\"\n      }\n    },\n    {\n      \"column\": \"Estado_Saude\",\n      \"properties\": {\n        \"dtype\": \"number\",\n        \"std\": 0,\n        \"min\": 0,\n        \"max\": 1,\n        \"num_unique_values\": 2,\n        \"samples\": [\n          0,\n          1\n        ],\n        \"semantic_type\": \"\",\n        \"description\": \"\"\n      }\n    },\n    {\n      \"column\": \"Nome_Genero\",\n      \"properties\": {\n        \"dtype\": \"category\",\n        \"num_unique_values\": 2,\n        \"samples\": [\n          \"Masculino\",\n          \"Feminino\"\n        ],\n        \"semantic_type\": \"\",\n        \"description\": \"\"\n      }\n    },\n    {\n      \"column\": \"Nome_Etnia\",\n      \"properties\": {\n        \"dtype\": \"category\",\n        \"num_unique_values\": 4,\n        \"samples\": [\n          \"Asi\\u00e1tico\",\n          \"Caucasiano\"\n        ],\n        \"semantic_type\": \"\",\n        \"description\": \"\"\n      }\n    },\n    {\n      \"column\": \"Nome_Estado_Saude\",\n      \"properties\": {\n        \"dtype\": \"category\",\n        \"num_unique_values\": 2,\n        \"samples\": [\n          \"Saud\\u00e1vel\",\n          \"Com condi\\u00e7\\u00f5es de sa\\u00fade adicionais\"\n        ],\n        \"semantic_type\": \"\",\n        \"description\": \"\"\n      }\n    }\n  ]\n}"
            }
          },
          "metadata": {},
          "execution_count": 68
        }
      ]
    },
    {
      "cell_type": "code",
      "source": [
        "tabela_contingencia = pd.crosstab(df['Nome_Genero'], df['Nome_Estado_Saude'])\n",
        "print(tabela_contingencia)"
      ],
      "metadata": {
        "colab": {
          "base_uri": "https://localhost:8080/"
        },
        "id": "PdSm3_4JTOy-",
        "outputId": "0187188f-e8be-4411-f3b7-6eb6f422d5d8"
      },
      "id": "PdSm3_4JTOy-",
      "execution_count": null,
      "outputs": [
        {
          "output_type": "stream",
          "name": "stdout",
          "text": [
            "Nome_Estado_Saude  Com condições de saúde adicionais  Saudável\n",
            "Nome_Genero                                                   \n",
            "Feminino                                         257       246\n",
            "Masculino                                        253       244\n"
          ]
        }
      ]
    },
    {
      "cell_type": "code",
      "source": [
        "# Realizando o teste de Qui-Quadrado\n",
        "chi2, p_value, dof, expected = stats.chi2_contingency(tabela_contingencia)\n",
        "\n",
        "# Imprimindo os resultados\n",
        "print(\"Chi-squared:\", chi2)\n",
        "print(\"P-value:\", p_value)\n",
        "print(\"Degrees of freedom:\", dof)"
      ],
      "metadata": {
        "colab": {
          "base_uri": "https://localhost:8080/"
        },
        "id": "1J_SHEVBEEZN",
        "outputId": "2931b935-fe0d-40b5-eb52-8ba04b8fb06f"
      },
      "id": "1J_SHEVBEEZN",
      "execution_count": null,
      "outputs": [
        {
          "output_type": "stream",
          "name": "stdout",
          "text": [
            "Chi-squared: 0.0\n",
            "P-value: 1.0\n",
            "Degrees of freedom: 1\n"
          ]
        }
      ]
    },
    {
      "cell_type": "code",
      "source": [
        "if p_value < 0.05:\n",
        "    print(\"Rejeitamos a hipótese nula, existe uma correlação entre o gênero e as condições de saúde adicionais.\")\n",
        "else:\n",
        "    print(\"Não rejeitamos a hipótese nula, portanto não há correlação estatisticamente significativa entre o gênero e as condições de saúde adicionais.\")"
      ],
      "metadata": {
        "colab": {
          "base_uri": "https://localhost:8080/"
        },
        "id": "pf1n5XI5EEVE",
        "outputId": "64c284eb-5b16-400b-8244-794b386bbb48"
      },
      "id": "pf1n5XI5EEVE",
      "execution_count": null,
      "outputs": [
        {
          "output_type": "stream",
          "name": "stdout",
          "text": [
            "Não rejeitamos a hipótese nula, portanto não há correlação estatisticamente significativa entre o gênero e as condições de saúde adicionais.\n"
          ]
        }
      ]
    },
    {
      "cell_type": "markdown",
      "source": [
        "### 8.\tQual é o intervalo de confiança para a média da pressão arterial entre os pacientes com condições de saúde adicionais? (nível de confiança 95%)"
      ],
      "metadata": {
        "id": "MAMEwmdNX7aN"
      },
      "id": "MAMEwmdNX7aN"
    },
    {
      "cell_type": "markdown",
      "source": [
        "Devemos utilizar os pacientes com condições de saúde adicionais, e, neste caso, re-utilizarei o dataframe já feito anteriormente e chamado de saude_1 (onde os presentes no dataframe são pacientes com condições de saúde tipo 1, portanto, condições de saúde adicionais)."
      ],
      "metadata": {
        "id": "C4BPrHNxYFU_"
      },
      "id": "C4BPrHNxYFU_"
    },
    {
      "cell_type": "markdown",
      "source": [
        "A fim de maior precisão, iremos utilizar a stats.t.ppf, que é geralmente mais precisa e recomendada, pois leva em consideração a variabilidade da amostra e fornece um intervalo de confiança mais adequado para distribuições não normais, e assim calcularemos o intervalo de confiança entre os pacientes com condições de saúde anormais."
      ],
      "metadata": {
        "id": "ylm-oAm1wMyr"
      },
      "id": "ylm-oAm1wMyr"
    },
    {
      "cell_type": "code",
      "source": [
        "# Amostra de dados\n",
        "dados = saude_1['Pressao_Arterial']\n",
        "\n",
        "# Média e desvio padrão da amostra\n",
        "media_amostra = saude_1['Pressao_Arterial'].mean()\n",
        "desvio_padrao_amostra = saude_1['Pressao_Arterial'].std()\n",
        "\n",
        "# Tamanho da amostra\n",
        "tamanho_amostra = len(dados)\n",
        "\n",
        "# Nível de confiança (ex: 95%)\n",
        "nivel_confianca = 0.95\n",
        "\n",
        "# Graus de liberdade\n",
        "graus_liberdade = tamanho_amostra - 1\n",
        "\n",
        "# Valor crítico da distribuição t de Student\n",
        "valor_critico = stats.t.ppf((1 + nivel_confianca) / 2, graus_liberdade)\n",
        "\n",
        "# Intervalo de confiança\n",
        "intervalo_confianca = valor_critico * (desvio_padrao_amostra / np.sqrt(tamanho_amostra))\n",
        "\n",
        "limite_inferior = media_amostra - intervalo_confianca\n",
        "limite_superior = media_amostra + intervalo_confianca\n",
        "\n",
        "print(f'Intervalo de Confiança: ({limite_inferior}, {limite_superior})')"
      ],
      "metadata": {
        "colab": {
          "base_uri": "https://localhost:8080/"
        },
        "id": "jRbseRn3qXBN",
        "outputId": "9f6b19eb-8ac5-4876-dc36-a9e65ab61eab"
      },
      "id": "jRbseRn3qXBN",
      "execution_count": null,
      "outputs": [
        {
          "output_type": "stream",
          "name": "stdout",
          "text": [
            "Intervalo de Confiança: (149.21972443653837, 151.01717945377672)\n"
          ]
        }
      ]
    },
    {
      "cell_type": "markdown",
      "source": [
        "Porém, para cálculo do intervalo de confiança, existe a biblioteca norm.interval, que parte do princípio que nossa amostra possui distribuição normal. A fim de comprovar se a biblioteca possui tal normalidade, podemos usar o KSTest e QQPlot."
      ],
      "metadata": {
        "id": "CdigySvYYlWf"
      },
      "id": "CdigySvYYlWf"
    },
    {
      "cell_type": "code",
      "source": [
        "# Realiza o teste de KS para dados (pressão arterial no saude_1, onde as pessoas possuem condições adicionais de saúde)\n",
        "ks_statistic, p_value = stats.kstest(dados, 'norm', args=(dados.mean(), dados.std()))\n",
        "\n",
        "print(\"KS statistic:\", ks_statistic)\n",
        "print(\"P-value:\", p_value)\n",
        "\n",
        "alpha = 0.05\n",
        "\n",
        "if p_value < alpha:\n",
        "  print(\"Rejeitamos a hipótese Nula (H0): A distribuição da pressão arterial na população com condições de saúde adicional NÃO segue uma distribuição normal.\")\n",
        "else:\n",
        "  print(\"Não há evidências para rejeitar a hipótese nula, portanto, a distribuição da pressão arterial pode seguir uma distribuição normal.\")"
      ],
      "metadata": {
        "colab": {
          "base_uri": "https://localhost:8080/"
        },
        "id": "mrNKaKU_wAyv",
        "outputId": "04385c6c-e753-4feb-9e5b-f8bb637b20ab"
      },
      "id": "mrNKaKU_wAyv",
      "execution_count": null,
      "outputs": [
        {
          "output_type": "stream",
          "name": "stdout",
          "text": [
            "KS statistic: 0.0171596770864042\n",
            "P-value: 0.9977013424871126\n",
            "Não há evidências para rejeitar a hipótese nula, portanto, a distribuição da pressão arterial pode seguir uma distribuição normal.\n"
          ]
        }
      ]
    },
    {
      "cell_type": "code",
      "source": [
        "# Gerar QQ plot a fim de comprovar o KSTest:\n",
        "(stats.probplot(dados, dist=\"norm\", plot=plt))\n",
        "plt.title('QQ plot - Pressão Arterial')\n",
        "plt.show()"
      ],
      "metadata": {
        "colab": {
          "base_uri": "https://localhost:8080/",
          "height": 472
        },
        "id": "GRV4UV5ItwwT",
        "outputId": "2658d42d-eb75-4818-b91f-f7c5dc84f8d7"
      },
      "id": "GRV4UV5ItwwT",
      "execution_count": null,
      "outputs": [
        {
          "output_type": "display_data",
          "data": {
            "text/plain": [
              "<Figure size 640x480 with 1 Axes>"
            ],
            "image/png": "[encoded data removed]"
          },
          "metadata": {}
        }
      ]
    },
    {
      "cell_type": "markdown",
      "source": [
        "Utilizando a biblioteca norm.interval:"
      ],
      "metadata": {
        "id": "RLWrDTThxGbX"
      },
      "id": "RLWrDTThxGbX"
    },
    {
      "cell_type": "code",
      "source": [
        "alpha = 0.05  # Nível de significância (5%)\n",
        "nivel_confianca = 1 - alpha\n",
        "media = saude_1['Pressao_Arterial'].mean()  # Média estimada (pode ser a média da amostra)\n",
        "desvio_padrao = saude_1['Pressao_Arterial'].std()  # Desvio padrão estimado (pode ser o desvio padrão da amostra)\n",
        "\n",
        "# Calcule o intervalo de confiança para a média populacional\n",
        "intervalo_confianca_min, intervalo_confianca_max = stats.norm.interval(confidence=nivel_confianca, loc=media, scale=desvio_padrao)\n",
        "\n",
        "print(\"Intervalo de Confiança para a Média (95%):\")\n",
        "print(\"Intervalo de confiança mínimo:\", intervalo_confianca_min)\n",
        "print(\"Intervalo de confiança máximo: \", intervalo_confianca_max)"
      ],
      "metadata": {
        "colab": {
          "base_uri": "https://localhost:8080/"
        },
        "id": "t5-sQluWX9KC",
        "outputId": "d13c68fc-35e8-4b2b-e984-ad491a8a3b31"
      },
      "id": "t5-sQluWX9KC",
      "execution_count": null,
      "outputs": [
        {
          "output_type": "stream",
          "name": "stdout",
          "text": [
            "Intervalo de Confiança para a Média (95%):\n",
            "Intervalo de confiança mínimo: 129.8705879067565\n",
            "Intervalo de confiança máximo:  170.3663159835586\n"
          ]
        }
      ]
    },
    {
      "cell_type": "markdown",
      "source": [
        "Existe uma grande diferença entre os intervalos de confiança gerados pelas diferentes amostragens, indicando que a utilização do teste T-student é mais preciso e gera um intervalo mais estreito em comparação a outros testes."
      ],
      "metadata": {
        "id": "Fuzy_Ov7xLQz"
      },
      "id": "Fuzy_Ov7xLQz"
    },
    {
      "cell_type": "markdown",
      "source": [
        "### 9.\tA distribuição da pressão arterial na população segue uma distribuição normal?"
      ],
      "metadata": {
        "id": "T7NVjoMTbyX7"
      },
      "id": "T7NVjoMTbyX7"
    },
    {
      "cell_type": "markdown",
      "source": [
        "* a.\tHipótese Nula (H0): A distribuição da pressão arterial na população segue uma distribuição normal.\n",
        "* b.\tHipótese Alternativa (H1): A distribuição da pressão arterial na população não segue uma distribuição normal.\n"
      ],
      "metadata": {
        "id": "3o-XnKtwb00N"
      },
      "id": "3o-XnKtwb00N"
    },
    {
      "cell_type": "markdown",
      "source": [
        "Comparar uma distribuição com a distribuição normal = teste KS e QQPLOT, de forma visual e calculada, ambos complementam-se."
      ],
      "metadata": {
        "id": "OysnXEvJcVbe"
      },
      "id": "OysnXEvJcVbe"
    },
    {
      "cell_type": "code",
      "source": [
        "pressao_arterial = df['Pressao_Arterial']\n",
        "\n",
        "# Realiza o teste de KS\n",
        "ks_statistic, p_value = stats.kstest(pressao_arterial, 'norm', args=(pressao_arterial.mean(), pressao_arterial.std()))\n",
        "\n",
        "print(\"KS statistic:\", ks_statistic)\n",
        "print(\"P-value:\", p_value)\n",
        "\n",
        "alpha = 0.05\n",
        "\n",
        "if p_value < alpha:\n",
        "  print(\"Rejeitamos a hipótese Nula (H0): A distribuição da pressão arterial na população NÃO segue uma distribuição normal.\")\n",
        "else:\n",
        "  print(\"Não há evidências para rejeitar a hipótese nula, portanto, a distribuição da pressão arterial pode seguir uma distribuição normal.\")"
      ],
      "metadata": {
        "colab": {
          "base_uri": "https://localhost:8080/"
        },
        "id": "lDz-As0iX9HF",
        "outputId": "f5bbc7d5-10e3-4b79-e84d-e9e43d1f6d2f"
      },
      "id": "lDz-As0iX9HF",
      "execution_count": null,
      "outputs": [
        {
          "output_type": "stream",
          "name": "stdout",
          "text": [
            "KS statistic: 0.02051963188317471\n",
            "P-value: 0.7856894546948019\n",
            "Não há evidências para rejeitar a hipótese nula, portanto, a distribuição da pressão arterial pode seguir uma distribuição normal.\n"
          ]
        }
      ]
    },
    {
      "cell_type": "code",
      "source": [
        "# Gerar QQ plot\n",
        "(stats.probplot(pressao_arterial, dist=\"norm\", plot=plt))\n",
        "plt.title('QQ plot - Pressão Arterial')\n",
        "plt.show()"
      ],
      "metadata": {
        "colab": {
          "base_uri": "https://localhost:8080/",
          "height": 472
        },
        "id": "SjyTNEeZX8uM",
        "outputId": "be6cf456-08b5-4ed1-ff51-6f06510239cd"
      },
      "id": "SjyTNEeZX8uM",
      "execution_count": null,
      "outputs": [
        {
          "output_type": "display_data",
          "data": {
            "text/plain": [
              "<Figure size 640x480 with 1 Axes>"
            ],
            "image/png": "[encoded data removed]"
          },
          "metadata": {}
        }
      ]
    },
    {
      "cell_type": "markdown",
      "source": [
        "Ao observar o gráfico QQPlot, os pontos (em azul) aproximam-se bastante de uma reta de 45 graus (indicada em vermelho), indicando uma distribuição normal."
      ],
      "metadata": {
        "id": "vTMa96VQMIg-"
      },
      "id": "vTMa96VQMIg-"
    }
  ],
  "metadata": {
    "kernelspec": {
      "display_name": "Python 3",
      "language": "python",
      "name": "python3"
    },
    "language_info": {
      "codemirror_mode": {
        "name": "ipython",
        "version": 2
      },
      "file_extension": ".py",
      "mimetype": "text/x-python",
      "name": "python",
      "nbconvert_exporter": "python",
      "pygments_lexer": "ipython2",
      "version": "2.7.6"
    },
    "colab": {
      "provenance": []
    }
  },
  "nbformat": 4,
  "nbformat_minor": 5
}