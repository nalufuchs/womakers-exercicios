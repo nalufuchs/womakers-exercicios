{
  "nbformat": 4,
  "nbformat_minor": 0,
  "metadata": {
    "colab": {
      "provenance": []
    },
    "kernelspec": {
      "name": "python3",
      "display_name": "Python 3"
    },
    "language_info": {
      "name": "python"
    }
  },
  "cells": [
    {
      "cell_type": "code",
      "execution_count": 1,
      "metadata": {
        "id": "s-4cD4a2NazV"
      },
      "outputs": [],
      "source": [
        "import numpy as np"
      ]
    },
    {
      "cell_type": "markdown",
      "source": [
        "## Introdução ao Numpy"
      ],
      "metadata": {
        "id": "ImIu6U1tapvP"
      }
    },
    {
      "cell_type": "code",
      "source": [
        "l = [4, 8, 2, 12, 5, 8, 0]"
      ],
      "metadata": {
        "id": "Vqe9MVcRNeZR"
      },
      "execution_count": null,
      "outputs": []
    },
    {
      "cell_type": "code",
      "source": [
        "arr = np.array(l)\n",
        "arr"
      ],
      "metadata": {
        "colab": {
          "base_uri": "https://localhost:8080/"
        },
        "id": "wAaR4l8iPeB9",
        "outputId": "ad3491f5-87ae-429b-e519-41c73404e206"
      },
      "execution_count": null,
      "outputs": [
        {
          "output_type": "execute_result",
          "data": {
            "text/plain": [
              "array([ 4,  8,  2, 12,  5,  8,  0])"
            ]
          },
          "metadata": {},
          "execution_count": 7
        }
      ]
    },
    {
      "cell_type": "markdown",
      "source": [],
      "metadata": {
        "id": "VRiILYp9ZuF_"
      }
    },
    {
      "cell_type": "code",
      "source": [
        "type(arr)"
      ],
      "metadata": {
        "colab": {
          "base_uri": "https://localhost:8080/"
        },
        "id": "DRsgDeOvPj2M",
        "outputId": "63c3c574-4253-4b8f-82a1-af9d31398344"
      },
      "execution_count": null,
      "outputs": [
        {
          "output_type": "execute_result",
          "data": {
            "text/plain": [
              "numpy.ndarray"
            ]
          },
          "metadata": {},
          "execution_count": 6
        }
      ]
    },
    {
      "cell_type": "code",
      "source": [
        "l2 = [[1, 2, 3],\n",
        "      [4, 5, 6]]\n",
        "\n",
        "np.array(l2)"
      ],
      "metadata": {
        "colab": {
          "base_uri": "https://localhost:8080/"
        },
        "id": "J0QdGt9fPlKi",
        "outputId": "27c148bc-3b26-4730-fc69-19073cf768f6"
      },
      "execution_count": null,
      "outputs": [
        {
          "output_type": "execute_result",
          "data": {
            "text/plain": [
              "array([[1, 2, 3],\n",
              "       [4, 5, 6]])"
            ]
          },
          "metadata": {},
          "execution_count": 8
        }
      ]
    },
    {
      "cell_type": "code",
      "source": [
        "np.zeros()\n",
        "np.arange()\n",
        "np.random.random()"
      ],
      "metadata": {
        "id": "UXc41fNPUPHk"
      },
      "execution_count": null,
      "outputs": []
    },
    {
      "cell_type": "code",
      "source": [
        "l3 = [1, \"ss\", []]\n",
        "a = np.array(l3)"
      ],
      "metadata": {
        "id": "Zkq_q0cNP57z",
        "colab": {
          "base_uri": "https://localhost:8080/"
        },
        "outputId": "34fc9c7d-1c51-4684-be9e-ceab4e04986f"
      },
      "execution_count": null,
      "outputs": [
        {
          "output_type": "stream",
          "name": "stderr",
          "text": [
            "<ipython-input-12-84f5fad3fe04>:2: VisibleDeprecationWarning: Creating an ndarray from ragged nested sequences (which is a list-or-tuple of lists-or-tuples-or ndarrays with different lengths or shapes) is deprecated. If you meant to do this, you must specify 'dtype=object' when creating the ndarray.\n",
            "  a = np.array(l3)\n"
          ]
        }
      ]
    },
    {
      "cell_type": "code",
      "source": [
        "np.zeros((5, 3))"
      ],
      "metadata": {
        "colab": {
          "base_uri": "https://localhost:8080/"
        },
        "id": "o8Z1Z8idR7fj",
        "outputId": "ed8cc855-6e74-4832-d8b7-503ab1d9e300"
      },
      "execution_count": null,
      "outputs": [
        {
          "output_type": "execute_result",
          "data": {
            "text/plain": [
              "array([[0., 0., 0.],\n",
              "       [0., 0., 0.],\n",
              "       [0., 0., 0.],\n",
              "       [0., 0., 0.],\n",
              "       [0., 0., 0.]])"
            ]
          },
          "metadata": {},
          "execution_count": 24
        }
      ]
    },
    {
      "cell_type": "code",
      "source": [
        "np.random.random((2,3))"
      ],
      "metadata": {
        "colab": {
          "base_uri": "https://localhost:8080/"
        },
        "id": "1OWHhsD_R9Wu",
        "outputId": "3a5c8303-4617-47b8-8c49-257409202f2c"
      },
      "execution_count": null,
      "outputs": [
        {
          "output_type": "execute_result",
          "data": {
            "text/plain": [
              "array([[0.35213731, 0.43131085, 0.1132482 ],\n",
              "       [0.86372949, 0.38807941, 0.64214068]])"
            ]
          },
          "metadata": {},
          "execution_count": 21
        }
      ]
    },
    {
      "cell_type": "code",
      "source": [
        "np.random"
      ],
      "metadata": {
        "colab": {
          "base_uri": "https://localhost:8080/"
        },
        "id": "vQdnroSJS8L-",
        "outputId": "a7cb5551-61d3-4968-a3c0-74dfe5d993ee"
      },
      "execution_count": null,
      "outputs": [
        {
          "output_type": "execute_result",
          "data": {
            "text/plain": [
              "<module 'numpy.random' from '/usr/local/lib/python3.10/dist-packages/numpy/random/__init__.py'>"
            ]
          },
          "metadata": {},
          "execution_count": 25
        }
      ]
    },
    {
      "cell_type": "code",
      "source": [
        "np.arange(-2, 5, 2)"
      ],
      "metadata": {
        "colab": {
          "base_uri": "https://localhost:8080/"
        },
        "id": "tvSvwbt2WDoW",
        "outputId": "5357bc28-9ff4-4c85-f3a7-8144db729710"
      },
      "execution_count": null,
      "outputs": [
        {
          "output_type": "execute_result",
          "data": {
            "text/plain": [
              "array([-2,  0,  2,  4])"
            ]
          },
          "metadata": {},
          "execution_count": 29
        }
      ]
    },
    {
      "cell_type": "code",
      "source": [
        "list(range(-2, 5, 2))"
      ],
      "metadata": {
        "colab": {
          "base_uri": "https://localhost:8080/"
        },
        "id": "Q5ugFgTxWHuN",
        "outputId": "f4b010f7-8c58-4717-91e8-6a07bb13fcc0"
      },
      "execution_count": null,
      "outputs": [
        {
          "output_type": "execute_result",
          "data": {
            "text/plain": [
              "[-2, 0, 2, 4]"
            ]
          },
          "metadata": {},
          "execution_count": 30
        }
      ]
    },
    {
      "cell_type": "code",
      "source": [
        "from matplotlib import pyplot as plt"
      ],
      "metadata": {
        "id": "sHo2Y7dGWKgG"
      },
      "execution_count": null,
      "outputs": []
    },
    {
      "cell_type": "code",
      "source": [
        "plt.scatter(np.arange(0,12),\n",
        "            np.arange(-3,9))\n",
        "plt.show()"
      ],
      "metadata": {
        "colab": {
          "base_uri": "https://localhost:8080/",
          "height": 430
        },
        "id": "jGGAaAAyWeDr",
        "outputId": "f591c1e3-5a21-4a17-dc35-d90d822b7383"
      },
      "execution_count": null,
      "outputs": [
        {
          "output_type": "display_data",
          "data": {
            "text/plain": [
              "<Figure size 640x480 with 1 Axes>"
            ],
            "image/png": "[encoded data removed]"
          },
          "metadata": {}
        }
      ]
    },
    {
      "cell_type": "code",
      "source": [],
      "metadata": {
        "id": "xJ1LV8DNWmQN"
      },
      "execution_count": null,
      "outputs": []
    },
    {
      "cell_type": "markdown",
      "source": [
        "## 1. Crie um array com 4 linhas e 3 colunas com valores aleatórios"
      ],
      "metadata": {
        "id": "8KGd6hxvXHbw"
      }
    },
    {
      "cell_type": "code",
      "source": [
        "array4x3 = np.random.random((4, 3))\n",
        "array4x3"
      ],
      "metadata": {
        "id": "amvVfwQI24JW",
        "colab": {
          "base_uri": "https://localhost:8080/"
        },
        "outputId": "f9993935-424c-4243-a902-e6edb6d4f1d1"
      },
      "execution_count": null,
      "outputs": [
        {
          "output_type": "execute_result",
          "data": {
            "text/plain": [
              "array([[0.49488168, 0.46889024, 0.6288066 ],\n",
              "       [0.52528203, 0.78227087, 0.77287997],\n",
              "       [0.34155495, 0.91124096, 0.08484599],\n",
              "       [0.40640686, 0.79568243, 0.5086569 ]])"
            ]
          },
          "metadata": {},
          "execution_count": 6
        }
      ]
    },
    {
      "cell_type": "markdown",
      "source": [
        "## 2. Crie um array com valores inteiros 3 linhas e 5 colunas com valores aleatórios"
      ],
      "metadata": {
        "id": "XjvUczhmXZi-"
      }
    },
    {
      "cell_type": "code",
      "source": [
        "int3x5 = np.random.randint(30, size=(3,5))\n",
        "int3x5"
      ],
      "metadata": {
        "id": "y0pkI-C824nO",
        "colab": {
          "base_uri": "https://localhost:8080/"
        },
        "outputId": "fbd41503-833d-4baf-9f06-25e5eb8d1df2"
      },
      "execution_count": null,
      "outputs": [
        {
          "output_type": "execute_result",
          "data": {
            "text/plain": [
              "array([[18,  3,  5,  0,  6],\n",
              "       [23, 13, 20,  8, 18],\n",
              "       [11, 18,  7, 13, 17]])"
            ]
          },
          "metadata": {},
          "execution_count": 8
        }
      ]
    },
    {
      "cell_type": "markdown",
      "source": [
        "## 3. Crie um array com 5 colunas e 10 linhas inicializados com zeros."
      ],
      "metadata": {
        "id": "6nnXiIr2ZyLZ"
      }
    },
    {
      "cell_type": "code",
      "source": [
        "zeros10x5 = np.zeros((10,5))\n",
        "zeros10x5"
      ],
      "metadata": {
        "id": "0tWf-9PK25DQ",
        "colab": {
          "base_uri": "https://localhost:8080/"
        },
        "outputId": "9e71b903-2724-436f-9402-462903ef6d28"
      },
      "execution_count": null,
      "outputs": [
        {
          "output_type": "execute_result",
          "data": {
            "text/plain": [
              "array([[0., 0., 0., 0., 0.],\n",
              "       [0., 0., 0., 0., 0.],\n",
              "       [0., 0., 0., 0., 0.],\n",
              "       [0., 0., 0., 0., 0.],\n",
              "       [0., 0., 0., 0., 0.],\n",
              "       [0., 0., 0., 0., 0.],\n",
              "       [0., 0., 0., 0., 0.],\n",
              "       [0., 0., 0., 0., 0.],\n",
              "       [0., 0., 0., 0., 0.],\n",
              "       [0., 0., 0., 0., 0.]])"
            ]
          },
          "metadata": {},
          "execution_count": 11
        }
      ]
    },
    {
      "cell_type": "markdown",
      "source": [
        "## 4. Crie um array que vá entre 0 e 90 pulando de 4 em 4"
      ],
      "metadata": {
        "id": "mojhFJbIa3YL"
      }
    },
    {
      "cell_type": "code",
      "source": [
        "zeroa90de4 = np.arange(0, 90, 4)\n",
        "zeroa90de4"
      ],
      "metadata": {
        "id": "BcdjcvUC25qk",
        "colab": {
          "base_uri": "https://localhost:8080/"
        },
        "outputId": "a2ddf522-c894-40b1-a94a-c0ae89ff43dc"
      },
      "execution_count": null,
      "outputs": [
        {
          "output_type": "execute_result",
          "data": {
            "text/plain": [
              "array([ 0,  4,  8, 12, 16, 20, 24, 28, 32, 36, 40, 44, 48, 52, 56, 60, 64,\n",
              "       68, 72, 76, 80, 84, 88])"
            ]
          },
          "metadata": {},
          "execution_count": 23
        }
      ]
    },
    {
      "cell_type": "markdown",
      "source": [
        "\n",
        "\n",
        "---\n",
        "## Rascunhos - Array com 3 dimensões\n"
      ],
      "metadata": {
        "id": "3P8kKI8fagz-"
      }
    },
    {
      "cell_type": "code",
      "source": [
        "arr1_2d = np.array([[1, 2], [3, 4]])\n",
        "arr2_2d = np.array([[5, 6], [7, 8]])\n",
        "arr3_2d = np.array([[9, 2], [3, 4]])\n",
        "\n",
        "arr_3d = np.array([arr1_2d, arr1_2d, arr3_2d])\n"
      ],
      "metadata": {
        "id": "HHOMuU8WYljG"
      },
      "execution_count": 4,
      "outputs": []
    },
    {
      "cell_type": "code",
      "source": [
        "arr_4d = np.random.random((2, 2, 3, 2))\n",
        "arr_4d"
      ],
      "metadata": {
        "colab": {
          "base_uri": "https://localhost:8080/"
        },
        "id": "YzpkKUOebm5t",
        "outputId": "01128787-c7f8-4fb6-cbff-c86904f08286"
      },
      "execution_count": 5,
      "outputs": [
        {
          "output_type": "execute_result",
          "data": {
            "text/plain": [
              "array([[[[0.94070001, 0.54552222],\n",
              "         [0.78800632, 0.72921358],\n",
              "         [0.84075587, 0.59669185]],\n",
              "\n",
              "        [[0.56882119, 0.503555  ],\n",
              "         [0.80103588, 0.65682126],\n",
              "         [0.0734153 , 0.07568229]]],\n",
              "\n",
              "\n",
              "       [[[0.16428066, 0.60433914],\n",
              "         [0.50605332, 0.6022534 ],\n",
              "         [0.77292338, 0.08153375]],\n",
              "\n",
              "        [[0.35150364, 0.50053283],\n",
              "         [0.64895795, 0.98188589],\n",
              "         [0.21442912, 0.00882553]]]])"
            ]
          },
          "metadata": {},
          "execution_count": 5
        }
      ]
    },
    {
      "cell_type": "code",
      "source": [
        "np.array([arr_3d, arr_3d])"
      ],
      "metadata": {
        "colab": {
          "base_uri": "https://localhost:8080/"
        },
        "id": "QA5bPlE5bnXu",
        "outputId": "11d49f58-4b03-44ac-b4b4-2ecad1caa084"
      },
      "execution_count": 6,
      "outputs": [
        {
          "output_type": "execute_result",
          "data": {
            "text/plain": [
              "array([[[[1, 2],\n",
              "         [3, 4]],\n",
              "\n",
              "        [[1, 2],\n",
              "         [3, 4]],\n",
              "\n",
              "        [[9, 2],\n",
              "         [3, 4]]],\n",
              "\n",
              "\n",
              "       [[[1, 2],\n",
              "         [3, 4]],\n",
              "\n",
              "        [[1, 2],\n",
              "         [3, 4]],\n",
              "\n",
              "        [[9, 2],\n",
              "         [3, 4]]]])"
            ]
          },
          "metadata": {},
          "execution_count": 6
        }
      ]
    },
    {
      "cell_type": "code",
      "source": [
        "arr = np.zeros((2, 4))\n",
        "arr"
      ],
      "metadata": {
        "colab": {
          "base_uri": "https://localhost:8080/"
        },
        "id": "iuUyqGhaj64h",
        "outputId": "d27b4233-b21e-4c49-ae0d-57d1f8233ffb"
      },
      "execution_count": 7,
      "outputs": [
        {
          "output_type": "execute_result",
          "data": {
            "text/plain": [
              "array([[0., 0., 0., 0.],\n",
              "       [0., 0., 0., 0.]])"
            ]
          },
          "metadata": {},
          "execution_count": 7
        }
      ]
    },
    {
      "cell_type": "code",
      "source": [
        "arr.shape"
      ],
      "metadata": {
        "colab": {
          "base_uri": "https://localhost:8080/"
        },
        "id": "PdQLoHSLj_tg",
        "outputId": "1ec408c8-99c0-438c-d9ad-5362bc4a2b4b"
      },
      "execution_count": 8,
      "outputs": [
        {
          "output_type": "execute_result",
          "data": {
            "text/plain": [
              "(2, 4)"
            ]
          },
          "metadata": {},
          "execution_count": 8
        }
      ]
    },
    {
      "cell_type": "code",
      "source": [
        "arr = np.array([[3, 4], [8, 11], [9, 9]])\n",
        "arr.flatten()\n"
      ],
      "metadata": {
        "colab": {
          "base_uri": "https://localhost:8080/"
        },
        "id": "6zrSz-caeh1Y",
        "outputId": "f0f69031-8241-4c38-9350-1908b867ba3a"
      },
      "execution_count": 10,
      "outputs": [
        {
          "output_type": "execute_result",
          "data": {
            "text/plain": [
              "array([ 3,  4,  8, 11,  9,  9])"
            ]
          },
          "metadata": {},
          "execution_count": 10
        }
      ]
    },
    {
      "cell_type": "code",
      "source": [
        "arr = np.array([[3, 4, 2], [8, 11, 5]])\n",
        "arr.reshape((3, 2))\n"
      ],
      "metadata": {
        "colab": {
          "base_uri": "https://localhost:8080/"
        },
        "id": "4Am1WW6xkKSJ",
        "outputId": "57910642-4ed3-48be-8a54-9cd35130b3a4"
      },
      "execution_count": 11,
      "outputs": [
        {
          "output_type": "execute_result",
          "data": {
            "text/plain": [
              "array([[ 3,  4],\n",
              "       [ 2,  8],\n",
              "       [11,  5]])"
            ]
          },
          "metadata": {},
          "execution_count": 11
        }
      ]
    },
    {
      "cell_type": "code",
      "source": [
        "arr.reshape((3, 3))"
      ],
      "metadata": {
        "colab": {
          "base_uri": "https://localhost:8080/",
          "height": 175
        },
        "id": "Ohfi34OZkNyk",
        "outputId": "021fa941-6481-433f-9d9d-dcbec436940d"
      },
      "execution_count": 12,
      "outputs": [
        {
          "output_type": "error",
          "ename": "ValueError",
          "evalue": "cannot reshape array of size 6 into shape (3,3)",
          "traceback": [
            "\u001b[0;31m---------------------------------------------------------------------------\u001b[0m",
            "\u001b[0;31mValueError\u001b[0m                                Traceback (most recent call last)",
            "\u001b[0;32m<ipython-input-12-a5ab0f3d8792>\u001b[0m in \u001b[0;36m<cell line: 1>\u001b[0;34m()\u001b[0m\n\u001b[0;32m----> 1\u001b[0;31m \u001b[0marr\u001b[0m\u001b[0;34m.\u001b[0m\u001b[0mreshape\u001b[0m\u001b[0;34m(\u001b[0m\u001b[0;34m(\u001b[0m\u001b[0;36m3\u001b[0m\u001b[0;34m,\u001b[0m \u001b[0;36m3\u001b[0m\u001b[0;34m)\u001b[0m\u001b[0;34m)\u001b[0m\u001b[0;34m\u001b[0m\u001b[0;34m\u001b[0m\u001b[0m\n\u001b[0m",
            "\u001b[0;31mValueError\u001b[0m: cannot reshape array of size 6 into shape (3,3)"
          ]
        }
      ]
    },
    {
      "cell_type": "markdown",
      "source": [
        "## 1. Reduza o array (5,7) a apenas uma dimensão"
      ],
      "metadata": {
        "id": "3c2qHtxhsN77"
      }
    },
    {
      "cell_type": "code",
      "source": [
        "array5x7 = np.random.randint(50, size=(5,7))\n",
        "array5x7\n",
        "\n",
        "array1d = np.ndarray.flatten(array5x7)\n",
        "array1d\n"
      ],
      "metadata": {
        "id": "05mvXbPciElu",
        "colab": {
          "base_uri": "https://localhost:8080/"
        },
        "outputId": "33f93bc4-fbfd-498f-da2c-9a1f39779fd8"
      },
      "execution_count": null,
      "outputs": [
        {
          "output_type": "execute_result",
          "data": {
            "text/plain": [
              "array([40,  1, 25, 41, 12, 20,  8,  4, 11, 38, 17, 10, 26, 27,  6, 11, 36,\n",
              "       37, 35, 20, 25, 33, 42, 23, 15,  9,  7,  0, 24, 19,  7, 41, 43,  4,\n",
              "       16])"
            ]
          },
          "metadata": {},
          "execution_count": 28
        }
      ]
    },
    {
      "cell_type": "markdown",
      "source": [
        "## 2. Considerando que você é uma organizadora de um jogo de bingo. Crie um array que irá representar a cartilha desses jogos de bingo. os números da suas cartelas variam entre 1 e 30, e você terá 10 participantes. Cada cartela terá 12 números (4, 3).\n",
        "## Crie um array que represente esse jogo"
      ],
      "metadata": {
        "id": "6mh-aOcQqy0S"
      }
    },
    {
      "cell_type": "code",
      "source": [
        "cartelas_bingo = np.random.randint(31, size=(10, 4, 3))\n",
        "cartelas_bingo"
      ],
      "metadata": {
        "id": "2LWkIt6I2OGo",
        "colab": {
          "base_uri": "https://localhost:8080/"
        },
        "outputId": "5af7a1fa-a892-48e9-92aa-44f55a4197c6"
      },
      "execution_count": null,
      "outputs": [
        {
          "output_type": "execute_result",
          "data": {
            "text/plain": [
              "array([[[25,  7,  9],\n",
              "        [ 5, 26, 17],\n",
              "        [25, 23, 19],\n",
              "        [10, 18,  1]],\n",
              "\n",
              "       [[22, 16, 27],\n",
              "        [11,  3,  7],\n",
              "        [20, 17, 29],\n",
              "        [17, 26, 23]],\n",
              "\n",
              "       [[11, 17,  8],\n",
              "        [ 5, 11, 12],\n",
              "        [22,  7, 10],\n",
              "        [15, 29, 24]],\n",
              "\n",
              "       [[10, 21, 20],\n",
              "        [22, 23, 23],\n",
              "        [24,  4, 11],\n",
              "        [27, 19,  2]],\n",
              "\n",
              "       [[22, 25, 18],\n",
              "        [ 6, 11, 10],\n",
              "        [14, 29, 19],\n",
              "        [27, 20, 26]],\n",
              "\n",
              "       [[ 5,  2, 23],\n",
              "        [ 3, 26, 15],\n",
              "        [19,  7, 13],\n",
              "        [ 1, 29, 21]],\n",
              "\n",
              "       [[29,  0, 26],\n",
              "        [24,  2, 24],\n",
              "        [ 7, 26, 11],\n",
              "        [10, 17, 27]],\n",
              "\n",
              "       [[30, 10, 18],\n",
              "        [10, 18, 30],\n",
              "        [26,  8,  0],\n",
              "        [23,  4, 14]],\n",
              "\n",
              "       [[ 9, 25, 17],\n",
              "        [ 2, 19, 14],\n",
              "        [ 1, 18, 14],\n",
              "        [28, 12,  9]],\n",
              "\n",
              "       [[18, 22,  7],\n",
              "        [ 0, 29,  9],\n",
              "        [10,  7,  2],\n",
              "        [ 2, 10, 24]]])"
            ]
          },
          "metadata": {},
          "execution_count": 30
        }
      ]
    },
    {
      "cell_type": "markdown",
      "source": [
        "## 3. Faça o reshape das suas cartelas para que haja 5 cartelas de 4 linhas e 6 colunas"
      ],
      "metadata": {
        "id": "vopTx8gjtiMn"
      }
    },
    {
      "cell_type": "code",
      "source": [
        "cartelas_bingo.reshape(5, 4, 6)"
      ],
      "metadata": {
        "id": "LVHYKk0ys5JA",
        "colab": {
          "base_uri": "https://localhost:8080/"
        },
        "outputId": "628352e8-a5f6-447e-cabe-05876fb695de"
      },
      "execution_count": null,
      "outputs": [
        {
          "output_type": "execute_result",
          "data": {
            "text/plain": [
              "array([[[25,  7,  9,  5, 26, 17],\n",
              "        [25, 23, 19, 10, 18,  1],\n",
              "        [22, 16, 27, 11,  3,  7],\n",
              "        [20, 17, 29, 17, 26, 23]],\n",
              "\n",
              "       [[11, 17,  8,  5, 11, 12],\n",
              "        [22,  7, 10, 15, 29, 24],\n",
              "        [10, 21, 20, 22, 23, 23],\n",
              "        [24,  4, 11, 27, 19,  2]],\n",
              "\n",
              "       [[22, 25, 18,  6, 11, 10],\n",
              "        [14, 29, 19, 27, 20, 26],\n",
              "        [ 5,  2, 23,  3, 26, 15],\n",
              "        [19,  7, 13,  1, 29, 21]],\n",
              "\n",
              "       [[29,  0, 26, 24,  2, 24],\n",
              "        [ 7, 26, 11, 10, 17, 27],\n",
              "        [30, 10, 18, 10, 18, 30],\n",
              "        [26,  8,  0, 23,  4, 14]],\n",
              "\n",
              "       [[ 9, 25, 17,  2, 19, 14],\n",
              "        [ 1, 18, 14, 28, 12,  9],\n",
              "        [18, 22,  7,  0, 29,  9],\n",
              "        [10,  7,  2,  2, 10, 24]]])"
            ]
          },
          "metadata": {},
          "execution_count": 31
        }
      ]
    },
    {
      "cell_type": "markdown",
      "source": [
        "# Tipo de dados em um numpy array\n"
      ],
      "metadata": {
        "id": "8f6qpfC3_2mk"
      }
    },
    {
      "cell_type": "code",
      "source": [
        "np.array([2.14, 6.25, 160.87, 8.4]).dtype"
      ],
      "metadata": {
        "colab": {
          "base_uri": "https://localhost:8080/"
        },
        "id": "Zw9N5oXN_7WV",
        "outputId": "fd8c4b8f-feab-47fa-bd73-f6248f53cc67"
      },
      "execution_count": null,
      "outputs": [
        {
          "output_type": "execute_result",
          "data": {
            "text/plain": [
              "dtype('float64')"
            ]
          },
          "metadata": {},
          "execution_count": 78
        }
      ]
    },
    {
      "cell_type": "code",
      "source": [
        "np.array([2, 6, 160, 8]).dtype"
      ],
      "metadata": {
        "colab": {
          "base_uri": "https://localhost:8080/"
        },
        "id": "xKPsZ4pAACOz",
        "outputId": "bf1bb72b-6fc2-4632-b057-038c07832983"
      },
      "execution_count": null,
      "outputs": [
        {
          "output_type": "execute_result",
          "data": {
            "text/plain": [
              "dtype('int64')"
            ]
          },
          "metadata": {},
          "execution_count": 79
        }
      ]
    },
    {
      "cell_type": "code",
      "source": [
        "np.array([\"Hello\", \"Coder\", \"Girls\"]).dtype"
      ],
      "metadata": {
        "colab": {
          "base_uri": "https://localhost:8080/"
        },
        "id": "--fFIEgvAtKF",
        "outputId": "725b4772-f5b8-4dc4-83aa-186b3648f34e"
      },
      "execution_count": null,
      "outputs": [
        {
          "output_type": "execute_result",
          "data": {
            "text/plain": [
              "dtype('<U5')"
            ]
          },
          "metadata": {},
          "execution_count": 80
        }
      ]
    },
    {
      "cell_type": "code",
      "source": [
        "arr_flaot32 = np.array([2.14, 6.25, 160.87], dtype=np.float32)\n",
        "arr_flaot32"
      ],
      "metadata": {
        "colab": {
          "base_uri": "https://localhost:8080/"
        },
        "id": "lgYPwwpFA2AR",
        "outputId": "4af05e2b-2be6-4fa8-ae66-988473d8470b"
      },
      "execution_count": null,
      "outputs": [
        {
          "output_type": "execute_result",
          "data": {
            "text/plain": [
              "array([  2.14,   6.25, 160.87], dtype=float32)"
            ]
          },
          "metadata": {},
          "execution_count": 81
        }
      ]
    },
    {
      "cell_type": "code",
      "source": [
        "arr_vf = np.array([[True, False], [True, True]], dtype=np.bool8)\n",
        "arr_vf.astype(np.int32)"
      ],
      "metadata": {
        "colab": {
          "base_uri": "https://localhost:8080/"
        },
        "id": "XpBTC041BtpR",
        "outputId": "819218cb-ac90-46d1-a981-d73bff98480b"
      },
      "execution_count": null,
      "outputs": [
        {
          "output_type": "execute_result",
          "data": {
            "text/plain": [
              "array([[1, 0],\n",
              "       [1, 1]], dtype=int32)"
            ]
          },
          "metadata": {},
          "execution_count": 84
        }
      ]
    },
    {
      "cell_type": "code",
      "source": [
        "np.array([\"pedra\", False , 42, 42.42])"
      ],
      "metadata": {
        "colab": {
          "base_uri": "https://localhost:8080/"
        },
        "id": "6tE5yQ60CbsL",
        "outputId": "1796346a-bd8c-4108-bcaf-2116c1bbf10c"
      },
      "execution_count": null,
      "outputs": [
        {
          "output_type": "execute_result",
          "data": {
            "text/plain": [
              "array(['pedra', 'False', '42', '42.42'], dtype='<U32')"
            ]
          },
          "metadata": {},
          "execution_count": 85
        }
      ]
    },
    {
      "cell_type": "code",
      "source": [
        "np.array([0, 10]).dtype"
      ],
      "metadata": {
        "colab": {
          "base_uri": "https://localhost:8080/"
        },
        "id": "K2Rq5Mb2DbPq",
        "outputId": "f3d34eae-6036-423e-bb8e-0079f59a5679"
      },
      "execution_count": null,
      "outputs": [
        {
          "output_type": "execute_result",
          "data": {
            "text/plain": [
              "dtype('int64')"
            ]
          },
          "metadata": {},
          "execution_count": 88
        }
      ]
    },
    {
      "cell_type": "code",
      "source": [
        "np.array([0, 10, 1.]).dtype"
      ],
      "metadata": {
        "colab": {
          "base_uri": "https://localhost:8080/"
        },
        "id": "q_gjB8HGDbTE",
        "outputId": "eedb7060-1240-40b2-95cf-6ae9b69de105"
      },
      "execution_count": null,
      "outputs": [
        {
          "output_type": "execute_result",
          "data": {
            "text/plain": [
              "dtype('float64')"
            ]
          },
          "metadata": {},
          "execution_count": 89
        }
      ]
    },
    {
      "cell_type": "code",
      "source": [
        "np.array([True, False]).dtype"
      ],
      "metadata": {
        "colab": {
          "base_uri": "https://localhost:8080/"
        },
        "id": "hAKlEJtjDUH7",
        "outputId": "0ecdadf8-79f2-4c4b-f67f-35166859229e"
      },
      "execution_count": null,
      "outputs": [
        {
          "output_type": "execute_result",
          "data": {
            "text/plain": [
              "dtype('bool')"
            ]
          },
          "metadata": {},
          "execution_count": 87
        }
      ]
    },
    {
      "cell_type": "code",
      "source": [
        "np.array([True, False, 12]).dtype"
      ],
      "metadata": {
        "colab": {
          "base_uri": "https://localhost:8080/"
        },
        "id": "kR-8fpMjCi8f",
        "outputId": "005e8f44-5b25-4fc0-ba05-165be3734222"
      },
      "execution_count": null,
      "outputs": [
        {
          "output_type": "execute_result",
          "data": {
            "text/plain": [
              "dtype('int64')"
            ]
          },
          "metadata": {},
          "execution_count": 86
        }
      ]
    },
    {
      "cell_type": "markdown",
      "source": [
        "## Cartela Bingo"
      ],
      "metadata": {
        "id": "671vTusnWibH"
      }
    },
    {
      "cell_type": "code",
      "source": [
        "cartela_bingo = np.array([[16, 10,  3, 15],\n",
        "                            [14, 23, 17, 27],\n",
        "                            [ 6, 19,  3,  1],\n",
        "                            [10,  4, 18, 19]])\n",
        "cartela_bingo"
      ],
      "metadata": {
        "colab": {
          "base_uri": "https://localhost:8080/"
        },
        "id": "Wq2I8hjqWHcj",
        "outputId": "8643ede3-6694-413d-ca92-be04dde2780b"
      },
      "execution_count": 13,
      "outputs": [
        {
          "output_type": "execute_result",
          "data": {
            "text/plain": [
              "array([[16, 10,  3, 15],\n",
              "       [14, 23, 17, 27],\n",
              "       [ 6, 19,  3,  1],\n",
              "       [10,  4, 18, 19]])"
            ]
          },
          "metadata": {},
          "execution_count": 13
        }
      ]
    },
    {
      "cell_type": "code",
      "source": [
        "cartela_bingo[:, 1].reshape((4,1))"
      ],
      "metadata": {
        "colab": {
          "base_uri": "https://localhost:8080/"
        },
        "id": "E9GgKgcjWh7t",
        "outputId": "c5adfbdf-ed8c-4d4b-9f69-6d064365a90e"
      },
      "execution_count": 14,
      "outputs": [
        {
          "output_type": "execute_result",
          "data": {
            "text/plain": [
              "array([[10],\n",
              "       [23],\n",
              "       [19],\n",
              "       [ 4]])"
            ]
          },
          "metadata": {},
          "execution_count": 14
        }
      ]
    },
    {
      "cell_type": "code",
      "source": [
        "np.sort(cartela_bingo)"
      ],
      "metadata": {
        "colab": {
          "base_uri": "https://localhost:8080/"
        },
        "id": "a_rwh6JaWh2Q",
        "outputId": "adabcc4e-093a-4059-eb5e-6d94ee8b7826"
      },
      "execution_count": 15,
      "outputs": [
        {
          "output_type": "execute_result",
          "data": {
            "text/plain": [
              "array([[ 3, 10, 15, 16],\n",
              "       [14, 17, 23, 27],\n",
              "       [ 1,  3,  6, 19],\n",
              "       [ 4, 10, 18, 19]])"
            ]
          },
          "metadata": {},
          "execution_count": 15
        }
      ]
    },
    {
      "cell_type": "markdown",
      "source": [],
      "metadata": {
        "id": "WoiEUlMAWy49"
      }
    },
    {
      "cell_type": "markdown",
      "source": [
        "## 1.1 Explorando Ecossistemas:\n",
        "Como bióloga marinha, me encontrei em uma expedição nas profundezas do Oceano Pacífico, onde estávamos estudando a biodiversidade e a saúde dos recifes de coral. O catálogo abaixo demonstra dados das espécies encontradas, considere a seguinte ordem de colunas:\n",
        "\n",
        "**ID da espécie, quantidade de representantes encontrados, profundeza, tamanho médio da espécie**\n",
        "\n",
        "\n",
        "\n",
        "*  Selecione a segunda coluna com a quantidade de espécies encontradas e adicione em um array as qtd_especies.\n",
        "*  De qtd_especies selecione apenas as primeiras 3 quantidades e print\n",
        "*  Print as 5 últimas quantidades de espécies\n",
        "*  Crie um array que contenha apenas os tamanhos das espécies e ordene por ordem crescente\n",
        "\n",
        "\n",
        "\n",
        "\n"
      ],
      "metadata": {
        "id": "5Xr_92nOfJAa"
      }
    },
    {
      "cell_type": "code",
      "source": [
        "especies = np.array([[747,  89,  33,   5],\n",
        "                    [623, 123,  32,  13],\n",
        "                    [501,  22,  49,   2],\n",
        "                    [116, 101,  42,  10],\n",
        "                    [297,  56,  69,  22],\n",
        "                    [613,  64,  27,   7],\n",
        "                    [295,  84,  29,  14],\n",
        "                    [692, 105,  72,  16],\n",
        "                    [229, 103,  35,   5],\n",
        "                    [374, 124,  70,   1]])\n",
        "especies"
      ],
      "metadata": {
        "colab": {
          "base_uri": "https://localhost:8080/"
        },
        "id": "mKTG17i661tt",
        "outputId": "53e00141-7a88-4b0d-d3cf-b40bbdf4199e"
      },
      "execution_count": 17,
      "outputs": [
        {
          "output_type": "execute_result",
          "data": {
            "text/plain": [
              "array([[747,  89,  33,   5],\n",
              "       [623, 123,  32,  13],\n",
              "       [501,  22,  49,   2],\n",
              "       [116, 101,  42,  10],\n",
              "       [297,  56,  69,  22],\n",
              "       [613,  64,  27,   7],\n",
              "       [295,  84,  29,  14],\n",
              "       [692, 105,  72,  16],\n",
              "       [229, 103,  35,   5],\n",
              "       [374, 124,  70,   1]])"
            ]
          },
          "metadata": {},
          "execution_count": 17
        }
      ]
    },
    {
      "cell_type": "markdown",
      "source": [
        "Selecione a segunda coluna com a quantidade de espécies encontradas e adicione em um array as qtd_especies."
      ],
      "metadata": {
        "id": "SjPW0OchW9ss"
      }
    },
    {
      "cell_type": "code",
      "source": [
        "qtd_especies = especies[:, 1:2]\n",
        "qtd_especies"
      ],
      "metadata": {
        "colab": {
          "base_uri": "https://localhost:8080/"
        },
        "id": "wfu0CTJeW5MJ",
        "outputId": "800a86ea-cda2-4367-9d1e-33b7dedcff34"
      },
      "execution_count": 25,
      "outputs": [
        {
          "output_type": "execute_result",
          "data": {
            "text/plain": [
              "array([[ 89],\n",
              "       [123],\n",
              "       [ 22],\n",
              "       [101],\n",
              "       [ 56],\n",
              "       [ 64],\n",
              "       [ 84],\n",
              "       [105],\n",
              "       [103],\n",
              "       [124]])"
            ]
          },
          "metadata": {},
          "execution_count": 25
        }
      ]
    },
    {
      "cell_type": "markdown",
      "source": [
        "Adicionando uma coluna a partir deste qtd_especies"
      ],
      "metadata": {
        "id": "nkvlbqDIYvAs"
      }
    },
    {
      "cell_type": "code",
      "source": [
        "qtd_especies = np.concatenate((especies, especies[:, 1:2]), axis=1)\n",
        "qtd_especies"
      ],
      "metadata": {
        "id": "pKNiok4qW493"
      },
      "execution_count": null,
      "outputs": []
    },
    {
      "cell_type": "markdown",
      "source": [
        "De qtd_especies selecione apenas as primeiras 3 quantidades e print"
      ],
      "metadata": {
        "id": "NagJQtVyY0ZJ"
      }
    },
    {
      "cell_type": "code",
      "source": [
        "qtd_especies[:3]"
      ],
      "metadata": {
        "colab": {
          "base_uri": "https://localhost:8080/"
        },
        "id": "Qyqq5t3EYttN",
        "outputId": "e3720ba6-2217-4ced-8979-fb1dad6bc9cd"
      },
      "execution_count": 26,
      "outputs": [
        {
          "output_type": "execute_result",
          "data": {
            "text/plain": [
              "array([[ 89],\n",
              "       [123],\n",
              "       [ 22]])"
            ]
          },
          "metadata": {},
          "execution_count": 26
        }
      ]
    },
    {
      "cell_type": "markdown",
      "source": [
        "Print as 5 últimas quantidades de espécies"
      ],
      "metadata": {
        "id": "lIX2Ekk9Y_13"
      }
    },
    {
      "cell_type": "code",
      "source": [
        "qtd_especies[-5:]"
      ],
      "metadata": {
        "colab": {
          "base_uri": "https://localhost:8080/"
        },
        "id": "zRi-lyZrY8nX",
        "outputId": "b02f6193-7f64-4bb4-a43a-e96739e09a56"
      },
      "execution_count": 29,
      "outputs": [
        {
          "output_type": "execute_result",
          "data": {
            "text/plain": [
              "array([[ 64],\n",
              "       [ 84],\n",
              "       [105],\n",
              "       [103],\n",
              "       [124]])"
            ]
          },
          "metadata": {},
          "execution_count": 29
        }
      ]
    },
    {
      "cell_type": "markdown",
      "source": [
        "Crie um array que contenha apenas os tamanhos das espécies e ordene por ordem crescente"
      ],
      "metadata": {
        "id": "dGgdtS4eZSh8"
      }
    },
    {
      "cell_type": "code",
      "source": [
        "tamanho_especies = especies[:, -1].reshape(10, 1)\n",
        "tamanho_especies.sort()"
      ],
      "metadata": {
        "id": "uXe1k6_0ZLOB"
      },
      "execution_count": 42,
      "outputs": []
    },
    {
      "cell_type": "code",
      "source": [
        "print(tamanho_especies)"
      ],
      "metadata": {
        "colab": {
          "base_uri": "https://localhost:8080/"
        },
        "id": "WJ_DfFBqZLDy",
        "outputId": "74319b1f-3935-4eb6-edc7-4f943a7c1bc0"
      },
      "execution_count": 43,
      "outputs": [
        {
          "output_type": "stream",
          "name": "stdout",
          "text": [
            "[[ 1]\n",
            " [ 2]\n",
            " [ 5]\n",
            " [ 5]\n",
            " [ 7]\n",
            " [10]\n",
            " [13]\n",
            " [14]\n",
            " [16]\n",
            " [22]]\n"
          ]
        }
      ]
    },
    {
      "cell_type": "markdown",
      "source": [
        "## Filtrando Arrays"
      ],
      "metadata": {
        "id": "fN0bdngrCRlr"
      }
    },
    {
      "cell_type": "code",
      "source": [
        "arr1 = np.array([1, 2, 3, 4, 5])\n",
        "mask = arr1 % 3 == 0\n",
        "mask"
      ],
      "metadata": {
        "colab": {
          "base_uri": "https://localhost:8080/"
        },
        "id": "u72h8zD39NaE",
        "outputId": "5922c10b-59fd-4990-a006-dfd88c0efca9"
      },
      "execution_count": null,
      "outputs": [
        {
          "output_type": "execute_result",
          "data": {
            "text/plain": [
              "array([False, False,  True, False, False])"
            ]
          },
          "metadata": {},
          "execution_count": 33
        }
      ]
    },
    {
      "cell_type": "code",
      "source": [
        "pessoas_id_idade = np.array([[1, 22], [2, 21], [3, 27], [4, 26]])\n",
        "pessoas_id_idade"
      ],
      "metadata": {
        "colab": {
          "base_uri": "https://localhost:8080/"
        },
        "id": "TaLHOLi_CMn5",
        "outputId": "dc24f639-8346-4d5d-93d7-15a68fe9927e"
      },
      "execution_count": null,
      "outputs": [
        {
          "output_type": "execute_result",
          "data": {
            "text/plain": [
              "array([[ 1, 22],\n",
              "       [ 2, 21],\n",
              "       [ 3, 27],\n",
              "       [ 4, 26]])"
            ]
          },
          "metadata": {},
          "execution_count": 35
        }
      ]
    },
    {
      "cell_type": "code",
      "source": [
        "cartela_bingo = np.array([[16, 10,  3, 15],\n",
        "       [14, 23, 17, 27],\n",
        "       [ 6, 19,  3,  1],\n",
        "       [10,  4, 18, 19]])\n",
        "cartela_bingo"
      ],
      "metadata": {
        "colab": {
          "base_uri": "https://localhost:8080/"
        },
        "id": "2TID3wQ1DHoD",
        "outputId": "27197585-5459-46a9-be4e-fdfade1c6c42"
      },
      "execution_count": null,
      "outputs": [
        {
          "output_type": "execute_result",
          "data": {
            "text/plain": [
              "array([[16, 10,  3, 15],\n",
              "       [14, 23, 17, 27],\n",
              "       [ 6, 19,  3,  1],\n",
              "       [10,  4, 18, 19]])"
            ]
          },
          "metadata": {},
          "execution_count": 43
        }
      ]
    },
    {
      "cell_type": "markdown",
      "source": [
        "## 1.2 Ainda usando o Array de espécies marítimas.\n",
        "\n",
        "*   Usando um index booleano crie um array que contém os dados da maior espécie encontrada (considerando o seu tamanho), esse valor corresponde ao valor 22.\n",
        "\n",
        "*   Usando fency index faça um array que contém apenas dados da espécie com ID 297\n",
        "*   Usando np.where() faça um array com a linha com dados correspondentes a espécie com 105 representantes encontrados.\n",
        "*   Considere a profundeza em que o espécie foi encontrada substitua valores maiores que 60 com \"Profundo\"\n",
        "\n"
      ],
      "metadata": {
        "id": "SVvnsCn9EGkv"
      }
    },
    {
      "cell_type": "code",
      "source": [
        "especies = np.array([[747,  89,  33,   5],\n",
        "                    [623, 123,  32,  13],\n",
        "                    [501,  22,  49,   2],\n",
        "                    [116, 101,  42,  10],\n",
        "                    [297,  56,  69,  22],\n",
        "                    [613,  64,  27,   7],\n",
        "                    [295,  84,  29,  14],\n",
        "                    [692, 105,  72,  16],\n",
        "                    [229, 103,  35,   5],\n",
        "                    [374, 124,  70,   1]])"
      ],
      "metadata": {
        "id": "ajhm-M6UEPpb"
      },
      "execution_count": 67,
      "outputs": []
    },
    {
      "cell_type": "markdown",
      "source": [
        "Usando um index booleano crie um array que contém os dados da maior espécie encontrada (considerando o seu tamanho), esse valor corresponde ao valor 22."
      ],
      "metadata": {
        "id": "oBJRHk_sfX9B"
      }
    },
    {
      "cell_type": "code",
      "source": [
        "especies[especies[:, 3] == 22]"
      ],
      "metadata": {
        "colab": {
          "base_uri": "https://localhost:8080/"
        },
        "id": "B3HFsWfLf-Eb",
        "outputId": "a3a0b0b6-fdf0-4df3-804c-554861696eed"
      },
      "execution_count": 78,
      "outputs": [
        {
          "output_type": "execute_result",
          "data": {
            "text/plain": [
              "array([[297,  56,  69,  22]])"
            ]
          },
          "metadata": {},
          "execution_count": 78
        }
      ]
    },
    {
      "cell_type": "code",
      "source": [
        "maior_especie = np.where(especies[:, 3] == 22)\n",
        "maior_especie"
      ],
      "metadata": {
        "colab": {
          "base_uri": "https://localhost:8080/"
        },
        "id": "NBKDWhp5awVC",
        "outputId": "999653af-e253-458e-bfc8-f8e9bf2e7971"
      },
      "execution_count": 74,
      "outputs": [
        {
          "output_type": "execute_result",
          "data": {
            "text/plain": [
              "(array([4]),)"
            ]
          },
          "metadata": {},
          "execution_count": 74
        }
      ]
    },
    {
      "cell_type": "markdown",
      "source": [
        "Usando fency index faça um array que contém apenas dados da espécie com ID 297"
      ],
      "metadata": {
        "id": "gYqp8VqzfW6m"
      }
    },
    {
      "cell_type": "code",
      "source": [
        "mask297 = np.where(especies[:, 0] == 297)\n",
        "especies[mask297]"
      ],
      "metadata": {
        "colab": {
          "base_uri": "https://localhost:8080/"
        },
        "id": "j4kddDADatFQ",
        "outputId": "bb9f73b2-7c0f-4b71-cf2a-c53c45f6ba50"
      },
      "execution_count": 80,
      "outputs": [
        {
          "output_type": "execute_result",
          "data": {
            "text/plain": [
              "array([[297,  56,  69,  22]])"
            ]
          },
          "metadata": {},
          "execution_count": 80
        }
      ]
    },
    {
      "cell_type": "markdown",
      "source": [
        "Usando np.where() faça um array com a linha com dados correspondentes a espécie com 105 representantes encontrados."
      ],
      "metadata": {
        "id": "zQAHIFQCgmS8"
      }
    },
    {
      "cell_type": "code",
      "source": [
        "especie105 = np.where(especies[:, 1] == 105)\n",
        "especies[np.where(especies[:, 1] == 105)]"
      ],
      "metadata": {
        "colab": {
          "base_uri": "https://localhost:8080/"
        },
        "id": "K_RmgEFwawLg",
        "outputId": "be981e29-f001-4afb-be6c-c1fe51d126ff"
      },
      "execution_count": 84,
      "outputs": [
        {
          "output_type": "execute_result",
          "data": {
            "text/plain": [
              "array([[692, 105,  72,  16]])"
            ]
          },
          "metadata": {},
          "execution_count": 84
        }
      ]
    },
    {
      "cell_type": "markdown",
      "source": [
        "Considere a profundeza em que o espécie foi encontrada substitua valores maiores que 60 com \"Profundo\""
      ],
      "metadata": {
        "id": "Yxz3oqFkhX1D"
      }
    },
    {
      "cell_type": "code",
      "source": [
        "especies[:, 2] > 60"
      ],
      "metadata": {
        "colab": {
          "base_uri": "https://localhost:8080/"
        },
        "id": "a3YZubHHav7P",
        "outputId": "58322d46-e4da-4864-bdad-1773a8e5c222"
      },
      "execution_count": 85,
      "outputs": [
        {
          "output_type": "execute_result",
          "data": {
            "text/plain": [
              "array([False, False, False, False,  True, False, False,  True, False,\n",
              "        True])"
            ]
          },
          "metadata": {},
          "execution_count": 85
        }
      ]
    },
    {
      "cell_type": "code",
      "source": [
        "especies_profundo = np.where(especies[:, 2] > 60, \"Profundo\", especies[:, 2])\n",
        "especies_profundo"
      ],
      "metadata": {
        "colab": {
          "base_uri": "https://localhost:8080/"
        },
        "id": "7PgOp0okhuJw",
        "outputId": "995b1ca6-36d0-4d59-ec7b-f06428043393"
      },
      "execution_count": 88,
      "outputs": [
        {
          "output_type": "execute_result",
          "data": {
            "text/plain": [
              "array(['33', '32', '49', '42', 'Profundo', '27', '29', 'Profundo', '35',\n",
              "       'Profundo'], dtype='<U21')"
            ]
          },
          "metadata": {},
          "execution_count": 88
        }
      ]
    },
    {
      "cell_type": "markdown",
      "source": [
        "## 1.3 Ainda no conjunto 'especies'.\n",
        "\n",
        "*   Adicione mais 2 espécies ao array: [[204, 10, 40, 12], [392, 11, 81, 11]]\n",
        "*   Adicione mais uma coluna na no array original agora com o número de espécies encontradas com que indica se o animal enxerga ou não: [0, 1, 0, 0, 0, 0, 1, 0, 1, 1, 0]\n"
      ],
      "metadata": {
        "id": "SHKhhhoqqOIs"
      }
    },
    {
      "cell_type": "code",
      "source": [
        "especies_novas = np.array([[204, 10, 40, 12], [392, 11,81, 11]]).reshape(2,4)"
      ],
      "metadata": {
        "id": "xHtAPobEbiBZ"
      },
      "execution_count": null,
      "outputs": []
    },
    {
      "cell_type": "code",
      "source": [
        "especies = np.concatenate((especies, especies_novas), axis=0)"
      ],
      "metadata": {
        "id": "f7BBYTIhb_0m"
      },
      "execution_count": null,
      "outputs": []
    },
    {
      "cell_type": "code",
      "source": [
        "especies"
      ],
      "metadata": {
        "colab": {
          "base_uri": "https://localhost:8080/"
        },
        "id": "8jD_yc2vb_pu",
        "outputId": "a382865c-0b40-4f7e-eb6a-da064979b75b"
      },
      "execution_count": null,
      "outputs": [
        {
          "output_type": "execute_result",
          "data": {
            "text/plain": [
              "array([[747,  89,  33,   5],\n",
              "       [623, 123,  32,  13],\n",
              "       [501,  22,  49,   2],\n",
              "       [116, 101,  42,  10],\n",
              "       [297,  56,  69,  22],\n",
              "       [613,  64,  27,   7],\n",
              "       [295,  84,  29,  14],\n",
              "       [692, 105,  72,  16],\n",
              "       [229, 103,  35,   5],\n",
              "       [374, 124,  70,   1],\n",
              "       [204,  10,  40,  12],\n",
              "       [392,  11,  81,  11]])"
            ]
          },
          "metadata": {},
          "execution_count": 16
        }
      ]
    },
    {
      "cell_type": "code",
      "source": [
        "enxerga_ou_nao = np.array([0, 1, 0, 0, 0, 0, 1, 0, 1, 1, 0, 0]).reshape(12,1)\n",
        "enxerga_ou_nao"
      ],
      "metadata": {
        "colab": {
          "base_uri": "https://localhost:8080/"
        },
        "id": "IONh9gb7c0hV",
        "outputId": "b5504513-6154-4bf5-86c5-6b4d87e05e48"
      },
      "execution_count": null,
      "outputs": [
        {
          "output_type": "execute_result",
          "data": {
            "text/plain": [
              "array([[0],\n",
              "       [1],\n",
              "       [0],\n",
              "       [0],\n",
              "       [0],\n",
              "       [0],\n",
              "       [1],\n",
              "       [0],\n",
              "       [1],\n",
              "       [1],\n",
              "       [0],\n",
              "       [0]])"
            ]
          },
          "metadata": {},
          "execution_count": 23
        }
      ]
    },
    {
      "cell_type": "code",
      "source": [
        "especies = np.concatenate((especies, enxerga_ou_nao), axis=1)\n",
        "especies"
      ],
      "metadata": {
        "colab": {
          "base_uri": "https://localhost:8080/"
        },
        "id": "rISOWWHYc0YW",
        "outputId": "1238b7e6-e5e8-40f6-ccc0-ea2e165e64e5"
      },
      "execution_count": null,
      "outputs": [
        {
          "output_type": "execute_result",
          "data": {
            "text/plain": [
              "array([[747,  89,  33,   5,   0,   0],\n",
              "       [623, 123,  32,  13,   1,   1],\n",
              "       [501,  22,  49,   2,   0,   0],\n",
              "       [116, 101,  42,  10,   0,   0],\n",
              "       [297,  56,  69,  22,   0,   0],\n",
              "       [613,  64,  27,   7,   0,   0],\n",
              "       [295,  84,  29,  14,   1,   1],\n",
              "       [692, 105,  72,  16,   0,   0],\n",
              "       [229, 103,  35,   5,   1,   1],\n",
              "       [374, 124,  70,   1,   1,   1],\n",
              "       [204,  10,  40,  12,   0,   0],\n",
              "       [392,  11,  81,  11,   0,   0]])"
            ]
          },
          "metadata": {},
          "execution_count": 25
        }
      ]
    },
    {
      "cell_type": "markdown",
      "source": [
        "# Acidentes - Exercício 3"
      ],
      "metadata": {
        "id": "CHu2IY1jitsz"
      }
    },
    {
      "cell_type": "code",
      "source": [
        "acidentes = np.array([[1, 3, 2],\n",
        "                    [0, 1, 0],\n",
        "                    [2, 1, 4],\n",
        "                    [0, 0, 0],\n",
        "                    [1, 1, 0]])\n"
      ],
      "metadata": {
        "id": "28eZb0Qmic0p"
      },
      "execution_count": 89,
      "outputs": []
    },
    {
      "cell_type": "markdown",
      "source": [
        "### 1. O cliente que teve acidente abaixo da média nos últimos 2 anos, ganhará um desconto no seu seguro. Identifique-os.\n"
      ],
      "metadata": {
        "id": "-kp7eaKRggd8"
      }
    },
    {
      "cell_type": "code",
      "source": [
        "acidentes.mean()"
      ],
      "metadata": {
        "id": "keqUiiYj2Ccj",
        "colab": {
          "base_uri": "https://localhost:8080/"
        },
        "outputId": "cf5fd122-c8b1-4c78-87d7-f73ad81ddb17"
      },
      "execution_count": 103,
      "outputs": [
        {
          "output_type": "execute_result",
          "data": {
            "text/plain": [
              "1.0666666666666667"
            ]
          },
          "metadata": {},
          "execution_count": 103
        }
      ]
    },
    {
      "cell_type": "code",
      "source": [
        "acidentes[:, :].sum(axis=1)"
      ],
      "metadata": {
        "colab": {
          "base_uri": "https://localhost:8080/"
        },
        "id": "u13yqteWsU_b",
        "outputId": "e06fd440-fbca-4b70-e6be-6770062c0c20"
      },
      "execution_count": 100,
      "outputs": [
        {
          "output_type": "execute_result",
          "data": {
            "text/plain": [
              "array([6, 1, 7, 0, 2])"
            ]
          },
          "metadata": {},
          "execution_count": 100
        }
      ]
    },
    {
      "cell_type": "code",
      "source": [
        "cliente_abaixo_media = np.where(acidentes[:, :].sum(axis=1) < acidentes.mean())\n",
        "cliente_abaixo_media"
      ],
      "metadata": {
        "colab": {
          "base_uri": "https://localhost:8080/"
        },
        "id": "muvWC1lWqJMG",
        "outputId": "c0ffb30f-108a-4b3e-dbec-43c37b0465c0"
      },
      "execution_count": 105,
      "outputs": [
        {
          "output_type": "execute_result",
          "data": {
            "text/plain": [
              "(array([1, 3]),)"
            ]
          },
          "metadata": {},
          "execution_count": 105
        }
      ]
    },
    {
      "cell_type": "markdown",
      "source": [
        "### 2. Qual cliente teve pelo menos 2 anos sem cometer acidentes?"
      ],
      "metadata": {
        "id": "hssvZjW4hryJ"
      }
    },
    {
      "cell_type": "code",
      "source": [
        "sem_acidentes = np.where(acidentes.sum(axis=1) <= 1)\n",
        "sem_acidentes"
      ],
      "metadata": {
        "id": "uAbP-BaznHbG",
        "colab": {
          "base_uri": "https://localhost:8080/"
        },
        "outputId": "ab510516-900b-4c64-a155-bf15bed81db7"
      },
      "execution_count": 113,
      "outputs": [
        {
          "output_type": "execute_result",
          "data": {
            "text/plain": [
              "(array([1, 3]),)"
            ]
          },
          "metadata": {},
          "execution_count": 113
        }
      ]
    },
    {
      "cell_type": "markdown",
      "metadata": {
        "id": "A1YunPlfnIwj"
      },
      "source": [
        "### 3. Uma professora quer que seus alunos apliquem a função (3x + 2y + x*y) em um conjunto de dados. Ela dá dois arrays aos estudantes e pede que seja feita essa operação.\n"
      ]
    },
    {
      "cell_type": "code",
      "execution_count": 121,
      "metadata": {
        "id": "g1S3HA7X2EtH",
        "colab": {
          "base_uri": "https://localhost:8080/"
        },
        "outputId": "9c4ebf92-d735-4b96-dfc9-52ada10b56e4"
      },
      "outputs": [
        {
          "output_type": "execute_result",
          "data": {
            "text/plain": [
              "array([[ 2,  1,  9],\n",
              "       [16,  0, 11],\n",
              "       [28, 23, 22],\n",
              "       [ 2,  9,  7]])"
            ]
          },
          "metadata": {},
          "execution_count": 121
        }
      ],
      "source": [
        "array1 = np.random.randint(30, size=(4, 3))\n",
        "array1"
      ]
    },
    {
      "cell_type": "code",
      "source": [
        "array2= np.random.randint(30, size=(4, 3))\n",
        "array2"
      ],
      "metadata": {
        "colab": {
          "base_uri": "https://localhost:8080/"
        },
        "id": "bK6FDlFDuVj0",
        "outputId": "149c1813-f7c8-4f7e-d1ee-cfe00a3b4879"
      },
      "execution_count": 120,
      "outputs": [
        {
          "output_type": "execute_result",
          "data": {
            "text/plain": [
              "array([[26, 19, 27],\n",
              "       [28,  3, 18],\n",
              "       [ 3,  6, 28],\n",
              "       [17, 29, 25]])"
            ]
          },
          "metadata": {},
          "execution_count": 120
        }
      ]
    },
    {
      "cell_type": "code",
      "source": [
        "calculo = (3 * array1 + 2 * array2 + array1 * array2)"
      ],
      "metadata": {
        "id": "oidi9_mht1II"
      },
      "execution_count": 122,
      "outputs": []
    },
    {
      "cell_type": "code",
      "source": [
        "calculo\n"
      ],
      "metadata": {
        "colab": {
          "base_uri": "https://localhost:8080/"
        },
        "id": "A2iT37sZuPdE",
        "outputId": "8f89da3f-4d70-4833-dd83-2066e7d38801"
      },
      "execution_count": 123,
      "outputs": [
        {
          "output_type": "execute_result",
          "data": {
            "text/plain": [
              "array([[110,  60, 324],\n",
              "       [552,   6, 267],\n",
              "       [174, 219, 738],\n",
              "       [ 74, 346, 246]])"
            ]
          },
          "metadata": {},
          "execution_count": 123
        }
      ]
    }
  ]
}